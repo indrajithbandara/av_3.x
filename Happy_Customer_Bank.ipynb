{
 "cells": [
  {
   "cell_type": "code",
   "execution_count": 1,
   "metadata": {
    "collapsed": true
   },
   "outputs": [],
   "source": [
    "import numpy as np\n",
    "import pandas as pd\n",
    "import seaborn as sb\n",
    "import matplotlib.pyplot as plt\n",
    "import xgboost as xgb\n",
    "\n",
    "%matplotlib inline"
   ]
  },
  {
   "cell_type": "code",
   "execution_count": 37,
   "metadata": {
    "collapsed": false
   },
   "outputs": [],
   "source": [
    "loan_train = pd.read_csv('./data/Train_nyOWmfK_3nIkfd6.csv', index_col='ID')\n",
    "loan_test = pd.read_csv('./data/Test_bCtAN1w_1.csv', index_col='ID')"
   ]
  },
  {
   "cell_type": "code",
   "execution_count": 38,
   "metadata": {
    "collapsed": false
   },
   "outputs": [],
   "source": [
    "%run scripts/helper.py\n",
    "%run scripts/preprocess.py\n",
    "%run scripts/models.py\n",
    "%run scripts/metrics.py\n",
    "%run scripts/ensembling.py"
   ]
  },
  {
   "cell_type": "code",
   "execution_count": 39,
   "metadata": {
    "collapsed": false
   },
   "outputs": [],
   "source": [
    "# columns without any missing values\n",
    "not_nulls = not_null_cols(loan_train)"
   ]
  },
  {
   "cell_type": "code",
   "execution_count": 40,
   "metadata": {
    "collapsed": false
   },
   "outputs": [],
   "source": [
    "# columns with type object that don't have any missing values\n",
    "obj_cols = cols_with_obj_type(loan_train, not_nulls)"
   ]
  },
  {
   "cell_type": "code",
   "execution_count": 41,
   "metadata": {
    "collapsed": false
   },
   "outputs": [
    {
     "data": {
      "text/plain": [
       "['Gender',\n",
       " 'DOB',\n",
       " 'Lead_Creation_Date',\n",
       " 'Mobile_Verified',\n",
       " 'Var1',\n",
       " 'Filled_Form',\n",
       " 'Device_Type',\n",
       " 'Var2',\n",
       " 'Source']"
      ]
     },
     "execution_count": 41,
     "metadata": {},
     "output_type": "execute_result"
    }
   ],
   "source": [
    "obj_cols"
   ]
  },
  {
   "cell_type": "code",
   "execution_count": 42,
   "metadata": {
    "collapsed": true
   },
   "outputs": [],
   "source": [
    "loan_train = loan_train[(loan_train.index != 'ID036559D40')\n",
    "                        & (loan_train.index != 'ID113457T20')]"
   ]
  },
  {
   "cell_type": "code",
   "execution_count": 43,
   "metadata": {
    "collapsed": false
   },
   "outputs": [],
   "source": [
    "loan_train_processed, loan_test_processed = process(loan_train, loan_test, obj_cols)"
   ]
  },
  {
   "cell_type": "code",
   "execution_count": 44,
   "metadata": {
    "collapsed": false
   },
   "outputs": [
    {
     "name": "stdout",
     "output_type": "stream",
     "text": [
      "<class 'pandas.core.frame.DataFrame'>\n",
      "Index: 87018 entries, ID000002C20 to ID124821V10\n",
      "Data columns (total 25 columns):\n",
      "Gender                   87018 non-null int64\n",
      "City                     86015 non-null object\n",
      "Monthly_Income           87018 non-null int64\n",
      "DOB                      87018 non-null object\n",
      "Lead_Creation_Date       87018 non-null object\n",
      "Loan_Amount_Applied      86947 non-null float64\n",
      "Loan_Tenure_Applied      86947 non-null float64\n",
      "Existing_EMI             86947 non-null float64\n",
      "Employer_Name            86947 non-null object\n",
      "Salary_Account           75254 non-null object\n",
      "Mobile_Verified          87018 non-null int64\n",
      "Var5                     87018 non-null int64\n",
      "Var1                     87018 non-null int64\n",
      "Loan_Amount_Submitted    52405 non-null float64\n",
      "Loan_Tenure_Submitted    52405 non-null float64\n",
      "Interest_Rate            27724 non-null float64\n",
      "Processing_Fee           27418 non-null float64\n",
      "EMI_Loan_Submitted       27724 non-null float64\n",
      "Filled_Form              87018 non-null int64\n",
      "Device_Type              87018 non-null int64\n",
      "Var2                     87018 non-null int64\n",
      "Source                   87018 non-null int64\n",
      "Var4                     87018 non-null int64\n",
      "LoggedIn                 87018 non-null int64\n",
      "Disbursed                87018 non-null int64\n",
      "dtypes: float64(8), int64(12), object(5)\n",
      "memory usage: 17.3+ MB\n"
     ]
    }
   ],
   "source": [
    "loan_train_processed.info()"
   ]
  },
  {
   "cell_type": "markdown",
   "metadata": {},
   "source": [
    "## Exploratory Data Analysis"
   ]
  },
  {
   "cell_type": "code",
   "execution_count": 45,
   "metadata": {
    "collapsed": false
   },
   "outputs": [
    {
     "data": {
      "text/plain": [
       "False"
      ]
     },
     "execution_count": 45,
     "metadata": {},
     "output_type": "execute_result"
    }
   ],
   "source": [
    "loan_train.DOB.isnull().any()"
   ]
  },
  {
   "cell_type": "code",
   "execution_count": 46,
   "metadata": {
    "collapsed": false
   },
   "outputs": [
    {
     "data": {
      "text/plain": [
       "False"
      ]
     },
     "execution_count": 46,
     "metadata": {},
     "output_type": "execute_result"
    }
   ],
   "source": [
    "loan_train.Lead_Creation_Date.isnull().any()"
   ]
  },
  {
   "cell_type": "code",
   "execution_count": 47,
   "metadata": {
    "collapsed": false
   },
   "outputs": [],
   "source": [
    "cities = loan_train_processed.groupby(['City', 'Disbursed']).size().unstack()"
   ]
  },
  {
   "cell_type": "code",
   "execution_count": 48,
   "metadata": {
    "collapsed": false
   },
   "outputs": [
    {
     "data": {
      "text/html": [
       "<div style=\"max-height:1000px;max-width:1500px;overflow:auto;\">\n",
       "<table border=\"1\" class=\"dataframe\">\n",
       "  <thead>\n",
       "    <tr style=\"text-align: right;\">\n",
       "      <th>Disbursed</th>\n",
       "      <th>0</th>\n",
       "      <th>1</th>\n",
       "    </tr>\n",
       "    <tr>\n",
       "      <th>City</th>\n",
       "      <th></th>\n",
       "      <th></th>\n",
       "    </tr>\n",
       "  </thead>\n",
       "  <tbody>\n",
       "    <tr>\n",
       "      <th>Delhi</th>\n",
       "      <td> 12257</td>\n",
       "      <td> 269</td>\n",
       "    </tr>\n",
       "    <tr>\n",
       "      <th>Bengaluru</th>\n",
       "      <td> 10645</td>\n",
       "      <td> 179</td>\n",
       "    </tr>\n",
       "    <tr>\n",
       "      <th>Mumbai</th>\n",
       "      <td> 10625</td>\n",
       "      <td> 169</td>\n",
       "    </tr>\n",
       "    <tr>\n",
       "      <th>Pune</th>\n",
       "      <td>  5086</td>\n",
       "      <td> 121</td>\n",
       "    </tr>\n",
       "    <tr>\n",
       "      <th>Hyderabad</th>\n",
       "      <td>  7188</td>\n",
       "      <td>  84</td>\n",
       "    </tr>\n",
       "    <tr>\n",
       "      <th>Chennai</th>\n",
       "      <td>  6849</td>\n",
       "      <td>  67</td>\n",
       "    </tr>\n",
       "    <tr>\n",
       "      <th>Kolkata</th>\n",
       "      <td>  2838</td>\n",
       "      <td>  50</td>\n",
       "    </tr>\n",
       "    <tr>\n",
       "      <th>Gurgaon</th>\n",
       "      <td>  1185</td>\n",
       "      <td>  27</td>\n",
       "    </tr>\n",
       "    <tr>\n",
       "      <th>Jaipur</th>\n",
       "      <td>  1307</td>\n",
       "      <td>  24</td>\n",
       "    </tr>\n",
       "    <tr>\n",
       "      <th>Ahmedabad</th>\n",
       "      <td>  1764</td>\n",
       "      <td>  24</td>\n",
       "    </tr>\n",
       "    <tr>\n",
       "      <th>Indore</th>\n",
       "      <td>   716</td>\n",
       "      <td>  18</td>\n",
       "    </tr>\n",
       "    <tr>\n",
       "      <th>Nagpur</th>\n",
       "      <td>   578</td>\n",
       "      <td>  16</td>\n",
       "    </tr>\n",
       "    <tr>\n",
       "      <th>Chandigarh</th>\n",
       "      <td>   855</td>\n",
       "      <td>  15</td>\n",
       "    </tr>\n",
       "    <tr>\n",
       "      <th>Lucknow</th>\n",
       "      <td>   568</td>\n",
       "      <td>  12</td>\n",
       "    </tr>\n",
       "    <tr>\n",
       "      <th>Thane</th>\n",
       "      <td>   893</td>\n",
       "      <td>  12</td>\n",
       "    </tr>\n",
       "    <tr>\n",
       "      <th>Bhubaneswar</th>\n",
       "      <td>   266</td>\n",
       "      <td>  11</td>\n",
       "    </tr>\n",
       "    <tr>\n",
       "      <th>Coimbatore</th>\n",
       "      <td>  1137</td>\n",
       "      <td>  10</td>\n",
       "    </tr>\n",
       "    <tr>\n",
       "      <th>Vadodara</th>\n",
       "      <td>   615</td>\n",
       "      <td>   9</td>\n",
       "    </tr>\n",
       "    <tr>\n",
       "      <th>Visakhapatnam</th>\n",
       "      <td>   756</td>\n",
       "      <td>   8</td>\n",
       "    </tr>\n",
       "    <tr>\n",
       "      <th>Surat</th>\n",
       "      <td>   795</td>\n",
       "      <td>   7</td>\n",
       "    </tr>\n",
       "    <tr>\n",
       "      <th>Faridabad</th>\n",
       "      <td>   440</td>\n",
       "      <td>   7</td>\n",
       "    </tr>\n",
       "    <tr>\n",
       "      <th>Ghaziabad</th>\n",
       "      <td>   553</td>\n",
       "      <td>   7</td>\n",
       "    </tr>\n",
       "    <tr>\n",
       "      <th>Nashik</th>\n",
       "      <td>   227</td>\n",
       "      <td>   6</td>\n",
       "    </tr>\n",
       "    <tr>\n",
       "      <th>Noida</th>\n",
       "      <td>   368</td>\n",
       "      <td>   5</td>\n",
       "    </tr>\n",
       "    <tr>\n",
       "      <th>Raipur</th>\n",
       "      <td>   284</td>\n",
       "      <td>   5</td>\n",
       "    </tr>\n",
       "    <tr>\n",
       "      <th>Patna</th>\n",
       "      <td>   457</td>\n",
       "      <td>   4</td>\n",
       "    </tr>\n",
       "    <tr>\n",
       "      <th>Aurangabad</th>\n",
       "      <td>   233</td>\n",
       "      <td>   4</td>\n",
       "    </tr>\n",
       "    <tr>\n",
       "      <th>Madurai</th>\n",
       "      <td>   371</td>\n",
       "      <td>   4</td>\n",
       "    </tr>\n",
       "    <tr>\n",
       "      <th>Meerut</th>\n",
       "      <td>   213</td>\n",
       "      <td>   4</td>\n",
       "    </tr>\n",
       "    <tr>\n",
       "      <th>Kochi</th>\n",
       "      <td>   489</td>\n",
       "      <td>   3</td>\n",
       "    </tr>\n",
       "    <tr>\n",
       "      <th>...</th>\n",
       "      <td>...</td>\n",
       "      <td>...</td>\n",
       "    </tr>\n",
       "    <tr>\n",
       "      <th>UDWADA</th>\n",
       "      <td>     1</td>\n",
       "      <td> NaN</td>\n",
       "    </tr>\n",
       "    <tr>\n",
       "      <th>UMBERGAON</th>\n",
       "      <td>     6</td>\n",
       "      <td> NaN</td>\n",
       "    </tr>\n",
       "    <tr>\n",
       "      <th>Udalguri</th>\n",
       "      <td>     3</td>\n",
       "      <td> NaN</td>\n",
       "    </tr>\n",
       "    <tr>\n",
       "      <th>Udham Singh Nagar</th>\n",
       "      <td>     8</td>\n",
       "      <td> NaN</td>\n",
       "    </tr>\n",
       "    <tr>\n",
       "      <th>Udhampur</th>\n",
       "      <td>     5</td>\n",
       "      <td> NaN</td>\n",
       "    </tr>\n",
       "    <tr>\n",
       "      <th>Udupi and Uttara Kannada</th>\n",
       "      <td>    25</td>\n",
       "      <td> NaN</td>\n",
       "    </tr>\n",
       "    <tr>\n",
       "      <th>Ujjain</th>\n",
       "      <td>    32</td>\n",
       "      <td> NaN</td>\n",
       "    </tr>\n",
       "    <tr>\n",
       "      <th>Umaria</th>\n",
       "      <td>     1</td>\n",
       "      <td> NaN</td>\n",
       "    </tr>\n",
       "    <tr>\n",
       "      <th>Una</th>\n",
       "      <td>     4</td>\n",
       "      <td> NaN</td>\n",
       "    </tr>\n",
       "    <tr>\n",
       "      <th>Unnao</th>\n",
       "      <td>    13</td>\n",
       "      <td> NaN</td>\n",
       "    </tr>\n",
       "    <tr>\n",
       "      <th>Upper Subansiri</th>\n",
       "      <td>     1</td>\n",
       "      <td> NaN</td>\n",
       "    </tr>\n",
       "    <tr>\n",
       "      <th>Uttar Dinajpur</th>\n",
       "      <td>     7</td>\n",
       "      <td> NaN</td>\n",
       "    </tr>\n",
       "    <tr>\n",
       "      <th>VALLABH VIDYANAGAR</th>\n",
       "      <td>     2</td>\n",
       "      <td> NaN</td>\n",
       "    </tr>\n",
       "    <tr>\n",
       "      <th>VIJAPUR</th>\n",
       "      <td>     3</td>\n",
       "      <td> NaN</td>\n",
       "    </tr>\n",
       "    <tr>\n",
       "      <th>VIRPUR</th>\n",
       "      <td>     1</td>\n",
       "      <td> NaN</td>\n",
       "    </tr>\n",
       "    <tr>\n",
       "      <th>VISNAGAR</th>\n",
       "      <td>     6</td>\n",
       "      <td> NaN</td>\n",
       "    </tr>\n",
       "    <tr>\n",
       "      <th>Valsad</th>\n",
       "      <td>    29</td>\n",
       "      <td> NaN</td>\n",
       "    </tr>\n",
       "    <tr>\n",
       "      <th>Vidisha</th>\n",
       "      <td>     4</td>\n",
       "      <td> NaN</td>\n",
       "    </tr>\n",
       "    <tr>\n",
       "      <th>Viluppuram</th>\n",
       "      <td>    37</td>\n",
       "      <td> NaN</td>\n",
       "    </tr>\n",
       "    <tr>\n",
       "      <th>Virudhunagar</th>\n",
       "      <td>    20</td>\n",
       "      <td> NaN</td>\n",
       "    </tr>\n",
       "    <tr>\n",
       "      <th>Vizianagaram</th>\n",
       "      <td>    31</td>\n",
       "      <td> NaN</td>\n",
       "    </tr>\n",
       "    <tr>\n",
       "      <th>Vyara</th>\n",
       "      <td>    11</td>\n",
       "      <td> NaN</td>\n",
       "    </tr>\n",
       "    <tr>\n",
       "      <th>Washim</th>\n",
       "      <td>     3</td>\n",
       "      <td> NaN</td>\n",
       "    </tr>\n",
       "    <tr>\n",
       "      <th>Wayanad</th>\n",
       "      <td>     8</td>\n",
       "      <td> NaN</td>\n",
       "    </tr>\n",
       "    <tr>\n",
       "      <th>West Garo Hills</th>\n",
       "      <td>     6</td>\n",
       "      <td> NaN</td>\n",
       "    </tr>\n",
       "    <tr>\n",
       "      <th>West Godavari</th>\n",
       "      <td>    45</td>\n",
       "      <td> NaN</td>\n",
       "    </tr>\n",
       "    <tr>\n",
       "      <th>West Singhbhum</th>\n",
       "      <td>    14</td>\n",
       "      <td> NaN</td>\n",
       "    </tr>\n",
       "    <tr>\n",
       "      <th>Yadgir</th>\n",
       "      <td>     5</td>\n",
       "      <td> NaN</td>\n",
       "    </tr>\n",
       "    <tr>\n",
       "      <th>Yavatmal</th>\n",
       "      <td>    15</td>\n",
       "      <td> NaN</td>\n",
       "    </tr>\n",
       "    <tr>\n",
       "      <th>sri ganganagar</th>\n",
       "      <td>     8</td>\n",
       "      <td> NaN</td>\n",
       "    </tr>\n",
       "  </tbody>\n",
       "</table>\n",
       "<p>697 rows × 2 columns</p>\n",
       "</div>"
      ],
      "text/plain": [
       "Disbursed                     0    1\n",
       "City                                \n",
       "Delhi                     12257  269\n",
       "Bengaluru                 10645  179\n",
       "Mumbai                    10625  169\n",
       "Pune                       5086  121\n",
       "Hyderabad                  7188   84\n",
       "Chennai                    6849   67\n",
       "Kolkata                    2838   50\n",
       "Gurgaon                    1185   27\n",
       "Jaipur                     1307   24\n",
       "Ahmedabad                  1764   24\n",
       "Indore                      716   18\n",
       "Nagpur                      578   16\n",
       "Chandigarh                  855   15\n",
       "Lucknow                     568   12\n",
       "Thane                       893   12\n",
       "Bhubaneswar                 266   11\n",
       "Coimbatore                 1137   10\n",
       "Vadodara                    615    9\n",
       "Visakhapatnam               756    8\n",
       "Surat                       795    7\n",
       "Faridabad                   440    7\n",
       "Ghaziabad                   553    7\n",
       "Nashik                      227    6\n",
       "Noida                       368    5\n",
       "Raipur                      284    5\n",
       "Patna                       457    4\n",
       "Aurangabad                  233    4\n",
       "Madurai                     371    4\n",
       "Meerut                      213    4\n",
       "Kochi                       489    3\n",
       "...                         ...  ...\n",
       "UDWADA                        1  NaN\n",
       "UMBERGAON                     6  NaN\n",
       "Udalguri                      3  NaN\n",
       "Udham Singh Nagar             8  NaN\n",
       "Udhampur                      5  NaN\n",
       "Udupi and Uttara Kannada     25  NaN\n",
       "Ujjain                       32  NaN\n",
       "Umaria                        1  NaN\n",
       "Una                           4  NaN\n",
       "Unnao                        13  NaN\n",
       "Upper Subansiri               1  NaN\n",
       "Uttar Dinajpur                7  NaN\n",
       "VALLABH VIDYANAGAR            2  NaN\n",
       "VIJAPUR                       3  NaN\n",
       "VIRPUR                        1  NaN\n",
       "VISNAGAR                      6  NaN\n",
       "Valsad                       29  NaN\n",
       "Vidisha                       4  NaN\n",
       "Viluppuram                   37  NaN\n",
       "Virudhunagar                 20  NaN\n",
       "Vizianagaram                 31  NaN\n",
       "Vyara                        11  NaN\n",
       "Washim                        3  NaN\n",
       "Wayanad                       8  NaN\n",
       "West Garo Hills               6  NaN\n",
       "West Godavari                45  NaN\n",
       "West Singhbhum               14  NaN\n",
       "Yadgir                        5  NaN\n",
       "Yavatmal                     15  NaN\n",
       "sri ganganagar                8  NaN\n",
       "\n",
       "[697 rows x 2 columns]"
      ]
     },
     "execution_count": 48,
     "metadata": {},
     "output_type": "execute_result"
    }
   ],
   "source": [
    "cities.sort(columns=1, ascending=False)"
   ]
  },
  {
   "cell_type": "code",
   "execution_count": 49,
   "metadata": {
    "collapsed": false
   },
   "outputs": [],
   "source": [
    "def to_lower_case(c):\n",
    "    try:\n",
    "        if math.isnan(c):\n",
    "            return c\n",
    "        else:\n",
    "            return c.lower()\n",
    "    except:\n",
    "        return c\n",
    "    \n",
    "loan_train_processed['City'] = loan_train_processed.City.map(to_lower_case)\n",
    "loan_test_processed['City'] = loan_test_processed.City.map(to_lower_case)"
   ]
  },
  {
   "cell_type": "code",
   "execution_count": 50,
   "metadata": {
    "collapsed": true
   },
   "outputs": [],
   "source": [
    "# fill missing values with -1 for City\n",
    "loan_train_processed.City.fillna('-1', inplace=True)\n",
    "loan_test_processed.City.fillna('-1', inplace=True)"
   ]
  },
  {
   "cell_type": "code",
   "execution_count": 51,
   "metadata": {
    "collapsed": true
   },
   "outputs": [],
   "source": [
    "loan_train_processed['Salary_Account'] = loan_train_processed.Salary_Account.map(to_lower_case)\n",
    "loan_test_processed['Salary_Account'] = loan_test_processed.Salary_Account.map(to_lower_case)"
   ]
  },
  {
   "cell_type": "code",
   "execution_count": 52,
   "metadata": {
    "collapsed": true
   },
   "outputs": [],
   "source": [
    "# fill missing values with -1 for City\n",
    "loan_train_processed.Salary_Account.fillna('-1', inplace=True)\n",
    "loan_test_processed.Salary_Account.fillna('-1', inplace=True)"
   ]
  },
  {
   "cell_type": "code",
   "execution_count": 53,
   "metadata": {
    "collapsed": true
   },
   "outputs": [],
   "source": [
    "loan_train_processed['Employer_Name'] = loan_train_processed.Employer_Name.map(to_lower_case)\n",
    "loan_test_processed['Employer_Name'] = loan_test_processed.Employer_Name.map(to_lower_case)"
   ]
  },
  {
   "cell_type": "code",
   "execution_count": 54,
   "metadata": {
    "collapsed": true
   },
   "outputs": [],
   "source": [
    "# fill missing values with -1 for Employer's name\n",
    "loan_train_processed.Employer_Name.fillna('-1', inplace=True)\n",
    "loan_test_processed.Employer_Name.fillna('-1', inplace=True)"
   ]
  },
  {
   "cell_type": "markdown",
   "metadata": {},
   "source": [
    "## Data preparation and Cleaning"
   ]
  },
  {
   "cell_type": "code",
   "execution_count": 55,
   "metadata": {
    "collapsed": false
   },
   "outputs": [],
   "source": [
    "# encode city names and salary account in train and test\n",
    "loan_train_processed, loan_test_processed = process(loan_train_processed, loan_test_processed, ['City', 'Salary_Account'])"
   ]
  },
  {
   "cell_type": "code",
   "execution_count": 56,
   "metadata": {
    "collapsed": true
   },
   "outputs": [],
   "source": [
    "# encode employer's name in train and tet\n",
    "loan_train_processed, loan_test_processed = process(loan_train_processed, loan_test_processed, ['Employer_Name'])"
   ]
  },
  {
   "cell_type": "code",
   "execution_count": 57,
   "metadata": {
    "collapsed": false
   },
   "outputs": [],
   "source": [
    "# fill missing values for loan_amount_applied and loan_tenure_applied\n",
    "loan_train_processed.Loan_Amount_Applied.fillna(loan_train_processed.Loan_Amount_Applied.median(), inplace=True)\n",
    "loan_train_processed.Loan_Tenure_Applied.fillna(loan_train_processed.Loan_Tenure_Applied.median(), inplace=True)\n",
    "\n",
    "loan_test_processed.Loan_Amount_Applied.fillna(loan_test_processed.Loan_Amount_Applied.median(), inplace=True)\n",
    "loan_test_processed.Loan_Tenure_Applied.fillna(loan_test_processed.Loan_Tenure_Applied.median(), inplace=True)"
   ]
  },
  {
   "cell_type": "code",
   "execution_count": 58,
   "metadata": {
    "collapsed": true
   },
   "outputs": [],
   "source": [
    "# fill missing values for loan_amount_applied and loan_tenure_applied\n",
    "loan_train_processed.Loan_Amount_Submitted.fillna(loan_train_processed.Loan_Amount_Submitted.median(), inplace=True)\n",
    "loan_train_processed.Loan_Tenure_Submitted.fillna(loan_train_processed.Loan_Tenure_Submitted.median(), inplace=True)\n",
    "\n",
    "loan_test_processed.Loan_Amount_Submitted.fillna(loan_test_processed.Loan_Amount_Submitted.median(), inplace=True)\n",
    "loan_test_processed.Loan_Tenure_Submitted.fillna(loan_test_processed.Loan_Tenure_Submitted.median(), inplace=True)"
   ]
  },
  {
   "cell_type": "code",
   "execution_count": 59,
   "metadata": {
    "collapsed": true
   },
   "outputs": [],
   "source": [
    "# normalize the monthly income variable\n",
    "loan_train_processed['Monthly_Income'] = np.log1p(loan_train_processed.Monthly_Income)\n",
    "loan_test_processed['Monthly_Income'] = np.log1p(loan_test_processed.Monthly_Income)"
   ]
  },
  {
   "cell_type": "code",
   "execution_count": 60,
   "metadata": {
    "collapsed": false
   },
   "outputs": [],
   "source": [
    "# fill missing values for existing emis\n",
    "loan_train_processed.Existing_EMI.fillna(loan_train_processed.Existing_EMI.median(), inplace=True)\n",
    "loan_test_processed.Existing_EMI.fillna(loan_test_processed.Existing_EMI.median(), inplace=True)"
   ]
  },
  {
   "cell_type": "code",
   "execution_count": 61,
   "metadata": {
    "collapsed": true
   },
   "outputs": [],
   "source": [
    "# normalize loan applied amount\n",
    "loan_train_processed['Loan_Amount_Applied'] = np.log1p(loan_train_processed.Loan_Amount_Applied)\n",
    "loan_test_processed['Loan_Amount_Applied'] = np.log1p(loan_test_processed.Loan_Amount_Applied)"
   ]
  },
  {
   "cell_type": "code",
   "execution_count": 62,
   "metadata": {
    "collapsed": true
   },
   "outputs": [],
   "source": [
    "# normalize loan applied amount\n",
    "loan_train_processed['Loan_Amount_Submitted'] = np.log1p(loan_train_processed.Loan_Amount_Submitted)\n",
    "loan_test_processed['Loan_Amount_Submitted'] = np.log1p(loan_test_processed.Loan_Amount_Submitted)"
   ]
  },
  {
   "cell_type": "code",
   "execution_count": 63,
   "metadata": {
    "collapsed": true
   },
   "outputs": [],
   "source": [
    "# convert both DOB and Lead_Creation_Date to timestamp\n",
    "loan_train_processed['DOB'] = pd.to_datetime(loan_train_processed.DOB)\n",
    "loan_test_processed['DOB'] = pd.to_datetime(loan_test_processed.DOB)\n",
    "\n",
    "loan_train_processed['Lead_Creation_Date'] = pd.to_datetime(loan_train_processed.Lead_Creation_Date)\n",
    "loan_test_processed['Lead_Creation_Date'] = pd.to_datetime(loan_test_processed.Lead_Creation_Date)"
   ]
  },
  {
   "cell_type": "code",
   "execution_count": 64,
   "metadata": {
    "collapsed": false
   },
   "outputs": [],
   "source": [
    "# calculate age delta for training data\n",
    "loan_train_processed['age_delta'] = (loan_train_processed.Lead_Creation_Date - loan_train_processed.DOB)"
   ]
  },
  {
   "cell_type": "code",
   "execution_count": 65,
   "metadata": {
    "collapsed": true
   },
   "outputs": [],
   "source": [
    "# calculate age delta for testing data\n",
    "loan_test_processed['age_delta'] = (loan_test_processed.Lead_Creation_Date - loan_test_processed.DOB)"
   ]
  },
  {
   "cell_type": "code",
   "execution_count": 66,
   "metadata": {
    "collapsed": true
   },
   "outputs": [],
   "source": [
    "loan_train_processed.Interest_Rate.fillna(loan_train_processed.Interest_Rate.median(), inplace=True)\n",
    "loan_test_processed.Interest_Rate.fillna(loan_test_processed.Interest_Rate.median(), inplace=True)"
   ]
  },
  {
   "cell_type": "code",
   "execution_count": 67,
   "metadata": {
    "collapsed": false
   },
   "outputs": [],
   "source": [
    "# calculate new feature: age of candidate when applying for loan\n",
    "def get_age_in_years(age):\n",
    "    seconds = age / (1e9)\n",
    "    days = seconds / (24. * 60 * 60)\n",
    "    years = days / 365.\n",
    "    return int(years)\n",
    "\n",
    "loan_train_processed['age_when_applied'] = loan_train_processed.age_delta.apply(get_age_in_years)"
   ]
  },
  {
   "cell_type": "code",
   "execution_count": 68,
   "metadata": {
    "collapsed": true
   },
   "outputs": [],
   "source": [
    "loan_test_processed['age_when_applied'] = loan_test_processed.age_delta.apply(get_age_in_years)"
   ]
  },
  {
   "cell_type": "code",
   "execution_count": 69,
   "metadata": {
    "collapsed": false
   },
   "outputs": [
    {
     "data": {
      "image/png": "[encoded data removed]",
      "text/plain": [
       "<matplotlib.figure.Figure at 0x10a4789d0>"
      ]
     },
     "metadata": {},
     "output_type": "display_data"
    }
   ],
   "source": [
    "loan_train_processed.hist(column='age_when_applied', by='Disbursed');"
   ]
  },
  {
   "cell_type": "code",
   "execution_count": 70,
   "metadata": {
    "collapsed": false
   },
   "outputs": [
    {
     "data": {
      "text/html": [
       "<div style=\"max-height:1000px;max-width:1500px;overflow:auto;\">\n",
       "<table border=\"1\" class=\"dataframe\">\n",
       "  <thead>\n",
       "    <tr style=\"text-align: right;\">\n",
       "      <th></th>\n",
       "      <th>Gender</th>\n",
       "      <th>City</th>\n",
       "      <th>Monthly_Income</th>\n",
       "      <th>DOB</th>\n",
       "      <th>Lead_Creation_Date</th>\n",
       "      <th>Loan_Amount_Applied</th>\n",
       "      <th>Loan_Tenure_Applied</th>\n",
       "      <th>Existing_EMI</th>\n",
       "      <th>Employer_Name</th>\n",
       "      <th>Salary_Account</th>\n",
       "      <th>...</th>\n",
       "      <th>EMI_Loan_Submitted</th>\n",
       "      <th>Filled_Form</th>\n",
       "      <th>Device_Type</th>\n",
       "      <th>Var2</th>\n",
       "      <th>Source</th>\n",
       "      <th>Var4</th>\n",
       "      <th>LoggedIn</th>\n",
       "      <th>Disbursed</th>\n",
       "      <th>age_delta</th>\n",
       "      <th>age_when_applied</th>\n",
       "    </tr>\n",
       "    <tr>\n",
       "      <th>ID</th>\n",
       "      <th></th>\n",
       "      <th></th>\n",
       "      <th></th>\n",
       "      <th></th>\n",
       "      <th></th>\n",
       "      <th></th>\n",
       "      <th></th>\n",
       "      <th></th>\n",
       "      <th></th>\n",
       "      <th></th>\n",
       "      <th></th>\n",
       "      <th></th>\n",
       "      <th></th>\n",
       "      <th></th>\n",
       "      <th></th>\n",
       "      <th></th>\n",
       "      <th></th>\n",
       "      <th></th>\n",
       "      <th></th>\n",
       "      <th></th>\n",
       "      <th></th>\n",
       "    </tr>\n",
       "  </thead>\n",
       "  <tbody>\n",
       "    <tr>\n",
       "      <th>ID000052A20</th>\n",
       "      <td> 1</td>\n",
       "      <td> 462</td>\n",
       "      <td> 10.933125</td>\n",
       "      <td>2064-05-28</td>\n",
       "      <td>2015-05-01</td>\n",
       "      <td> 13.122365</td>\n",
       "      <td> 5</td>\n",
       "      <td> 14500</td>\n",
       "      <td> 51269</td>\n",
       "      <td> 22</td>\n",
       "      <td>...</td>\n",
       "      <td>      NaN</td>\n",
       "      <td> 0</td>\n",
       "      <td> 1</td>\n",
       "      <td> 4</td>\n",
       "      <td> 10</td>\n",
       "      <td> 3</td>\n",
       "      <td> 0</td>\n",
       "      <td> 0</td>\n",
       "      <td>-17925 days</td>\n",
       "      <td>-49</td>\n",
       "    </tr>\n",
       "    <tr>\n",
       "      <th>ID000084G40</th>\n",
       "      <td> 1</td>\n",
       "      <td> 462</td>\n",
       "      <td> 10.714440</td>\n",
       "      <td>2050-05-20</td>\n",
       "      <td>2015-05-01</td>\n",
       "      <td>  0.000000</td>\n",
       "      <td> 0</td>\n",
       "      <td>     0</td>\n",
       "      <td> 56503</td>\n",
       "      <td> 24</td>\n",
       "      <td>...</td>\n",
       "      <td>      NaN</td>\n",
       "      <td> 0</td>\n",
       "      <td> 1</td>\n",
       "      <td> 1</td>\n",
       "      <td> 10</td>\n",
       "      <td> 2</td>\n",
       "      <td> 0</td>\n",
       "      <td> 0</td>\n",
       "      <td>-12803 days</td>\n",
       "      <td>-35</td>\n",
       "    </tr>\n",
       "    <tr>\n",
       "      <th>ID000134E40</th>\n",
       "      <td> 0</td>\n",
       "      <td> 192</td>\n",
       "      <td> 11.928348</td>\n",
       "      <td>2059-10-21</td>\n",
       "      <td>2015-05-01</td>\n",
       "      <td> 14.508658</td>\n",
       "      <td> 5</td>\n",
       "      <td> 37500</td>\n",
       "      <td>  6023</td>\n",
       "      <td>  3</td>\n",
       "      <td>...</td>\n",
       "      <td>      NaN</td>\n",
       "      <td> 0</td>\n",
       "      <td> 1</td>\n",
       "      <td> 1</td>\n",
       "      <td> 10</td>\n",
       "      <td> 3</td>\n",
       "      <td> 0</td>\n",
       "      <td> 0</td>\n",
       "      <td>-16244 days</td>\n",
       "      <td>-44</td>\n",
       "    </tr>\n",
       "    <tr>\n",
       "      <th>ID000196O10</th>\n",
       "      <td> 0</td>\n",
       "      <td>  66</td>\n",
       "      <td> 10.819798</td>\n",
       "      <td>2061-09-10</td>\n",
       "      <td>2015-05-01</td>\n",
       "      <td> 12.206078</td>\n",
       "      <td> 2</td>\n",
       "      <td>  9507</td>\n",
       "      <td> 25371</td>\n",
       "      <td> 46</td>\n",
       "      <td>...</td>\n",
       "      <td>      NaN</td>\n",
       "      <td> 0</td>\n",
       "      <td> 1</td>\n",
       "      <td> 4</td>\n",
       "      <td> 10</td>\n",
       "      <td> 3</td>\n",
       "      <td> 0</td>\n",
       "      <td> 0</td>\n",
       "      <td>-16934 days</td>\n",
       "      <td>-46</td>\n",
       "    </tr>\n",
       "    <tr>\n",
       "      <th>ID000201T10</th>\n",
       "      <td> 0</td>\n",
       "      <td> 478</td>\n",
       "      <td>  9.798183</td>\n",
       "      <td>2058-01-29</td>\n",
       "      <td>2015-05-01</td>\n",
       "      <td>  0.000000</td>\n",
       "      <td> 0</td>\n",
       "      <td>     0</td>\n",
       "      <td> 32405</td>\n",
       "      <td> 54</td>\n",
       "      <td>...</td>\n",
       "      <td> 10597.55</td>\n",
       "      <td> 1</td>\n",
       "      <td> 0</td>\n",
       "      <td> 2</td>\n",
       "      <td> 10</td>\n",
       "      <td> 5</td>\n",
       "      <td> 0</td>\n",
       "      <td> 0</td>\n",
       "      <td>-15614 days</td>\n",
       "      <td>-42</td>\n",
       "    </tr>\n",
       "  </tbody>\n",
       "</table>\n",
       "<p>5 rows × 27 columns</p>\n",
       "</div>"
      ],
      "text/plain": [
       "             Gender  City  Monthly_Income        DOB Lead_Creation_Date  \\\n",
       "ID                                                                        \n",
       "ID000052A20       1   462       10.933125 2064-05-28         2015-05-01   \n",
       "ID000084G40       1   462       10.714440 2050-05-20         2015-05-01   \n",
       "ID000134E40       0   192       11.928348 2059-10-21         2015-05-01   \n",
       "ID000196O10       0    66       10.819798 2061-09-10         2015-05-01   \n",
       "ID000201T10       0   478        9.798183 2058-01-29         2015-05-01   \n",
       "\n",
       "             Loan_Amount_Applied  Loan_Tenure_Applied  Existing_EMI  \\\n",
       "ID                                                                    \n",
       "ID000052A20            13.122365                    5         14500   \n",
       "ID000084G40             0.000000                    0             0   \n",
       "ID000134E40            14.508658                    5         37500   \n",
       "ID000196O10            12.206078                    2          9507   \n",
       "ID000201T10             0.000000                    0             0   \n",
       "\n",
       "             Employer_Name  Salary_Account        ...         \\\n",
       "ID                                                ...          \n",
       "ID000052A20          51269              22        ...          \n",
       "ID000084G40          56503              24        ...          \n",
       "ID000134E40           6023               3        ...          \n",
       "ID000196O10          25371              46        ...          \n",
       "ID000201T10          32405              54        ...          \n",
       "\n",
       "             EMI_Loan_Submitted  Filled_Form  Device_Type  Var2  Source  Var4  \\\n",
       "ID                                                                              \n",
       "ID000052A20                 NaN            0            1     4      10     3   \n",
       "ID000084G40                 NaN            0            1     1      10     2   \n",
       "ID000134E40                 NaN            0            1     1      10     3   \n",
       "ID000196O10                 NaN            0            1     4      10     3   \n",
       "ID000201T10            10597.55            1            0     2      10     5   \n",
       "\n",
       "             LoggedIn  Disbursed   age_delta  age_when_applied  \n",
       "ID                                                              \n",
       "ID000052A20         0          0 -17925 days               -49  \n",
       "ID000084G40         0          0 -12803 days               -35  \n",
       "ID000134E40         0          0 -16244 days               -44  \n",
       "ID000196O10         0          0 -16934 days               -46  \n",
       "ID000201T10         0          0 -15614 days               -42  \n",
       "\n",
       "[5 rows x 27 columns]"
      ]
     },
     "execution_count": 70,
     "metadata": {},
     "output_type": "execute_result"
    }
   ],
   "source": [
    "loan_train_processed[loan_train_processed.age_when_applied < 0].head()"
   ]
  },
  {
   "cell_type": "code",
   "execution_count": 71,
   "metadata": {
    "collapsed": false
   },
   "outputs": [
    {
     "data": {
      "text/html": [
       "<div style=\"max-height:1000px;max-width:1500px;overflow:auto;\">\n",
       "<table border=\"1\" class=\"dataframe\">\n",
       "  <thead>\n",
       "    <tr style=\"text-align: right;\">\n",
       "      <th></th>\n",
       "      <th>Gender</th>\n",
       "      <th>City</th>\n",
       "      <th>Monthly_Income</th>\n",
       "      <th>DOB</th>\n",
       "      <th>Lead_Creation_Date</th>\n",
       "      <th>Loan_Amount_Applied</th>\n",
       "      <th>Loan_Tenure_Applied</th>\n",
       "      <th>Existing_EMI</th>\n",
       "      <th>Employer_Name</th>\n",
       "      <th>Salary_Account</th>\n",
       "      <th>...</th>\n",
       "      <th>Interest_Rate</th>\n",
       "      <th>Processing_Fee</th>\n",
       "      <th>EMI_Loan_Submitted</th>\n",
       "      <th>Filled_Form</th>\n",
       "      <th>Device_Type</th>\n",
       "      <th>Var2</th>\n",
       "      <th>Source</th>\n",
       "      <th>Var4</th>\n",
       "      <th>age_delta</th>\n",
       "      <th>age_when_applied</th>\n",
       "    </tr>\n",
       "    <tr>\n",
       "      <th>ID</th>\n",
       "      <th></th>\n",
       "      <th></th>\n",
       "      <th></th>\n",
       "      <th></th>\n",
       "      <th></th>\n",
       "      <th></th>\n",
       "      <th></th>\n",
       "      <th></th>\n",
       "      <th></th>\n",
       "      <th></th>\n",
       "      <th></th>\n",
       "      <th></th>\n",
       "      <th></th>\n",
       "      <th></th>\n",
       "      <th></th>\n",
       "      <th></th>\n",
       "      <th></th>\n",
       "      <th></th>\n",
       "      <th></th>\n",
       "      <th></th>\n",
       "      <th></th>\n",
       "    </tr>\n",
       "  </thead>\n",
       "  <tbody>\n",
       "    <tr>\n",
       "      <th>ID000492Y20</th>\n",
       "      <td> 1</td>\n",
       "      <td> 587</td>\n",
       "      <td> 10.933125</td>\n",
       "      <td>2059-06-01</td>\n",
       "      <td>2015-05-01</td>\n",
       "      <td> 13.815512</td>\n",
       "      <td> 5</td>\n",
       "      <td> 13000</td>\n",
       "      <td>  7129</td>\n",
       "      <td> 25</td>\n",
       "      <td>...</td>\n",
       "      <td> 18.0</td>\n",
       "      <td>  NaN</td>\n",
       "      <td>      NaN</td>\n",
       "      <td> 0</td>\n",
       "      <td> 1</td>\n",
       "      <td> 1</td>\n",
       "      <td> 30</td>\n",
       "      <td> 3</td>\n",
       "      <td>-16102 days</td>\n",
       "      <td>-44</td>\n",
       "    </tr>\n",
       "    <tr>\n",
       "      <th>ID000862E20</th>\n",
       "      <td> 1</td>\n",
       "      <td> 381</td>\n",
       "      <td> 10.085851</td>\n",
       "      <td>2063-03-15</td>\n",
       "      <td>2015-05-01</td>\n",
       "      <td> 12.611541</td>\n",
       "      <td> 4</td>\n",
       "      <td>     0</td>\n",
       "      <td> 56098</td>\n",
       "      <td> 56</td>\n",
       "      <td>...</td>\n",
       "      <td> 20.0</td>\n",
       "      <td> 3000</td>\n",
       "      <td>  9129.11</td>\n",
       "      <td> 1</td>\n",
       "      <td> 1</td>\n",
       "      <td> 1</td>\n",
       "      <td> 20</td>\n",
       "      <td> 5</td>\n",
       "      <td>-17485 days</td>\n",
       "      <td>-47</td>\n",
       "    </tr>\n",
       "    <tr>\n",
       "      <th>ID001389L40</th>\n",
       "      <td> 0</td>\n",
       "      <td> 638</td>\n",
       "      <td> 11.512935</td>\n",
       "      <td>2053-06-01</td>\n",
       "      <td>2015-05-02</td>\n",
       "      <td> 14.220976</td>\n",
       "      <td> 5</td>\n",
       "      <td>     0</td>\n",
       "      <td> 46500</td>\n",
       "      <td>  7</td>\n",
       "      <td>...</td>\n",
       "      <td> 18.0</td>\n",
       "      <td>  NaN</td>\n",
       "      <td>      NaN</td>\n",
       "      <td> 0</td>\n",
       "      <td> 1</td>\n",
       "      <td> 1</td>\n",
       "      <td> 10</td>\n",
       "      <td> 1</td>\n",
       "      <td>-13910 days</td>\n",
       "      <td>-38</td>\n",
       "    </tr>\n",
       "    <tr>\n",
       "      <th>ID001458C30</th>\n",
       "      <td> 1</td>\n",
       "      <td> 249</td>\n",
       "      <td> 11.225257</td>\n",
       "      <td>2056-08-11</td>\n",
       "      <td>2015-05-02</td>\n",
       "      <td> 13.815512</td>\n",
       "      <td> 4</td>\n",
       "      <td>     0</td>\n",
       "      <td> 36513</td>\n",
       "      <td> 58</td>\n",
       "      <td>...</td>\n",
       "      <td> 18.0</td>\n",
       "      <td>  NaN</td>\n",
       "      <td>      NaN</td>\n",
       "      <td> 0</td>\n",
       "      <td> 1</td>\n",
       "      <td> 1</td>\n",
       "      <td> 10</td>\n",
       "      <td> 3</td>\n",
       "      <td>-15077 days</td>\n",
       "      <td>-41</td>\n",
       "    </tr>\n",
       "    <tr>\n",
       "      <th>ID001763V30</th>\n",
       "      <td> 1</td>\n",
       "      <td> 462</td>\n",
       "      <td> 10.434145</td>\n",
       "      <td>2057-08-17</td>\n",
       "      <td>2015-05-02</td>\n",
       "      <td>  0.000000</td>\n",
       "      <td> 0</td>\n",
       "      <td>     0</td>\n",
       "      <td> 56116</td>\n",
       "      <td> 46</td>\n",
       "      <td>...</td>\n",
       "      <td> 15.5</td>\n",
       "      <td> 2650</td>\n",
       "      <td> 12748.19</td>\n",
       "      <td> 1</td>\n",
       "      <td> 0</td>\n",
       "      <td> 2</td>\n",
       "      <td> 10</td>\n",
       "      <td> 5</td>\n",
       "      <td>-15448 days</td>\n",
       "      <td>-42</td>\n",
       "    </tr>\n",
       "  </tbody>\n",
       "</table>\n",
       "<p>5 rows × 25 columns</p>\n",
       "</div>"
      ],
      "text/plain": [
       "             Gender  City  Monthly_Income        DOB Lead_Creation_Date  \\\n",
       "ID                                                                        \n",
       "ID000492Y20       1   587       10.933125 2059-06-01         2015-05-01   \n",
       "ID000862E20       1   381       10.085851 2063-03-15         2015-05-01   \n",
       "ID001389L40       0   638       11.512935 2053-06-01         2015-05-02   \n",
       "ID001458C30       1   249       11.225257 2056-08-11         2015-05-02   \n",
       "ID001763V30       1   462       10.434145 2057-08-17         2015-05-02   \n",
       "\n",
       "             Loan_Amount_Applied  Loan_Tenure_Applied  Existing_EMI  \\\n",
       "ID                                                                    \n",
       "ID000492Y20            13.815512                    5         13000   \n",
       "ID000862E20            12.611541                    4             0   \n",
       "ID001389L40            14.220976                    5             0   \n",
       "ID001458C30            13.815512                    4             0   \n",
       "ID001763V30             0.000000                    0             0   \n",
       "\n",
       "             Employer_Name  Salary_Account        ...         Interest_Rate  \\\n",
       "ID                                                ...                         \n",
       "ID000492Y20           7129              25        ...                  18.0   \n",
       "ID000862E20          56098              56        ...                  20.0   \n",
       "ID001389L40          46500               7        ...                  18.0   \n",
       "ID001458C30          36513              58        ...                  18.0   \n",
       "ID001763V30          56116              46        ...                  15.5   \n",
       "\n",
       "             Processing_Fee  EMI_Loan_Submitted  Filled_Form  Device_Type  \\\n",
       "ID                                                                          \n",
       "ID000492Y20             NaN                 NaN            0            1   \n",
       "ID000862E20            3000             9129.11            1            1   \n",
       "ID001389L40             NaN                 NaN            0            1   \n",
       "ID001458C30             NaN                 NaN            0            1   \n",
       "ID001763V30            2650            12748.19            1            0   \n",
       "\n",
       "             Var2  Source  Var4   age_delta  age_when_applied  \n",
       "ID                                                             \n",
       "ID000492Y20     1      30     3 -16102 days               -44  \n",
       "ID000862E20     1      20     5 -17485 days               -47  \n",
       "ID001389L40     1      10     1 -13910 days               -38  \n",
       "ID001458C30     1      10     3 -15077 days               -41  \n",
       "ID001763V30     2      10     5 -15448 days               -42  \n",
       "\n",
       "[5 rows x 25 columns]"
      ]
     },
     "execution_count": 71,
     "metadata": {},
     "output_type": "execute_result"
    }
   ],
   "source": [
    "loan_test_processed[loan_test_processed.age_when_applied < 0].head()"
   ]
  },
  {
   "cell_type": "markdown",
   "metadata": {},
   "source": [
    "### Model Building"
   ]
  },
  {
   "cell_type": "code",
   "execution_count": 72,
   "metadata": {
    "collapsed": false
   },
   "outputs": [],
   "source": [
    "features = loan_train_processed[['City', 'Salary_Account', 'Interest_Rate', 'Employer_Name', 'Monthly_Income', \n",
    "                                 'Loan_Amount_Applied', 'Loan_Tenure_Applied', \n",
    "                                 'Existing_EMI', 'Loan_Amount_Submitted', 'Loan_Tenure_Submitted',\n",
    "                                 'Var1', 'Source', 'Var5', 'age_when_applied']]"
   ]
  },
  {
   "cell_type": "code",
   "execution_count": 73,
   "metadata": {
    "collapsed": true
   },
   "outputs": [],
   "source": [
    "from sklearn.cross_validation import StratifiedShuffleSplit\n",
    "\n",
    "sss = StratifiedShuffleSplit(loan_train.Disbursed, n_iter=3, test_size=0.3, random_state=121)"
   ]
  },
  {
   "cell_type": "code",
   "execution_count": 74,
   "metadata": {
    "collapsed": true
   },
   "outputs": [],
   "source": [
    "train_idx, test_idx = next(iter(sss))"
   ]
  },
  {
   "cell_type": "code",
   "execution_count": 75,
   "metadata": {
    "collapsed": true
   },
   "outputs": [],
   "source": [
    "Xt = features.iloc[train_idx]\n",
    "Xv = features.iloc[test_idx]\n",
    "\n",
    "yt = loan_train.Disbursed.iloc[train_idx]\n",
    "yv = loan_train.Disbursed.iloc[test_idx]"
   ]
  },
  {
   "cell_type": "code",
   "execution_count": 92,
   "metadata": {
    "collapsed": false
   },
   "outputs": [
    {
     "name": "stderr",
     "output_type": "stream",
     "text": [
      "[0]\teval-auc:0.774362\ttrain-auc:0.774457\n",
      "[1]\teval-auc:0.806628\ttrain-auc:0.800397\n",
      "[2]\teval-auc:0.806944\ttrain-auc:0.804597\n",
      "[3]\teval-auc:0.806741\ttrain-auc:0.803669\n",
      "[4]\teval-auc:0.810314\ttrain-auc:0.806648\n",
      "[5]\teval-auc:0.815367\ttrain-auc:0.814618\n",
      "[6]\teval-auc:0.817023\ttrain-auc:0.817552\n",
      "[7]\teval-auc:0.816678\ttrain-auc:0.817126\n",
      "[8]\teval-auc:0.822186\ttrain-auc:0.818425\n",
      "[9]\teval-auc:0.820328\ttrain-auc:0.818236\n",
      "[10]\teval-auc:0.820444\ttrain-auc:0.818230\n",
      "[11]\teval-auc:0.820328\ttrain-auc:0.818381\n",
      "[12]\teval-auc:0.820119\ttrain-auc:0.818187\n",
      "[13]\teval-auc:0.820197\ttrain-auc:0.817771\n",
      "[14]\teval-auc:0.828134\ttrain-auc:0.828084\n",
      "[15]\teval-auc:0.827765\ttrain-auc:0.828272\n",
      "[16]\teval-auc:0.827954\ttrain-auc:0.827960\n",
      "[17]\teval-auc:0.827739\ttrain-auc:0.828602\n",
      "[18]\teval-auc:0.827863\ttrain-auc:0.829313\n",
      "[19]\teval-auc:0.828388\ttrain-auc:0.829199\n",
      "[20]\teval-auc:0.829529\ttrain-auc:0.830694\n",
      "[21]\teval-auc:0.830376\ttrain-auc:0.832243\n",
      "[22]\teval-auc:0.830572\ttrain-auc:0.832663\n",
      "[23]\teval-auc:0.831005\ttrain-auc:0.833365\n",
      "[24]\teval-auc:0.832309\ttrain-auc:0.834401\n",
      "[25]\teval-auc:0.832829\ttrain-auc:0.834925\n",
      "[26]\teval-auc:0.833388\ttrain-auc:0.835747\n",
      "[27]\teval-auc:0.833331\ttrain-auc:0.835396\n",
      "[28]\teval-auc:0.833668\ttrain-auc:0.835858\n",
      "[29]\teval-auc:0.833595\ttrain-auc:0.836483\n",
      "[30]\teval-auc:0.833577\ttrain-auc:0.836898\n",
      "[31]\teval-auc:0.833243\ttrain-auc:0.837137\n",
      "[32]\teval-auc:0.833277\ttrain-auc:0.838150\n",
      "[33]\teval-auc:0.833752\ttrain-auc:0.838685\n",
      "[34]\teval-auc:0.833608\ttrain-auc:0.838729\n",
      "[35]\teval-auc:0.833172\ttrain-auc:0.838555\n",
      "[36]\teval-auc:0.833338\ttrain-auc:0.838969\n",
      "[37]\teval-auc:0.833345\ttrain-auc:0.841036\n",
      "[38]\teval-auc:0.833330\ttrain-auc:0.841140\n",
      "[39]\teval-auc:0.833425\ttrain-auc:0.841320\n",
      "[40]\teval-auc:0.833502\ttrain-auc:0.841211\n",
      "[41]\teval-auc:0.832958\ttrain-auc:0.841129\n",
      "[42]\teval-auc:0.832822\ttrain-auc:0.841239\n",
      "[43]\teval-auc:0.832930\ttrain-auc:0.841927\n",
      "[44]\teval-auc:0.833093\ttrain-auc:0.842787\n",
      "[45]\teval-auc:0.833285\ttrain-auc:0.843044\n",
      "[46]\teval-auc:0.833047\ttrain-auc:0.843160\n",
      "[47]\teval-auc:0.833348\ttrain-auc:0.843926\n",
      "[48]\teval-auc:0.833232\ttrain-auc:0.843877\n",
      "[49]\teval-auc:0.833732\ttrain-auc:0.843901\n",
      "[50]\teval-auc:0.833810\ttrain-auc:0.843884\n",
      "[51]\teval-auc:0.833631\ttrain-auc:0.844092\n",
      "[52]\teval-auc:0.833866\ttrain-auc:0.844197\n",
      "[53]\teval-auc:0.833745\ttrain-auc:0.844638\n",
      "[54]\teval-auc:0.834336\ttrain-auc:0.844939\n",
      "[55]\teval-auc:0.834686\ttrain-auc:0.845193\n",
      "[56]\teval-auc:0.834601\ttrain-auc:0.845210\n",
      "[57]\teval-auc:0.834484\ttrain-auc:0.845221\n",
      "[58]\teval-auc:0.834518\ttrain-auc:0.845223\n",
      "[59]\teval-auc:0.834090\ttrain-auc:0.845070\n",
      "[60]\teval-auc:0.834005\ttrain-auc:0.845509\n",
      "[61]\teval-auc:0.833812\ttrain-auc:0.845903\n",
      "[62]\teval-auc:0.834103\ttrain-auc:0.846161\n",
      "[63]\teval-auc:0.834711\ttrain-auc:0.846556\n",
      "[64]\teval-auc:0.834148\ttrain-auc:0.846678\n",
      "[65]\teval-auc:0.834272\ttrain-auc:0.846886\n",
      "[66]\teval-auc:0.834298\ttrain-auc:0.847142\n",
      "[67]\teval-auc:0.834995\ttrain-auc:0.847886\n",
      "[68]\teval-auc:0.835540\ttrain-auc:0.848250\n",
      "[69]\teval-auc:0.835436\ttrain-auc:0.848619\n",
      "[70]\teval-auc:0.835407\ttrain-auc:0.849195\n",
      "[71]\teval-auc:0.835480\ttrain-auc:0.849817\n",
      "[72]\teval-auc:0.835962\ttrain-auc:0.850169\n",
      "[73]\teval-auc:0.836153\ttrain-auc:0.850236\n",
      "[74]\teval-auc:0.835962\ttrain-auc:0.850229\n",
      "[75]\teval-auc:0.836006\ttrain-auc:0.850671\n",
      "[76]\teval-auc:0.836218\ttrain-auc:0.850765\n",
      "[77]\teval-auc:0.836406\ttrain-auc:0.851292\n",
      "[78]\teval-auc:0.836332\ttrain-auc:0.851351\n",
      "[79]\teval-auc:0.836457\ttrain-auc:0.851537\n",
      "[80]\teval-auc:0.836145\ttrain-auc:0.851598\n",
      "[81]\teval-auc:0.836127\ttrain-auc:0.851743\n",
      "[82]\teval-auc:0.836370\ttrain-auc:0.851711\n",
      "[83]\teval-auc:0.836391\ttrain-auc:0.851820\n",
      "[84]\teval-auc:0.836066\ttrain-auc:0.851908\n",
      "[85]\teval-auc:0.836201\ttrain-auc:0.852004\n",
      "[86]\teval-auc:0.836498\ttrain-auc:0.852251\n",
      "[87]\teval-auc:0.836328\ttrain-auc:0.852692\n",
      "[88]\teval-auc:0.836554\ttrain-auc:0.852805\n",
      "[89]\teval-auc:0.836755\ttrain-auc:0.853102\n",
      "[90]\teval-auc:0.836757\ttrain-auc:0.853135\n",
      "[91]\teval-auc:0.836740\ttrain-auc:0.853131\n",
      "[92]\teval-auc:0.836829\ttrain-auc:0.853431\n",
      "[93]\teval-auc:0.836798\ttrain-auc:0.853243\n",
      "[94]\teval-auc:0.837025\ttrain-auc:0.853330\n",
      "[95]\teval-auc:0.837052\ttrain-auc:0.853526\n",
      "[96]\teval-auc:0.837035\ttrain-auc:0.853709\n",
      "[97]\teval-auc:0.836980\ttrain-auc:0.853933\n",
      "[98]\teval-auc:0.837016\ttrain-auc:0.854105\n",
      "[99]\teval-auc:0.836932\ttrain-auc:0.853999\n",
      "[100]\teval-auc:0.837076\ttrain-auc:0.854146\n",
      "[101]\teval-auc:0.836930\ttrain-auc:0.854383\n",
      "[102]\teval-auc:0.837179\ttrain-auc:0.854835\n",
      "[103]\teval-auc:0.837189\ttrain-auc:0.854991\n",
      "[104]\teval-auc:0.837561\ttrain-auc:0.855214\n",
      "[105]\teval-auc:0.837482\ttrain-auc:0.855395\n",
      "[106]\teval-auc:0.837397\ttrain-auc:0.855539\n",
      "[107]\teval-auc:0.837518\ttrain-auc:0.855705\n",
      "[108]\teval-auc:0.837448\ttrain-auc:0.855922\n",
      "[109]\teval-auc:0.837498\ttrain-auc:0.856078\n",
      "[110]\teval-auc:0.837435\ttrain-auc:0.856195\n",
      "[111]\teval-auc:0.837450\ttrain-auc:0.856199\n",
      "[112]\teval-auc:0.838130\ttrain-auc:0.856755\n",
      "[113]\teval-auc:0.838304\ttrain-auc:0.856801\n",
      "[114]\teval-auc:0.838984\ttrain-auc:0.858470\n",
      "[115]\teval-auc:0.838970\ttrain-auc:0.858711\n",
      "[116]\teval-auc:0.838926\ttrain-auc:0.859188\n",
      "[117]\teval-auc:0.838742\ttrain-auc:0.859424\n",
      "[118]\teval-auc:0.838730\ttrain-auc:0.859701\n",
      "[119]\teval-auc:0.838687\ttrain-auc:0.859995\n",
      "[120]\teval-auc:0.838559\ttrain-auc:0.860084\n",
      "[121]\teval-auc:0.839977\ttrain-auc:0.861338\n",
      "[122]\teval-auc:0.840080\ttrain-auc:0.861425\n",
      "[123]\teval-auc:0.840050\ttrain-auc:0.861545\n",
      "[124]\teval-auc:0.840013\ttrain-auc:0.861701\n",
      "[125]\teval-auc:0.840024\ttrain-auc:0.861905\n",
      "[126]\teval-auc:0.840058\ttrain-auc:0.862020\n",
      "[127]\teval-auc:0.839869\ttrain-auc:0.862461\n",
      "[128]\teval-auc:0.840223\ttrain-auc:0.862654\n",
      "[129]\teval-auc:0.840565\ttrain-auc:0.862835\n",
      "[130]\teval-auc:0.840789\ttrain-auc:0.863269\n",
      "[131]\teval-auc:0.840713\ttrain-auc:0.863613\n",
      "[132]\teval-auc:0.840723\ttrain-auc:0.863910\n",
      "[133]\teval-auc:0.840789\ttrain-auc:0.864127\n",
      "[134]\teval-auc:0.841025\ttrain-auc:0.864408\n",
      "[135]\teval-auc:0.841220\ttrain-auc:0.864599\n",
      "[136]\teval-auc:0.841101\ttrain-auc:0.864973\n",
      "[137]\teval-auc:0.840817\ttrain-auc:0.865351\n",
      "[138]\teval-auc:0.840924\ttrain-auc:0.865609\n",
      "[139]\teval-auc:0.840893\ttrain-auc:0.866037\n",
      "[140]\teval-auc:0.840964\ttrain-auc:0.866171\n",
      "[141]\teval-auc:0.841055\ttrain-auc:0.866518\n",
      "[142]\teval-auc:0.841104\ttrain-auc:0.866653\n",
      "[143]\teval-auc:0.841444\ttrain-auc:0.867102\n",
      "[144]\teval-auc:0.841511\ttrain-auc:0.867568\n",
      "[145]\teval-auc:0.841829\ttrain-auc:0.868021\n",
      "[146]\teval-auc:0.841825\ttrain-auc:0.868145\n",
      "[147]\teval-auc:0.842093\ttrain-auc:0.868429\n",
      "[148]\teval-auc:0.842090\ttrain-auc:0.868536\n",
      "[149]\teval-auc:0.842462\ttrain-auc:0.868695\n",
      "[150]\teval-auc:0.842714\ttrain-auc:0.868851\n",
      "[151]\teval-auc:0.842627\ttrain-auc:0.869043\n",
      "[152]\teval-auc:0.842541\ttrain-auc:0.869381\n",
      "[153]\teval-auc:0.842466\ttrain-auc:0.869549\n",
      "[154]\teval-auc:0.842515\ttrain-auc:0.869612\n",
      "[155]\teval-auc:0.842436\ttrain-auc:0.869602\n",
      "[156]\teval-auc:0.842441\ttrain-auc:0.869931\n",
      "[157]\teval-auc:0.842635\ttrain-auc:0.870198\n",
      "[158]\teval-auc:0.842753\ttrain-auc:0.870572\n",
      "[159]\teval-auc:0.842856\ttrain-auc:0.870549\n",
      "[160]\teval-auc:0.842768\ttrain-auc:0.870753\n",
      "[161]\teval-auc:0.842861\ttrain-auc:0.870813\n",
      "[162]\teval-auc:0.842915\ttrain-auc:0.871034\n",
      "[163]\teval-auc:0.842904\ttrain-auc:0.871446\n",
      "[164]\teval-auc:0.843006\ttrain-auc:0.871642\n",
      "[165]\teval-auc:0.842982\ttrain-auc:0.871730\n",
      "[166]\teval-auc:0.843131\ttrain-auc:0.871883\n",
      "[167]\teval-auc:0.843146\ttrain-auc:0.872067\n",
      "[168]\teval-auc:0.843137\ttrain-auc:0.872224\n",
      "[169]\teval-auc:0.843236\ttrain-auc:0.872478\n",
      "[170]\teval-auc:0.843361\ttrain-auc:0.872681\n",
      "[171]\teval-auc:0.843513\ttrain-auc:0.872960\n",
      "[172]\teval-auc:0.843458\ttrain-auc:0.873060\n",
      "[173]\teval-auc:0.843481\ttrain-auc:0.873059\n",
      "[174]\teval-auc:0.843242\ttrain-auc:0.873193\n",
      "[175]\teval-auc:0.843408\ttrain-auc:0.873267\n",
      "[176]\teval-auc:0.843681\ttrain-auc:0.873519\n",
      "[177]\teval-auc:0.843819\ttrain-auc:0.873531\n",
      "[178]\teval-auc:0.843896\ttrain-auc:0.873668\n",
      "[179]\teval-auc:0.843931\ttrain-auc:0.873815\n",
      "[180]\teval-auc:0.843777\ttrain-auc:0.873954\n",
      "[181]\teval-auc:0.844001\ttrain-auc:0.873998\n",
      "[182]\teval-auc:0.844170\ttrain-auc:0.874196\n",
      "[183]\teval-auc:0.844132\ttrain-auc:0.874187\n",
      "[184]\teval-auc:0.844326\ttrain-auc:0.874386\n",
      "[185]\teval-auc:0.844393\ttrain-auc:0.874419\n",
      "[186]\teval-auc:0.844621\ttrain-auc:0.874866\n",
      "[187]\teval-auc:0.844800\ttrain-auc:0.875143\n",
      "[188]\teval-auc:0.844915\ttrain-auc:0.875433\n",
      "[189]\teval-auc:0.845089\ttrain-auc:0.875539\n",
      "[190]\teval-auc:0.845105\ttrain-auc:0.875714\n",
      "[191]\teval-auc:0.845088\ttrain-auc:0.875789\n",
      "[192]\teval-auc:0.845315\ttrain-auc:0.875920\n",
      "[193]\teval-auc:0.845341\ttrain-auc:0.876217\n",
      "[194]\teval-auc:0.845330\ttrain-auc:0.876362\n",
      "[195]\teval-auc:0.845436\ttrain-auc:0.876524\n",
      "[196]\teval-auc:0.845419\ttrain-auc:0.876909\n",
      "[197]\teval-auc:0.845408\ttrain-auc:0.877104\n",
      "[198]\teval-auc:0.845588\ttrain-auc:0.877278\n",
      "[199]\teval-auc:0.845504\ttrain-auc:0.877477\n",
      "[200]\teval-auc:0.845529\ttrain-auc:0.877481\n",
      "[201]\teval-auc:0.845722\ttrain-auc:0.877803\n",
      "[202]\teval-auc:0.845888\ttrain-auc:0.877984\n",
      "[203]\teval-auc:0.846074\ttrain-auc:0.878152\n",
      "[204]\teval-auc:0.846094\ttrain-auc:0.878325\n",
      "[205]\teval-auc:0.846298\ttrain-auc:0.878464\n",
      "[206]\teval-auc:0.846459\ttrain-auc:0.878557\n",
      "[207]\teval-auc:0.846427\ttrain-auc:0.878909\n",
      "[208]\teval-auc:0.846474\ttrain-auc:0.879142\n",
      "[209]\teval-auc:0.846462\ttrain-auc:0.879307\n",
      "[210]\teval-auc:0.846479\ttrain-auc:0.879575\n",
      "[211]\teval-auc:0.846438\ttrain-auc:0.879511\n",
      "[212]\teval-auc:0.846464\ttrain-auc:0.879801\n",
      "[213]\teval-auc:0.846380\ttrain-auc:0.879956\n",
      "[214]\teval-auc:0.846359\ttrain-auc:0.880048\n",
      "[215]\teval-auc:0.846384\ttrain-auc:0.880182\n",
      "[216]\teval-auc:0.846489\ttrain-auc:0.880339\n",
      "[217]\teval-auc:0.846566\ttrain-auc:0.880372\n",
      "[218]\teval-auc:0.846564\ttrain-auc:0.880579\n",
      "[219]\teval-auc:0.846725\ttrain-auc:0.880644\n",
      "[220]\teval-auc:0.846690\ttrain-auc:0.880887\n",
      "[221]\teval-auc:0.846703\ttrain-auc:0.881123\n",
      "[222]\teval-auc:0.846560\ttrain-auc:0.881294\n",
      "[223]\teval-auc:0.846564\ttrain-auc:0.881406\n",
      "[224]\teval-auc:0.846696\ttrain-auc:0.881564\n",
      "[225]\teval-auc:0.846691\ttrain-auc:0.881791\n",
      "[226]\teval-auc:0.846739\ttrain-auc:0.881942\n",
      "[227]\teval-auc:0.846864\ttrain-auc:0.882151\n",
      "[228]\teval-auc:0.847001\ttrain-auc:0.882268\n",
      "[229]\teval-auc:0.846980\ttrain-auc:0.882399\n",
      "[230]\teval-auc:0.846924\ttrain-auc:0.882567\n",
      "[231]\teval-auc:0.846954\ttrain-auc:0.882661\n",
      "[232]\teval-auc:0.847154\ttrain-auc:0.883042\n",
      "[233]\teval-auc:0.847207\ttrain-auc:0.883108\n",
      "[234]\teval-auc:0.847171\ttrain-auc:0.883234\n",
      "[235]\teval-auc:0.847118\ttrain-auc:0.883372\n",
      "[236]\teval-auc:0.847107\ttrain-auc:0.883499\n",
      "[237]\teval-auc:0.847113\ttrain-auc:0.883504\n",
      "[238]\teval-auc:0.846998\ttrain-auc:0.883728\n",
      "[239]\teval-auc:0.846952\ttrain-auc:0.883899\n",
      "[240]\teval-auc:0.846900\ttrain-auc:0.883918\n",
      "[241]\teval-auc:0.846992\ttrain-auc:0.884087\n",
      "[242]\teval-auc:0.846962\ttrain-auc:0.884258\n",
      "[243]\teval-auc:0.847078\ttrain-auc:0.884374\n",
      "[244]\teval-auc:0.847033\ttrain-auc:0.884464\n",
      "[245]\teval-auc:0.847199\ttrain-auc:0.884776\n",
      "[246]\teval-auc:0.847188\ttrain-auc:0.884812\n",
      "[247]\teval-auc:0.847309\ttrain-auc:0.885078\n",
      "[248]\teval-auc:0.847414\ttrain-auc:0.885377\n",
      "[249]\teval-auc:0.847359\ttrain-auc:0.885475\n",
      "[250]\teval-auc:0.847467\ttrain-auc:0.885567\n",
      "[251]\teval-auc:0.847452\ttrain-auc:0.885685\n",
      "[252]\teval-auc:0.847475\ttrain-auc:0.885839\n",
      "[253]\teval-auc:0.847423\ttrain-auc:0.886005\n",
      "[254]\teval-auc:0.847368\ttrain-auc:0.886186\n",
      "[255]\teval-auc:0.847310\ttrain-auc:0.886325\n",
      "[256]\teval-auc:0.847230\ttrain-auc:0.886463\n",
      "[257]\teval-auc:0.847225\ttrain-auc:0.886607\n",
      "[258]\teval-auc:0.847113\ttrain-auc:0.886839\n",
      "[259]\teval-auc:0.847303\ttrain-auc:0.886951\n",
      "[260]\teval-auc:0.847287\ttrain-auc:0.886971\n",
      "[261]\teval-auc:0.847265\ttrain-auc:0.887020\n",
      "[262]\teval-auc:0.847282\ttrain-auc:0.887381\n",
      "[263]\teval-auc:0.847209\ttrain-auc:0.887486\n",
      "[264]\teval-auc:0.847206\ttrain-auc:0.887591\n",
      "[265]\teval-auc:0.847272\ttrain-auc:0.887608\n",
      "[266]\teval-auc:0.847331\ttrain-auc:0.887853\n",
      "[267]\teval-auc:0.847395\ttrain-auc:0.887969\n",
      "[268]\teval-auc:0.847239\ttrain-auc:0.888110\n",
      "[269]\teval-auc:0.847415\ttrain-auc:0.888314\n",
      "[270]\teval-auc:0.847488\ttrain-auc:0.888442\n",
      "[271]\teval-auc:0.847600\ttrain-auc:0.888616\n",
      "[272]\teval-auc:0.847657\ttrain-auc:0.888687\n",
      "[273]\teval-auc:0.847723\ttrain-auc:0.888809\n",
      "[274]\teval-auc:0.847834\ttrain-auc:0.888907\n",
      "[275]\teval-auc:0.847900\ttrain-auc:0.889041\n",
      "[276]\teval-auc:0.847936\ttrain-auc:0.889184\n",
      "[277]\teval-auc:0.847951\ttrain-auc:0.889327\n",
      "[278]\teval-auc:0.848177\ttrain-auc:0.889536\n",
      "[279]\teval-auc:0.848203\ttrain-auc:0.889693\n",
      "[280]\teval-auc:0.848157\ttrain-auc:0.889773\n",
      "[281]\teval-auc:0.848353\ttrain-auc:0.889902\n",
      "[282]\teval-auc:0.848323\ttrain-auc:0.890144\n",
      "[283]\teval-auc:0.848208\ttrain-auc:0.890265\n",
      "[284]\teval-auc:0.848273\ttrain-auc:0.890320\n",
      "[285]\teval-auc:0.848435\ttrain-auc:0.890397\n",
      "[286]\teval-auc:0.848431\ttrain-auc:0.890671\n",
      "[287]\teval-auc:0.848476\ttrain-auc:0.890795\n",
      "[288]\teval-auc:0.848518\ttrain-auc:0.890955\n",
      "[289]\teval-auc:0.848637\ttrain-auc:0.891169\n",
      "[290]\teval-auc:0.848588\ttrain-auc:0.891218\n",
      "[291]\teval-auc:0.848616\ttrain-auc:0.891219\n",
      "[292]\teval-auc:0.848805\ttrain-auc:0.891364\n",
      "[293]\teval-auc:0.848878\ttrain-auc:0.891526\n",
      "[294]\teval-auc:0.848893\ttrain-auc:0.891664\n",
      "[295]\teval-auc:0.849010\ttrain-auc:0.891795\n",
      "[296]\teval-auc:0.849072\ttrain-auc:0.891943\n",
      "[297]\teval-auc:0.848970\ttrain-auc:0.892281\n",
      "[298]\teval-auc:0.849067\ttrain-auc:0.892384\n",
      "[299]\teval-auc:0.849160\ttrain-auc:0.892487\n",
      "[300]\teval-auc:0.849234\ttrain-auc:0.892622\n",
      "[301]\teval-auc:0.849199\ttrain-auc:0.892857\n",
      "[302]\teval-auc:0.849167\ttrain-auc:0.892892\n",
      "[303]\teval-auc:0.849210\ttrain-auc:0.893154\n",
      "[304]\teval-auc:0.849360\ttrain-auc:0.893349\n",
      "[305]\teval-auc:0.849403\ttrain-auc:0.893429\n",
      "[306]\teval-auc:0.849533\ttrain-auc:0.893565\n",
      "[307]\teval-auc:0.849531\ttrain-auc:0.893630\n",
      "[308]\teval-auc:0.849604\ttrain-auc:0.893754\n",
      "[309]\teval-auc:0.849536\ttrain-auc:0.893972\n",
      "[310]\teval-auc:0.849585\ttrain-auc:0.894112\n",
      "[311]\teval-auc:0.849513\ttrain-auc:0.894151\n",
      "[312]\teval-auc:0.849550\ttrain-auc:0.894250\n",
      "[313]\teval-auc:0.849544\ttrain-auc:0.894515\n",
      "[314]\teval-auc:0.849691\ttrain-auc:0.894686\n",
      "[315]\teval-auc:0.849840\ttrain-auc:0.894766\n",
      "[316]\teval-auc:0.849886\ttrain-auc:0.895027\n",
      "[317]\teval-auc:0.849978\ttrain-auc:0.895131\n",
      "[318]\teval-auc:0.850188\ttrain-auc:0.895234\n",
      "[319]\teval-auc:0.850220\ttrain-auc:0.895529\n",
      "[320]\teval-auc:0.850211\ttrain-auc:0.895622\n",
      "[321]\teval-auc:0.850194\ttrain-auc:0.895800\n",
      "[322]\teval-auc:0.850164\ttrain-auc:0.895851\n",
      "[323]\teval-auc:0.850374\ttrain-auc:0.896114\n",
      "[324]\teval-auc:0.850422\ttrain-auc:0.896204\n",
      "[325]\teval-auc:0.850510\ttrain-auc:0.896244\n",
      "[326]\teval-auc:0.850525\ttrain-auc:0.896371\n",
      "[327]\teval-auc:0.850528\ttrain-auc:0.896467\n",
      "[328]\teval-auc:0.850562\ttrain-auc:0.896611\n",
      "[329]\teval-auc:0.850662\ttrain-auc:0.896794\n",
      "[330]\teval-auc:0.850697\ttrain-auc:0.896968\n",
      "[331]\teval-auc:0.850819\ttrain-auc:0.897113\n",
      "[332]\teval-auc:0.850830\ttrain-auc:0.897275\n",
      "[333]\teval-auc:0.850898\ttrain-auc:0.897384\n",
      "[334]\teval-auc:0.850978\ttrain-auc:0.897546\n",
      "[335]\teval-auc:0.850977\ttrain-auc:0.897797\n",
      "[336]\teval-auc:0.851057\ttrain-auc:0.897954\n",
      "[337]\teval-auc:0.851083\ttrain-auc:0.898064\n",
      "[338]\teval-auc:0.851174\ttrain-auc:0.898147\n",
      "[339]\teval-auc:0.851298\ttrain-auc:0.898326\n",
      "[340]\teval-auc:0.851411\ttrain-auc:0.898433\n",
      "[341]\teval-auc:0.851327\ttrain-auc:0.898558\n",
      "[342]\teval-auc:0.851364\ttrain-auc:0.898822\n",
      "[343]\teval-auc:0.851418\ttrain-auc:0.898820\n",
      "[344]\teval-auc:0.851396\ttrain-auc:0.898839\n",
      "[345]\teval-auc:0.851509\ttrain-auc:0.899105\n",
      "[346]\teval-auc:0.851511\ttrain-auc:0.899207\n",
      "[347]\teval-auc:0.851585\ttrain-auc:0.899279\n",
      "[348]\teval-auc:0.851667\ttrain-auc:0.899438\n",
      "[349]\teval-auc:0.851659\ttrain-auc:0.899567\n",
      "[350]\teval-auc:0.851600\ttrain-auc:0.899720\n",
      "[351]\teval-auc:0.851560\ttrain-auc:0.899948\n",
      "[352]\teval-auc:0.851550\ttrain-auc:0.899947\n",
      "[353]\teval-auc:0.851445\ttrain-auc:0.900144\n",
      "[354]\teval-auc:0.851523\ttrain-auc:0.900269\n",
      "[355]\teval-auc:0.851449\ttrain-auc:0.900512\n",
      "[356]\teval-auc:0.851495\ttrain-auc:0.900686\n",
      "[357]\teval-auc:0.851472\ttrain-auc:0.900853\n",
      "[358]\teval-auc:0.851501\ttrain-auc:0.901042\n",
      "[359]\teval-auc:0.851419\ttrain-auc:0.901107\n",
      "[360]\teval-auc:0.851532\ttrain-auc:0.901216\n",
      "[361]\teval-auc:0.851594\ttrain-auc:0.901260\n",
      "[362]\teval-auc:0.851707\ttrain-auc:0.901360\n",
      "[363]\teval-auc:0.851715\ttrain-auc:0.901490\n",
      "[364]\teval-auc:0.851669\ttrain-auc:0.901628\n",
      "[365]\teval-auc:0.851539\ttrain-auc:0.901750\n",
      "[366]\teval-auc:0.851537\ttrain-auc:0.901902\n",
      "[367]\teval-auc:0.851524\ttrain-auc:0.902017\n",
      "[368]\teval-auc:0.851500\ttrain-auc:0.902200\n",
      "[369]\teval-auc:0.851502\ttrain-auc:0.902349\n",
      "[370]\teval-auc:0.851546\ttrain-auc:0.902407\n",
      "[371]\teval-auc:0.851599\ttrain-auc:0.902505\n",
      "[372]\teval-auc:0.851572\ttrain-auc:0.902565\n",
      "[373]\teval-auc:0.851652\ttrain-auc:0.902712\n",
      "[374]\teval-auc:0.851704\ttrain-auc:0.902879\n",
      "[375]\teval-auc:0.851792\ttrain-auc:0.902983\n",
      "[376]\teval-auc:0.851792\ttrain-auc:0.903057\n",
      "[377]\teval-auc:0.851852\ttrain-auc:0.903219\n",
      "[378]\teval-auc:0.851765\ttrain-auc:0.903284\n",
      "[379]\teval-auc:0.851855\ttrain-auc:0.903444\n",
      "[380]\teval-auc:0.851930\ttrain-auc:0.903596\n",
      "[381]\teval-auc:0.852064\ttrain-auc:0.903712\n",
      "[382]\teval-auc:0.852086\ttrain-auc:0.903829\n",
      "[383]\teval-auc:0.852178\ttrain-auc:0.904017\n",
      "[384]\teval-auc:0.852131\ttrain-auc:0.904098\n",
      "[385]\teval-auc:0.852187\ttrain-auc:0.904147\n",
      "[386]\teval-auc:0.852173\ttrain-auc:0.904206\n",
      "[387]\teval-auc:0.852149\ttrain-auc:0.904290\n",
      "[388]\teval-auc:0.852193\ttrain-auc:0.904372\n",
      "[389]\teval-auc:0.852198\ttrain-auc:0.904456\n",
      "[390]\teval-auc:0.852178\ttrain-auc:0.904658\n",
      "[391]\teval-auc:0.852231\ttrain-auc:0.904704\n",
      "[392]\teval-auc:0.852186\ttrain-auc:0.904737\n",
      "[393]\teval-auc:0.852166\ttrain-auc:0.904771\n",
      "[394]\teval-auc:0.852231\ttrain-auc:0.904891\n",
      "[395]\teval-auc:0.852197\ttrain-auc:0.905039\n",
      "[396]\teval-auc:0.852278\ttrain-auc:0.905105\n",
      "[397]\teval-auc:0.852294\ttrain-auc:0.905207\n",
      "[398]\teval-auc:0.852356\ttrain-auc:0.905354\n",
      "[399]\teval-auc:0.852342\ttrain-auc:0.905520\n",
      "[400]\teval-auc:0.852263\ttrain-auc:0.905680\n",
      "[401]\teval-auc:0.852322\ttrain-auc:0.905775\n",
      "[402]\teval-auc:0.852293\ttrain-auc:0.905849\n",
      "[403]\teval-auc:0.852387\ttrain-auc:0.905907\n",
      "[404]\teval-auc:0.852250\ttrain-auc:0.906029\n",
      "[405]\teval-auc:0.852195\ttrain-auc:0.906105\n",
      "[406]\teval-auc:0.852229\ttrain-auc:0.906221\n",
      "[407]\teval-auc:0.852208\ttrain-auc:0.906341\n",
      "[408]\teval-auc:0.852306\ttrain-auc:0.906447\n",
      "[409]\teval-auc:0.852452\ttrain-auc:0.906610\n",
      "[410]\teval-auc:0.852529\ttrain-auc:0.906766\n",
      "[411]\teval-auc:0.852411\ttrain-auc:0.906901\n",
      "[412]\teval-auc:0.852401\ttrain-auc:0.906941\n",
      "[413]\teval-auc:0.852394\ttrain-auc:0.907129\n",
      "[414]\teval-auc:0.852459\ttrain-auc:0.907195\n",
      "[415]\teval-auc:0.852372\ttrain-auc:0.907264\n",
      "[416]\teval-auc:0.852543\ttrain-auc:0.907356\n",
      "[417]\teval-auc:0.852582\ttrain-auc:0.907421\n",
      "[418]\teval-auc:0.852556\ttrain-auc:0.907522\n",
      "[419]\teval-auc:0.852579\ttrain-auc:0.907590\n",
      "[420]\teval-auc:0.852584\ttrain-auc:0.907848\n",
      "[421]\teval-auc:0.852616\ttrain-auc:0.908025\n",
      "[422]\teval-auc:0.852622\ttrain-auc:0.908016\n",
      "[423]\teval-auc:0.852620\ttrain-auc:0.908027\n",
      "[424]\teval-auc:0.852656\ttrain-auc:0.908099\n",
      "[425]\teval-auc:0.852713\ttrain-auc:0.908213\n",
      "[426]\teval-auc:0.852719\ttrain-auc:0.908373\n",
      "[427]\teval-auc:0.852770\ttrain-auc:0.908413\n",
      "[428]\teval-auc:0.852751\ttrain-auc:0.908418\n",
      "[429]\teval-auc:0.852897\ttrain-auc:0.908526\n",
      "[430]\teval-auc:0.852903\ttrain-auc:0.908568\n",
      "[431]\teval-auc:0.853031\ttrain-auc:0.908671\n",
      "[432]\teval-auc:0.852954\ttrain-auc:0.908832\n",
      "[433]\teval-auc:0.853120\ttrain-auc:0.908998\n",
      "[434]\teval-auc:0.853167\ttrain-auc:0.909212\n",
      "[435]\teval-auc:0.853206\ttrain-auc:0.909265\n",
      "[436]\teval-auc:0.853145\ttrain-auc:0.909291\n",
      "[437]\teval-auc:0.853202\ttrain-auc:0.909369\n",
      "[438]\teval-auc:0.853181\ttrain-auc:0.909512\n",
      "[439]\teval-auc:0.853237\ttrain-auc:0.909736\n",
      "[440]\teval-auc:0.853277\ttrain-auc:0.909835\n",
      "[441]\teval-auc:0.853230\ttrain-auc:0.909919\n",
      "[442]\teval-auc:0.853304\ttrain-auc:0.909963\n",
      "[443]\teval-auc:0.853311\ttrain-auc:0.909988\n",
      "[444]\teval-auc:0.853290\ttrain-auc:0.910080\n",
      "[445]\teval-auc:0.853361\ttrain-auc:0.910192\n",
      "[446]\teval-auc:0.853334\ttrain-auc:0.910169\n",
      "[447]\teval-auc:0.853434\ttrain-auc:0.910258\n",
      "[448]\teval-auc:0.853430\ttrain-auc:0.910396\n",
      "[449]\teval-auc:0.853518\ttrain-auc:0.910445\n",
      "[450]\teval-auc:0.853482\ttrain-auc:0.910564\n",
      "[451]\teval-auc:0.853572\ttrain-auc:0.910658\n",
      "[452]\teval-auc:0.853629\ttrain-auc:0.910754\n",
      "[453]\teval-auc:0.853667\ttrain-auc:0.910753\n",
      "[454]\teval-auc:0.853716\ttrain-auc:0.910757\n",
      "[455]\teval-auc:0.853746\ttrain-auc:0.910927\n",
      "[456]\teval-auc:0.853664\ttrain-auc:0.911084\n",
      "[457]\teval-auc:0.853682\ttrain-auc:0.911136\n",
      "[458]\teval-auc:0.853721\ttrain-auc:0.911212\n",
      "[459]\teval-auc:0.853709\ttrain-auc:0.911301\n",
      "[460]\teval-auc:0.853864\ttrain-auc:0.911440\n",
      "[461]\teval-auc:0.853826\ttrain-auc:0.911500\n",
      "[462]\teval-auc:0.853731\ttrain-auc:0.911577\n",
      "[463]\teval-auc:0.853828\ttrain-auc:0.911618\n",
      "[464]\teval-auc:0.853845\ttrain-auc:0.911637\n",
      "[465]\teval-auc:0.853872\ttrain-auc:0.911754\n",
      "[466]\teval-auc:0.853995\ttrain-auc:0.911905\n",
      "[467]\teval-auc:0.854051\ttrain-auc:0.912009\n",
      "[468]\teval-auc:0.854033\ttrain-auc:0.912176\n",
      "[469]\teval-auc:0.854163\ttrain-auc:0.912322\n",
      "[470]\teval-auc:0.854215\ttrain-auc:0.912307\n",
      "[471]\teval-auc:0.854222\ttrain-auc:0.912464\n",
      "[472]\teval-auc:0.854253\ttrain-auc:0.912537\n",
      "[473]\teval-auc:0.854358\ttrain-auc:0.912693\n",
      "[474]\teval-auc:0.854295\ttrain-auc:0.912792\n",
      "[475]\teval-auc:0.854363\ttrain-auc:0.912973\n",
      "[476]\teval-auc:0.854510\ttrain-auc:0.913109\n",
      "[477]\teval-auc:0.854518\ttrain-auc:0.913207\n",
      "[478]\teval-auc:0.854484\ttrain-auc:0.913264\n",
      "[479]\teval-auc:0.854545\ttrain-auc:0.913279\n",
      "[480]\teval-auc:0.854578\ttrain-auc:0.913314\n",
      "[481]\teval-auc:0.854483\ttrain-auc:0.913338\n",
      "[482]\teval-auc:0.854460\ttrain-auc:0.913361\n",
      "[483]\teval-auc:0.854494\ttrain-auc:0.913366\n",
      "[484]\teval-auc:0.854407\ttrain-auc:0.913459\n",
      "[485]\teval-auc:0.854411\ttrain-auc:0.913514\n",
      "[486]\teval-auc:0.854392\ttrain-auc:0.913610\n",
      "[487]\teval-auc:0.854441\ttrain-auc:0.913684\n",
      "[488]\teval-auc:0.854412\ttrain-auc:0.913767\n",
      "[489]\teval-auc:0.854520\ttrain-auc:0.913851\n",
      "[490]\teval-auc:0.854584\ttrain-auc:0.913875\n",
      "[491]\teval-auc:0.854724\ttrain-auc:0.914066\n",
      "[492]\teval-auc:0.854741\ttrain-auc:0.914201\n",
      "[493]\teval-auc:0.854705\ttrain-auc:0.914228\n",
      "[494]\teval-auc:0.854696\ttrain-auc:0.914354\n",
      "[495]\teval-auc:0.854650\ttrain-auc:0.914445\n",
      "[496]\teval-auc:0.854714\ttrain-auc:0.914559\n",
      "[497]\teval-auc:0.854729\ttrain-auc:0.914613\n",
      "[498]\teval-auc:0.854844\ttrain-auc:0.914757\n",
      "[499]\teval-auc:0.854726\ttrain-auc:0.914911\n",
      "[500]\teval-auc:0.854818\ttrain-auc:0.914995\n",
      "[501]\teval-auc:0.854941\ttrain-auc:0.915123\n",
      "[502]\teval-auc:0.854927\ttrain-auc:0.915136\n",
      "[503]\teval-auc:0.854922\ttrain-auc:0.915211\n",
      "[504]\teval-auc:0.854946\ttrain-auc:0.915224\n",
      "[505]\teval-auc:0.854939\ttrain-auc:0.915319\n",
      "[506]\teval-auc:0.854946\ttrain-auc:0.915492\n",
      "[507]\teval-auc:0.854964\ttrain-auc:0.915606\n",
      "[508]\teval-auc:0.855080\ttrain-auc:0.915687\n",
      "[509]\teval-auc:0.855083\ttrain-auc:0.915778\n",
      "[510]\teval-auc:0.855112\ttrain-auc:0.915906\n",
      "[511]\teval-auc:0.855036\ttrain-auc:0.916023\n",
      "[512]\teval-auc:0.855188\ttrain-auc:0.916058\n",
      "[513]\teval-auc:0.855134\ttrain-auc:0.916081\n",
      "[514]\teval-auc:0.855050\ttrain-auc:0.916175\n",
      "[515]\teval-auc:0.855138\ttrain-auc:0.916289\n",
      "[516]\teval-auc:0.855090\ttrain-auc:0.916329\n",
      "[517]\teval-auc:0.855209\ttrain-auc:0.916385\n",
      "[518]\teval-auc:0.855322\ttrain-auc:0.916521\n",
      "[519]\teval-auc:0.855364\ttrain-auc:0.916598\n",
      "[520]\teval-auc:0.855355\ttrain-auc:0.916626\n",
      "[521]\teval-auc:0.855345\ttrain-auc:0.916690\n",
      "[522]\teval-auc:0.855409\ttrain-auc:0.916747\n",
      "[523]\teval-auc:0.855325\ttrain-auc:0.916815\n",
      "[524]\teval-auc:0.855342\ttrain-auc:0.916872\n",
      "[525]\teval-auc:0.855313\ttrain-auc:0.917007\n",
      "[526]\teval-auc:0.855276\ttrain-auc:0.917208\n",
      "[527]\teval-auc:0.855266\ttrain-auc:0.917203\n",
      "[528]\teval-auc:0.855295\ttrain-auc:0.917277\n",
      "[529]\teval-auc:0.855281\ttrain-auc:0.917418\n",
      "[530]\teval-auc:0.855328\ttrain-auc:0.917453\n",
      "[531]\teval-auc:0.855439\ttrain-auc:0.917501\n",
      "[532]\teval-auc:0.855417\ttrain-auc:0.917569\n",
      "[533]\teval-auc:0.855511\ttrain-auc:0.917695\n",
      "[534]\teval-auc:0.855449\ttrain-auc:0.917894\n",
      "[535]\teval-auc:0.855500\ttrain-auc:0.917965\n",
      "[536]\teval-auc:0.855542\ttrain-auc:0.917985\n",
      "[537]\teval-auc:0.855495\ttrain-auc:0.918034\n",
      "[538]\teval-auc:0.855551\ttrain-auc:0.918132\n",
      "[539]\teval-auc:0.855522\ttrain-auc:0.918249\n",
      "[540]\teval-auc:0.855586\ttrain-auc:0.918374\n",
      "[541]\teval-auc:0.855563\ttrain-auc:0.918524\n",
      "[542]\teval-auc:0.855678\ttrain-auc:0.918570\n",
      "[543]\teval-auc:0.855699\ttrain-auc:0.918705\n",
      "[544]\teval-auc:0.855724\ttrain-auc:0.918943\n",
      "[545]\teval-auc:0.855892\ttrain-auc:0.919164\n",
      "[546]\teval-auc:0.855933\ttrain-auc:0.919255\n",
      "[547]\teval-auc:0.855918\ttrain-auc:0.919374\n",
      "[548]\teval-auc:0.855989\ttrain-auc:0.919439\n",
      "[549]\teval-auc:0.856030\ttrain-auc:0.919533\n",
      "[550]\teval-auc:0.856030\ttrain-auc:0.919647\n",
      "[551]\teval-auc:0.856007\ttrain-auc:0.919764\n",
      "[552]\teval-auc:0.856034\ttrain-auc:0.919833\n",
      "[553]\teval-auc:0.856018\ttrain-auc:0.919886\n",
      "[554]\teval-auc:0.856007\ttrain-auc:0.920052\n",
      "[555]\teval-auc:0.855979\ttrain-auc:0.920162\n",
      "[556]\teval-auc:0.855967\ttrain-auc:0.920181\n",
      "[557]\teval-auc:0.856046\ttrain-auc:0.920311\n",
      "[558]\teval-auc:0.856121\ttrain-auc:0.920347\n",
      "[559]\teval-auc:0.856102\ttrain-auc:0.920493\n",
      "[560]\teval-auc:0.856084\ttrain-auc:0.920583\n",
      "[561]\teval-auc:0.856167\ttrain-auc:0.920614\n",
      "[562]\teval-auc:0.856156\ttrain-auc:0.920691\n",
      "[563]\teval-auc:0.856155\ttrain-auc:0.920772\n",
      "[564]\teval-auc:0.856138\ttrain-auc:0.920794\n",
      "[565]\teval-auc:0.856089\ttrain-auc:0.920872\n",
      "[566]\teval-auc:0.856078\ttrain-auc:0.920949\n",
      "[567]\teval-auc:0.856130\ttrain-auc:0.921028\n",
      "[568]\teval-auc:0.856154\ttrain-auc:0.921169\n",
      "[569]\teval-auc:0.856197\ttrain-auc:0.921241\n",
      "[570]\teval-auc:0.856153\ttrain-auc:0.921333\n",
      "[571]\teval-auc:0.856218\ttrain-auc:0.921475\n",
      "[572]\teval-auc:0.856292\ttrain-auc:0.921576\n",
      "[573]\teval-auc:0.856266\ttrain-auc:0.921615\n",
      "[574]\teval-auc:0.856237\ttrain-auc:0.921671\n",
      "[575]\teval-auc:0.856191\ttrain-auc:0.921730\n",
      "[576]\teval-auc:0.856204\ttrain-auc:0.921826\n",
      "[577]\teval-auc:0.856225\ttrain-auc:0.921906\n",
      "[578]\teval-auc:0.856279\ttrain-auc:0.921923\n",
      "[579]\teval-auc:0.856254\ttrain-auc:0.922022\n",
      "[580]\teval-auc:0.856312\ttrain-auc:0.922138\n",
      "[581]\teval-auc:0.856371\ttrain-auc:0.922202\n",
      "[582]\teval-auc:0.856448\ttrain-auc:0.922318\n",
      "[583]\teval-auc:0.856467\ttrain-auc:0.922377\n",
      "[584]\teval-auc:0.856512\ttrain-auc:0.922485\n",
      "[585]\teval-auc:0.856436\ttrain-auc:0.922596\n",
      "[586]\teval-auc:0.856359\ttrain-auc:0.922677\n",
      "[587]\teval-auc:0.856342\ttrain-auc:0.922716\n",
      "[588]\teval-auc:0.856385\ttrain-auc:0.922770\n",
      "[589]\teval-auc:0.856299\ttrain-auc:0.922879\n",
      "[590]\teval-auc:0.856340\ttrain-auc:0.923016\n",
      "[591]\teval-auc:0.856312\ttrain-auc:0.923090\n",
      "[592]\teval-auc:0.856379\ttrain-auc:0.923174\n",
      "[593]\teval-auc:0.856395\ttrain-auc:0.923375\n",
      "[594]\teval-auc:0.856443\ttrain-auc:0.923401\n",
      "[595]\teval-auc:0.856426\ttrain-auc:0.923490\n",
      "[596]\teval-auc:0.856504\ttrain-auc:0.923535\n",
      "[597]\teval-auc:0.856470\ttrain-auc:0.923633\n",
      "[598]\teval-auc:0.856512\ttrain-auc:0.923762\n",
      "[599]\teval-auc:0.856575\ttrain-auc:0.923858\n",
      "[600]\teval-auc:0.856621\ttrain-auc:0.923916\n",
      "[601]\teval-auc:0.856684\ttrain-auc:0.924134\n",
      "[602]\teval-auc:0.856649\ttrain-auc:0.924174\n",
      "[603]\teval-auc:0.856609\ttrain-auc:0.924209\n",
      "[604]\teval-auc:0.856574\ttrain-auc:0.924283\n",
      "[605]\teval-auc:0.856566\ttrain-auc:0.924341\n",
      "[606]\teval-auc:0.856627\ttrain-auc:0.924379\n",
      "[607]\teval-auc:0.856563\ttrain-auc:0.924457\n",
      "[608]\teval-auc:0.856617\ttrain-auc:0.924634\n",
      "[609]\teval-auc:0.856575\ttrain-auc:0.924742\n",
      "[610]\teval-auc:0.856602\ttrain-auc:0.924757\n",
      "[611]\teval-auc:0.856686\ttrain-auc:0.924837\n",
      "[612]\teval-auc:0.856781\ttrain-auc:0.924991\n",
      "[613]\teval-auc:0.856722\ttrain-auc:0.925109\n",
      "[614]\teval-auc:0.856789\ttrain-auc:0.925188\n",
      "[615]\teval-auc:0.856826\ttrain-auc:0.925277\n",
      "[616]\teval-auc:0.856835\ttrain-auc:0.925357\n",
      "[617]\teval-auc:0.856850\ttrain-auc:0.925392\n",
      "[618]\teval-auc:0.856792\ttrain-auc:0.925454\n",
      "[619]\teval-auc:0.856797\ttrain-auc:0.925600\n",
      "[620]\teval-auc:0.856801\ttrain-auc:0.925677\n",
      "[621]\teval-auc:0.856767\ttrain-auc:0.925763\n",
      "[622]\teval-auc:0.856792\ttrain-auc:0.925836\n",
      "[623]\teval-auc:0.856743\ttrain-auc:0.925899\n",
      "[624]\teval-auc:0.856707\ttrain-auc:0.925984\n",
      "[625]\teval-auc:0.856651\ttrain-auc:0.926099\n",
      "[626]\teval-auc:0.856635\ttrain-auc:0.926187\n",
      "[627]\teval-auc:0.856621\ttrain-auc:0.926251\n",
      "[628]\teval-auc:0.856691\ttrain-auc:0.926318\n",
      "[629]\teval-auc:0.856751\ttrain-auc:0.926393\n",
      "[630]\teval-auc:0.856797\ttrain-auc:0.926440\n",
      "[631]\teval-auc:0.856809\ttrain-auc:0.926526\n",
      "[632]\teval-auc:0.856772\ttrain-auc:0.926615\n",
      "[633]\teval-auc:0.856758\ttrain-auc:0.926657\n",
      "[634]\teval-auc:0.856837\ttrain-auc:0.926667\n",
      "[635]\teval-auc:0.856838\ttrain-auc:0.926682\n",
      "[636]\teval-auc:0.856875\ttrain-auc:0.926711\n",
      "[637]\teval-auc:0.856842\ttrain-auc:0.926782\n",
      "[638]\teval-auc:0.856907\ttrain-auc:0.926892\n",
      "[639]\teval-auc:0.856889\ttrain-auc:0.926919\n",
      "[640]\teval-auc:0.856966\ttrain-auc:0.926970\n",
      "[641]\teval-auc:0.856874\ttrain-auc:0.927043\n",
      "[642]\teval-auc:0.856913\ttrain-auc:0.927074\n",
      "[643]\teval-auc:0.856886\ttrain-auc:0.927157\n",
      "[644]\teval-auc:0.856798\ttrain-auc:0.927235\n",
      "[645]\teval-auc:0.856848\ttrain-auc:0.927329\n",
      "[646]\teval-auc:0.856889\ttrain-auc:0.927377\n",
      "[647]\teval-auc:0.856874\ttrain-auc:0.927435\n",
      "[648]\teval-auc:0.856962\ttrain-auc:0.927455\n",
      "[649]\teval-auc:0.856931\ttrain-auc:0.927513\n",
      "[650]\teval-auc:0.856910\ttrain-auc:0.927518\n",
      "[651]\teval-auc:0.857022\ttrain-auc:0.927668\n",
      "[652]\teval-auc:0.856982\ttrain-auc:0.927759\n",
      "[653]\teval-auc:0.857035\ttrain-auc:0.927793\n",
      "[654]\teval-auc:0.857101\ttrain-auc:0.927830\n",
      "[655]\teval-auc:0.857130\ttrain-auc:0.927920\n",
      "[656]\teval-auc:0.857166\ttrain-auc:0.927956\n",
      "[657]\teval-auc:0.857181\ttrain-auc:0.928017\n",
      "[658]\teval-auc:0.857147\ttrain-auc:0.928026\n",
      "[659]\teval-auc:0.857149\ttrain-auc:0.928026\n",
      "[660]\teval-auc:0.857175\ttrain-auc:0.928055\n",
      "[661]\teval-auc:0.857190\ttrain-auc:0.928099\n",
      "[662]\teval-auc:0.857179\ttrain-auc:0.928141\n",
      "[663]\teval-auc:0.857221\ttrain-auc:0.928211\n",
      "[664]\teval-auc:0.857268\ttrain-auc:0.928304\n",
      "[665]\teval-auc:0.857329\ttrain-auc:0.928407\n",
      "[666]\teval-auc:0.857341\ttrain-auc:0.928454\n",
      "[667]\teval-auc:0.857323\ttrain-auc:0.928542\n",
      "[668]\teval-auc:0.857347\ttrain-auc:0.928621\n",
      "[669]\teval-auc:0.857335\ttrain-auc:0.928692\n",
      "[670]\teval-auc:0.857373\ttrain-auc:0.928833\n",
      "[671]\teval-auc:0.857418\ttrain-auc:0.928917\n",
      "[672]\teval-auc:0.857392\ttrain-auc:0.929008\n",
      "[673]\teval-auc:0.857469\ttrain-auc:0.929054\n",
      "[674]\teval-auc:0.857594\ttrain-auc:0.929123\n",
      "[675]\teval-auc:0.857594\ttrain-auc:0.929282\n",
      "[676]\teval-auc:0.857572\ttrain-auc:0.929349\n",
      "[677]\teval-auc:0.857605\ttrain-auc:0.929441\n",
      "[678]\teval-auc:0.857614\ttrain-auc:0.929453\n",
      "[679]\teval-auc:0.857662\ttrain-auc:0.929476\n",
      "[680]\teval-auc:0.857622\ttrain-auc:0.929629\n",
      "[681]\teval-auc:0.857647\ttrain-auc:0.929684\n",
      "[682]\teval-auc:0.857620\ttrain-auc:0.929687\n",
      "[683]\teval-auc:0.857663\ttrain-auc:0.929742\n",
      "[684]\teval-auc:0.857610\ttrain-auc:0.929830\n",
      "[685]\teval-auc:0.857589\ttrain-auc:0.929899\n",
      "[686]\teval-auc:0.857700\ttrain-auc:0.930014\n",
      "[687]\teval-auc:0.857721\ttrain-auc:0.930024\n",
      "[688]\teval-auc:0.857712\ttrain-auc:0.930096\n",
      "[689]\teval-auc:0.857621\ttrain-auc:0.930177\n",
      "[690]\teval-auc:0.857574\ttrain-auc:0.930238\n",
      "[691]\teval-auc:0.857604\ttrain-auc:0.930360\n",
      "[692]\teval-auc:0.857627\ttrain-auc:0.930371\n",
      "[693]\teval-auc:0.857572\ttrain-auc:0.930483\n",
      "[694]\teval-auc:0.857525\ttrain-auc:0.930521\n",
      "[695]\teval-auc:0.857591\ttrain-auc:0.930578\n",
      "[696]\teval-auc:0.857559\ttrain-auc:0.930638\n",
      "[697]\teval-auc:0.857543\ttrain-auc:0.930712\n",
      "[698]\teval-auc:0.857556\ttrain-auc:0.930782\n",
      "[699]\teval-auc:0.857461\ttrain-auc:0.930897\n",
      "[700]\teval-auc:0.857430\ttrain-auc:0.930942\n",
      "[701]\teval-auc:0.857444\ttrain-auc:0.930950\n",
      "[702]\teval-auc:0.857550\ttrain-auc:0.931017\n",
      "[703]\teval-auc:0.857522\ttrain-auc:0.931070\n",
      "[704]\teval-auc:0.857499\ttrain-auc:0.931065\n",
      "[705]\teval-auc:0.857433\ttrain-auc:0.931101\n",
      "[706]\teval-auc:0.857449\ttrain-auc:0.931127\n",
      "[707]\teval-auc:0.857429\ttrain-auc:0.931157\n",
      "[708]\teval-auc:0.857459\ttrain-auc:0.931275\n",
      "[709]\teval-auc:0.857479\ttrain-auc:0.931324\n",
      "[710]\teval-auc:0.857453\ttrain-auc:0.931356\n",
      "[711]\teval-auc:0.857538\ttrain-auc:0.931470\n",
      "[712]\teval-auc:0.857466\ttrain-auc:0.931568\n",
      "[713]\teval-auc:0.857449\ttrain-auc:0.931638\n",
      "[714]\teval-auc:0.857419\ttrain-auc:0.931679\n",
      "[715]\teval-auc:0.857449\ttrain-auc:0.931739\n",
      "[716]\teval-auc:0.857449\ttrain-auc:0.931823\n",
      "[717]\teval-auc:0.857483\ttrain-auc:0.931859\n",
      "[718]\teval-auc:0.857443\ttrain-auc:0.931925\n",
      "[719]\teval-auc:0.857421\ttrain-auc:0.931977\n",
      "[720]\teval-auc:0.857390\ttrain-auc:0.932028\n",
      "[721]\teval-auc:0.857453\ttrain-auc:0.932063\n",
      "[722]\teval-auc:0.857432\ttrain-auc:0.932106\n",
      "[723]\teval-auc:0.857398\ttrain-auc:0.932195\n",
      "[724]\teval-auc:0.857383\ttrain-auc:0.932246\n",
      "[725]\teval-auc:0.857412\ttrain-auc:0.932326\n",
      "[726]\teval-auc:0.857386\ttrain-auc:0.932452\n",
      "[727]\teval-auc:0.857396\ttrain-auc:0.932572\n",
      "[728]\teval-auc:0.857430\ttrain-auc:0.932643\n",
      "[729]\teval-auc:0.857461\ttrain-auc:0.932743\n",
      "[730]\teval-auc:0.857420\ttrain-auc:0.932826\n",
      "[731]\teval-auc:0.857437\ttrain-auc:0.932928\n",
      "[732]\teval-auc:0.857431\ttrain-auc:0.933009\n",
      "[733]\teval-auc:0.857445\ttrain-auc:0.933080\n",
      "[734]\teval-auc:0.857475\ttrain-auc:0.933144\n",
      "[735]\teval-auc:0.857525\ttrain-auc:0.933217\n",
      "[736]\teval-auc:0.857597\ttrain-auc:0.933359\n",
      "[737]\teval-auc:0.857575\ttrain-auc:0.933444\n",
      "[738]\teval-auc:0.857592\ttrain-auc:0.933509\n",
      "[739]\teval-auc:0.857670\ttrain-auc:0.933564\n",
      "[740]\teval-auc:0.857668\ttrain-auc:0.933772\n",
      "[741]\teval-auc:0.857729\ttrain-auc:0.933875\n",
      "[742]\teval-auc:0.857696\ttrain-auc:0.933936\n",
      "[743]\teval-auc:0.857743\ttrain-auc:0.934058\n",
      "[744]\teval-auc:0.857729\ttrain-auc:0.934100\n",
      "[745]\teval-auc:0.857701\ttrain-auc:0.934196\n",
      "[746]\teval-auc:0.857678\ttrain-auc:0.934259\n",
      "[747]\teval-auc:0.857645\ttrain-auc:0.934309\n",
      "[748]\teval-auc:0.857698\ttrain-auc:0.934333\n",
      "[749]\teval-auc:0.857724\ttrain-auc:0.934394\n",
      "[750]\teval-auc:0.857782\ttrain-auc:0.934501\n",
      "[751]\teval-auc:0.857802\ttrain-auc:0.934505\n",
      "[752]\teval-auc:0.857744\ttrain-auc:0.934563\n",
      "[753]\teval-auc:0.857769\ttrain-auc:0.934651\n",
      "[754]\teval-auc:0.857788\ttrain-auc:0.934798\n",
      "[755]\teval-auc:0.857696\ttrain-auc:0.934900\n",
      "[756]\teval-auc:0.857695\ttrain-auc:0.934923\n",
      "[757]\teval-auc:0.857693\ttrain-auc:0.935005\n",
      "[758]\teval-auc:0.857667\ttrain-auc:0.935044\n",
      "[759]\teval-auc:0.857636\ttrain-auc:0.935149\n",
      "[760]\teval-auc:0.857701\ttrain-auc:0.935287\n",
      "[761]\teval-auc:0.857722\ttrain-auc:0.935309\n",
      "[762]\teval-auc:0.857738\ttrain-auc:0.935430\n",
      "[763]\teval-auc:0.857764\ttrain-auc:0.935482\n",
      "[764]\teval-auc:0.857738\ttrain-auc:0.935534\n",
      "[765]\teval-auc:0.857805\ttrain-auc:0.935650\n",
      "[766]\teval-auc:0.857680\ttrain-auc:0.935724\n",
      "[767]\teval-auc:0.857683\ttrain-auc:0.935817\n",
      "[768]\teval-auc:0.857651\ttrain-auc:0.935838\n",
      "[769]\teval-auc:0.857705\ttrain-auc:0.935866\n",
      "[770]\teval-auc:0.857719\ttrain-auc:0.935960\n",
      "[771]\teval-auc:0.857616\ttrain-auc:0.936051\n",
      "[772]\teval-auc:0.857568\ttrain-auc:0.936139\n",
      "[773]\teval-auc:0.857575\ttrain-auc:0.936197\n",
      "[774]\teval-auc:0.857585\ttrain-auc:0.936296\n",
      "[775]\teval-auc:0.857650\ttrain-auc:0.936343\n",
      "[776]\teval-auc:0.857646\ttrain-auc:0.936459\n",
      "[777]\teval-auc:0.857682\ttrain-auc:0.936507\n",
      "[778]\teval-auc:0.857686\ttrain-auc:0.936583\n",
      "[779]\teval-auc:0.857703\ttrain-auc:0.936661\n",
      "[780]\teval-auc:0.857644\ttrain-auc:0.936715\n",
      "[781]\teval-auc:0.857611\ttrain-auc:0.936772\n",
      "[782]\teval-auc:0.857628\ttrain-auc:0.936806\n",
      "[783]\teval-auc:0.857603\ttrain-auc:0.936938\n",
      "[784]\teval-auc:0.857642\ttrain-auc:0.936967\n",
      "[785]\teval-auc:0.857655\ttrain-auc:0.936995\n",
      "[786]\teval-auc:0.857667\ttrain-auc:0.937023\n",
      "[787]\teval-auc:0.857623\ttrain-auc:0.937058\n",
      "[788]\teval-auc:0.857615\ttrain-auc:0.937099\n",
      "[789]\teval-auc:0.857714\ttrain-auc:0.937181\n",
      "[790]\teval-auc:0.857698\ttrain-auc:0.937217\n",
      "[791]\teval-auc:0.857682\ttrain-auc:0.937319\n",
      "[792]\teval-auc:0.857708\ttrain-auc:0.937342\n",
      "[793]\teval-auc:0.857722\ttrain-auc:0.937348\n",
      "[794]\teval-auc:0.857714\ttrain-auc:0.937372\n",
      "[795]\teval-auc:0.857826\ttrain-auc:0.937483\n",
      "[796]\teval-auc:0.857833\ttrain-auc:0.937544\n",
      "[797]\teval-auc:0.857863\ttrain-auc:0.937561\n",
      "[798]\teval-auc:0.857912\ttrain-auc:0.937614\n",
      "[799]\teval-auc:0.857948\ttrain-auc:0.937708\n",
      "[800]\teval-auc:0.857938\ttrain-auc:0.937770\n",
      "[801]\teval-auc:0.857920\ttrain-auc:0.937865\n",
      "[802]\teval-auc:0.857864\ttrain-auc:0.937944\n",
      "[803]\teval-auc:0.857908\ttrain-auc:0.937989\n",
      "[804]\teval-auc:0.857908\ttrain-auc:0.938025\n",
      "[805]\teval-auc:0.857881\ttrain-auc:0.938096\n",
      "[806]\teval-auc:0.857796\ttrain-auc:0.938134\n",
      "[807]\teval-auc:0.857794\ttrain-auc:0.938164\n",
      "[808]\teval-auc:0.857820\ttrain-auc:0.938172\n",
      "[809]\teval-auc:0.857829\ttrain-auc:0.938363\n",
      "[810]\teval-auc:0.857817\ttrain-auc:0.938446\n",
      "[811]\teval-auc:0.857864\ttrain-auc:0.938510\n",
      "[812]\teval-auc:0.857966\ttrain-auc:0.938648\n",
      "[813]\teval-auc:0.857952\ttrain-auc:0.938725\n",
      "[814]\teval-auc:0.857957\ttrain-auc:0.938861\n",
      "[815]\teval-auc:0.857933\ttrain-auc:0.938952\n",
      "[816]\teval-auc:0.857849\ttrain-auc:0.939106\n",
      "[817]\teval-auc:0.857812\ttrain-auc:0.939152\n",
      "[818]\teval-auc:0.857838\ttrain-auc:0.939184\n",
      "[819]\teval-auc:0.857781\ttrain-auc:0.939216\n",
      "[820]\teval-auc:0.857841\ttrain-auc:0.939262\n",
      "[821]\teval-auc:0.857801\ttrain-auc:0.939362\n",
      "[822]\teval-auc:0.857910\ttrain-auc:0.939529\n",
      "[823]\teval-auc:0.857900\ttrain-auc:0.939769\n",
      "[824]\teval-auc:0.857917\ttrain-auc:0.939834\n",
      "[825]\teval-auc:0.857996\ttrain-auc:0.939923\n",
      "[826]\teval-auc:0.857945\ttrain-auc:0.940062\n",
      "[827]\teval-auc:0.857930\ttrain-auc:0.940139\n",
      "[828]\teval-auc:0.857901\ttrain-auc:0.940211\n",
      "[829]\teval-auc:0.857979\ttrain-auc:0.940251\n",
      "[830]\teval-auc:0.857987\ttrain-auc:0.940302\n",
      "[831]\teval-auc:0.858031\ttrain-auc:0.940316\n",
      "[832]\teval-auc:0.858015\ttrain-auc:0.940437\n",
      "[833]\teval-auc:0.858033\ttrain-auc:0.940469\n",
      "[834]\teval-auc:0.858032\ttrain-auc:0.940526\n",
      "[835]\teval-auc:0.857993\ttrain-auc:0.940540\n",
      "[836]\teval-auc:0.857950\ttrain-auc:0.940609\n",
      "[837]\teval-auc:0.857978\ttrain-auc:0.940637\n",
      "[838]\teval-auc:0.858042\ttrain-auc:0.940702\n",
      "[839]\teval-auc:0.857991\ttrain-auc:0.940796\n",
      "[840]\teval-auc:0.857945\ttrain-auc:0.940932\n",
      "[841]\teval-auc:0.857930\ttrain-auc:0.940978\n",
      "[842]\teval-auc:0.857933\ttrain-auc:0.941025\n",
      "[843]\teval-auc:0.857958\ttrain-auc:0.941055\n",
      "[844]\teval-auc:0.858043\ttrain-auc:0.941113\n",
      "[845]\teval-auc:0.858087\ttrain-auc:0.941144\n",
      "[846]\teval-auc:0.858134\ttrain-auc:0.941180\n",
      "[847]\teval-auc:0.858152\ttrain-auc:0.941231\n",
      "[848]\teval-auc:0.858216\ttrain-auc:0.941237\n",
      "[849]\teval-auc:0.858178\ttrain-auc:0.941298\n",
      "[850]\teval-auc:0.858141\ttrain-auc:0.941339\n",
      "[851]\teval-auc:0.858188\ttrain-auc:0.941379\n",
      "[852]\teval-auc:0.858286\ttrain-auc:0.941436\n",
      "[853]\teval-auc:0.858330\ttrain-auc:0.941500\n",
      "[854]\teval-auc:0.858249\ttrain-auc:0.941566\n",
      "[855]\teval-auc:0.858290\ttrain-auc:0.941619\n",
      "[856]\teval-auc:0.858223\ttrain-auc:0.941732\n",
      "[857]\teval-auc:0.858222\ttrain-auc:0.941853\n",
      "[858]\teval-auc:0.858226\ttrain-auc:0.941904\n",
      "[859]\teval-auc:0.858253\ttrain-auc:0.942064\n",
      "[860]\teval-auc:0.858215\ttrain-auc:0.942142\n",
      "[861]\teval-auc:0.858170\ttrain-auc:0.942320\n",
      "[862]\teval-auc:0.858114\ttrain-auc:0.942393\n",
      "[863]\teval-auc:0.858088\ttrain-auc:0.942436\n",
      "[864]\teval-auc:0.858036\ttrain-auc:0.942537\n",
      "[865]\teval-auc:0.858073\ttrain-auc:0.942584\n",
      "[866]\teval-auc:0.858114\ttrain-auc:0.942674\n",
      "[867]\teval-auc:0.858038\ttrain-auc:0.942796\n",
      "[868]\teval-auc:0.858095\ttrain-auc:0.942803\n",
      "[869]\teval-auc:0.858092\ttrain-auc:0.942856\n",
      "[870]\teval-auc:0.858131\ttrain-auc:0.942971\n",
      "[871]\teval-auc:0.858184\ttrain-auc:0.943023\n",
      "[872]\teval-auc:0.858290\ttrain-auc:0.943091\n",
      "[873]\teval-auc:0.858252\ttrain-auc:0.943123\n",
      "[874]\teval-auc:0.858300\ttrain-auc:0.943215\n",
      "[875]\teval-auc:0.858292\ttrain-auc:0.943244\n",
      "[876]\teval-auc:0.858285\ttrain-auc:0.943325\n",
      "[877]\teval-auc:0.858278\ttrain-auc:0.943362\n",
      "[878]\teval-auc:0.858327\ttrain-auc:0.943426\n",
      "[879]\teval-auc:0.858279\ttrain-auc:0.943514\n",
      "[880]\teval-auc:0.858316\ttrain-auc:0.943584\n",
      "[881]\teval-auc:0.858235\ttrain-auc:0.943635\n",
      "[882]\teval-auc:0.858246\ttrain-auc:0.943639\n",
      "[883]\teval-auc:0.858301\ttrain-auc:0.943720\n",
      "[884]\teval-auc:0.858266\ttrain-auc:0.943844\n",
      "[885]\teval-auc:0.858212\ttrain-auc:0.943953\n",
      "[886]\teval-auc:0.858256\ttrain-auc:0.944013\n",
      "[887]\teval-auc:0.858241\ttrain-auc:0.944085\n",
      "[888]\teval-auc:0.858214\ttrain-auc:0.944121\n",
      "[889]\teval-auc:0.858184\ttrain-auc:0.944143\n",
      "[890]\teval-auc:0.858246\ttrain-auc:0.944187\n",
      "[891]\teval-auc:0.858258\ttrain-auc:0.944211\n",
      "[892]\teval-auc:0.858267\ttrain-auc:0.944279\n",
      "[893]\teval-auc:0.858334\ttrain-auc:0.944355\n",
      "[894]\teval-auc:0.858292\ttrain-auc:0.944374\n",
      "[895]\teval-auc:0.858322\ttrain-auc:0.944442\n",
      "[896]\teval-auc:0.858309\ttrain-auc:0.944485\n",
      "[897]\teval-auc:0.858309\ttrain-auc:0.944537\n",
      "[898]\teval-auc:0.858385\ttrain-auc:0.944638\n",
      "[899]\teval-auc:0.858384\ttrain-auc:0.944699\n",
      "[900]\teval-auc:0.858375\ttrain-auc:0.944743\n",
      "[901]\teval-auc:0.858396\ttrain-auc:0.944803\n",
      "[902]\teval-auc:0.858442\ttrain-auc:0.944865\n",
      "[903]\teval-auc:0.858432\ttrain-auc:0.944930\n",
      "[904]\teval-auc:0.858459\ttrain-auc:0.945030\n",
      "[905]\teval-auc:0.858423\ttrain-auc:0.945074\n",
      "[906]\teval-auc:0.858424\ttrain-auc:0.945124\n",
      "[907]\teval-auc:0.858431\ttrain-auc:0.945155\n",
      "[908]\teval-auc:0.858424\ttrain-auc:0.945232\n",
      "[909]\teval-auc:0.858415\ttrain-auc:0.945297\n",
      "[910]\teval-auc:0.858441\ttrain-auc:0.945386\n",
      "[911]\teval-auc:0.858357\ttrain-auc:0.945466\n",
      "[912]\teval-auc:0.858353\ttrain-auc:0.945565\n",
      "[913]\teval-auc:0.858407\ttrain-auc:0.945596\n",
      "[914]\teval-auc:0.858271\ttrain-auc:0.945647\n",
      "[915]\teval-auc:0.858286\ttrain-auc:0.945706\n",
      "[916]\teval-auc:0.858312\ttrain-auc:0.945813\n",
      "[917]\teval-auc:0.858297\ttrain-auc:0.945862\n",
      "[918]\teval-auc:0.858321\ttrain-auc:0.945913\n",
      "[919]\teval-auc:0.858352\ttrain-auc:0.945962\n",
      "[920]\teval-auc:0.858331\ttrain-auc:0.946069\n",
      "[921]\teval-auc:0.858327\ttrain-auc:0.946145\n",
      "[922]\teval-auc:0.858351\ttrain-auc:0.946233\n",
      "[923]\teval-auc:0.858413\ttrain-auc:0.946300\n",
      "[924]\teval-auc:0.858493\ttrain-auc:0.946406\n",
      "[925]\teval-auc:0.858514\ttrain-auc:0.946524\n",
      "[926]\teval-auc:0.858513\ttrain-auc:0.946653\n",
      "[927]\teval-auc:0.858528\ttrain-auc:0.946725\n",
      "[928]\teval-auc:0.858505\ttrain-auc:0.946796\n",
      "[929]\teval-auc:0.858602\ttrain-auc:0.946871\n",
      "[930]\teval-auc:0.858642\ttrain-auc:0.946944\n",
      "[931]\teval-auc:0.858590\ttrain-auc:0.946981\n",
      "[932]\teval-auc:0.858569\ttrain-auc:0.946990\n",
      "[933]\teval-auc:0.858593\ttrain-auc:0.947047\n",
      "[934]\teval-auc:0.858595\ttrain-auc:0.947093\n",
      "[935]\teval-auc:0.858618\ttrain-auc:0.947200\n",
      "[936]\teval-auc:0.858638\ttrain-auc:0.947236\n",
      "[937]\teval-auc:0.858673\ttrain-auc:0.947262\n",
      "[938]\teval-auc:0.858715\ttrain-auc:0.947419\n",
      "[939]\teval-auc:0.858739\ttrain-auc:0.947516\n",
      "[940]\teval-auc:0.858751\ttrain-auc:0.947593\n",
      "[941]\teval-auc:0.858782\ttrain-auc:0.947629\n",
      "[942]\teval-auc:0.858784\ttrain-auc:0.947699\n",
      "[943]\teval-auc:0.858777\ttrain-auc:0.947728\n",
      "[944]\teval-auc:0.858786\ttrain-auc:0.947859\n",
      "[945]\teval-auc:0.858796\ttrain-auc:0.947897\n",
      "[946]\teval-auc:0.858793\ttrain-auc:0.947958\n",
      "[947]\teval-auc:0.858742\ttrain-auc:0.948054\n",
      "[948]\teval-auc:0.858752\ttrain-auc:0.948090\n",
      "[949]\teval-auc:0.858783\ttrain-auc:0.948199\n",
      "[950]\teval-auc:0.858822\ttrain-auc:0.948306\n",
      "[951]\teval-auc:0.858839\ttrain-auc:0.948433\n",
      "[952]\teval-auc:0.858826\ttrain-auc:0.948495\n",
      "[953]\teval-auc:0.858865\ttrain-auc:0.948539\n",
      "[954]\teval-auc:0.858921\ttrain-auc:0.948582\n",
      "[955]\teval-auc:0.858880\ttrain-auc:0.948602\n",
      "[956]\teval-auc:0.858882\ttrain-auc:0.948653\n",
      "[957]\teval-auc:0.858861\ttrain-auc:0.948819\n",
      "[958]\teval-auc:0.858879\ttrain-auc:0.948884\n",
      "[959]\teval-auc:0.858843\ttrain-auc:0.949047\n",
      "[960]\teval-auc:0.858796\ttrain-auc:0.949089\n",
      "[961]\teval-auc:0.858817\ttrain-auc:0.949169\n",
      "[962]\teval-auc:0.858852\ttrain-auc:0.949233\n",
      "[963]\teval-auc:0.858864\ttrain-auc:0.949242\n",
      "[964]\teval-auc:0.858863\ttrain-auc:0.949384\n",
      "[965]\teval-auc:0.858862\ttrain-auc:0.949412\n",
      "[966]\teval-auc:0.858875\ttrain-auc:0.949455\n",
      "[967]\teval-auc:0.858835\ttrain-auc:0.949475\n",
      "[968]\teval-auc:0.858779\ttrain-auc:0.949557\n",
      "[969]\teval-auc:0.858773\ttrain-auc:0.949593\n",
      "[970]\teval-auc:0.858744\ttrain-auc:0.949734\n",
      "[971]\teval-auc:0.858718\ttrain-auc:0.949838\n",
      "[972]\teval-auc:0.858580\ttrain-auc:0.949944\n",
      "[973]\teval-auc:0.858576\ttrain-auc:0.950050\n",
      "[974]\teval-auc:0.858624\ttrain-auc:0.950113\n",
      "[975]\teval-auc:0.858604\ttrain-auc:0.950191\n",
      "[976]\teval-auc:0.858619\ttrain-auc:0.950260\n",
      "[977]\teval-auc:0.858516\ttrain-auc:0.950400\n",
      "[978]\teval-auc:0.858503\ttrain-auc:0.950489\n",
      "[979]\teval-auc:0.858506\ttrain-auc:0.950557\n",
      "[980]\teval-auc:0.858563\ttrain-auc:0.950575\n",
      "[981]\teval-auc:0.858595\ttrain-auc:0.950670\n",
      "[982]\teval-auc:0.858727\ttrain-auc:0.950825\n",
      "[983]\teval-auc:0.858808\ttrain-auc:0.950856\n",
      "[984]\teval-auc:0.858841\ttrain-auc:0.950934\n",
      "[985]\teval-auc:0.858844\ttrain-auc:0.950998\n",
      "[986]\teval-auc:0.858868\ttrain-auc:0.951089\n",
      "[987]\teval-auc:0.858887\ttrain-auc:0.951220\n",
      "[988]\teval-auc:0.858904\ttrain-auc:0.951295\n",
      "[989]\teval-auc:0.858851\ttrain-auc:0.951338\n",
      "[990]\teval-auc:0.858852\ttrain-auc:0.951451\n",
      "[991]\teval-auc:0.858824\ttrain-auc:0.951502\n",
      "[992]\teval-auc:0.858892\ttrain-auc:0.951591\n",
      "[993]\teval-auc:0.858880\ttrain-auc:0.951620\n",
      "[994]\teval-auc:0.858953\ttrain-auc:0.951740\n",
      "[995]\teval-auc:0.858969\ttrain-auc:0.951763\n",
      "[996]\teval-auc:0.858973\ttrain-auc:0.951808\n",
      "[997]\teval-auc:0.858943\ttrain-auc:0.951854\n",
      "[998]\teval-auc:0.858940\ttrain-auc:0.951945\n",
      "[999]\teval-auc:0.859022\ttrain-auc:0.952030\n"
     ]
    }
   ],
   "source": [
    "# Xgboost classifier\n",
    "dtrain = xgb.DMatrix(Xt, label=yt)\n",
    "dval = xgb.DMatrix(Xv[:15000], label=yv[:15000])\n",
    "dtest = xgb.DMatrix(Xv[15000:])\n",
    "\n",
    "# Parameters\n",
    "param = {'bst:max_depth':6, 'bst:eta':.01, 'bst:subsample':.7, \n",
    "         'bst:colsample_bytree': 0.8,'silent':1, 'objective':'binary:logistic' }\n",
    "\n",
    "param['nthread'] = 4\n",
    "plst = param.items()\n",
    "plst += [('eval_metric', 'auc')]\n",
    "\n",
    "# Eval-list to watch performance\n",
    "evallist  = [(dval,'eval'), (dtrain,'train')]\n",
    "\n",
    "# Training model\n",
    "num_round = 1000\n",
    "bst = xgb.train( plst, dtrain, num_round, evallist )"
   ]
  },
  {
   "cell_type": "code",
   "execution_count": 93,
   "metadata": {
    "collapsed": false
   },
   "outputs": [],
   "source": [
    "yv_pred_xgb = bst.predict(dtest)"
   ]
  },
  {
   "cell_type": "code",
   "execution_count": 94,
   "metadata": {
    "collapsed": false
   },
   "outputs": [
    {
     "name": "stdout",
     "output_type": "stream",
     "text": [
      "ROC AUC score on part of test set 0.835937 \n"
     ]
    }
   ],
   "source": [
    "print 'ROC AUC score on part of test set %f ' %(score(yv[15000:], yv_pred_xgb))"
   ]
  },
  {
   "cell_type": "code",
   "execution_count": 95,
   "metadata": {
    "collapsed": false
   },
   "outputs": [],
   "source": [
    "# Random Forest Classifier\n",
    "model_rf = random_forest_classifier(Xt, yt)"
   ]
  },
  {
   "cell_type": "code",
   "execution_count": 96,
   "metadata": {
    "collapsed": false
   },
   "outputs": [],
   "source": [
    "# Gradient Boosting Classifier\n",
    "model = gradient_boosting_classifier(Xt, yt)"
   ]
  },
  {
   "cell_type": "code",
   "execution_count": 97,
   "metadata": {
    "collapsed": false
   },
   "outputs": [
    {
     "data": {
      "text/plain": [
       "RandomForestClassifier(bootstrap=True, class_weight=None, criterion='gini',\n",
       "            max_depth=None, max_features='auto', max_leaf_nodes=None,\n",
       "            min_samples_leaf=1, min_samples_split=2,\n",
       "            min_weight_fraction_leaf=0.0, n_estimators=300, n_jobs=1,\n",
       "            oob_score=True, random_state=None, verbose=0, warm_start=False)"
      ]
     },
     "execution_count": 97,
     "metadata": {},
     "output_type": "execute_result"
    }
   ],
   "source": [
    "model_rf"
   ]
  },
  {
   "cell_type": "code",
   "execution_count": 98,
   "metadata": {
    "collapsed": false
   },
   "outputs": [
    {
     "data": {
      "text/plain": [
       "GradientBoostingClassifier(init=None, learning_rate=0.1, loss='deviance',\n",
       "              max_depth=3, max_features=None, max_leaf_nodes=None,\n",
       "              min_samples_leaf=1, min_samples_split=2,\n",
       "              min_weight_fraction_leaf=0.0, n_estimators=100,\n",
       "              random_state=None, subsample=1.0, verbose=0,\n",
       "              warm_start=False)"
      ]
     },
     "execution_count": 98,
     "metadata": {},
     "output_type": "execute_result"
    }
   ],
   "source": [
    "model"
   ]
  },
  {
   "cell_type": "code",
   "execution_count": 99,
   "metadata": {
    "collapsed": false
   },
   "outputs": [
    {
     "name": "stdout",
     "output_type": "stream",
     "text": [
      "ROC AUC score on the training set for Random Forest Classifier 0.999999 \n"
     ]
    }
   ],
   "source": [
    "yt_pred_rf = predictions(model_rf, Xt)[:, 1]\n",
    "print 'ROC AUC score on the training set for Random Forest Classifier %f ' %(score(yt, yt_pred_rf))"
   ]
  },
  {
   "cell_type": "code",
   "execution_count": 100,
   "metadata": {
    "collapsed": false
   },
   "outputs": [
    {
     "name": "stdout",
     "output_type": "stream",
     "text": [
      "ROC AUC score on the training set for GBC 0.881234 \n"
     ]
    }
   ],
   "source": [
    "yt_pred_gbr = predictions(model, Xt)[:, 1]\n",
    "print 'ROC AUC score on the training set for GBC %f ' %(score(yt, yt_pred_gbr))"
   ]
  },
  {
   "cell_type": "code",
   "execution_count": 101,
   "metadata": {
    "collapsed": false
   },
   "outputs": [
    {
     "name": "stdout",
     "output_type": "stream",
     "text": [
      "ROC AUC score on the training set for XGBoost 0.952030 \n"
     ]
    }
   ],
   "source": [
    "yt_pred_xgb = bst.predict(dtrain)\n",
    "print 'ROC AUC score on the training set for XGBoost %f ' %score(yt, yt_pred_xgb)"
   ]
  },
  {
   "cell_type": "code",
   "execution_count": 103,
   "metadata": {
    "collapsed": false
   },
   "outputs": [
    {
     "name": "stdout",
     "output_type": "stream",
     "text": [
      "ROC AUC score on the training set for ensemble 0.995715 \n"
     ]
    }
   ],
   "source": [
    "yt_pred_ensemble = (.1 * yt_pred_rf + .1 * yt_pred_gbr + .8 * yt_pred_xgb)\n",
    "print 'ROC AUC score on the training set for ensemble %f ' %(score(yt, yt_pred_ensemble))"
   ]
  },
  {
   "cell_type": "code",
   "execution_count": 1011,
   "metadata": {
    "collapsed": true
   },
   "outputs": [
    {
     "name": "stdout",
     "output_type": "stream",
     "text": [
      "Creating train and test sets for blending.\n",
      "0 RandomForestClassifier(bootstrap=True, class_weight='auto', criterion='gini',\n",
      "            max_depth=None, max_features='auto', max_leaf_nodes=None,\n",
      "            min_samples_leaf=1, min_samples_split=2,\n",
      "            min_weight_fraction_leaf=0.0, n_estimators=300, n_jobs=1,\n",
      "            oob_score=False, random_state=None, verbose=0,\n",
      "            warm_start=False)\n",
      "Fold 0\n",
      "[30410 30411 30412 ..., 60911 60912 60913]\n",
      "Fold 1\n",
      "[    0     1     2 ..., 32409 32448 32451]\n",
      "1 GradientBoostingClassifier(init=None, learning_rate=0.1, loss='deviance',\n",
      "              max_depth=3, max_features=None, max_leaf_nodes=None,\n",
      "              min_samples_leaf=1, min_samples_split=2,\n",
      "              min_weight_fraction_leaf=0.0, n_estimators=200,\n",
      "              random_state=None, subsample=0.9, verbose=0,\n",
      "              warm_start=False)\n",
      "Fold 0\n",
      "[30410 30411 30412 ..., 60911 60912 60913]\n",
      "Fold 1\n",
      "[    0     1     2 ..., 32409 32448 32451]\n",
      "\n",
      "Blending.\n",
      "Linear stretch of predictions to [0,1]\n"
     ]
    }
   ],
   "source": [
    "train_blending_submission = stacked_blending(Xt.values, yt.values, Xv.values)"
   ]
  },
  {
   "cell_type": "code",
   "execution_count": 1012,
   "metadata": {
    "collapsed": false
   },
   "outputs": [
    {
     "name": "stdout",
     "output_type": "stream",
     "text": [
      "ROC score 0.832172 \n"
     ]
    }
   ],
   "source": [
    "print 'ROC score %f ' %(score(yv, train_blending_submission))"
   ]
  },
  {
   "cell_type": "markdown",
   "metadata": {},
   "source": [
    "### Validation set"
   ]
  },
  {
   "cell_type": "code",
   "execution_count": 104,
   "metadata": {
    "collapsed": false
   },
   "outputs": [
    {
     "name": "stdout",
     "output_type": "stream",
     "text": [
      "ROC AUC score on the test set for Random Forest Classifier 0.814748 \n"
     ]
    }
   ],
   "source": [
    "yv_pred_rf = predictions(model_rf, Xv)[:, 1]\n",
    "print 'ROC AUC score on the test set for Random Forest Classifier %f ' %(score(yv, yv_pred_rf))"
   ]
  },
  {
   "cell_type": "code",
   "execution_count": 106,
   "metadata": {
    "collapsed": false
   },
   "outputs": [
    {
     "name": "stdout",
     "output_type": "stream",
     "text": [
      "ROC AUC score on the test set for GBC 0.847879 \n"
     ]
    }
   ],
   "source": [
    "yv_pred_gbr = predictions(model, Xv)[:, 1]\n",
    "print 'ROC AUC score on the test set for GBC %f ' %(score(yv, yv_pred_gbr))"
   ]
  },
  {
   "cell_type": "code",
   "execution_count": 107,
   "metadata": {
    "collapsed": true
   },
   "outputs": [],
   "source": [
    "dv = xgb.DMatrix(Xv)\n",
    "yv_pred_xgb = bst.predict(dv)"
   ]
  },
  {
   "cell_type": "code",
   "execution_count": 113,
   "metadata": {
    "collapsed": false
   },
   "outputs": [
    {
     "name": "stdout",
     "output_type": "stream",
     "text": [
      "ROC AUC score on the test set for ensemble 0.850916 \n"
     ]
    }
   ],
   "source": [
    "yv_pred_ensemble = (.1 * yv_pred_rf + .1 * yv_pred_gbr + .8 * yv_pred_xgb)\n",
    "print 'ROC AUC score on the test set for ensemble %f ' %(score(yv, yv_pred_ensemble))"
   ]
  },
  {
   "cell_type": "markdown",
   "metadata": {},
   "source": [
    "### Final Model"
   ]
  },
  {
   "cell_type": "code",
   "execution_count": 124,
   "metadata": {
    "collapsed": true
   },
   "outputs": [],
   "source": [
    "features_test = loan_test[['City', 'Salary_Account', 'Interest_Rate', 'Employer_Name', 'Monthly_Income', \n",
    "                         'Loan_Amount_Applied', 'Loan_Tenure_Applied', \n",
    "                         'Existing_EMI', 'Loan_Amount_Submitted', 'Loan_Tenure_Submitted',\n",
    "                         'Var1', 'Source', 'Var5', 'age_when_applied']]"
   ]
  },
  {
   "cell_type": "code",
   "execution_count": 115,
   "metadata": {
    "collapsed": true
   },
   "outputs": [],
   "source": [
    "# Train Rf and GBR models on full data\n",
    "model_final_rf = random_forest_classifier(features, loan_train_processed.Disbursed)\n",
    "model_final_gbr = gradient_boosting_classifier(features, loan_train_processed.Disbursed)"
   ]
  },
  {
   "cell_type": "code",
   "execution_count": 116,
   "metadata": {
    "collapsed": false
   },
   "outputs": [],
   "source": [
    "total_data = xgb.DMatrix(features, label=loan_train_processed.Disbursed)\n",
    "model_final_xgb = xgb.train( plst, total_data, num_round )"
   ]
  },
  {
   "cell_type": "code",
   "execution_count": 117,
   "metadata": {
    "collapsed": false
   },
   "outputs": [],
   "source": [
    "total_test_data = xgb.DMatrix(features_test)"
   ]
  },
  {
   "cell_type": "code",
   "execution_count": 118,
   "metadata": {
    "collapsed": true
   },
   "outputs": [],
   "source": [
    "final_preds_xgb = model_final_xgb.predict(total_test_data)"
   ]
  },
  {
   "cell_type": "code",
   "execution_count": 125,
   "metadata": {
    "collapsed": false
   },
   "outputs": [],
   "source": [
    "final_preds_rf = predictions(model_final_rf, features_test)[:, 1]\n",
    "final_preds_gbr = predictions(model_final_gbr, features_test)[:, 1]"
   ]
  },
  {
   "cell_type": "code",
   "execution_count": 126,
   "metadata": {
    "collapsed": false
   },
   "outputs": [],
   "source": [
    "final_preds = (.1 * final_preds_rf + .1 * final_preds_gbr + .9 * final_preds_xgb)"
   ]
  },
  {
   "cell_type": "code",
   "execution_count": 127,
   "metadata": {
    "collapsed": false
   },
   "outputs": [],
   "source": [
    "create_submission_file(loan_test.index.values, final_preds, 'ensemble_rf_gbc_xgb_removed_rows.csv')"
   ]
  },
  {
   "cell_type": "markdown",
   "metadata": {},
   "source": [
    "## Feature Selection"
   ]
  },
  {
   "cell_type": "code",
   "execution_count": 108,
   "metadata": {
    "collapsed": false
   },
   "outputs": [],
   "source": [
    "%run scripts/feature_selection.py"
   ]
  },
  {
   "cell_type": "code",
   "execution_count": 109,
   "metadata": {
    "collapsed": false
   },
   "outputs": [
    {
     "name": "stdout",
     "output_type": "stream",
     "text": [
      "initial f1 score based on extra trees classifier:  0.0\n",
      "feature importance:  [ 0.09203676  0.08384553  0.11182189  0.11072908  0.04303247  0.05550208\n",
      "  0.03880343  0.08399025  0.0735262   0.03622075  0.04435319  0.01275061\n",
      "  0.00250464  0.02240173  0.04466838  0.04152769  0.10228534]\n",
      "sorted feature importances:  [ 0.11182189  0.11072908  0.10228534  0.09203676  0.08399025  0.08384553\n",
      "  0.0735262   0.05550208  0.04466838  0.04435319  0.04303247  0.04152769\n",
      "  0.03880343  0.03622075  0.02240173  0.01275061  0.00250464]\n",
      "output format:\n",
      "no of features, f1-score, roc-score of class-predictions, roc-score of probabilities\n",
      "1 0.00481927710843 0.500686913274 0.564706467202\n",
      "2 0.00497512437811 0.500939595594 0.809889017203\n",
      "3 0.00502512562814 0.501017344 0.809101102236\n",
      "4 0.01 0.502306807422 0.812684448935\n",
      "5 0.0102301790281 0.502481741336 0.81692275472\n",
      "6 0.00516795865633 0.501231152117 0.823756982092\n",
      "7 0.0 0.499727880578 0.826796089947\n",
      "8 0.0 0.499825066086 0.828271528778\n",
      "9 0.0 0.49974731768 0.831902959406\n",
      "10 0.0 0.49974731768 0.837516312918\n",
      "11 0.0 0.499786191883 0.840703743158\n",
      "12 0.0 0.499825066086 0.840734069107\n",
      "13 0.0 0.499708443477 0.840187337023\n",
      "14 0.0 0.499689006375 0.840967721386\n",
      "15 0.0 0.49974731768 0.839486329306\n",
      "16 0.0 0.499883377391 0.840422108716\n",
      "f1_best: 0.0102301790281\n"
     ]
    }
   ],
   "source": [
    "feature_selection(loan_train_processed[['City', 'Salary_Account', 'Employer_Name', 'Monthly_Income','Var5', \n",
    "                           'Loan_Amount_Applied', 'Loan_Tenure_Applied', \n",
    "                           'Existing_EMI', 'Loan_Amount_Submitted', 'Loan_Tenure_Submitted',\n",
    "                           'Var1', 'Filled_Form', 'Device_Type', 'Var2', 'Source', 'Var5', 'age_when_applied']], \n",
    "                  loan_train_processed.Disbursed)"
   ]
  },
  {
   "cell_type": "markdown",
   "metadata": {
    "collapsed": true
   },
   "source": [
    "## Unsupervised Learning"
   ]
  },
  {
   "cell_type": "code",
   "execution_count": 39,
   "metadata": {
    "collapsed": true
   },
   "outputs": [],
   "source": [
    "non_disbursed_examples = loan_train_processed[loan_train_processed.Disbursed == 0]"
   ]
  },
  {
   "cell_type": "code",
   "execution_count": 40,
   "metadata": {
    "collapsed": true
   },
   "outputs": [],
   "source": [
    "non_disbursed_features = non_disbursed_examples[['City', 'Salary_Account', 'Employer_Name', 'Monthly_Income', \n",
    "                           'Loan_Amount_Applied', 'Loan_Tenure_Applied', \n",
    "                           'Existing_EMI', 'Loan_Amount_Submitted', 'Loan_Tenure_Submitted',\n",
    "                           'Var1', 'Filled_Form', 'Device_Type', 'Var2', 'Source', 'Var5', 'age_when_applied']]"
   ]
  },
  {
   "cell_type": "code",
   "execution_count": 41,
   "metadata": {
    "collapsed": false
   },
   "outputs": [],
   "source": [
    "from sklearn.cluster import KMeans"
   ]
  },
  {
   "cell_type": "code",
   "execution_count": 42,
   "metadata": {
    "collapsed": false
   },
   "outputs": [
    {
     "data": {
      "text/plain": [
       "KMeans(copy_x=True, init='k-means++', max_iter=300, n_clusters=4, n_init=10,\n",
       "    n_jobs=-1, precompute_distances='auto', random_state=None, tol=0.0001,\n",
       "    verbose=0)"
      ]
     },
     "execution_count": 42,
     "metadata": {},
     "output_type": "execute_result"
    }
   ],
   "source": [
    "kmeans = KMeans(n_clusters=4, n_init=10, n_jobs=-1)\n",
    "kmeans.fit(non_disbursed_features)"
   ]
  },
  {
   "cell_type": "code",
   "execution_count": 44,
   "metadata": {
    "collapsed": false
   },
   "outputs": [],
   "source": [
    "labels = kmeans.predict(non_disbursed_features)"
   ]
  },
  {
   "cell_type": "code",
   "execution_count": 46,
   "metadata": {
    "collapsed": false
   },
   "outputs": [
    {
     "name": "stderr",
     "output_type": "stream",
     "text": [
      "/Users/abhisheksharma/anaconda/lib/python2.7/site-packages/pandas/core/indexing.py:245: SettingWithCopyWarning: \n",
      "A value is trying to be set on a copy of a slice from a DataFrame.\n",
      "Try using .loc[row_indexer,col_indexer] = value instead\n",
      "\n",
      "See the the caveats in the documentation: http://pandas.pydata.org/pandas-docs/stable/indexing.html#indexing-view-versus-copy\n",
      "  self.obj[key] = np.nan\n",
      "/Users/abhisheksharma/anaconda/lib/python2.7/site-packages/pandas/core/indexing.py:415: SettingWithCopyWarning: \n",
      "A value is trying to be set on a copy of a slice from a DataFrame.\n",
      "Try using .loc[row_indexer,col_indexer] = value instead\n",
      "\n",
      "See the the caveats in the documentation: http://pandas.pydata.org/pandas-docs/stable/indexing.html#indexing-view-versus-copy\n",
      "  self.obj[item] = s\n"
     ]
    }
   ],
   "source": [
    "non_disbursed_features.loc[:,'labels'] = labels"
   ]
  },
  {
   "cell_type": "code",
   "execution_count": 47,
   "metadata": {
    "collapsed": false
   },
   "outputs": [
    {
     "data": {
      "text/plain": [
       "Index([u'City', u'Salary_Account', u'Employer_Name', u'Monthly_Income', u'Loan_Amount_Applied', u'Loan_Tenure_Applied', u'Existing_EMI', u'Loan_Amount_Submitted', u'Loan_Tenure_Submitted', u'Var1', u'Filled_Form', u'Device_Type', u'Var2', u'Source', u'Var5', u'age_when_applied', u'labels'], dtype='object')"
      ]
     },
     "execution_count": 47,
     "metadata": {},
     "output_type": "execute_result"
    }
   ],
   "source": [
    "non_disbursed_features.columns"
   ]
  },
  {
   "cell_type": "code",
   "execution_count": 49,
   "metadata": {
    "collapsed": true
   },
   "outputs": [],
   "source": [
    "from collections import Counter"
   ]
  },
  {
   "cell_type": "code",
   "execution_count": 50,
   "metadata": {
    "collapsed": false
   },
   "outputs": [
    {
     "data": {
      "text/plain": [
       "Counter({0: 47368, 2: 38377, 1: 1, 3: 1})"
      ]
     },
     "execution_count": 50,
     "metadata": {},
     "output_type": "execute_result"
    }
   ],
   "source": [
    "Counter(labels)"
   ]
  },
  {
   "cell_type": "code",
   "execution_count": 51,
   "metadata": {
    "collapsed": false
   },
   "outputs": [
    {
     "data": {
      "text/html": [
       "<div style=\"max-height:1000px;max-width:1500px;overflow:auto;\">\n",
       "<table border=\"1\" class=\"dataframe\">\n",
       "  <thead>\n",
       "    <tr style=\"text-align: right;\">\n",
       "      <th></th>\n",
       "      <th>City</th>\n",
       "      <th>Salary_Account</th>\n",
       "      <th>Employer_Name</th>\n",
       "      <th>Monthly_Income</th>\n",
       "      <th>Loan_Amount_Applied</th>\n",
       "      <th>Loan_Tenure_Applied</th>\n",
       "      <th>Existing_EMI</th>\n",
       "      <th>Loan_Amount_Submitted</th>\n",
       "      <th>Loan_Tenure_Submitted</th>\n",
       "      <th>Var1</th>\n",
       "      <th>Filled_Form</th>\n",
       "      <th>Device_Type</th>\n",
       "      <th>Var2</th>\n",
       "      <th>Source</th>\n",
       "      <th>Var5</th>\n",
       "      <th>age_when_applied</th>\n",
       "      <th>labels</th>\n",
       "    </tr>\n",
       "    <tr>\n",
       "      <th>ID</th>\n",
       "      <th></th>\n",
       "      <th></th>\n",
       "      <th></th>\n",
       "      <th></th>\n",
       "      <th></th>\n",
       "      <th></th>\n",
       "      <th></th>\n",
       "      <th></th>\n",
       "      <th></th>\n",
       "      <th></th>\n",
       "      <th></th>\n",
       "      <th></th>\n",
       "      <th></th>\n",
       "      <th></th>\n",
       "      <th></th>\n",
       "      <th></th>\n",
       "      <th></th>\n",
       "    </tr>\n",
       "  </thead>\n",
       "  <tbody>\n",
       "    <tr>\n",
       "      <th>ID036559D40</th>\n",
       "      <td> 177</td>\n",
       "      <td> 46</td>\n",
       "      <td>   301</td>\n",
       "      <td> 18.603836</td>\n",
       "      <td> 13.122365</td>\n",
       "      <td> 0</td>\n",
       "      <td>  5454365</td>\n",
       "      <td> 13.122365</td>\n",
       "      <td> 5</td>\n",
       "      <td> 12</td>\n",
       "      <td> 0</td>\n",
       "      <td> 1</td>\n",
       "      <td> 1</td>\n",
       "      <td> 24</td>\n",
       "      <td> 15</td>\n",
       "      <td> 40</td>\n",
       "      <td> 1</td>\n",
       "    </tr>\n",
       "    <tr>\n",
       "      <th>ID113457T20</th>\n",
       "      <td> 462</td>\n",
       "      <td> 22</td>\n",
       "      <td> 23661</td>\n",
       "      <td> 17.341871</td>\n",
       "      <td> 13.815512</td>\n",
       "      <td> 5</td>\n",
       "      <td> 10000000</td>\n",
       "      <td> 13.815512</td>\n",
       "      <td> 5</td>\n",
       "      <td>  8</td>\n",
       "      <td> 0</td>\n",
       "      <td> 1</td>\n",
       "      <td> 6</td>\n",
       "      <td>  0</td>\n",
       "      <td> 13</td>\n",
       "      <td> 45</td>\n",
       "      <td> 3</td>\n",
       "    </tr>\n",
       "  </tbody>\n",
       "</table>\n",
       "</div>"
      ],
      "text/plain": [
       "             City  Salary_Account  Employer_Name  Monthly_Income  \\\n",
       "ID                                                                 \n",
       "ID036559D40   177              46            301       18.603836   \n",
       "ID113457T20   462              22          23661       17.341871   \n",
       "\n",
       "             Loan_Amount_Applied  Loan_Tenure_Applied  Existing_EMI  \\\n",
       "ID                                                                    \n",
       "ID036559D40            13.122365                    0       5454365   \n",
       "ID113457T20            13.815512                    5      10000000   \n",
       "\n",
       "             Loan_Amount_Submitted  Loan_Tenure_Submitted  Var1  Filled_Form  \\\n",
       "ID                                                                             \n",
       "ID036559D40              13.122365                      5    12            0   \n",
       "ID113457T20              13.815512                      5     8            0   \n",
       "\n",
       "             Device_Type  Var2  Source  Var5  age_when_applied  labels  \n",
       "ID                                                                      \n",
       "ID036559D40            1     1      24    15                40       1  \n",
       "ID113457T20            1     6       0    13                45       3  "
      ]
     },
     "execution_count": 51,
     "metadata": {},
     "output_type": "execute_result"
    }
   ],
   "source": [
    "non_disbursed_features[(non_disbursed_features['labels'] == 1)|\n",
    "                       (non_disbursed_features['labels'] == 3)]"
   ]
  },
  {
   "cell_type": "code",
   "execution_count": 60,
   "metadata": {
    "collapsed": false
   },
   "outputs": [
    {
     "data": {
      "text/plain": [
       "Gender                                     1\n",
       "City                                     462\n",
       "Monthly_Income                      17.34187\n",
       "DOB                      1970-01-01 00:00:00\n",
       "Lead_Creation_Date       2015-07-24 00:00:00\n",
       "Loan_Amount_Applied                 13.81551\n",
       "Loan_Tenure_Applied                        5\n",
       "Existing_EMI                           1e+07\n",
       "Employer_Name                          23661\n",
       "Salary_Account                            22\n",
       "Mobile_Verified                            1\n",
       "Var5                                      13\n",
       "Var1                                       8\n",
       "Loan_Amount_Submitted               13.81551\n",
       "Loan_Tenure_Submitted                      5\n",
       "Interest_Rate                          13.99\n",
       "Processing_Fee                          5000\n",
       "EMI_Loan_Submitted                  23263.07\n",
       "Filled_Form                                0\n",
       "Device_Type                                1\n",
       "Var2                                       6\n",
       "Source                                     0\n",
       "Var4                                       4\n",
       "LoggedIn                                   0\n",
       "Disbursed                                  0\n",
       "age_delta                16640 days 00:00:00\n",
       "age_when_applied                          45\n",
       "Name: ID113457T20, dtype: object"
      ]
     },
     "execution_count": 60,
     "metadata": {},
     "output_type": "execute_result"
    }
   ],
   "source": [
    "loan_train.ix['ID113457T20']"
   ]
  },
  {
   "cell_type": "code",
   "execution_count": 62,
   "metadata": {
    "collapsed": false
   },
   "outputs": [
    {
     "data": {
      "text/plain": [
       "Gender                                     1\n",
       "City                                     177\n",
       "Monthly_Income                      18.60384\n",
       "DOB                      1975-03-13 00:00:00\n",
       "Lead_Creation_Date       2015-05-29 00:00:00\n",
       "Loan_Amount_Applied                 13.12237\n",
       "Loan_Tenure_Applied                        0\n",
       "Existing_EMI                         5454365\n",
       "Employer_Name                            301\n",
       "Salary_Account                            46\n",
       "Mobile_Verified                            1\n",
       "Var5                                      15\n",
       "Var1                                      12\n",
       "Loan_Amount_Submitted               13.12237\n",
       "Loan_Tenure_Submitted                      5\n",
       "Interest_Rate                           15.5\n",
       "Processing_Fee                          5000\n",
       "EMI_Loan_Submitted                   12026.6\n",
       "Filled_Form                                0\n",
       "Device_Type                                1\n",
       "Var2                                       1\n",
       "Source                                    24\n",
       "Var4                                       4\n",
       "LoggedIn                                   0\n",
       "Disbursed                                  0\n",
       "age_delta                14687 days 00:00:00\n",
       "age_when_applied                          40\n",
       "Name: ID036559D40, dtype: object"
      ]
     },
     "execution_count": 62,
     "metadata": {},
     "output_type": "execute_result"
    }
   ],
   "source": [
    "loan_train_processed.ix['ID036559D40']"
   ]
  },
  {
   "cell_type": "markdown",
   "metadata": {
    "collapsed": false
   },
   "source": [
    "** In both the cases existing EMI is too high, might be the case that this might be not be recorded properly. **"
   ]
  },
  {
   "cell_type": "code",
   "execution_count": 81,
   "metadata": {
    "collapsed": true
   },
   "outputs": [],
   "source": [
    "non_disbursed_features_0 = non_disbursed_features[non_disbursed_features['labels'] == 0]\n",
    "non_disbursed_features_0 = non_disbursed_features_0[non_disbursed_features_0.columns.drop('labels')]\n",
    "\n",
    "non_disbursed_features_2 = non_disbursed_features[non_disbursed_features['labels'] == 2]\n",
    "non_disbursed_features_2 = non_disbursed_features_2[non_disbursed_features_2.columns.drop('labels')]"
   ]
  },
  {
   "cell_type": "code",
   "execution_count": 82,
   "metadata": {
    "collapsed": false
   },
   "outputs": [],
   "source": [
    "disbursed_examples = loan_train_processed[loan_train_processed.Disbursed == 1]\n",
    "disbursed_features = disbursed_examples[['City', 'Salary_Account', 'Employer_Name', 'Monthly_Income', \n",
    "                           'Loan_Amount_Applied', 'Loan_Tenure_Applied', \n",
    "                           'Existing_EMI', 'Loan_Amount_Submitted', 'Loan_Tenure_Submitted',\n",
    "                           'Var1', 'Filled_Form', 'Device_Type', 'Var2', 'Source', 'Var5', 'age_when_applied']]"
   ]
  },
  {
   "cell_type": "code",
   "execution_count": 83,
   "metadata": {
    "collapsed": false
   },
   "outputs": [],
   "source": [
    "dataset_0 = np.concatenate((non_disbursed_features_0.values, disbursed_features.values), axis=0)"
   ]
  },
  {
   "cell_type": "code",
   "execution_count": 85,
   "metadata": {
    "collapsed": true
   },
   "outputs": [],
   "source": [
    "dataset_2 = np.concatenate((non_disbursed_features_2.values, disbursed_features.values), axis=0)"
   ]
  },
  {
   "cell_type": "code",
   "execution_count": 86,
   "metadata": {
    "collapsed": true
   },
   "outputs": [],
   "source": [
    "labels_0 = np.concatenate(([0.] * non_disbursed_features_0.shape[0], [1.] * disbursed_features.shape[0]))"
   ]
  },
  {
   "cell_type": "code",
   "execution_count": 89,
   "metadata": {
    "collapsed": true
   },
   "outputs": [],
   "source": [
    "labels_2 = np.concatenate(([0.] * non_disbursed_features_2.shape[0], [1.] * disbursed_features.shape[0]))"
   ]
  },
  {
   "cell_type": "code",
   "execution_count": 91,
   "metadata": {
    "collapsed": true
   },
   "outputs": [],
   "source": [
    "from sklearn.cross_validation import train_test_split"
   ]
  },
  {
   "cell_type": "code",
   "execution_count": 92,
   "metadata": {
    "collapsed": true
   },
   "outputs": [],
   "source": [
    "dataset_0_train, dataset_0_test, y_0_t, y_0_v = train_test_split(dataset_0, labels_0, \n",
    "                                                                 test_size=0.3, random_state=9)"
   ]
  },
  {
   "cell_type": "code",
   "execution_count": 93,
   "metadata": {
    "collapsed": true
   },
   "outputs": [],
   "source": [
    "gbr_est = gradient_boosting_classifier(dataset_0_train, y_0_t)"
   ]
  },
  {
   "cell_type": "code",
   "execution_count": 95,
   "metadata": {
    "collapsed": false
   },
   "outputs": [
    {
     "name": "stdout",
     "output_type": "stream",
     "text": [
      "ROC AUC score on training set 0.940745 \n"
     ]
    }
   ],
   "source": [
    "gbr_pred_t = gbr_est.predict_proba(dataset_0_train)[:, 1]\n",
    "print 'ROC AUC score on training set %f ' %(score(y_0_t, gbr_pred_t))"
   ]
  },
  {
   "cell_type": "code",
   "execution_count": 96,
   "metadata": {
    "collapsed": false
   },
   "outputs": [
    {
     "name": "stdout",
     "output_type": "stream",
     "text": [
      "ROC AUC score on test set 0.906247\n"
     ]
    }
   ],
   "source": [
    "gbr_pred_v = gbr_est.predict_proba(dataset_0_test)[:, 1]\n",
    "print 'ROC AUC score on test set %f' %(score(y_0_v, gbr_pred_v))"
   ]
  },
  {
   "cell_type": "code",
   "execution_count": 97,
   "metadata": {
    "collapsed": true
   },
   "outputs": [],
   "source": [
    "dataset_2_train, dataset_2_test, y_2_t, y_2_v = train_test_split(dataset_2, labels_2, \n",
    "                                                                 test_size=0.3, random_state=9)"
   ]
  },
  {
   "cell_type": "code",
   "execution_count": 98,
   "metadata": {
    "collapsed": true
   },
   "outputs": [],
   "source": [
    "gbr_est_2 = gradient_boosting_classifier(dataset_2_train, y_2_t)"
   ]
  },
  {
   "cell_type": "code",
   "execution_count": 99,
   "metadata": {
    "collapsed": false
   },
   "outputs": [
    {
     "name": "stdout",
     "output_type": "stream",
     "text": [
      "ROC AUC score on training set 0.952114 \n"
     ]
    }
   ],
   "source": [
    "gbr_pred_t_2 = gbr_est_2.predict_proba(dataset_2_train)[:, 1]\n",
    "print 'ROC AUC score on training set %f ' %(score(y_2_t, gbr_pred_t_2))"
   ]
  },
  {
   "cell_type": "code",
   "execution_count": 100,
   "metadata": {
    "collapsed": false
   },
   "outputs": [
    {
     "name": "stdout",
     "output_type": "stream",
     "text": [
      "ROC AUC score on test set 0.920762\n"
     ]
    }
   ],
   "source": [
    "gbr_pred_v_2 = gbr_est_2.predict_proba(dataset_2_test)[:, 1]\n",
    "print 'ROC AUC score on test set %f' %(score(y_2_v, gbr_pred_v_2))"
   ]
  },
  {
   "cell_type": "code",
   "execution_count": 140,
   "metadata": {
    "collapsed": true
   },
   "outputs": [],
   "source": [
    "first_test_set = dataset_0_test[:6000]\n",
    "second_test_set = dataset_2_test[:6000]"
   ]
  },
  {
   "cell_type": "code",
   "execution_count": 141,
   "metadata": {
    "collapsed": true
   },
   "outputs": [],
   "source": [
    "unseen = np.concatenate((first_test_set, second_test_set), axis=0)"
   ]
  },
  {
   "cell_type": "code",
   "execution_count": 142,
   "metadata": {
    "collapsed": true
   },
   "outputs": [],
   "source": [
    "labels_first = y_0_v[:6000]\n",
    "labels_second = y_2_v[:6000]\n",
    "\n",
    "unseen_labels = np.hstack((labels_first, labels_second))"
   ]
  },
  {
   "cell_type": "code",
   "execution_count": 143,
   "metadata": {
    "collapsed": false
   },
   "outputs": [
    {
     "name": "stdout",
     "output_type": "stream",
     "text": [
      "ROC AUC score on cluster 2 examples 0.849828 \n"
     ]
    }
   ],
   "source": [
    "unseen_pred_0 = gbr_est.predict_proba(unseen)[:, 1]\n",
    "unseen_pred_2 = gbr_est_2.predict_proba(unseen)[:, 1]\n",
    "unseen_ensemble = .5 * unseen_pred_0 + .5 * unseen_pred_2\n",
    "print 'ROC AUC score on cluster 2 examples %f ' %(score(unseen_labels, unseen_ensemble))"
   ]
  },
  {
   "cell_type": "code",
   "execution_count": 145,
   "metadata": {
    "collapsed": true
   },
   "outputs": [],
   "source": [
    "# Training on full dataset \n",
    "gbr_cluster_0_est = gradient_boosting_classifier(dataset_0, labels_0)\n",
    "gbr_cluster_2_est = gradient_boosting_classifier(dataset_2, labels_2)"
   ]
  },
  {
   "cell_type": "code",
   "execution_count": 152,
   "metadata": {
    "collapsed": false
   },
   "outputs": [],
   "source": [
    "# Predictions\n",
    "gbr_cluster_0_pred = predictions(gbr_cluster_0_est, features_test)[:, 1]\n",
    "gbr_cluster_2_pred = predictions(gbr_cluster_2_est, features_test)[:, 1]"
   ]
  },
  {
   "cell_type": "code",
   "execution_count": 153,
   "metadata": {
    "collapsed": true
   },
   "outputs": [],
   "source": [
    "gbr_final_preds_ensemble = 0.5 * gbr_cluster_0_pred + 0.5 * gbr_cluster_2_pred"
   ]
  },
  {
   "cell_type": "code",
   "execution_count": 154,
   "metadata": {
    "collapsed": true
   },
   "outputs": [],
   "source": [
    "create_submission_file(loan_test.index.values, gbr_final_preds_ensemble, \n",
    "                       'ensemble_gbr_clusters.csv')"
   ]
  },
  {
   "cell_type": "code",
   "execution_count": null,
   "metadata": {
    "collapsed": true
   },
   "outputs": [],
   "source": []
  },
  {
   "cell_type": "code",
   "execution_count": null,
   "metadata": {
    "collapsed": true
   },
   "outputs": [],
   "source": []
  },
  {
   "cell_type": "code",
   "execution_count": null,
   "metadata": {
    "collapsed": true
   },
   "outputs": [],
   "source": []
  },
  {
   "cell_type": "code",
   "execution_count": null,
   "metadata": {
    "collapsed": true
   },
   "outputs": [],
   "source": []
  },
  {
   "cell_type": "code",
   "execution_count": null,
   "metadata": {
    "collapsed": true
   },
   "outputs": [],
   "source": []
  },
  {
   "cell_type": "code",
   "execution_count": null,
   "metadata": {
    "collapsed": true
   },
   "outputs": [],
   "source": []
  },
  {
   "cell_type": "code",
   "execution_count": null,
   "metadata": {
    "collapsed": true
   },
   "outputs": [],
   "source": []
  },
  {
   "cell_type": "code",
   "execution_count": null,
   "metadata": {
    "collapsed": true
   },
   "outputs": [],
   "source": []
  },
  {
   "cell_type": "code",
   "execution_count": null,
   "metadata": {
    "collapsed": true
   },
   "outputs": [],
   "source": []
  },
  {
   "cell_type": "code",
   "execution_count": null,
   "metadata": {
    "collapsed": true
   },
   "outputs": [],
   "source": []
  }
 ],
 "metadata": {
  "kernelspec": {
   "display_name": "Python 2",
   "language": "python",
   "name": "python2"
  },
  "language_info": {
   "codemirror_mode": {
    "name": "ipython",
    "version": 2
   },
   "file_extension": ".py",
   "mimetype": "text/x-python",
   "name": "python",
   "nbconvert_exporter": "python",
   "pygments_lexer": "ipython2",
   "version": "2.7.10"
  }
 },
 "nbformat": 4,
 "nbformat_minor": 0
}
