{
 "cells": [
  {
   "cell_type": "code",
   "execution_count": 255,
   "metadata": {
    "collapsed": true
   },
   "outputs": [],
   "source": [
    "import numpy as np\n",
    "import pandas as pd\n",
    "import seaborn as sb\n",
    "import matplotlib.pyplot as plt\n",
    "\n",
    "%matplotlib inline"
   ]
  },
  {
   "cell_type": "code",
   "execution_count": 539,
   "metadata": {
    "collapsed": true
   },
   "outputs": [],
   "source": [
    "loan_train = pd.read_csv('./data/Train/Train.csv', index_col='ID')\n",
    "loan_test = pd.read_csv('./data/Test/Test.csv', index_col='ID')"
   ]
  },
  {
   "cell_type": "code",
   "execution_count": 1010,
   "metadata": {
    "collapsed": false
   },
   "outputs": [],
   "source": [
    "%run scripts/helper.py\n",
    "%run scripts/preprocess.py\n",
    "%run scripts/models.py\n",
    "%run scripts/metrics.py\n",
    "%run scripts/ensembling.py"
   ]
  },
  {
   "cell_type": "code",
   "execution_count": 541,
   "metadata": {
    "collapsed": false
   },
   "outputs": [],
   "source": [
    "# columns without any missing values\n",
    "not_nulls = not_null_cols(loan_train)"
   ]
  },
  {
   "cell_type": "code",
   "execution_count": 542,
   "metadata": {
    "collapsed": false
   },
   "outputs": [],
   "source": [
    "# columns with type object that don't have any missing values\n",
    "obj_cols = cols_with_obj_type(loan_train, not_nulls)"
   ]
  },
  {
   "cell_type": "code",
   "execution_count": 543,
   "metadata": {
    "collapsed": false
   },
   "outputs": [
    {
     "data": {
      "text/plain": [
       "['Gender',\n",
       " 'DOB',\n",
       " 'Lead_Creation_Date',\n",
       " 'Mobile_Verified',\n",
       " 'Var1',\n",
       " 'Filled_Form',\n",
       " 'Device_Type',\n",
       " 'Var2',\n",
       " 'Source']"
      ]
     },
     "execution_count": 543,
     "metadata": {},
     "output_type": "execute_result"
    }
   ],
   "source": [
    "obj_cols"
   ]
  },
  {
   "cell_type": "code",
   "execution_count": 544,
   "metadata": {
    "collapsed": false
   },
   "outputs": [],
   "source": [
    "loan_train_processed, loan_test_processed = process(loan_train, loan_test, obj_cols)"
   ]
  },
  {
   "cell_type": "code",
   "execution_count": 545,
   "metadata": {
    "collapsed": false
   },
   "outputs": [
    {
     "name": "stdout",
     "output_type": "stream",
     "text": [
      "<class 'pandas.core.frame.DataFrame'>\n",
      "Index: 87020 entries, ID000002C20 to ID124821V10\n",
      "Data columns (total 25 columns):\n",
      "Gender                   87020 non-null int32\n",
      "City                     86017 non-null object\n",
      "Monthly_Income           87020 non-null int64\n",
      "DOB                      87020 non-null object\n",
      "Lead_Creation_Date       87020 non-null object\n",
      "Loan_Amount_Applied      86949 non-null float64\n",
      "Loan_Tenure_Applied      86949 non-null float64\n",
      "Existing_EMI             86949 non-null float64\n",
      "Employer_Name            86949 non-null object\n",
      "Salary_Account           75256 non-null object\n",
      "Mobile_Verified          87020 non-null int32\n",
      "Var5                     87020 non-null int64\n",
      "Var1                     87020 non-null int32\n",
      "Loan_Amount_Submitted    52407 non-null float64\n",
      "Loan_Tenure_Submitted    52407 non-null float64\n",
      "Interest_Rate            27726 non-null float64\n",
      "Processing_Fee           27420 non-null float64\n",
      "EMI_Loan_Submitted       27726 non-null float64\n",
      "Filled_Form              87020 non-null int32\n",
      "Device_Type              87020 non-null int32\n",
      "Var2                     87020 non-null int32\n",
      "Source                   87020 non-null int32\n",
      "Var4                     87020 non-null int64\n",
      "LoggedIn                 87020 non-null int64\n",
      "Disbursed                87020 non-null int64\n",
      "dtypes: float64(8), int32(7), int64(5), object(5)\n",
      "memory usage: 12.9+ MB\n"
     ]
    }
   ],
   "source": [
    "loan_train_processed.info()"
   ]
  },
  {
   "cell_type": "markdown",
   "metadata": {},
   "source": [
    "## Exploratory Data Analysis"
   ]
  },
  {
   "cell_type": "code",
   "execution_count": 650,
   "metadata": {
    "collapsed": false
   },
   "outputs": [
    {
     "data": {
      "text/plain": [
       "False"
      ]
     },
     "execution_count": 650,
     "metadata": {},
     "output_type": "execute_result"
    }
   ],
   "source": [
    "loan_train.DOB.isnull().any()"
   ]
  },
  {
   "cell_type": "code",
   "execution_count": 651,
   "metadata": {
    "collapsed": false
   },
   "outputs": [
    {
     "data": {
      "text/plain": [
       "False"
      ]
     },
     "execution_count": 651,
     "metadata": {},
     "output_type": "execute_result"
    }
   ],
   "source": [
    "loan_train.Lead_Creation_Date.isnull().any()"
   ]
  },
  {
   "cell_type": "code",
   "execution_count": 791,
   "metadata": {
    "collapsed": false
   },
   "outputs": [],
   "source": [
    "cities = loan_train_processed.groupby(['City', 'Disbursed']).size().unstack()"
   ]
  },
  {
   "cell_type": "code",
   "execution_count": 796,
   "metadata": {
    "collapsed": false
   },
   "outputs": [
    {
     "data": {
      "text/html": [
       "<div>\n",
       "<table border=\"1\" class=\"dataframe\">\n",
       "  <thead>\n",
       "    <tr style=\"text-align: right;\">\n",
       "      <th>Disbursed</th>\n",
       "      <th>0</th>\n",
       "      <th>1</th>\n",
       "    </tr>\n",
       "    <tr>\n",
       "      <th>City</th>\n",
       "      <th></th>\n",
       "      <th></th>\n",
       "    </tr>\n",
       "  </thead>\n",
       "  <tbody>\n",
       "    <tr>\n",
       "      <th>Delhi</th>\n",
       "      <td>12258</td>\n",
       "      <td>269</td>\n",
       "    </tr>\n",
       "    <tr>\n",
       "      <th>Bengaluru</th>\n",
       "      <td>10645</td>\n",
       "      <td>179</td>\n",
       "    </tr>\n",
       "    <tr>\n",
       "      <th>Mumbai</th>\n",
       "      <td>10626</td>\n",
       "      <td>169</td>\n",
       "    </tr>\n",
       "    <tr>\n",
       "      <th>Pune</th>\n",
       "      <td>5086</td>\n",
       "      <td>121</td>\n",
       "    </tr>\n",
       "    <tr>\n",
       "      <th>Hyderabad</th>\n",
       "      <td>7188</td>\n",
       "      <td>84</td>\n",
       "    </tr>\n",
       "    <tr>\n",
       "      <th>Chennai</th>\n",
       "      <td>6849</td>\n",
       "      <td>67</td>\n",
       "    </tr>\n",
       "    <tr>\n",
       "      <th>Kolkata</th>\n",
       "      <td>2838</td>\n",
       "      <td>50</td>\n",
       "    </tr>\n",
       "    <tr>\n",
       "      <th>Gurgaon</th>\n",
       "      <td>1185</td>\n",
       "      <td>27</td>\n",
       "    </tr>\n",
       "    <tr>\n",
       "      <th>Jaipur</th>\n",
       "      <td>1307</td>\n",
       "      <td>24</td>\n",
       "    </tr>\n",
       "    <tr>\n",
       "      <th>Ahmedabad</th>\n",
       "      <td>1764</td>\n",
       "      <td>24</td>\n",
       "    </tr>\n",
       "    <tr>\n",
       "      <th>Indore</th>\n",
       "      <td>716</td>\n",
       "      <td>18</td>\n",
       "    </tr>\n",
       "    <tr>\n",
       "      <th>Nagpur</th>\n",
       "      <td>578</td>\n",
       "      <td>16</td>\n",
       "    </tr>\n",
       "    <tr>\n",
       "      <th>Chandigarh</th>\n",
       "      <td>855</td>\n",
       "      <td>15</td>\n",
       "    </tr>\n",
       "    <tr>\n",
       "      <th>Lucknow</th>\n",
       "      <td>568</td>\n",
       "      <td>12</td>\n",
       "    </tr>\n",
       "    <tr>\n",
       "      <th>Thane</th>\n",
       "      <td>893</td>\n",
       "      <td>12</td>\n",
       "    </tr>\n",
       "    <tr>\n",
       "      <th>Bhubaneswar</th>\n",
       "      <td>266</td>\n",
       "      <td>11</td>\n",
       "    </tr>\n",
       "    <tr>\n",
       "      <th>Coimbatore</th>\n",
       "      <td>1137</td>\n",
       "      <td>10</td>\n",
       "    </tr>\n",
       "    <tr>\n",
       "      <th>Vadodara</th>\n",
       "      <td>615</td>\n",
       "      <td>9</td>\n",
       "    </tr>\n",
       "    <tr>\n",
       "      <th>Visakhapatnam</th>\n",
       "      <td>756</td>\n",
       "      <td>8</td>\n",
       "    </tr>\n",
       "    <tr>\n",
       "      <th>Surat</th>\n",
       "      <td>795</td>\n",
       "      <td>7</td>\n",
       "    </tr>\n",
       "    <tr>\n",
       "      <th>Faridabad</th>\n",
       "      <td>440</td>\n",
       "      <td>7</td>\n",
       "    </tr>\n",
       "    <tr>\n",
       "      <th>Ghaziabad</th>\n",
       "      <td>553</td>\n",
       "      <td>7</td>\n",
       "    </tr>\n",
       "    <tr>\n",
       "      <th>Nashik</th>\n",
       "      <td>227</td>\n",
       "      <td>6</td>\n",
       "    </tr>\n",
       "    <tr>\n",
       "      <th>Noida</th>\n",
       "      <td>368</td>\n",
       "      <td>5</td>\n",
       "    </tr>\n",
       "    <tr>\n",
       "      <th>Raipur</th>\n",
       "      <td>284</td>\n",
       "      <td>5</td>\n",
       "    </tr>\n",
       "    <tr>\n",
       "      <th>Patna</th>\n",
       "      <td>457</td>\n",
       "      <td>4</td>\n",
       "    </tr>\n",
       "    <tr>\n",
       "      <th>Aurangabad</th>\n",
       "      <td>233</td>\n",
       "      <td>4</td>\n",
       "    </tr>\n",
       "    <tr>\n",
       "      <th>Madurai</th>\n",
       "      <td>371</td>\n",
       "      <td>4</td>\n",
       "    </tr>\n",
       "    <tr>\n",
       "      <th>Meerut</th>\n",
       "      <td>213</td>\n",
       "      <td>4</td>\n",
       "    </tr>\n",
       "    <tr>\n",
       "      <th>Kochi</th>\n",
       "      <td>489</td>\n",
       "      <td>3</td>\n",
       "    </tr>\n",
       "    <tr>\n",
       "      <th>...</th>\n",
       "      <td>...</td>\n",
       "      <td>...</td>\n",
       "    </tr>\n",
       "    <tr>\n",
       "      <th>UDWADA</th>\n",
       "      <td>1</td>\n",
       "      <td>NaN</td>\n",
       "    </tr>\n",
       "    <tr>\n",
       "      <th>UMBERGAON</th>\n",
       "      <td>6</td>\n",
       "      <td>NaN</td>\n",
       "    </tr>\n",
       "    <tr>\n",
       "      <th>Udalguri</th>\n",
       "      <td>3</td>\n",
       "      <td>NaN</td>\n",
       "    </tr>\n",
       "    <tr>\n",
       "      <th>Udham Singh Nagar</th>\n",
       "      <td>8</td>\n",
       "      <td>NaN</td>\n",
       "    </tr>\n",
       "    <tr>\n",
       "      <th>Udhampur</th>\n",
       "      <td>5</td>\n",
       "      <td>NaN</td>\n",
       "    </tr>\n",
       "    <tr>\n",
       "      <th>Udupi and Uttara Kannada</th>\n",
       "      <td>25</td>\n",
       "      <td>NaN</td>\n",
       "    </tr>\n",
       "    <tr>\n",
       "      <th>Ujjain</th>\n",
       "      <td>32</td>\n",
       "      <td>NaN</td>\n",
       "    </tr>\n",
       "    <tr>\n",
       "      <th>Umaria</th>\n",
       "      <td>1</td>\n",
       "      <td>NaN</td>\n",
       "    </tr>\n",
       "    <tr>\n",
       "      <th>Una</th>\n",
       "      <td>4</td>\n",
       "      <td>NaN</td>\n",
       "    </tr>\n",
       "    <tr>\n",
       "      <th>Unnao</th>\n",
       "      <td>13</td>\n",
       "      <td>NaN</td>\n",
       "    </tr>\n",
       "    <tr>\n",
       "      <th>Upper Subansiri</th>\n",
       "      <td>1</td>\n",
       "      <td>NaN</td>\n",
       "    </tr>\n",
       "    <tr>\n",
       "      <th>Uttar Dinajpur</th>\n",
       "      <td>7</td>\n",
       "      <td>NaN</td>\n",
       "    </tr>\n",
       "    <tr>\n",
       "      <th>VALLABH VIDYANAGAR</th>\n",
       "      <td>2</td>\n",
       "      <td>NaN</td>\n",
       "    </tr>\n",
       "    <tr>\n",
       "      <th>VIJAPUR</th>\n",
       "      <td>3</td>\n",
       "      <td>NaN</td>\n",
       "    </tr>\n",
       "    <tr>\n",
       "      <th>VIRPUR</th>\n",
       "      <td>1</td>\n",
       "      <td>NaN</td>\n",
       "    </tr>\n",
       "    <tr>\n",
       "      <th>VISNAGAR</th>\n",
       "      <td>6</td>\n",
       "      <td>NaN</td>\n",
       "    </tr>\n",
       "    <tr>\n",
       "      <th>Valsad</th>\n",
       "      <td>29</td>\n",
       "      <td>NaN</td>\n",
       "    </tr>\n",
       "    <tr>\n",
       "      <th>Vidisha</th>\n",
       "      <td>4</td>\n",
       "      <td>NaN</td>\n",
       "    </tr>\n",
       "    <tr>\n",
       "      <th>Viluppuram</th>\n",
       "      <td>37</td>\n",
       "      <td>NaN</td>\n",
       "    </tr>\n",
       "    <tr>\n",
       "      <th>Virudhunagar</th>\n",
       "      <td>20</td>\n",
       "      <td>NaN</td>\n",
       "    </tr>\n",
       "    <tr>\n",
       "      <th>Vizianagaram</th>\n",
       "      <td>31</td>\n",
       "      <td>NaN</td>\n",
       "    </tr>\n",
       "    <tr>\n",
       "      <th>Vyara</th>\n",
       "      <td>11</td>\n",
       "      <td>NaN</td>\n",
       "    </tr>\n",
       "    <tr>\n",
       "      <th>Washim</th>\n",
       "      <td>3</td>\n",
       "      <td>NaN</td>\n",
       "    </tr>\n",
       "    <tr>\n",
       "      <th>Wayanad</th>\n",
       "      <td>8</td>\n",
       "      <td>NaN</td>\n",
       "    </tr>\n",
       "    <tr>\n",
       "      <th>West Garo Hills</th>\n",
       "      <td>6</td>\n",
       "      <td>NaN</td>\n",
       "    </tr>\n",
       "    <tr>\n",
       "      <th>West Godavari</th>\n",
       "      <td>45</td>\n",
       "      <td>NaN</td>\n",
       "    </tr>\n",
       "    <tr>\n",
       "      <th>West Singhbhum</th>\n",
       "      <td>14</td>\n",
       "      <td>NaN</td>\n",
       "    </tr>\n",
       "    <tr>\n",
       "      <th>Yadgir</th>\n",
       "      <td>5</td>\n",
       "      <td>NaN</td>\n",
       "    </tr>\n",
       "    <tr>\n",
       "      <th>Yavatmal</th>\n",
       "      <td>15</td>\n",
       "      <td>NaN</td>\n",
       "    </tr>\n",
       "    <tr>\n",
       "      <th>sri ganganagar</th>\n",
       "      <td>8</td>\n",
       "      <td>NaN</td>\n",
       "    </tr>\n",
       "  </tbody>\n",
       "</table>\n",
       "<p>697 rows × 2 columns</p>\n",
       "</div>"
      ],
      "text/plain": [
       "Disbursed                     0    1\n",
       "City                                \n",
       "Delhi                     12258  269\n",
       "Bengaluru                 10645  179\n",
       "Mumbai                    10626  169\n",
       "Pune                       5086  121\n",
       "Hyderabad                  7188   84\n",
       "Chennai                    6849   67\n",
       "Kolkata                    2838   50\n",
       "Gurgaon                    1185   27\n",
       "Jaipur                     1307   24\n",
       "Ahmedabad                  1764   24\n",
       "Indore                      716   18\n",
       "Nagpur                      578   16\n",
       "Chandigarh                  855   15\n",
       "Lucknow                     568   12\n",
       "Thane                       893   12\n",
       "Bhubaneswar                 266   11\n",
       "Coimbatore                 1137   10\n",
       "Vadodara                    615    9\n",
       "Visakhapatnam               756    8\n",
       "Surat                       795    7\n",
       "Faridabad                   440    7\n",
       "Ghaziabad                   553    7\n",
       "Nashik                      227    6\n",
       "Noida                       368    5\n",
       "Raipur                      284    5\n",
       "Patna                       457    4\n",
       "Aurangabad                  233    4\n",
       "Madurai                     371    4\n",
       "Meerut                      213    4\n",
       "Kochi                       489    3\n",
       "...                         ...  ...\n",
       "UDWADA                        1  NaN\n",
       "UMBERGAON                     6  NaN\n",
       "Udalguri                      3  NaN\n",
       "Udham Singh Nagar             8  NaN\n",
       "Udhampur                      5  NaN\n",
       "Udupi and Uttara Kannada     25  NaN\n",
       "Ujjain                       32  NaN\n",
       "Umaria                        1  NaN\n",
       "Una                           4  NaN\n",
       "Unnao                        13  NaN\n",
       "Upper Subansiri               1  NaN\n",
       "Uttar Dinajpur                7  NaN\n",
       "VALLABH VIDYANAGAR            2  NaN\n",
       "VIJAPUR                       3  NaN\n",
       "VIRPUR                        1  NaN\n",
       "VISNAGAR                      6  NaN\n",
       "Valsad                       29  NaN\n",
       "Vidisha                       4  NaN\n",
       "Viluppuram                   37  NaN\n",
       "Virudhunagar                 20  NaN\n",
       "Vizianagaram                 31  NaN\n",
       "Vyara                        11  NaN\n",
       "Washim                        3  NaN\n",
       "Wayanad                       8  NaN\n",
       "West Garo Hills               6  NaN\n",
       "West Godavari                45  NaN\n",
       "West Singhbhum               14  NaN\n",
       "Yadgir                        5  NaN\n",
       "Yavatmal                     15  NaN\n",
       "sri ganganagar                8  NaN\n",
       "\n",
       "[697 rows x 2 columns]"
      ]
     },
     "execution_count": 796,
     "metadata": {},
     "output_type": "execute_result"
    }
   ],
   "source": [
    "cities.sort(columns=1, ascending=False)"
   ]
  },
  {
   "cell_type": "code",
   "execution_count": 806,
   "metadata": {
    "collapsed": false
   },
   "outputs": [
    {
     "data": {
      "text/plain": [
       "ID\n",
       "ID022695X00    NaN\n",
       "ID022708K30    NaN\n",
       "ID022716S10    NaN\n",
       "ID022733J30    NaN\n",
       "ID022771V10    NaN\n",
       "Name: City, dtype: object"
      ]
     },
     "execution_count": 806,
     "metadata": {},
     "output_type": "execute_result"
    }
   ],
   "source": [
    "loan_train[loan_train_processed.City.isnull()].City.head()"
   ]
  },
  {
   "cell_type": "code",
   "execution_count": 816,
   "metadata": {
    "collapsed": false
   },
   "outputs": [
    {
     "data": {
      "text/plain": [
       "ID\n",
       "ID022695X00    NaN\n",
       "ID022708K30    NaN\n",
       "Name: City, dtype: object"
      ]
     },
     "execution_count": 816,
     "metadata": {},
     "output_type": "execute_result"
    }
   ],
   "source": [
    "loan_train_processed.ix[['ID022695X00', 'ID022708K30'], 'City']"
   ]
  },
  {
   "cell_type": "code",
   "execution_count": 821,
   "metadata": {
    "collapsed": false
   },
   "outputs": [],
   "source": [
    "def to_lower_case(city):\n",
    "    try:\n",
    "        if math.isnan(city):\n",
    "            return city\n",
    "        else:\n",
    "            return city.lower()\n",
    "    except:\n",
    "        return city\n",
    "    \n",
    "loan_train_processed['City'] = loan_train_processed.City.map(to_lower_case)\n",
    "loan_test_processed['City'] = loan_test_processed.City.map(to_lower_case)"
   ]
  },
  {
   "cell_type": "code",
   "execution_count": 823,
   "metadata": {
    "collapsed": true
   },
   "outputs": [],
   "source": [
    "# fill missing values with -1 for City\n",
    "loan_train_processed.City.fillna('-1', inplace=True)\n",
    "loan_test_processed.City.fillna('-1', inplace=True)"
   ]
  },
  {
   "cell_type": "markdown",
   "metadata": {},
   "source": [
    "## Data preparation and Cleaning"
   ]
  },
  {
   "cell_type": "code",
   "execution_count": 824,
   "metadata": {
    "collapsed": false
   },
   "outputs": [],
   "source": [
    "# encode city names in train and test\n",
    "loan_train_processed, loan_test_processed = process(loan_train_processed, loan_test_processed, ['City'])"
   ]
  },
  {
   "cell_type": "code",
   "execution_count": 546,
   "metadata": {
    "collapsed": false
   },
   "outputs": [],
   "source": [
    "# fill missing values for loan_amount_applied and loan_tenure_applied\n",
    "loan_train_processed.Loan_Amount_Applied.fillna(loan_train_processed.Loan_Amount_Applied.median(), inplace=True)\n",
    "loan_train_processed.Loan_Tenure_Applied.fillna(loan_train_processed.Loan_Tenure_Applied.median(), inplace=True)\n",
    "\n",
    "loan_test_processed.Loan_Amount_Applied.fillna(loan_test_processed.Loan_Amount_Applied.median(), inplace=True)\n",
    "loan_test_processed.Loan_Tenure_Applied.fillna(loan_test_processed.Loan_Tenure_Applied.median(), inplace=True)"
   ]
  },
  {
   "cell_type": "code",
   "execution_count": 755,
   "metadata": {
    "collapsed": true
   },
   "outputs": [],
   "source": [
    "# fill missing values for loan_amount_applied and loan_tenure_applied\n",
    "loan_train_processed.Loan_Amount_Submitted.fillna(loan_train_processed.Loan_Amount_Submitted.median(), inplace=True)\n",
    "loan_train_processed.Loan_Tenure_Submitted.fillna(loan_train_processed.Loan_Tenure_Submitted.median(), inplace=True)\n",
    "\n",
    "loan_test_processed.Loan_Amount_Submitted.fillna(loan_test_processed.Loan_Amount_Submitted.median(), inplace=True)\n",
    "loan_test_processed.Loan_Tenure_Submitted.fillna(loan_test_processed.Loan_Tenure_Submitted.median(), inplace=True)"
   ]
  },
  {
   "cell_type": "code",
   "execution_count": 547,
   "metadata": {
    "collapsed": true
   },
   "outputs": [],
   "source": [
    "# normalize the monthly income variable\n",
    "loan_train_processed['Monthly_Income'] = np.log1p(loan_train_processed.Monthly_Income)\n",
    "loan_test_processed['Monthly_Income'] = np.log1p(loan_test_processed.Monthly_Income)"
   ]
  },
  {
   "cell_type": "code",
   "execution_count": 548,
   "metadata": {
    "collapsed": false
   },
   "outputs": [],
   "source": [
    "# fill missing values for existing emis\n",
    "loan_train_processed.Existing_EMI.fillna(loan_train_processed.Existing_EMI.median(), inplace=True)\n",
    "loan_test_processed.Existing_EMI.fillna(loan_test_processed.Existing_EMI.median(), inplace=True)"
   ]
  },
  {
   "cell_type": "code",
   "execution_count": 549,
   "metadata": {
    "collapsed": true
   },
   "outputs": [],
   "source": [
    "# normalize loan applied amount\n",
    "loan_train_processed['Loan_Amount_Applied'] = np.log1p(loan_train_processed.Loan_Amount_Applied)\n",
    "loan_test_processed['Loan_Amount_Applied'] = np.log1p(loan_test_processed.Loan_Amount_Applied)"
   ]
  },
  {
   "cell_type": "code",
   "execution_count": 756,
   "metadata": {
    "collapsed": true
   },
   "outputs": [],
   "source": [
    "# normalize loan applied amount\n",
    "loan_train_processed['Loan_Amount_Submitted'] = np.log1p(loan_train_processed.Loan_Amount_Submitted)\n",
    "loan_test_processed['Loan_Amount_Submitted'] = np.log1p(loan_test_processed.Loan_Amount_Submitted)"
   ]
  },
  {
   "cell_type": "code",
   "execution_count": 652,
   "metadata": {
    "collapsed": true
   },
   "outputs": [],
   "source": [
    "# convert both DOB and Lead_Creation_Date to timestamp\n",
    "loan_train_processed['DOB'] = pd.to_datetime(loan_train_processed.DOB)\n",
    "loan_test_processed['DOB'] = pd.to_datetime(loan_test_processed.DOB)\n",
    "\n",
    "loan_train_processed['Lead_Creation_Date'] = pd.to_datetime(loan_train_processed.Lead_Creation_Date)\n",
    "loan_test_processed['Lead_Creation_Date'] = pd.to_datetime(loan_test_processed.Lead_Creation_Date)"
   ]
  },
  {
   "cell_type": "code",
   "execution_count": 664,
   "metadata": {
    "collapsed": false
   },
   "outputs": [],
   "source": [
    "loan_train_processed['age_delta'] = (loan_train_processed.Lead_Creation_Date - loan_train_processed.DOB)"
   ]
  },
  {
   "cell_type": "code",
   "execution_count": 677,
   "metadata": {
    "collapsed": true
   },
   "outputs": [],
   "source": [
    "loan_test_processed['age_delta'] = (loan_test_processed.Lead_Creation_Date - loan_test_processed.DOB)"
   ]
  },
  {
   "cell_type": "code",
   "execution_count": 672,
   "metadata": {
    "collapsed": false
   },
   "outputs": [],
   "source": [
    "def get_age_in_years(age):\n",
    "    seconds = age / (1e9)\n",
    "    days = seconds / (24. * 60 * 60)\n",
    "    years = days / 365.\n",
    "    return int(years)\n",
    "\n",
    "loan_train_processed['age_when_applied'] = loan_train_processed.age_delta.apply(get_age_in_years)"
   ]
  },
  {
   "cell_type": "code",
   "execution_count": 678,
   "metadata": {
    "collapsed": true
   },
   "outputs": [],
   "source": [
    "loan_test_processed['age_when_applied'] = loan_test_processed.age_delta.apply(get_age_in_years)"
   ]
  },
  {
   "cell_type": "code",
   "execution_count": 675,
   "metadata": {
    "collapsed": false
   },
   "outputs": [
    {
     "data": {
      "image/png": "[encoded data removed]",
      "text/plain": [
       "<matplotlib.figure.Figure at 0x214ade50>"
      ]
     },
     "metadata": {},
     "output_type": "display_data"
    }
   ],
   "source": [
    "loan_train_processed.hist(column='age_when_applied', by='Disbursed');"
   ]
  },
  {
   "cell_type": "code",
   "execution_count": 676,
   "metadata": {
    "collapsed": false
   },
   "outputs": [
    {
     "data": {
      "text/html": [
       "<div>\n",
       "<table border=\"1\" class=\"dataframe\">\n",
       "  <thead>\n",
       "    <tr style=\"text-align: right;\">\n",
       "      <th></th>\n",
       "      <th>Gender</th>\n",
       "      <th>City</th>\n",
       "      <th>Monthly_Income</th>\n",
       "      <th>DOB</th>\n",
       "      <th>Lead_Creation_Date</th>\n",
       "      <th>Loan_Amount_Applied</th>\n",
       "      <th>Loan_Tenure_Applied</th>\n",
       "      <th>Existing_EMI</th>\n",
       "      <th>Employer_Name</th>\n",
       "      <th>Salary_Account</th>\n",
       "      <th>...</th>\n",
       "      <th>Filled_Form</th>\n",
       "      <th>Device_Type</th>\n",
       "      <th>Var2</th>\n",
       "      <th>Source</th>\n",
       "      <th>Var4</th>\n",
       "      <th>LoggedIn</th>\n",
       "      <th>Disbursed</th>\n",
       "      <th>age_when_applying</th>\n",
       "      <th>age_delta</th>\n",
       "      <th>age_when_applied</th>\n",
       "    </tr>\n",
       "    <tr>\n",
       "      <th>ID</th>\n",
       "      <th></th>\n",
       "      <th></th>\n",
       "      <th></th>\n",
       "      <th></th>\n",
       "      <th></th>\n",
       "      <th></th>\n",
       "      <th></th>\n",
       "      <th></th>\n",
       "      <th></th>\n",
       "      <th></th>\n",
       "      <th></th>\n",
       "      <th></th>\n",
       "      <th></th>\n",
       "      <th></th>\n",
       "      <th></th>\n",
       "      <th></th>\n",
       "      <th></th>\n",
       "      <th></th>\n",
       "      <th></th>\n",
       "      <th></th>\n",
       "      <th></th>\n",
       "    </tr>\n",
       "  </thead>\n",
       "  <tbody>\n",
       "    <tr>\n",
       "      <th>ID000052A20</th>\n",
       "      <td>1</td>\n",
       "      <td>Mumbai</td>\n",
       "      <td>10.933125</td>\n",
       "      <td>2064-05-28</td>\n",
       "      <td>2015-05-01</td>\n",
       "      <td>13.122365</td>\n",
       "      <td>5</td>\n",
       "      <td>14500</td>\n",
       "      <td>TEJCONTROL SYSTEMS PVT LTD</td>\n",
       "      <td>HDFC Bank</td>\n",
       "      <td>...</td>\n",
       "      <td>0</td>\n",
       "      <td>1</td>\n",
       "      <td>4</td>\n",
       "      <td>10</td>\n",
       "      <td>3</td>\n",
       "      <td>0</td>\n",
       "      <td>0</td>\n",
       "      <td>-17925 days</td>\n",
       "      <td>-17925 days</td>\n",
       "      <td>-49</td>\n",
       "    </tr>\n",
       "    <tr>\n",
       "      <th>ID000084G40</th>\n",
       "      <td>1</td>\n",
       "      <td>Mumbai</td>\n",
       "      <td>10.714440</td>\n",
       "      <td>2050-05-20</td>\n",
       "      <td>2015-05-01</td>\n",
       "      <td>0.000000</td>\n",
       "      <td>0</td>\n",
       "      <td>0</td>\n",
       "      <td>XHZ</td>\n",
       "      <td>ICICI Bank</td>\n",
       "      <td>...</td>\n",
       "      <td>0</td>\n",
       "      <td>1</td>\n",
       "      <td>1</td>\n",
       "      <td>10</td>\n",
       "      <td>2</td>\n",
       "      <td>0</td>\n",
       "      <td>0</td>\n",
       "      <td>-12803 days</td>\n",
       "      <td>-12803 days</td>\n",
       "      <td>-35</td>\n",
       "    </tr>\n",
       "    <tr>\n",
       "      <th>ID000134E40</th>\n",
       "      <td>0</td>\n",
       "      <td>Dibrugarh</td>\n",
       "      <td>11.928348</td>\n",
       "      <td>2059-10-21</td>\n",
       "      <td>2015-05-01</td>\n",
       "      <td>14.508658</td>\n",
       "      <td>5</td>\n",
       "      <td>37500</td>\n",
       "      <td>B.C.DAS</td>\n",
       "      <td>Allahabad Bank</td>\n",
       "      <td>...</td>\n",
       "      <td>0</td>\n",
       "      <td>1</td>\n",
       "      <td>1</td>\n",
       "      <td>10</td>\n",
       "      <td>3</td>\n",
       "      <td>0</td>\n",
       "      <td>0</td>\n",
       "      <td>-16244 days</td>\n",
       "      <td>-16244 days</td>\n",
       "      <td>-44</td>\n",
       "    </tr>\n",
       "    <tr>\n",
       "      <th>ID000196O10</th>\n",
       "      <td>0</td>\n",
       "      <td>Banka</td>\n",
       "      <td>10.819798</td>\n",
       "      <td>2061-09-10</td>\n",
       "      <td>2015-05-01</td>\n",
       "      <td>12.206078</td>\n",
       "      <td>2</td>\n",
       "      <td>9507</td>\n",
       "      <td>KANCHAN KUMARI</td>\n",
       "      <td>State Bank of India</td>\n",
       "      <td>...</td>\n",
       "      <td>0</td>\n",
       "      <td>1</td>\n",
       "      <td>4</td>\n",
       "      <td>10</td>\n",
       "      <td>3</td>\n",
       "      <td>0</td>\n",
       "      <td>0</td>\n",
       "      <td>-16934 days</td>\n",
       "      <td>-16934 days</td>\n",
       "      <td>-46</td>\n",
       "    </tr>\n",
       "    <tr>\n",
       "      <th>ID000201T10</th>\n",
       "      <td>0</td>\n",
       "      <td>Nagpur</td>\n",
       "      <td>9.798183</td>\n",
       "      <td>2058-01-29</td>\n",
       "      <td>2015-05-01</td>\n",
       "      <td>0.000000</td>\n",
       "      <td>0</td>\n",
       "      <td>0</td>\n",
       "      <td>MUNICIPAL GIRLS HIGH SCHOOL</td>\n",
       "      <td>UCO Bank</td>\n",
       "      <td>...</td>\n",
       "      <td>1</td>\n",
       "      <td>0</td>\n",
       "      <td>2</td>\n",
       "      <td>10</td>\n",
       "      <td>5</td>\n",
       "      <td>0</td>\n",
       "      <td>0</td>\n",
       "      <td>-15614 days</td>\n",
       "      <td>-15614 days</td>\n",
       "      <td>-42</td>\n",
       "    </tr>\n",
       "  </tbody>\n",
       "</table>\n",
       "<p>5 rows × 28 columns</p>\n",
       "</div>"
      ],
      "text/plain": [
       "             Gender       City  Monthly_Income        DOB Lead_Creation_Date  \\\n",
       "ID                                                                             \n",
       "ID000052A20       1     Mumbai       10.933125 2064-05-28         2015-05-01   \n",
       "ID000084G40       1     Mumbai       10.714440 2050-05-20         2015-05-01   \n",
       "ID000134E40       0  Dibrugarh       11.928348 2059-10-21         2015-05-01   \n",
       "ID000196O10       0      Banka       10.819798 2061-09-10         2015-05-01   \n",
       "ID000201T10       0     Nagpur        9.798183 2058-01-29         2015-05-01   \n",
       "\n",
       "             Loan_Amount_Applied  Loan_Tenure_Applied  Existing_EMI  \\\n",
       "ID                                                                    \n",
       "ID000052A20            13.122365                    5         14500   \n",
       "ID000084G40             0.000000                    0             0   \n",
       "ID000134E40            14.508658                    5         37500   \n",
       "ID000196O10            12.206078                    2          9507   \n",
       "ID000201T10             0.000000                    0             0   \n",
       "\n",
       "                           Employer_Name       Salary_Account  \\\n",
       "ID                                                              \n",
       "ID000052A20   TEJCONTROL SYSTEMS PVT LTD            HDFC Bank   \n",
       "ID000084G40                          XHZ           ICICI Bank   \n",
       "ID000134E40                      B.C.DAS       Allahabad Bank   \n",
       "ID000196O10               KANCHAN KUMARI  State Bank of India   \n",
       "ID000201T10  MUNICIPAL GIRLS HIGH SCHOOL             UCO Bank   \n",
       "\n",
       "                   ...         Filled_Form  Device_Type  Var2  Source  Var4  \\\n",
       "ID                 ...                                                        \n",
       "ID000052A20        ...                   0            1     4      10     3   \n",
       "ID000084G40        ...                   0            1     1      10     2   \n",
       "ID000134E40        ...                   0            1     1      10     3   \n",
       "ID000196O10        ...                   0            1     4      10     3   \n",
       "ID000201T10        ...                   1            0     2      10     5   \n",
       "\n",
       "             LoggedIn  Disbursed  age_when_applying   age_delta  \\\n",
       "ID                                                                \n",
       "ID000052A20         0          0        -17925 days -17925 days   \n",
       "ID000084G40         0          0        -12803 days -12803 days   \n",
       "ID000134E40         0          0        -16244 days -16244 days   \n",
       "ID000196O10         0          0        -16934 days -16934 days   \n",
       "ID000201T10         0          0        -15614 days -15614 days   \n",
       "\n",
       "             age_when_applied  \n",
       "ID                             \n",
       "ID000052A20               -49  \n",
       "ID000084G40               -35  \n",
       "ID000134E40               -44  \n",
       "ID000196O10               -46  \n",
       "ID000201T10               -42  \n",
       "\n",
       "[5 rows x 28 columns]"
      ]
     },
     "execution_count": 676,
     "metadata": {},
     "output_type": "execute_result"
    }
   ],
   "source": [
    "loan_train_processed[loan_train_processed.age_when_applied < 0].head()"
   ]
  },
  {
   "cell_type": "code",
   "execution_count": 679,
   "metadata": {
    "collapsed": false
   },
   "outputs": [
    {
     "data": {
      "text/html": [
       "<div>\n",
       "<table border=\"1\" class=\"dataframe\">\n",
       "  <thead>\n",
       "    <tr style=\"text-align: right;\">\n",
       "      <th></th>\n",
       "      <th>Gender</th>\n",
       "      <th>City</th>\n",
       "      <th>Monthly_Income</th>\n",
       "      <th>DOB</th>\n",
       "      <th>Lead_Creation_Date</th>\n",
       "      <th>Loan_Amount_Applied</th>\n",
       "      <th>Loan_Tenure_Applied</th>\n",
       "      <th>Existing_EMI</th>\n",
       "      <th>Employer_Name</th>\n",
       "      <th>Salary_Account</th>\n",
       "      <th>...</th>\n",
       "      <th>Interest_Rate</th>\n",
       "      <th>Processing_Fee</th>\n",
       "      <th>EMI_Loan_Submitted</th>\n",
       "      <th>Filled_Form</th>\n",
       "      <th>Device_Type</th>\n",
       "      <th>Var2</th>\n",
       "      <th>Source</th>\n",
       "      <th>Var4</th>\n",
       "      <th>age_delta</th>\n",
       "      <th>age_when_applied</th>\n",
       "    </tr>\n",
       "    <tr>\n",
       "      <th>ID</th>\n",
       "      <th></th>\n",
       "      <th></th>\n",
       "      <th></th>\n",
       "      <th></th>\n",
       "      <th></th>\n",
       "      <th></th>\n",
       "      <th></th>\n",
       "      <th></th>\n",
       "      <th></th>\n",
       "      <th></th>\n",
       "      <th></th>\n",
       "      <th></th>\n",
       "      <th></th>\n",
       "      <th></th>\n",
       "      <th></th>\n",
       "      <th></th>\n",
       "      <th></th>\n",
       "      <th></th>\n",
       "      <th></th>\n",
       "      <th></th>\n",
       "      <th></th>\n",
       "    </tr>\n",
       "  </thead>\n",
       "  <tbody>\n",
       "    <tr>\n",
       "      <th>ID000492Y20</th>\n",
       "      <td>1</td>\n",
       "      <td>SURENDERNAGAR</td>\n",
       "      <td>10.933125</td>\n",
       "      <td>2059-06-01</td>\n",
       "      <td>2015-05-01</td>\n",
       "      <td>13.815512</td>\n",
       "      <td>5</td>\n",
       "      <td>13000</td>\n",
       "      <td>BHARAT SANCHAR NIGAM LTD</td>\n",
       "      <td>IDBI Bank</td>\n",
       "      <td>...</td>\n",
       "      <td>NaN</td>\n",
       "      <td>NaN</td>\n",
       "      <td>NaN</td>\n",
       "      <td>0</td>\n",
       "      <td>1</td>\n",
       "      <td>1</td>\n",
       "      <td>30</td>\n",
       "      <td>3</td>\n",
       "      <td>-16102 days</td>\n",
       "      <td>-44</td>\n",
       "    </tr>\n",
       "    <tr>\n",
       "      <th>ID000862E20</th>\n",
       "      <td>1</td>\n",
       "      <td>Kolkata</td>\n",
       "      <td>10.085851</td>\n",
       "      <td>2063-03-15</td>\n",
       "      <td>2015-05-01</td>\n",
       "      <td>12.611541</td>\n",
       "      <td>4</td>\n",
       "      <td>0</td>\n",
       "      <td>WEST BENGAL STATE ELECTRICITY DISTRIBUTION LTD</td>\n",
       "      <td>United Bank of India</td>\n",
       "      <td>...</td>\n",
       "      <td>20.0</td>\n",
       "      <td>3000</td>\n",
       "      <td>9129.11</td>\n",
       "      <td>1</td>\n",
       "      <td>1</td>\n",
       "      <td>1</td>\n",
       "      <td>20</td>\n",
       "      <td>5</td>\n",
       "      <td>-17485 days</td>\n",
       "      <td>-47</td>\n",
       "    </tr>\n",
       "    <tr>\n",
       "      <th>ID001389L40</th>\n",
       "      <td>0</td>\n",
       "      <td>Solapur</td>\n",
       "      <td>11.512935</td>\n",
       "      <td>2053-06-01</td>\n",
       "      <td>2015-05-02</td>\n",
       "      <td>14.220976</td>\n",
       "      <td>5</td>\n",
       "      <td>0</td>\n",
       "      <td>SINHGAD INSTITUTE</td>\n",
       "      <td>Bank of Baroda</td>\n",
       "      <td>...</td>\n",
       "      <td>NaN</td>\n",
       "      <td>NaN</td>\n",
       "      <td>NaN</td>\n",
       "      <td>0</td>\n",
       "      <td>1</td>\n",
       "      <td>1</td>\n",
       "      <td>10</td>\n",
       "      <td>1</td>\n",
       "      <td>-13910 days</td>\n",
       "      <td>-38</td>\n",
       "    </tr>\n",
       "    <tr>\n",
       "      <th>ID001458C30</th>\n",
       "      <td>1</td>\n",
       "      <td>Guntur</td>\n",
       "      <td>11.225257</td>\n",
       "      <td>2056-08-11</td>\n",
       "      <td>2015-05-02</td>\n",
       "      <td>13.815512</td>\n",
       "      <td>4</td>\n",
       "      <td>0</td>\n",
       "      <td>PEARL BEVERAGES LTD</td>\n",
       "      <td>Yes Bank</td>\n",
       "      <td>...</td>\n",
       "      <td>NaN</td>\n",
       "      <td>NaN</td>\n",
       "      <td>NaN</td>\n",
       "      <td>0</td>\n",
       "      <td>1</td>\n",
       "      <td>1</td>\n",
       "      <td>10</td>\n",
       "      <td>3</td>\n",
       "      <td>-15077 days</td>\n",
       "      <td>-41</td>\n",
       "    </tr>\n",
       "    <tr>\n",
       "      <th>ID001763V30</th>\n",
       "      <td>1</td>\n",
       "      <td>Mumbai</td>\n",
       "      <td>10.434145</td>\n",
       "      <td>2057-08-17</td>\n",
       "      <td>2015-05-02</td>\n",
       "      <td>0.000000</td>\n",
       "      <td>0</td>\n",
       "      <td>0</td>\n",
       "      <td>WESTERN RAILWAY</td>\n",
       "      <td>State Bank of India</td>\n",
       "      <td>...</td>\n",
       "      <td>15.5</td>\n",
       "      <td>2650</td>\n",
       "      <td>12748.19</td>\n",
       "      <td>1</td>\n",
       "      <td>0</td>\n",
       "      <td>2</td>\n",
       "      <td>10</td>\n",
       "      <td>5</td>\n",
       "      <td>-15448 days</td>\n",
       "      <td>-42</td>\n",
       "    </tr>\n",
       "  </tbody>\n",
       "</table>\n",
       "<p>5 rows × 25 columns</p>\n",
       "</div>"
      ],
      "text/plain": [
       "             Gender           City  Monthly_Income        DOB  \\\n",
       "ID                                                              \n",
       "ID000492Y20       1  SURENDERNAGAR       10.933125 2059-06-01   \n",
       "ID000862E20       1        Kolkata       10.085851 2063-03-15   \n",
       "ID001389L40       0        Solapur       11.512935 2053-06-01   \n",
       "ID001458C30       1         Guntur       11.225257 2056-08-11   \n",
       "ID001763V30       1         Mumbai       10.434145 2057-08-17   \n",
       "\n",
       "            Lead_Creation_Date  Loan_Amount_Applied  Loan_Tenure_Applied  \\\n",
       "ID                                                                         \n",
       "ID000492Y20         2015-05-01            13.815512                    5   \n",
       "ID000862E20         2015-05-01            12.611541                    4   \n",
       "ID001389L40         2015-05-02            14.220976                    5   \n",
       "ID001458C30         2015-05-02            13.815512                    4   \n",
       "ID001763V30         2015-05-02             0.000000                    0   \n",
       "\n",
       "             Existing_EMI                                   Employer_Name  \\\n",
       "ID                                                                          \n",
       "ID000492Y20         13000                        BHARAT SANCHAR NIGAM LTD   \n",
       "ID000862E20             0  WEST BENGAL STATE ELECTRICITY DISTRIBUTION LTD   \n",
       "ID001389L40             0                               SINHGAD INSTITUTE   \n",
       "ID001458C30             0                             PEARL BEVERAGES LTD   \n",
       "ID001763V30             0                                 WESTERN RAILWAY   \n",
       "\n",
       "                   Salary_Account        ...         Interest_Rate  \\\n",
       "ID                                       ...                         \n",
       "ID000492Y20             IDBI Bank        ...                   NaN   \n",
       "ID000862E20  United Bank of India        ...                  20.0   \n",
       "ID001389L40        Bank of Baroda        ...                   NaN   \n",
       "ID001458C30              Yes Bank        ...                   NaN   \n",
       "ID001763V30   State Bank of India        ...                  15.5   \n",
       "\n",
       "             Processing_Fee  EMI_Loan_Submitted  Filled_Form  Device_Type  \\\n",
       "ID                                                                          \n",
       "ID000492Y20             NaN                 NaN            0            1   \n",
       "ID000862E20            3000             9129.11            1            1   \n",
       "ID001389L40             NaN                 NaN            0            1   \n",
       "ID001458C30             NaN                 NaN            0            1   \n",
       "ID001763V30            2650            12748.19            1            0   \n",
       "\n",
       "             Var2  Source  Var4   age_delta  age_when_applied  \n",
       "ID                                                             \n",
       "ID000492Y20     1      30     3 -16102 days               -44  \n",
       "ID000862E20     1      20     5 -17485 days               -47  \n",
       "ID001389L40     1      10     1 -13910 days               -38  \n",
       "ID001458C30     1      10     3 -15077 days               -41  \n",
       "ID001763V30     2      10     5 -15448 days               -42  \n",
       "\n",
       "[5 rows x 25 columns]"
      ]
     },
     "execution_count": 679,
     "metadata": {},
     "output_type": "execute_result"
    }
   ],
   "source": [
    "loan_test_processed[loan_test_processed.age_when_applied < 0].head()"
   ]
  },
  {
   "cell_type": "markdown",
   "metadata": {},
   "source": [
    "### Model Building"
   ]
  },
  {
   "cell_type": "code",
   "execution_count": 829,
   "metadata": {
    "collapsed": false
   },
   "outputs": [],
   "source": [
    "features = loan_train_processed[['City', 'Monthly_Income','Var5', 'Loan_Amount_Applied', 'Loan_Tenure_Applied', \n",
    "                                 'Existing_EMI', 'Loan_Amount_Submitted', 'Loan_Tenure_Submitted',\n",
    "                                 'Var1', 'Filled_Form', 'Device_Type', 'Var2', 'Source', 'Var5', 'age_when_applied']]"
   ]
  },
  {
   "cell_type": "code",
   "execution_count": 830,
   "metadata": {
    "collapsed": true
   },
   "outputs": [],
   "source": [
    "from sklearn.cross_validation import StratifiedShuffleSplit\n",
    "\n",
    "sss = StratifiedShuffleSplit(loan_train.Disbursed, n_iter=3, test_size=0.3, random_state=121)"
   ]
  },
  {
   "cell_type": "code",
   "execution_count": 831,
   "metadata": {
    "collapsed": true
   },
   "outputs": [],
   "source": [
    "train_idx, test_idx = next(iter(sss))"
   ]
  },
  {
   "cell_type": "code",
   "execution_count": 832,
   "metadata": {
    "collapsed": true
   },
   "outputs": [],
   "source": [
    "Xt = features.iloc[train_idx]\n",
    "Xv = features.iloc[test_idx]\n",
    "\n",
    "yt = loan_train.Disbursed.iloc[train_idx]\n",
    "yv = loan_train.Disbursed.iloc[test_idx]"
   ]
  },
  {
   "cell_type": "code",
   "execution_count": 998,
   "metadata": {
    "collapsed": true
   },
   "outputs": [],
   "source": [
    "# Random Forest Classifier\n",
    "model_rf = random_forest_classifier(Xt, yt)"
   ]
  },
  {
   "cell_type": "code",
   "execution_count": 1005,
   "metadata": {
    "collapsed": false
   },
   "outputs": [],
   "source": [
    "# Gradient Boosting Classifier\n",
    "model = gradient_boosting_classifier(Xt, yt)"
   ]
  },
  {
   "cell_type": "code",
   "execution_count": 1006,
   "metadata": {
    "collapsed": false
   },
   "outputs": [
    {
     "data": {
      "text/plain": [
       "GradientBoostingClassifier(init=None, learning_rate=0.1, loss='deviance',\n",
       "              max_depth=5, max_features=None, max_leaf_nodes=None,\n",
       "              min_samples_leaf=1, min_samples_split=2,\n",
       "              min_weight_fraction_leaf=0.0, n_estimators=200,\n",
       "              random_state=None, subsample=0.9, verbose=0,\n",
       "              warm_start=False)"
      ]
     },
     "execution_count": 1006,
     "metadata": {},
     "output_type": "execute_result"
    }
   ],
   "source": [
    "model"
   ]
  },
  {
   "cell_type": "code",
   "execution_count": 999,
   "metadata": {
    "collapsed": false
   },
   "outputs": [
    {
     "data": {
      "text/plain": [
       "RandomForestClassifier(bootstrap=True, class_weight='auto', criterion='gini',\n",
       "            max_depth=None, max_features='auto', max_leaf_nodes=None,\n",
       "            min_samples_leaf=1, min_samples_split=2,\n",
       "            min_weight_fraction_leaf=0.0, n_estimators=350, n_jobs=1,\n",
       "            oob_score=True, random_state=None, verbose=0, warm_start=False)"
      ]
     },
     "execution_count": 999,
     "metadata": {},
     "output_type": "execute_result"
    }
   ],
   "source": [
    "model_rf"
   ]
  },
  {
   "cell_type": "code",
   "execution_count": 1000,
   "metadata": {
    "collapsed": false
   },
   "outputs": [
    {
     "name": "stdout",
     "output_type": "stream",
     "text": [
      "ROC AUC score on the training set for Random Forest Classifier 0.999957 \n"
     ]
    }
   ],
   "source": [
    "yt_pred_rf = predictions(model_rf, Xt)[:, 1]\n",
    "print 'ROC AUC score on the training set for Random Forest Classifier %f ' %(score(yt, yt_pred_rf))"
   ]
  },
  {
   "cell_type": "code",
   "execution_count": 1007,
   "metadata": {
    "collapsed": false
   },
   "outputs": [
    {
     "name": "stdout",
     "output_type": "stream",
     "text": [
      "ROC AUC score on the training set for GBC 0.959655 \n"
     ]
    }
   ],
   "source": [
    "yt_pred_gbr = predictions(model, Xt)[:, 1]\n",
    "print 'ROC AUC score on the training set for GBC %f ' %(score(yt, yt_pred_gbr))"
   ]
  },
  {
   "cell_type": "code",
   "execution_count": 1008,
   "metadata": {
    "collapsed": false
   },
   "outputs": [
    {
     "name": "stdout",
     "output_type": "stream",
     "text": [
      "ROC AUC score on the training set for ensemble 0.999434 \n"
     ]
    }
   ],
   "source": [
    "yt_pred_ensemble = (.2 * yt_pred_rf + .8 * yt_pred_gbr)\n",
    "print 'ROC AUC score on the training set for ensemble %f ' %(score(yt, yt_pred_ensemble))"
   ]
  },
  {
   "cell_type": "code",
   "execution_count": 1011,
   "metadata": {
    "collapsed": false
   },
   "outputs": [
    {
     "name": "stdout",
     "output_type": "stream",
     "text": [
      "Creating train and test sets for blending.\n",
      "0 RandomForestClassifier(bootstrap=True, class_weight='auto', criterion='gini',\n",
      "            max_depth=None, max_features='auto', max_leaf_nodes=None,\n",
      "            min_samples_leaf=1, min_samples_split=2,\n",
      "            min_weight_fraction_leaf=0.0, n_estimators=300, n_jobs=1,\n",
      "            oob_score=False, random_state=None, verbose=0,\n",
      "            warm_start=False)\n",
      "Fold 0\n",
      "[30410 30411 30412 ..., 60911 60912 60913]\n",
      "Fold 1\n",
      "[    0     1     2 ..., 32409 32448 32451]\n",
      "1 GradientBoostingClassifier(init=None, learning_rate=0.1, loss='deviance',\n",
      "              max_depth=3, max_features=None, max_leaf_nodes=None,\n",
      "              min_samples_leaf=1, min_samples_split=2,\n",
      "              min_weight_fraction_leaf=0.0, n_estimators=200,\n",
      "              random_state=None, subsample=0.9, verbose=0,\n",
      "              warm_start=False)\n",
      "Fold 0\n",
      "[30410 30411 30412 ..., 60911 60912 60913]\n",
      "Fold 1\n",
      "[    0     1     2 ..., 32409 32448 32451]\n",
      "\n",
      "Blending.\n",
      "Linear stretch of predictions to [0,1]\n"
     ]
    }
   ],
   "source": [
    "train_blending_submission = stacked_blending(Xt.values, yt.values, Xv.values)"
   ]
  },
  {
   "cell_type": "code",
   "execution_count": 1012,
   "metadata": {
    "collapsed": false
   },
   "outputs": [
    {
     "name": "stdout",
     "output_type": "stream",
     "text": [
      "ROC score 0.832172 \n"
     ]
    }
   ],
   "source": [
    "print 'ROC score %f ' %(score(yv, train_blending_submission))"
   ]
  },
  {
   "cell_type": "markdown",
   "metadata": {},
   "source": [
    "### Validation set"
   ]
  },
  {
   "cell_type": "code",
   "execution_count": 1002,
   "metadata": {
    "collapsed": false
   },
   "outputs": [
    {
     "name": "stdout",
     "output_type": "stream",
     "text": [
      "ROC AUC score on the test set for Random Forest Classifier 0.799125 \n"
     ]
    }
   ],
   "source": [
    "yv_pred_rf = predictions(model_rf, Xv)[:, 1]\n",
    "print 'ROC AUC score on the test set for Random Forest Classifier %f ' %(score(yv, yv_pred_rf))"
   ]
  },
  {
   "cell_type": "code",
   "execution_count": 1009,
   "metadata": {
    "collapsed": false
   },
   "outputs": [
    {
     "name": "stdout",
     "output_type": "stream",
     "text": [
      "ROC AUC score on the test set for GBC 0.831386 \n"
     ]
    }
   ],
   "source": [
    "yv_pred = predictions(model, Xv)[:, 1]\n",
    "print 'ROC AUC score on the test set for GBC %f ' %(score(yv, yv_pred))"
   ]
  },
  {
   "cell_type": "code",
   "execution_count": 1003,
   "metadata": {
    "collapsed": false
   },
   "outputs": [
    {
     "name": "stdout",
     "output_type": "stream",
     "text": [
      "ROC AUC score on the test set for ensemble 0.837055 \n"
     ]
    }
   ],
   "source": [
    "yv_pred_ensemble = (.2 * yv_pred_rf + .8 * yv_pred)\n",
    "print 'ROC AUC score on the test set for ensemble %f ' %(score(yv, yv_pred_ensemble))"
   ]
  },
  {
   "cell_type": "markdown",
   "metadata": {},
   "source": [
    "### Final Model"
   ]
  },
  {
   "cell_type": "code",
   "execution_count": 867,
   "metadata": {
    "collapsed": true
   },
   "outputs": [],
   "source": [
    "features_test = loan_test[['City', 'Monthly_Income','Var5', 'Loan_Amount_Applied', 'Loan_Tenure_Applied', \n",
    "                           'Existing_EMI', 'Loan_Amount_Submitted', 'Loan_Tenure_Submitted',\n",
    "                           'Var1', 'Filled_Form', 'Device_Type', 'Var2', 'Source', 'Var5', 'age_when_applied']]"
   ]
  },
  {
   "cell_type": "code",
   "execution_count": 868,
   "metadata": {
    "collapsed": true
   },
   "outputs": [],
   "source": [
    "model_final_rf = random_forest_classifier(features, loan_train_processed.Disbursed)\n",
    "model_final_gbr = gradient_boosting_classifier(features, loan_train_processed.Disbursed)"
   ]
  },
  {
   "cell_type": "code",
   "execution_count": 869,
   "metadata": {
    "collapsed": false
   },
   "outputs": [],
   "source": [
    "final_preds_rf = predictions(model_final_rf, features_test)[:, 1]\n",
    "final_preds_gbr = predictions(model_final_gbr, features_test)[:, 1]"
   ]
  },
  {
   "cell_type": "code",
   "execution_count": 870,
   "metadata": {
    "collapsed": true
   },
   "outputs": [],
   "source": [
    "final_preds = (.2 * final_preds_rf + .8 * final_preds_gbr)"
   ]
  },
  {
   "cell_type": "code",
   "execution_count": 872,
   "metadata": {
    "collapsed": false
   },
   "outputs": [],
   "source": [
    "create_submission_file(loan_test.index.values, final_preds, 'ensemble_rf_gbr.csv')"
   ]
  },
  {
   "cell_type": "markdown",
   "metadata": {},
   "source": [
    "## Feature Selection"
   ]
  },
  {
   "cell_type": "code",
   "execution_count": 615,
   "metadata": {
    "collapsed": false
   },
   "outputs": [],
   "source": [
    "%run scripts/feature_selection.py"
   ]
  },
  {
   "cell_type": "code",
   "execution_count": 616,
   "metadata": {
    "collapsed": false
   },
   "outputs": [
    {
     "name": "stdout",
     "output_type": "stream",
     "text": [
      "initial f1 score based on extra trees classifier:  0.00412371134021\n",
      "output format:\n",
      "no of features, f1-score, roc-score of class-predictions, roc-score of probabilities\n",
      "1 0.0 0.499863940289 0.802303510239\n",
      "2 0.0 0.499863940289 0.805410139125\n",
      "3 0.0 0.499902814492 0.809634452232\n",
      "4 0.0 0.499883377391 0.809360144864\n",
      "5 0.0 0.499825066086 0.816016181845\n",
      "6 0.0 0.499863940289 0.82175241651\n",
      "7 0.0 0.499902814492 0.824952007659\n",
      "8 0.0 0.499902814492 0.824952109424\n",
      "9 0.0 0.499863940289 0.824926464662\n",
      "10 0.0 0.499844503188 0.827811296884\n",
      "f1_best: 0\n"
     ]
    }
   ],
   "source": [
    "feature_selection(loan_train_processed[['Monthly_Income','Var5', 'Loan_Amount_Applied', 'Loan_Tenure_Applied', 'Existing_EMI',\n",
    "                                 'Var1', 'Filled_Form', 'Device_Type', 'Var2', 'Source', 'Var5']], \n",
    "                  loan_train_processed.Disbursed)"
   ]
  },
  {
   "cell_type": "code",
   "execution_count": 713,
   "metadata": {
    "collapsed": true
   },
   "outputs": [],
   "source": [
    "import os"
   ]
  },
  {
   "cell_type": "code",
   "execution_count": 714,
   "metadata": {
    "collapsed": false
   },
   "outputs": [
    {
     "data": {
      "text/plain": [
       "['baseline.csv',\n",
       " 'gbr_preds_basic.csv',\n",
       " 'log_preds.csv',\n",
       " 'log_preds_obj_to_int.csv',\n",
       " 'rf_preds.csv',\n",
       " 'rf_preds_deeper.csv',\n",
       " 'rf_preds_more_estimators.csv']"
      ]
     },
     "execution_count": 714,
     "metadata": {},
     "output_type": "execute_result"
    }
   ],
   "source": [
    "os.listdir('./submissions/')"
   ]
  },
  {
   "cell_type": "code",
   "execution_count": 770,
   "metadata": {
    "collapsed": true
   },
   "outputs": [],
   "source": [
    "gbr_df_basic = pd.read_csv('./submissions/gbr_preds_basic.csv')\n",
    "gbr_df = pd.read_csv('./submissions/gbr_preds.csv')"
   ]
  },
  {
   "cell_type": "code",
   "execution_count": 771,
   "metadata": {
    "collapsed": false
   },
   "outputs": [],
   "source": [
    "corr_df = pd.DataFrame({'gbr_preds_basic': gbr_df_basic.Disbursed, 'gbr_preds': gbr_df.Disbursed})"
   ]
  },
  {
   "cell_type": "code",
   "execution_count": 772,
   "metadata": {
    "collapsed": false
   },
   "outputs": [
    {
     "data": {
      "text/html": [
       "<div>\n",
       "<table border=\"1\" class=\"dataframe\">\n",
       "  <thead>\n",
       "    <tr style=\"text-align: right;\">\n",
       "      <th></th>\n",
       "      <th>gbr_preds</th>\n",
       "      <th>gbr_preds_basic</th>\n",
       "    </tr>\n",
       "  </thead>\n",
       "  <tbody>\n",
       "    <tr>\n",
       "      <th>gbr_preds</th>\n",
       "      <td>1.000000</td>\n",
       "      <td>0.902021</td>\n",
       "    </tr>\n",
       "    <tr>\n",
       "      <th>gbr_preds_basic</th>\n",
       "      <td>0.902021</td>\n",
       "      <td>1.000000</td>\n",
       "    </tr>\n",
       "  </tbody>\n",
       "</table>\n",
       "</div>"
      ],
      "text/plain": [
       "                 gbr_preds  gbr_preds_basic\n",
       "gbr_preds         1.000000         0.902021\n",
       "gbr_preds_basic   0.902021         1.000000"
      ]
     },
     "execution_count": 772,
     "metadata": {},
     "output_type": "execute_result"
    }
   ],
   "source": [
    "corr_df.corr()"
   ]
  },
  {
   "cell_type": "code",
   "execution_count": 783,
   "metadata": {
    "collapsed": false
   },
   "outputs": [
    {
     "data": {
      "text/plain": [
       "0    0.007192\n",
       "1    0.049943\n",
       "2    0.000807\n",
       "3    0.000725\n",
       "4    0.004493\n",
       "Name: gbr_preds, dtype: float64"
      ]
     },
     "execution_count": 783,
     "metadata": {},
     "output_type": "execute_result"
    }
   ],
   "source": [
    "corr_df.gbr_preds.head()"
   ]
  },
  {
   "cell_type": "code",
   "execution_count": 784,
   "metadata": {
    "collapsed": false
   },
   "outputs": [
    {
     "data": {
      "text/plain": [
       "0    0.007244\n",
       "1    0.044346\n",
       "2    0.000812\n",
       "3    0.000745\n",
       "4    0.004462\n",
       "Name: gbr_preds_basic, dtype: float64"
      ]
     },
     "execution_count": 784,
     "metadata": {},
     "output_type": "execute_result"
    }
   ],
   "source": [
    "corr_df.gbr_preds_basic.head()"
   ]
  },
  {
   "cell_type": "code",
   "execution_count": 785,
   "metadata": {
    "collapsed": true
   },
   "outputs": [],
   "source": [
    "average_values = ((.4 * corr_df.gbr_preds_basic) + (.6 * corr_df.gbr_preds))"
   ]
  },
  {
   "cell_type": "code",
   "execution_count": 786,
   "metadata": {
    "collapsed": false
   },
   "outputs": [
    {
     "data": {
      "text/plain": [
       "0        0.007213\n",
       "1        0.047704\n",
       "2        0.000809\n",
       "3        0.000733\n",
       "4        0.004480\n",
       "5        0.000763\n",
       "6        0.064980\n",
       "7        0.004886\n",
       "8        0.013996\n",
       "9        0.037304\n",
       "10       0.000938\n",
       "11       0.005848\n",
       "12       0.000889\n",
       "13       0.020075\n",
       "14       0.001151\n",
       "15       0.019186\n",
       "16       0.027050\n",
       "17       0.011109\n",
       "18       0.025505\n",
       "19       0.000741\n",
       "20       0.003874\n",
       "21       0.000838\n",
       "22       0.000898\n",
       "23       0.009534\n",
       "24       0.006054\n",
       "25       0.044588\n",
       "26       0.023045\n",
       "27       0.007610\n",
       "28       0.000754\n",
       "29       0.000855\n",
       "           ...   \n",
       "37687    0.000714\n",
       "37688    0.016900\n",
       "37689    0.035022\n",
       "37690    0.000939\n",
       "37691    0.001863\n",
       "37692    0.004450\n",
       "37693    0.000706\n",
       "37694    0.001037\n",
       "37695    0.000706\n",
       "37696    0.000706\n",
       "37697    0.000706\n",
       "37698    0.007817\n",
       "37699    0.000706\n",
       "37700    0.007643\n",
       "37701    0.006271\n",
       "37702    0.006133\n",
       "37703    0.000706\n",
       "37704    0.000818\n",
       "37705    0.000706\n",
       "37706    0.008121\n",
       "37707    0.000980\n",
       "37708    0.025398\n",
       "37709    0.025424\n",
       "37710    0.002385\n",
       "37711    0.000812\n",
       "37712    0.012307\n",
       "37713    0.004944\n",
       "37714    0.004193\n",
       "37715    0.056500\n",
       "37716    0.011053\n",
       "dtype: float64"
      ]
     },
     "execution_count": 786,
     "metadata": {},
     "output_type": "execute_result"
    }
   ],
   "source": [
    "average_values"
   ]
  },
  {
   "cell_type": "code",
   "execution_count": 787,
   "metadata": {
    "collapsed": false
   },
   "outputs": [],
   "source": [
    "create_submission_file(loan_test.index.values, average_values, 'weighted_gbr.csv')"
   ]
  },
  {
   "cell_type": "code",
   "execution_count": 739,
   "metadata": {
    "collapsed": false
   },
   "outputs": [
    {
     "data": {
      "text/html": [
       "<div>\n",
       "<table border=\"1\" class=\"dataframe\">\n",
       "  <thead>\n",
       "    <tr style=\"text-align: right;\">\n",
       "      <th></th>\n",
       "      <th>gbr_preds</th>\n",
       "      <th>rf_preds</th>\n",
       "    </tr>\n",
       "  </thead>\n",
       "  <tbody>\n",
       "    <tr>\n",
       "      <th>gbr_preds</th>\n",
       "      <td>1.000000</td>\n",
       "      <td>0.550424</td>\n",
       "    </tr>\n",
       "    <tr>\n",
       "      <th>rf_preds</th>\n",
       "      <td>0.550424</td>\n",
       "      <td>1.000000</td>\n",
       "    </tr>\n",
       "  </tbody>\n",
       "</table>\n",
       "</div>"
      ],
      "text/plain": [
       "           gbr_preds  rf_preds\n",
       "gbr_preds   1.000000  0.550424\n",
       "rf_preds    0.550424  1.000000"
      ]
     },
     "execution_count": 739,
     "metadata": {},
     "output_type": "execute_result"
    }
   ],
   "source": []
  },
  {
   "cell_type": "code",
   "execution_count": 722,
   "metadata": {
    "collapsed": false
   },
   "outputs": [
    {
     "data": {
      "text/plain": [
       "(37717,)"
      ]
     },
     "execution_count": 722,
     "metadata": {},
     "output_type": "execute_result"
    }
   ],
   "source": [
    "np.zeros((37717)).shape"
   ]
  },
  {
   "cell_type": "code",
   "execution_count": null,
   "metadata": {
    "collapsed": true
   },
   "outputs": [],
   "source": [
    "0.57 + 0.04 + 0.96 + 0.99\n",
    "0.35000056 + 0.35000002 + 0.35000098 + 0.35000111"
   ]
  },
  {
   "cell_type": "code",
   "execution_count": 906,
   "metadata": {
    "collapsed": true
   },
   "outputs": [],
   "source": [
    "a = 0.57 + 0.35000056\n",
    "b = 0.04 + 0.35000002\n",
    "c = 0.96 + 0.35000098\n",
    "d = 0.99 + 0.35000111\n",
    "values = [a, b, c, d]"
   ]
  },
  {
   "cell_type": "code",
   "execution_count": 907,
   "metadata": {
    "collapsed": false
   },
   "outputs": [],
   "source": [
    "first = (a - min(values)) / (max(values) - min(values))"
   ]
  },
  {
   "cell_type": "code",
   "execution_count": null,
   "metadata": {
    "collapsed": true
   },
   "outputs": [],
   "source": []
  }
 ],
 "metadata": {
  "kernelspec": {
   "display_name": "Python 2",
   "language": "python",
   "name": "python2"
  },
  "language_info": {
   "codemirror_mode": {
    "name": "ipython",
    "version": 2
   },
   "file_extension": ".py",
   "mimetype": "text/x-python",
   "name": "python",
   "nbconvert_exporter": "python",
   "pygments_lexer": "ipython2",
   "version": "2.7.6"
  }
 },
 "nbformat": 4,
 "nbformat_minor": 0
}
