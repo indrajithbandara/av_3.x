{
 "cells": [
  {
   "cell_type": "code",
   "execution_count": 1,
   "metadata": {
    "collapsed": true
   },
   "outputs": [],
   "source": [
    "import numpy as np\n",
    "import pandas as pd\n",
    "import seaborn as sb\n",
    "import matplotlib.pyplot as plt\n",
    "\n",
    "%matplotlib inline"
   ]
  },
  {
   "cell_type": "code",
   "execution_count": 331,
   "metadata": {
    "collapsed": true
   },
   "outputs": [],
   "source": [
    "loan_train = pd.read_csv('./data/Train/Train.csv', index_col='ID')\n",
    "loan_test = pd.read_csv('./data/Test/Test.csv', index_col='ID')"
   ]
  },
  {
   "cell_type": "code",
   "execution_count": 332,
   "metadata": {
    "collapsed": true
   },
   "outputs": [],
   "source": [
    "loan_train = loan_train[(loan_train.index != 'ID036559D40')&\n",
    "                        (loan_train.index != 'ID113457T20')]"
   ]
  },
  {
   "cell_type": "code",
   "execution_count": 333,
   "metadata": {
    "collapsed": false
   },
   "outputs": [],
   "source": [
    "%run scripts/helper.py\n",
    "%run scripts/preprocess.py\n",
    "%run scripts/models.py\n",
    "%run scripts/metrics.py\n",
    "%run scripts/ensembling.py"
   ]
  },
  {
   "cell_type": "code",
   "execution_count": 334,
   "metadata": {
    "collapsed": false
   },
   "outputs": [],
   "source": [
    "# columns without any missing values\n",
    "not_nulls = not_null_cols(loan_train)"
   ]
  },
  {
   "cell_type": "code",
   "execution_count": 335,
   "metadata": {
    "collapsed": false
   },
   "outputs": [],
   "source": [
    "# columns with type object that don't have any missing values\n",
    "obj_cols = cols_with_obj_type(loan_train, not_nulls)"
   ]
  },
  {
   "cell_type": "code",
   "execution_count": 336,
   "metadata": {
    "collapsed": false
   },
   "outputs": [],
   "source": [
    "loan_train_processed, loan_test_processed = process(loan_train, loan_test, obj_cols)"
   ]
  },
  {
   "cell_type": "code",
   "execution_count": 337,
   "metadata": {
    "collapsed": false
   },
   "outputs": [
    {
     "data": {
      "text/plain": [
       "Index([u'Gender', u'City', u'Monthly_Income', u'DOB', u'Lead_Creation_Date',\n",
       "       u'Loan_Amount_Applied', u'Loan_Tenure_Applied', u'Existing_EMI',\n",
       "       u'Employer_Name', u'Salary_Account', u'Mobile_Verified', u'Var5',\n",
       "       u'Var1', u'Loan_Amount_Submitted', u'Loan_Tenure_Submitted',\n",
       "       u'Interest_Rate', u'Processing_Fee', u'EMI_Loan_Submitted',\n",
       "       u'Filled_Form', u'Device_Type', u'Var2', u'Source', u'Var4',\n",
       "       u'LoggedIn', u'Disbursed'],\n",
       "      dtype='object')"
      ]
     },
     "execution_count": 337,
     "metadata": {},
     "output_type": "execute_result"
    }
   ],
   "source": [
    "loan_train_processed.columns"
   ]
  },
  {
   "cell_type": "markdown",
   "metadata": {},
   "source": [
    "## Exploratory Data Analysis"
   ]
  },
  {
   "cell_type": "code",
   "execution_count": 338,
   "metadata": {
    "collapsed": false
   },
   "outputs": [],
   "source": [
    "cities = loan_train_processed.groupby(['City', 'Disbursed']).size().unstack()"
   ]
  },
  {
   "cell_type": "code",
   "execution_count": 339,
   "metadata": {
    "collapsed": false
   },
   "outputs": [
    {
     "data": {
      "text/html": [
       "<div>\n",
       "<table border=\"1\" class=\"dataframe\">\n",
       "  <thead>\n",
       "    <tr style=\"text-align: right;\">\n",
       "      <th>Disbursed</th>\n",
       "      <th>0</th>\n",
       "      <th>1</th>\n",
       "    </tr>\n",
       "    <tr>\n",
       "      <th>City</th>\n",
       "      <th></th>\n",
       "      <th></th>\n",
       "    </tr>\n",
       "  </thead>\n",
       "  <tbody>\n",
       "    <tr>\n",
       "      <th>Delhi</th>\n",
       "      <td>12257</td>\n",
       "      <td>269</td>\n",
       "    </tr>\n",
       "    <tr>\n",
       "      <th>Bengaluru</th>\n",
       "      <td>10645</td>\n",
       "      <td>179</td>\n",
       "    </tr>\n",
       "    <tr>\n",
       "      <th>Mumbai</th>\n",
       "      <td>10625</td>\n",
       "      <td>169</td>\n",
       "    </tr>\n",
       "    <tr>\n",
       "      <th>Pune</th>\n",
       "      <td>5086</td>\n",
       "      <td>121</td>\n",
       "    </tr>\n",
       "    <tr>\n",
       "      <th>Hyderabad</th>\n",
       "      <td>7188</td>\n",
       "      <td>84</td>\n",
       "    </tr>\n",
       "    <tr>\n",
       "      <th>Chennai</th>\n",
       "      <td>6849</td>\n",
       "      <td>67</td>\n",
       "    </tr>\n",
       "    <tr>\n",
       "      <th>Kolkata</th>\n",
       "      <td>2838</td>\n",
       "      <td>50</td>\n",
       "    </tr>\n",
       "    <tr>\n",
       "      <th>Gurgaon</th>\n",
       "      <td>1185</td>\n",
       "      <td>27</td>\n",
       "    </tr>\n",
       "    <tr>\n",
       "      <th>Jaipur</th>\n",
       "      <td>1307</td>\n",
       "      <td>24</td>\n",
       "    </tr>\n",
       "    <tr>\n",
       "      <th>Ahmedabad</th>\n",
       "      <td>1764</td>\n",
       "      <td>24</td>\n",
       "    </tr>\n",
       "    <tr>\n",
       "      <th>Indore</th>\n",
       "      <td>716</td>\n",
       "      <td>18</td>\n",
       "    </tr>\n",
       "    <tr>\n",
       "      <th>Nagpur</th>\n",
       "      <td>578</td>\n",
       "      <td>16</td>\n",
       "    </tr>\n",
       "    <tr>\n",
       "      <th>Chandigarh</th>\n",
       "      <td>855</td>\n",
       "      <td>15</td>\n",
       "    </tr>\n",
       "    <tr>\n",
       "      <th>Lucknow</th>\n",
       "      <td>568</td>\n",
       "      <td>12</td>\n",
       "    </tr>\n",
       "    <tr>\n",
       "      <th>Thane</th>\n",
       "      <td>893</td>\n",
       "      <td>12</td>\n",
       "    </tr>\n",
       "    <tr>\n",
       "      <th>Bhubaneswar</th>\n",
       "      <td>266</td>\n",
       "      <td>11</td>\n",
       "    </tr>\n",
       "    <tr>\n",
       "      <th>Coimbatore</th>\n",
       "      <td>1137</td>\n",
       "      <td>10</td>\n",
       "    </tr>\n",
       "    <tr>\n",
       "      <th>Vadodara</th>\n",
       "      <td>615</td>\n",
       "      <td>9</td>\n",
       "    </tr>\n",
       "    <tr>\n",
       "      <th>Visakhapatnam</th>\n",
       "      <td>756</td>\n",
       "      <td>8</td>\n",
       "    </tr>\n",
       "    <tr>\n",
       "      <th>Surat</th>\n",
       "      <td>795</td>\n",
       "      <td>7</td>\n",
       "    </tr>\n",
       "    <tr>\n",
       "      <th>Faridabad</th>\n",
       "      <td>440</td>\n",
       "      <td>7</td>\n",
       "    </tr>\n",
       "    <tr>\n",
       "      <th>Ghaziabad</th>\n",
       "      <td>553</td>\n",
       "      <td>7</td>\n",
       "    </tr>\n",
       "    <tr>\n",
       "      <th>Nashik</th>\n",
       "      <td>227</td>\n",
       "      <td>6</td>\n",
       "    </tr>\n",
       "    <tr>\n",
       "      <th>Noida</th>\n",
       "      <td>368</td>\n",
       "      <td>5</td>\n",
       "    </tr>\n",
       "    <tr>\n",
       "      <th>Raipur</th>\n",
       "      <td>284</td>\n",
       "      <td>5</td>\n",
       "    </tr>\n",
       "    <tr>\n",
       "      <th>Patna</th>\n",
       "      <td>457</td>\n",
       "      <td>4</td>\n",
       "    </tr>\n",
       "    <tr>\n",
       "      <th>Aurangabad</th>\n",
       "      <td>233</td>\n",
       "      <td>4</td>\n",
       "    </tr>\n",
       "    <tr>\n",
       "      <th>Madurai</th>\n",
       "      <td>371</td>\n",
       "      <td>4</td>\n",
       "    </tr>\n",
       "    <tr>\n",
       "      <th>Meerut</th>\n",
       "      <td>213</td>\n",
       "      <td>4</td>\n",
       "    </tr>\n",
       "    <tr>\n",
       "      <th>Kochi</th>\n",
       "      <td>489</td>\n",
       "      <td>3</td>\n",
       "    </tr>\n",
       "    <tr>\n",
       "      <th>...</th>\n",
       "      <td>...</td>\n",
       "      <td>...</td>\n",
       "    </tr>\n",
       "    <tr>\n",
       "      <th>UDWADA</th>\n",
       "      <td>1</td>\n",
       "      <td>NaN</td>\n",
       "    </tr>\n",
       "    <tr>\n",
       "      <th>UMBERGAON</th>\n",
       "      <td>6</td>\n",
       "      <td>NaN</td>\n",
       "    </tr>\n",
       "    <tr>\n",
       "      <th>Udalguri</th>\n",
       "      <td>3</td>\n",
       "      <td>NaN</td>\n",
       "    </tr>\n",
       "    <tr>\n",
       "      <th>Udham Singh Nagar</th>\n",
       "      <td>8</td>\n",
       "      <td>NaN</td>\n",
       "    </tr>\n",
       "    <tr>\n",
       "      <th>Udhampur</th>\n",
       "      <td>5</td>\n",
       "      <td>NaN</td>\n",
       "    </tr>\n",
       "    <tr>\n",
       "      <th>Udupi and Uttara Kannada</th>\n",
       "      <td>25</td>\n",
       "      <td>NaN</td>\n",
       "    </tr>\n",
       "    <tr>\n",
       "      <th>Ujjain</th>\n",
       "      <td>32</td>\n",
       "      <td>NaN</td>\n",
       "    </tr>\n",
       "    <tr>\n",
       "      <th>Umaria</th>\n",
       "      <td>1</td>\n",
       "      <td>NaN</td>\n",
       "    </tr>\n",
       "    <tr>\n",
       "      <th>Una</th>\n",
       "      <td>4</td>\n",
       "      <td>NaN</td>\n",
       "    </tr>\n",
       "    <tr>\n",
       "      <th>Unnao</th>\n",
       "      <td>13</td>\n",
       "      <td>NaN</td>\n",
       "    </tr>\n",
       "    <tr>\n",
       "      <th>Upper Subansiri</th>\n",
       "      <td>1</td>\n",
       "      <td>NaN</td>\n",
       "    </tr>\n",
       "    <tr>\n",
       "      <th>Uttar Dinajpur</th>\n",
       "      <td>7</td>\n",
       "      <td>NaN</td>\n",
       "    </tr>\n",
       "    <tr>\n",
       "      <th>VALLABH VIDYANAGAR</th>\n",
       "      <td>2</td>\n",
       "      <td>NaN</td>\n",
       "    </tr>\n",
       "    <tr>\n",
       "      <th>VIJAPUR</th>\n",
       "      <td>3</td>\n",
       "      <td>NaN</td>\n",
       "    </tr>\n",
       "    <tr>\n",
       "      <th>VIRPUR</th>\n",
       "      <td>1</td>\n",
       "      <td>NaN</td>\n",
       "    </tr>\n",
       "    <tr>\n",
       "      <th>VISNAGAR</th>\n",
       "      <td>6</td>\n",
       "      <td>NaN</td>\n",
       "    </tr>\n",
       "    <tr>\n",
       "      <th>Valsad</th>\n",
       "      <td>29</td>\n",
       "      <td>NaN</td>\n",
       "    </tr>\n",
       "    <tr>\n",
       "      <th>Vidisha</th>\n",
       "      <td>4</td>\n",
       "      <td>NaN</td>\n",
       "    </tr>\n",
       "    <tr>\n",
       "      <th>Viluppuram</th>\n",
       "      <td>37</td>\n",
       "      <td>NaN</td>\n",
       "    </tr>\n",
       "    <tr>\n",
       "      <th>Virudhunagar</th>\n",
       "      <td>20</td>\n",
       "      <td>NaN</td>\n",
       "    </tr>\n",
       "    <tr>\n",
       "      <th>Vizianagaram</th>\n",
       "      <td>31</td>\n",
       "      <td>NaN</td>\n",
       "    </tr>\n",
       "    <tr>\n",
       "      <th>Vyara</th>\n",
       "      <td>11</td>\n",
       "      <td>NaN</td>\n",
       "    </tr>\n",
       "    <tr>\n",
       "      <th>Washim</th>\n",
       "      <td>3</td>\n",
       "      <td>NaN</td>\n",
       "    </tr>\n",
       "    <tr>\n",
       "      <th>Wayanad</th>\n",
       "      <td>8</td>\n",
       "      <td>NaN</td>\n",
       "    </tr>\n",
       "    <tr>\n",
       "      <th>West Garo Hills</th>\n",
       "      <td>6</td>\n",
       "      <td>NaN</td>\n",
       "    </tr>\n",
       "    <tr>\n",
       "      <th>West Godavari</th>\n",
       "      <td>45</td>\n",
       "      <td>NaN</td>\n",
       "    </tr>\n",
       "    <tr>\n",
       "      <th>West Singhbhum</th>\n",
       "      <td>14</td>\n",
       "      <td>NaN</td>\n",
       "    </tr>\n",
       "    <tr>\n",
       "      <th>Yadgir</th>\n",
       "      <td>5</td>\n",
       "      <td>NaN</td>\n",
       "    </tr>\n",
       "    <tr>\n",
       "      <th>Yavatmal</th>\n",
       "      <td>15</td>\n",
       "      <td>NaN</td>\n",
       "    </tr>\n",
       "    <tr>\n",
       "      <th>sri ganganagar</th>\n",
       "      <td>8</td>\n",
       "      <td>NaN</td>\n",
       "    </tr>\n",
       "  </tbody>\n",
       "</table>\n",
       "<p>697 rows × 2 columns</p>\n",
       "</div>"
      ],
      "text/plain": [
       "Disbursed                     0    1\n",
       "City                                \n",
       "Delhi                     12257  269\n",
       "Bengaluru                 10645  179\n",
       "Mumbai                    10625  169\n",
       "Pune                       5086  121\n",
       "Hyderabad                  7188   84\n",
       "Chennai                    6849   67\n",
       "Kolkata                    2838   50\n",
       "Gurgaon                    1185   27\n",
       "Jaipur                     1307   24\n",
       "Ahmedabad                  1764   24\n",
       "Indore                      716   18\n",
       "Nagpur                      578   16\n",
       "Chandigarh                  855   15\n",
       "Lucknow                     568   12\n",
       "Thane                       893   12\n",
       "Bhubaneswar                 266   11\n",
       "Coimbatore                 1137   10\n",
       "Vadodara                    615    9\n",
       "Visakhapatnam               756    8\n",
       "Surat                       795    7\n",
       "Faridabad                   440    7\n",
       "Ghaziabad                   553    7\n",
       "Nashik                      227    6\n",
       "Noida                       368    5\n",
       "Raipur                      284    5\n",
       "Patna                       457    4\n",
       "Aurangabad                  233    4\n",
       "Madurai                     371    4\n",
       "Meerut                      213    4\n",
       "Kochi                       489    3\n",
       "...                         ...  ...\n",
       "UDWADA                        1  NaN\n",
       "UMBERGAON                     6  NaN\n",
       "Udalguri                      3  NaN\n",
       "Udham Singh Nagar             8  NaN\n",
       "Udhampur                      5  NaN\n",
       "Udupi and Uttara Kannada     25  NaN\n",
       "Ujjain                       32  NaN\n",
       "Umaria                        1  NaN\n",
       "Una                           4  NaN\n",
       "Unnao                        13  NaN\n",
       "Upper Subansiri               1  NaN\n",
       "Uttar Dinajpur                7  NaN\n",
       "VALLABH VIDYANAGAR            2  NaN\n",
       "VIJAPUR                       3  NaN\n",
       "VIRPUR                        1  NaN\n",
       "VISNAGAR                      6  NaN\n",
       "Valsad                       29  NaN\n",
       "Vidisha                       4  NaN\n",
       "Viluppuram                   37  NaN\n",
       "Virudhunagar                 20  NaN\n",
       "Vizianagaram                 31  NaN\n",
       "Vyara                        11  NaN\n",
       "Washim                        3  NaN\n",
       "Wayanad                       8  NaN\n",
       "West Garo Hills               6  NaN\n",
       "West Godavari                45  NaN\n",
       "West Singhbhum               14  NaN\n",
       "Yadgir                        5  NaN\n",
       "Yavatmal                     15  NaN\n",
       "sri ganganagar                8  NaN\n",
       "\n",
       "[697 rows x 2 columns]"
      ]
     },
     "execution_count": 339,
     "metadata": {},
     "output_type": "execute_result"
    }
   ],
   "source": [
    "cities.sort(columns=1, ascending=False)"
   ]
  },
  {
   "cell_type": "code",
   "execution_count": 340,
   "metadata": {
    "collapsed": false
   },
   "outputs": [],
   "source": [
    "def to_lower_case(c):\n",
    "    try:\n",
    "        if math.isnan(c):\n",
    "            return c\n",
    "        else:\n",
    "            return c.lower()\n",
    "    except:\n",
    "        return c\n",
    "    \n",
    "loan_train_processed['City'] = loan_train_processed.City.map(to_lower_case)\n",
    "loan_test_processed['City'] = loan_test_processed.City.map(to_lower_case)"
   ]
  },
  {
   "cell_type": "code",
   "execution_count": 341,
   "metadata": {
    "collapsed": true
   },
   "outputs": [],
   "source": [
    "# fill missing values with -999 for City\n",
    "loan_train_processed.City.fillna('-999', inplace=True)\n",
    "loan_test_processed.City.fillna('-999', inplace=True)"
   ]
  },
  {
   "cell_type": "code",
   "execution_count": 342,
   "metadata": {
    "collapsed": true
   },
   "outputs": [],
   "source": [
    "loan_train_processed['Salary_Account'] = loan_train_processed.Salary_Account.map(to_lower_case)\n",
    "loan_test_processed['Salary_Account'] = loan_test_processed.Salary_Account.map(to_lower_case)"
   ]
  },
  {
   "cell_type": "code",
   "execution_count": 343,
   "metadata": {
    "collapsed": true
   },
   "outputs": [],
   "source": [
    "# fill missing values with -999 for City\n",
    "loan_train_processed.Salary_Account.fillna('-999', inplace=True)\n",
    "loan_test_processed.Salary_Account.fillna('-999', inplace=True)"
   ]
  },
  {
   "cell_type": "code",
   "execution_count": 344,
   "metadata": {
    "collapsed": true
   },
   "outputs": [],
   "source": [
    "loan_train_processed['Employer_Name'] = loan_train_processed.Employer_Name.map(to_lower_case)\n",
    "loan_test_processed['Employer_Name'] = loan_test_processed.Employer_Name.map(to_lower_case)"
   ]
  },
  {
   "cell_type": "code",
   "execution_count": 345,
   "metadata": {
    "collapsed": true
   },
   "outputs": [],
   "source": [
    "# fill missing values with -999 for Employer's name\n",
    "loan_train_processed.Employer_Name.fillna('-999', inplace=True)\n",
    "loan_test_processed.Employer_Name.fillna('-999', inplace=True)"
   ]
  },
  {
   "cell_type": "markdown",
   "metadata": {},
   "source": [
    "## Data preparation and Cleaning"
   ]
  },
  {
   "cell_type": "code",
   "execution_count": 346,
   "metadata": {
    "collapsed": false
   },
   "outputs": [],
   "source": [
    "# encode city names in train and test\n",
    "loan_train_processed, loan_test_processed = process(loan_train_processed, loan_test_processed, ['City', 'Salary_Account', 'Employer_Name'])"
   ]
  },
  {
   "cell_type": "code",
   "execution_count": 347,
   "metadata": {
    "collapsed": false
   },
   "outputs": [],
   "source": [
    "# fill missing values for loan_amount_applied and loan_tenure_applied\n",
    "loan_train_processed.Loan_Amount_Applied.fillna(loan_train_processed.Loan_Amount_Applied.median(), inplace=True)\n",
    "loan_train_processed.Loan_Tenure_Applied.fillna(loan_train_processed.Loan_Tenure_Applied.median(), inplace=True)\n",
    "\n",
    "loan_test_processed.Loan_Amount_Applied.fillna(loan_test_processed.Loan_Amount_Applied.median(), inplace=True)\n",
    "loan_test_processed.Loan_Tenure_Applied.fillna(loan_test_processed.Loan_Tenure_Applied.median(), inplace=True)"
   ]
  },
  {
   "cell_type": "code",
   "execution_count": 348,
   "metadata": {
    "collapsed": true
   },
   "outputs": [],
   "source": [
    "# fill missing values for loan_amount_applied and loan_tenure_applied\n",
    "loan_train_processed.Loan_Amount_Submitted.fillna(loan_train_processed.Loan_Amount_Submitted.median(), inplace=True)\n",
    "loan_train_processed.Loan_Tenure_Submitted.fillna(loan_train_processed.Loan_Tenure_Submitted.median(), inplace=True)\n",
    "\n",
    "loan_test_processed.Loan_Amount_Submitted.fillna(loan_test_processed.Loan_Amount_Submitted.median(), inplace=True)\n",
    "loan_test_processed.Loan_Tenure_Submitted.fillna(loan_test_processed.Loan_Tenure_Submitted.median(), inplace=True)"
   ]
  },
  {
   "cell_type": "code",
   "execution_count": 349,
   "metadata": {
    "collapsed": true
   },
   "outputs": [],
   "source": [
    "# normalize the monthly income variable\n",
    "loan_train_processed['Monthly_Income'] = np.log1p(loan_train_processed.Monthly_Income)\n",
    "loan_test_processed['Monthly_Income'] = np.log1p(loan_test_processed.Monthly_Income)"
   ]
  },
  {
   "cell_type": "code",
   "execution_count": 350,
   "metadata": {
    "collapsed": false
   },
   "outputs": [],
   "source": [
    "# fill missing values for existing emis\n",
    "loan_train_processed.Existing_EMI.fillna(-999, inplace=True)\n",
    "loan_test_processed.Existing_EMI.fillna(-999, inplace=True)"
   ]
  },
  {
   "cell_type": "code",
   "execution_count": 351,
   "metadata": {
    "collapsed": true
   },
   "outputs": [],
   "source": [
    "# normalize loan applied amount\n",
    "loan_train_processed['Loan_Amount_Applied'] = np.log1p(loan_train_processed.Loan_Amount_Applied)\n",
    "loan_test_processed['Loan_Amount_Applied'] = np.log1p(loan_test_processed.Loan_Amount_Applied)"
   ]
  },
  {
   "cell_type": "code",
   "execution_count": 352,
   "metadata": {
    "collapsed": true
   },
   "outputs": [],
   "source": [
    "# normalize loan applied amount\n",
    "loan_train_processed['Loan_Amount_Submitted'] = np.log1p(loan_train_processed.Loan_Amount_Submitted)\n",
    "loan_test_processed['Loan_Amount_Submitted'] = np.log1p(loan_test_processed.Loan_Amount_Submitted)"
   ]
  },
  {
   "cell_type": "code",
   "execution_count": 353,
   "metadata": {
    "collapsed": true
   },
   "outputs": [],
   "source": [
    "# convert both DOB and Lead_Creation_Date to timestamp\n",
    "loan_train_processed['DOB'] = pd.to_datetime(loan_train_processed.DOB)\n",
    "loan_test_processed['DOB'] = pd.to_datetime(loan_test_processed.DOB)\n",
    "\n",
    "loan_train_processed['Lead_Creation_Date'] = pd.to_datetime(loan_train_processed.Lead_Creation_Date)\n",
    "loan_test_processed['Lead_Creation_Date'] = pd.to_datetime(loan_test_processed.Lead_Creation_Date)"
   ]
  },
  {
   "cell_type": "code",
   "execution_count": 354,
   "metadata": {
    "collapsed": false
   },
   "outputs": [],
   "source": [
    "# calculate age delta for training data\n",
    "loan_train_processed['age_delta'] = (loan_train_processed.Lead_Creation_Date - loan_train_processed.DOB)"
   ]
  },
  {
   "cell_type": "code",
   "execution_count": 355,
   "metadata": {
    "collapsed": true
   },
   "outputs": [],
   "source": [
    "# calculate age delta for testing data\n",
    "loan_test_processed['age_delta'] = (loan_test_processed.Lead_Creation_Date - loan_test_processed.DOB)"
   ]
  },
  {
   "cell_type": "code",
   "execution_count": 356,
   "metadata": {
    "collapsed": true
   },
   "outputs": [],
   "source": [
    "loan_train_processed.Interest_Rate.fillna(-999, inplace=True)\n",
    "loan_test_processed.Interest_Rate.fillna(-999, inplace=True)"
   ]
  },
  {
   "cell_type": "code",
   "execution_count": 357,
   "metadata": {
    "collapsed": false
   },
   "outputs": [],
   "source": [
    "# calculate new feature: age of candidate when applying for loan\n",
    "def get_age_in_years(age):\n",
    "    seconds = age / (1e9)\n",
    "    days = seconds / (24. * 60 * 60)\n",
    "    years = days / 365.\n",
    "    return int(years)\n",
    "\n",
    "loan_train_processed['age_when_applied'] = loan_train_processed.age_delta.apply(get_age_in_years)"
   ]
  },
  {
   "cell_type": "code",
   "execution_count": 358,
   "metadata": {
    "collapsed": true
   },
   "outputs": [],
   "source": [
    "loan_test_processed['age_when_applied'] = loan_test_processed.age_delta.apply(get_age_in_years)"
   ]
  },
  {
   "cell_type": "code",
   "execution_count": 359,
   "metadata": {
    "collapsed": false
   },
   "outputs": [
    {
     "data": {
      "image/png": "[encoded data removed]",
      "text/plain": [
       "<matplotlib.figure.Figure at 0x28246070>"
      ]
     },
     "metadata": {},
     "output_type": "display_data"
    }
   ],
   "source": [
    "loan_train_processed.hist(column='age_when_applied', by='Disbursed');"
   ]
  },
  {
   "cell_type": "markdown",
   "metadata": {},
   "source": [
    "### Model Building"
   ]
  },
  {
   "cell_type": "code",
   "execution_count": 360,
   "metadata": {
    "collapsed": false
   },
   "outputs": [
    {
     "data": {
      "text/plain": [
       "Index([u'Gender', u'City', u'Monthly_Income', u'DOB', u'Lead_Creation_Date',\n",
       "       u'Loan_Amount_Applied', u'Loan_Tenure_Applied', u'Existing_EMI',\n",
       "       u'Employer_Name', u'Salary_Account', u'Mobile_Verified', u'Var5',\n",
       "       u'Var1', u'Loan_Amount_Submitted', u'Loan_Tenure_Submitted',\n",
       "       u'Interest_Rate', u'Processing_Fee', u'EMI_Loan_Submitted',\n",
       "       u'Filled_Form', u'Device_Type', u'Var2', u'Source', u'Var4',\n",
       "       u'LoggedIn', u'Disbursed', u'age_delta', u'age_when_applied'],\n",
       "      dtype='object')"
      ]
     },
     "execution_count": 360,
     "metadata": {},
     "output_type": "execute_result"
    }
   ],
   "source": [
    "loan_train_processed.columns"
   ]
  },
  {
   "cell_type": "code",
   "execution_count": 361,
   "metadata": {
    "collapsed": false
   },
   "outputs": [],
   "source": [
    "features = loan_train_processed[['City', 'Salary_Account', 'Interest_Rate', 'Employer_Name', 'Monthly_Income', \n",
    "                                 'Loan_Amount_Applied', 'Loan_Tenure_Applied', \n",
    "                                 'Existing_EMI', 'Loan_Amount_Submitted', 'Loan_Tenure_Submitted',\n",
    "                                 'Var1', 'Source', 'Var5','age_when_applied']]"
   ]
  },
  {
   "cell_type": "markdown",
   "metadata": {},
   "source": [
    "## Clustering"
   ]
  },
  {
   "cell_type": "code",
   "execution_count": 363,
   "metadata": {
    "collapsed": true
   },
   "outputs": [],
   "source": [
    "from sklearn.cluster import KMeans"
   ]
  },
  {
   "cell_type": "code",
   "execution_count": 362,
   "metadata": {
    "collapsed": false
   },
   "outputs": [
    {
     "data": {
      "text/plain": [
       "KMeans(copy_x=True, init='k-means++', max_iter=300, n_clusters=6, n_init=10,\n",
       "    n_jobs=1, precompute_distances='auto', random_state=None, tol=0.0001,\n",
       "    verbose=0)"
      ]
     },
     "execution_count": 362,
     "metadata": {},
     "output_type": "execute_result"
    }
   ],
   "source": [
    "kmeans = KMeans(n_clusters=6)\n",
    "kmeans.fit(features.values)"
   ]
  },
  {
   "cell_type": "code",
   "execution_count": 365,
   "metadata": {
    "collapsed": false
   },
   "outputs": [
    {
     "name": "stderr",
     "output_type": "stream",
     "text": [
      "C:\\Anaconda\\lib\\site-packages\\pandas\\core\\indexing.py:249: SettingWithCopyWarning: \n",
      "A value is trying to be set on a copy of a slice from a DataFrame.\n",
      "Try using .loc[row_indexer,col_indexer] = value instead\n",
      "\n",
      "See the the caveats in the documentation: http://pandas.pydata.org/pandas-docs/stable/indexing.html#indexing-view-versus-copy\n",
      "  self.obj[key] = _infer_fill_value(value)\n"
     ]
    }
   ],
   "source": [
    "features.loc[:, 'labels'] = kmeans.labels_"
   ]
  },
  {
   "cell_type": "markdown",
   "metadata": {},
   "source": [
    "## Cross Validation"
   ]
  },
  {
   "cell_type": "code",
   "execution_count": 366,
   "metadata": {
    "collapsed": true
   },
   "outputs": [],
   "source": [
    "from sklearn.cross_validation import StratifiedShuffleSplit\n",
    "\n",
    "sss = StratifiedShuffleSplit(loan_train.Disbursed, n_iter=3, test_size=0.3, random_state=121)"
   ]
  },
  {
   "cell_type": "code",
   "execution_count": 367,
   "metadata": {
    "collapsed": true
   },
   "outputs": [],
   "source": [
    "train_idx, test_idx = next(iter(sss))"
   ]
  },
  {
   "cell_type": "code",
   "execution_count": 368,
   "metadata": {
    "collapsed": false
   },
   "outputs": [],
   "source": [
    "Xt = features.iloc[train_idx]\n",
    "Xv = features.iloc[test_idx]\n",
    "\n",
    "yt = loan_train.Disbursed.iloc[train_idx]\n",
    "yv = loan_train.Disbursed.iloc[test_idx]"
   ]
  },
  {
   "cell_type": "markdown",
   "metadata": {},
   "source": [
    "### Randomized Trees"
   ]
  },
  {
   "cell_type": "code",
   "execution_count": 369,
   "metadata": {
    "collapsed": false
   },
   "outputs": [
    {
     "data": {
      "text/plain": [
       "ExtraTreesClassifier(bootstrap=False, class_weight='auto',\n",
       "           criterion='entropy', max_depth=10, max_features='auto',\n",
       "           max_leaf_nodes=None, min_samples_leaf=1, min_samples_split=5,\n",
       "           min_weight_fraction_leaf=0.0, n_estimators=100, n_jobs=1,\n",
       "           oob_score=False, random_state=None, verbose=0, warm_start=False)"
      ]
     },
     "execution_count": 369,
     "metadata": {},
     "output_type": "execute_result"
    }
   ],
   "source": [
    "etr_entropy = ExtraTreesClassifier(n_estimators=100, criterion='entropy',\n",
    "                                   max_depth=10, min_samples_split=5, class_weight='auto')\n",
    "etr_entropy.fit(Xt, yt)"
   ]
  },
  {
   "cell_type": "code",
   "execution_count": 370,
   "metadata": {
    "collapsed": false
   },
   "outputs": [
    {
     "name": "stdout",
     "output_type": "stream",
     "text": [
      "ROC AUC score for randomized trees on test set 0.817161 \n"
     ]
    }
   ],
   "source": [
    "yv_pred_etr_entropy = etr_entropy.predict_proba(Xv)[:, 1]\n",
    "print 'ROC AUC score for randomized trees on test set %f ' %score(yv, yv_pred_etr_entropy)"
   ]
  },
  {
   "cell_type": "markdown",
   "metadata": {},
   "source": [
    "## Logistic Regression model"
   ]
  },
  {
   "cell_type": "code",
   "execution_count": 371,
   "metadata": {
    "collapsed": true
   },
   "outputs": [],
   "source": [
    "linear_model = logistic_regression(Xt, yt)"
   ]
  },
  {
   "cell_type": "code",
   "execution_count": 372,
   "metadata": {
    "collapsed": false
   },
   "outputs": [
    {
     "data": {
      "text/plain": [
       "LogisticRegression(C=1.0, class_weight='auto', dual=False, fit_intercept=True,\n",
       "          intercept_scaling=1, max_iter=100, multi_class='ovr',\n",
       "          penalty='l2', random_state=None, solver='liblinear', tol=0.0001,\n",
       "          verbose=0)"
      ]
     },
     "execution_count": 372,
     "metadata": {},
     "output_type": "execute_result"
    }
   ],
   "source": [
    "linear_model"
   ]
  },
  {
   "cell_type": "code",
   "execution_count": 373,
   "metadata": {
    "collapsed": false
   },
   "outputs": [
    {
     "name": "stdout",
     "output_type": "stream",
     "text": [
      "ROC AUC score for linear model on test set 0.800302 \n"
     ]
    }
   ],
   "source": [
    "yv_pred_linear = predictions(linear_model, Xv)[:, 1]\n",
    "print 'ROC AUC score for linear model on test set %f ' %score(yv, yv_pred_linear)"
   ]
  },
  {
   "cell_type": "code",
   "execution_count": 374,
   "metadata": {
    "collapsed": true
   },
   "outputs": [],
   "source": [
    "a = transform_for_ranked(yv_pred_etr_entropy, Xt.index.values)\n",
    "b = transform_for_ranked(yv_pred_linear, Xt.index.values)\n",
    "\n",
    "ranked_ranks = ranked_averaging([a, b])"
   ]
  },
  {
   "cell_type": "code",
   "execution_count": 375,
   "metadata": {
    "collapsed": true
   },
   "outputs": [],
   "source": [
    "r_preds = [k3 for k1, k2, k3 in ranked_ranks]"
   ]
  },
  {
   "cell_type": "code",
   "execution_count": 376,
   "metadata": {
    "collapsed": false
   },
   "outputs": [
    {
     "name": "stdout",
     "output_type": "stream",
     "text": [
      "ROC AUC score for ranked predictions on test set 0.818227 \n"
     ]
    }
   ],
   "source": [
    "print 'ROC AUC score for ranked predictions on test set %f ' %score(yv, r_preds)"
   ]
  },
  {
   "cell_type": "markdown",
   "metadata": {},
   "source": [
    "## Random Forest Classifier"
   ]
  },
  {
   "cell_type": "code",
   "execution_count": 377,
   "metadata": {
    "collapsed": false
   },
   "outputs": [],
   "source": [
    "# Random Forest Classifier\n",
    "model_rf = random_forest_classifier(Xt, yt)"
   ]
  },
  {
   "cell_type": "code",
   "execution_count": 378,
   "metadata": {
    "collapsed": false
   },
   "outputs": [
    {
     "data": {
      "text/plain": [
       "RandomForestClassifier(bootstrap=True, class_weight='auto', criterion='gini',\n",
       "            max_depth=10, max_features='auto', max_leaf_nodes=None,\n",
       "            min_samples_leaf=1, min_samples_split=5,\n",
       "            min_weight_fraction_leaf=0.0, n_estimators=150, n_jobs=1,\n",
       "            oob_score=False, random_state=None, verbose=0,\n",
       "            warm_start=False)"
      ]
     },
     "execution_count": 378,
     "metadata": {},
     "output_type": "execute_result"
    }
   ],
   "source": [
    "model_rf"
   ]
  },
  {
   "cell_type": "code",
   "execution_count": 379,
   "metadata": {
    "collapsed": false
   },
   "outputs": [
    {
     "name": "stdout",
     "output_type": "stream",
     "text": [
      "ROC AUC score on the test set for Random Forest Classifier 0.837109 \n"
     ]
    }
   ],
   "source": [
    "yv_pred_rf = predictions(model_rf, Xv)[:, 1]\n",
    "print 'ROC AUC score on the test set for Random Forest Classifier %f ' %(score(yv, yv_pred_rf))"
   ]
  },
  {
   "cell_type": "markdown",
   "metadata": {},
   "source": [
    "## Gradient Boosting Classifier"
   ]
  },
  {
   "cell_type": "code",
   "execution_count": 380,
   "metadata": {
    "collapsed": false
   },
   "outputs": [],
   "source": [
    "# Gradient Boosting Classifier\n",
    "model = gradient_boosting_classifier(Xt, yt)"
   ]
  },
  {
   "cell_type": "code",
   "execution_count": 381,
   "metadata": {
    "collapsed": false
   },
   "outputs": [
    {
     "data": {
      "text/plain": [
       "GradientBoostingClassifier(init=None, learning_rate=0.05, loss='deviance',\n",
       "              max_depth=3, max_features=None, max_leaf_nodes=None,\n",
       "              min_samples_leaf=1, min_samples_split=5,\n",
       "              min_weight_fraction_leaf=0.0, n_estimators=300,\n",
       "              random_state=None, subsample=1.0, verbose=0,\n",
       "              warm_start=False)"
      ]
     },
     "execution_count": 381,
     "metadata": {},
     "output_type": "execute_result"
    }
   ],
   "source": [
    "model"
   ]
  },
  {
   "cell_type": "code",
   "execution_count": 382,
   "metadata": {
    "collapsed": false
   },
   "outputs": [
    {
     "name": "stdout",
     "output_type": "stream",
     "text": [
      "ROC AUC score on the test set for GBC 0.846207 \n"
     ]
    }
   ],
   "source": [
    "yv_pred_gbc = predictions(model, Xv)[:, 1]\n",
    "print 'ROC AUC score on the test set for GBC %f ' %(score(yv, yv_pred_gbc))"
   ]
  },
  {
   "cell_type": "markdown",
   "metadata": {},
   "source": [
    "## Ensembling RF and GBC predictions"
   ]
  },
  {
   "cell_type": "code",
   "execution_count": 383,
   "metadata": {
    "collapsed": false
   },
   "outputs": [
    {
     "data": {
      "text/html": [
       "<div>\n",
       "<table border=\"1\" class=\"dataframe\">\n",
       "  <thead>\n",
       "    <tr style=\"text-align: right;\">\n",
       "      <th></th>\n",
       "      <th>gbr_pred</th>\n",
       "      <th>rf_preds</th>\n",
       "    </tr>\n",
       "  </thead>\n",
       "  <tbody>\n",
       "    <tr>\n",
       "      <th>gbr_pred</th>\n",
       "      <td>1.000000</td>\n",
       "      <td>0.727276</td>\n",
       "    </tr>\n",
       "    <tr>\n",
       "      <th>rf_preds</th>\n",
       "      <td>0.727276</td>\n",
       "      <td>1.000000</td>\n",
       "    </tr>\n",
       "  </tbody>\n",
       "</table>\n",
       "</div>"
      ],
      "text/plain": [
       "          gbr_pred  rf_preds\n",
       "gbr_pred  1.000000  0.727276\n",
       "rf_preds  0.727276  1.000000"
      ]
     },
     "execution_count": 383,
     "metadata": {},
     "output_type": "execute_result"
    }
   ],
   "source": [
    "pd.DataFrame({'rf_preds': yv_pred_rf, 'gbr_pred': yv_pred_gbc}).corr()"
   ]
  },
  {
   "cell_type": "code",
   "execution_count": 387,
   "metadata": {
    "collapsed": true
   },
   "outputs": [],
   "source": [
    "rf_preds_transformed = transform_for_ranked(yv_pred_rf, Xt.index.values)\n",
    "gbc_preds_transformed = transform_for_ranked(yv_pred_gbc, Xt.index.values)\n",
    "\n",
    "ranked_ranks = ranked_averaging([rf_preds_transformed, gbc_preds_transformed])"
   ]
  },
  {
   "cell_type": "code",
   "execution_count": 388,
   "metadata": {
    "collapsed": false
   },
   "outputs": [
    {
     "data": {
      "text/plain": [
       "[(0, 'ID002547Z20', 0.7318521356062057),\n",
       " (1, 'ID050788K30', 0.7984294196514078),\n",
       " (2, 'ID024101Z10', 0.1123539551809998),\n",
       " (3, 'ID002288A30', 0.7079486688373875),\n",
       " (4, 'ID033043X30', 0.31802336717104)]"
      ]
     },
     "execution_count": 388,
     "metadata": {},
     "output_type": "execute_result"
    }
   ],
   "source": [
    "ranked_ranks[:5]"
   ]
  },
  {
   "cell_type": "code",
   "execution_count": 389,
   "metadata": {
    "collapsed": false
   },
   "outputs": [
    {
     "name": "stdout",
     "output_type": "stream",
     "text": [
      "ROC AUC score for ensemble 0.845163 \n"
     ]
    }
   ],
   "source": [
    "yv_ranks_ensemble = [k3 for k1, k2, k3 in ranked_ranks]\n",
    "print 'ROC AUC score for ensemble %f ' %(score(yv, yv_ranks_ensemble))"
   ]
  },
  {
   "cell_type": "markdown",
   "metadata": {},
   "source": [
    "### Final Model"
   ]
  },
  {
   "cell_type": "code",
   "execution_count": 390,
   "metadata": {
    "collapsed": true
   },
   "outputs": [],
   "source": [
    "features_test = loan_test[['City', 'Salary_Account', 'Interest_Rate', 'Employer_Name', 'Monthly_Income', \n",
    "                         'Loan_Amount_Applied', 'Loan_Tenure_Applied', \n",
    "                         'Existing_EMI', 'Loan_Amount_Submitted', 'Loan_Tenure_Submitted',\n",
    "                         'Var1', 'Source', 'Var5','age_when_applied']]"
   ]
  },
  {
   "cell_type": "code",
   "execution_count": 391,
   "metadata": {
    "collapsed": true
   },
   "outputs": [],
   "source": [
    "features_test.loc[:, 'labels'] = kmeans.predict(features_test)"
   ]
  },
  {
   "cell_type": "code",
   "execution_count": 393,
   "metadata": {
    "collapsed": true
   },
   "outputs": [],
   "source": [
    "# model_final_rf = random_forest_classifier(features, loan_train_processed.Disbursed)\n",
    "model_final_gbr = gradient_boosting_classifier(features, loan_train_processed.Disbursed)"
   ]
  },
  {
   "cell_type": "code",
   "execution_count": 394,
   "metadata": {
    "collapsed": false
   },
   "outputs": [],
   "source": [
    "# final_preds_rf = predictions(model_final_rf, features_test)[:, 1]\n",
    "final_preds_gbc = predictions(model_final_gbr, features_test)[:, 1]"
   ]
  },
  {
   "cell_type": "code",
   "execution_count": 208,
   "metadata": {
    "collapsed": true
   },
   "outputs": [],
   "source": [
    "# final_preds_rf_trans = transform_for_ranked(final_preds_rf, loan_test_processed.index.values)\n",
    "# final_preds_gbc_trans = transform_for_ranked(final_preds_gbc, loan_test_processed.index.values)\n",
    "\n",
    "# test_ranked_ranks = ranked_averaging([final_preds_rf_trans, final_preds_gbc_trans])"
   ]
  },
  {
   "cell_type": "code",
   "execution_count": 395,
   "metadata": {
    "collapsed": false
   },
   "outputs": [],
   "source": [
    "create_submission_file(loan_test.index.values, final_preds_gbc, 'gbr_cluster.csv')"
   ]
  },
  {
   "cell_type": "markdown",
   "metadata": {},
   "source": [
    "## Feature Selection"
   ]
  },
  {
   "cell_type": "code",
   "execution_count": 108,
   "metadata": {
    "collapsed": false
   },
   "outputs": [],
   "source": [
    "%run scripts/feature_selection.py"
   ]
  },
  {
   "cell_type": "code",
   "execution_count": 109,
   "metadata": {
    "collapsed": false
   },
   "outputs": [
    {
     "name": "stdout",
     "output_type": "stream",
     "text": [
      "initial f1 score based on extra trees classifier:  0.0\n",
      "feature importance:  [ 0.09203676  0.08384553  0.11182189  0.11072908  0.04303247  0.05550208\n",
      "  0.03880343  0.08399025  0.0735262   0.03622075  0.04435319  0.01275061\n",
      "  0.00250464  0.02240173  0.04466838  0.04152769  0.10228534]\n",
      "sorted feature importances:  [ 0.11182189  0.11072908  0.10228534  0.09203676  0.08399025  0.08384553\n",
      "  0.0735262   0.05550208  0.04466838  0.04435319  0.04303247  0.04152769\n",
      "  0.03880343  0.03622075  0.02240173  0.01275061  0.00250464]\n",
      "output format:\n",
      "no of features, f1-score, roc-score of class-predictions, roc-score of probabilities\n",
      "1 0.00481927710843 0.500686913274 0.564706467202\n",
      "2 0.00497512437811 0.500939595594 0.809889017203\n",
      "3 0.00502512562814 0.501017344 0.809101102236\n",
      "4 0.01 0.502306807422 0.812684448935\n",
      "5 0.0102301790281 0.502481741336 0.81692275472\n",
      "6 0.00516795865633 0.501231152117 0.823756982092\n",
      "7 0.0 0.499727880578 0.826796089947\n",
      "8 0.0 0.499825066086 0.828271528778\n",
      "9 0.0 0.49974731768 0.831902959406\n",
      "10 0.0 0.49974731768 0.837516312918\n",
      "11 0.0 0.499786191883 0.840703743158\n",
      "12 0.0 0.499825066086 0.840734069107\n",
      "13 0.0 0.499708443477 0.840187337023\n",
      "14 0.0 0.499689006375 0.840967721386\n",
      "15 0.0 0.49974731768 0.839486329306\n",
      "16 0.0 0.499883377391 0.840422108716\n",
      "f1_best: 0.0102301790281\n"
     ]
    }
   ],
   "source": [
    "feature_selection(loan_train_processed[['City', 'Salary_Account', 'Employer_Name', 'Monthly_Income','Var5', \n",
    "                           'Loan_Amount_Applied', 'Loan_Tenure_Applied', \n",
    "                           'Existing_EMI', 'Loan_Amount_Submitted', 'Loan_Tenure_Submitted',\n",
    "                           'Var1', 'Filled_Form', 'Device_Type', 'Var2', 'Source', 'Var5', 'age_when_applied']], \n",
    "                  loan_train_processed.Disbursed)"
   ]
  },
  {
   "cell_type": "code",
   "execution_count": null,
   "metadata": {
    "collapsed": true
   },
   "outputs": [],
   "source": []
  }
 ],
 "metadata": {
  "kernelspec": {
   "display_name": "Python 2",
   "language": "python",
   "name": "python2"
  },
  "language_info": {
   "codemirror_mode": {
    "name": "ipython",
    "version": 2
   },
   "file_extension": ".py",
   "mimetype": "text/x-python",
   "name": "python",
   "nbconvert_exporter": "python",
   "pygments_lexer": "ipython2",
   "version": "2.7.6"
  }
 },
 "nbformat": 4,
 "nbformat_minor": 0
}
