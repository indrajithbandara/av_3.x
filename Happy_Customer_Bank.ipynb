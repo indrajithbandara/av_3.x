{
 "cells": [
  {
   "cell_type": "code",
   "execution_count": 1,
   "metadata": {
    "collapsed": true
   },
   "outputs": [],
   "source": [
    "import numpy as np\n",
    "import pandas as pd\n",
    "import seaborn as sb\n",
    "import matplotlib.pyplot as plt\n",
    "import xgboost as xgb\n",
    "\n",
    "%matplotlib inline"
   ]
  },
  {
   "cell_type": "code",
   "execution_count": 2,
   "metadata": {
    "collapsed": false
   },
   "outputs": [],
   "source": [
    "loan_train = pd.read_csv('./data/Train_nyOWmfK_3nIkfd6.csv', index_col='ID')\n",
    "loan_test = pd.read_csv('./data/Test_bCtAN1w_1.csv', index_col='ID')"
   ]
  },
  {
   "cell_type": "code",
   "execution_count": 3,
   "metadata": {
    "collapsed": false
   },
   "outputs": [],
   "source": [
    "%run scripts/helper.py\n",
    "%run scripts/preprocess.py\n",
    "%run scripts/models.py\n",
    "%run scripts/metrics.py\n",
    "%run scripts/ensembling.py"
   ]
  },
  {
   "cell_type": "code",
   "execution_count": 4,
   "metadata": {
    "collapsed": false
   },
   "outputs": [],
   "source": [
    "# columns without any missing values\n",
    "not_nulls = not_null_cols(loan_train)"
   ]
  },
  {
   "cell_type": "code",
   "execution_count": 5,
   "metadata": {
    "collapsed": false
   },
   "outputs": [],
   "source": [
    "# columns with type object that don't have any missing values\n",
    "obj_cols = cols_with_obj_type(loan_train, not_nulls)"
   ]
  },
  {
   "cell_type": "code",
   "execution_count": 6,
   "metadata": {
    "collapsed": true
   },
   "outputs": [],
   "source": [
    "# Dubious applications, removing them\n",
    "loan_train = loan_train[(loan_train.index != 'ID036559D40')\n",
    "                        & (loan_train.index != 'ID113457T20')]"
   ]
  },
  {
   "cell_type": "code",
   "execution_count": 7,
   "metadata": {
    "collapsed": false
   },
   "outputs": [],
   "source": [
    "loan_train_processed, loan_test_processed = process(loan_train, loan_test, obj_cols)"
   ]
  },
  {
   "cell_type": "code",
   "execution_count": 8,
   "metadata": {
    "collapsed": false
   },
   "outputs": [
    {
     "data": {
      "text/plain": [
       "Index([u'Gender', u'City', u'Monthly_Income', u'DOB', u'Lead_Creation_Date', u'Loan_Amount_Applied', u'Loan_Tenure_Applied', u'Existing_EMI', u'Employer_Name', u'Salary_Account', u'Mobile_Verified', u'Var5', u'Var1', u'Loan_Amount_Submitted', u'Loan_Tenure_Submitted', u'Interest_Rate', u'Processing_Fee', u'EMI_Loan_Submitted', u'Filled_Form', u'Device_Type', u'Var2', u'Source', u'Var4', u'LoggedIn', u'Disbursed'], dtype='object')"
      ]
     },
     "execution_count": 8,
     "metadata": {},
     "output_type": "execute_result"
    }
   ],
   "source": [
    "loan_train_processed.columns"
   ]
  },
  {
   "cell_type": "markdown",
   "metadata": {},
   "source": [
    "## Exploratory Data Analysis"
   ]
  },
  {
   "cell_type": "code",
   "execution_count": 9,
   "metadata": {
    "collapsed": false
   },
   "outputs": [],
   "source": [
    "cities = loan_train_processed.groupby(['City', 'Disbursed']).size().unstack()"
   ]
  },
  {
   "cell_type": "code",
   "execution_count": 10,
   "metadata": {
    "collapsed": false
   },
   "outputs": [
    {
     "data": {
      "text/html": [
       "<div style=\"max-height:1000px;max-width:1500px;overflow:auto;\">\n",
       "<table border=\"1\" class=\"dataframe\">\n",
       "  <thead>\n",
       "    <tr style=\"text-align: right;\">\n",
       "      <th>Disbursed</th>\n",
       "      <th>0</th>\n",
       "      <th>1</th>\n",
       "    </tr>\n",
       "    <tr>\n",
       "      <th>City</th>\n",
       "      <th></th>\n",
       "      <th></th>\n",
       "    </tr>\n",
       "  </thead>\n",
       "  <tbody>\n",
       "    <tr>\n",
       "      <th>Delhi</th>\n",
       "      <td> 12257</td>\n",
       "      <td> 269</td>\n",
       "    </tr>\n",
       "    <tr>\n",
       "      <th>Bengaluru</th>\n",
       "      <td> 10645</td>\n",
       "      <td> 179</td>\n",
       "    </tr>\n",
       "    <tr>\n",
       "      <th>Mumbai</th>\n",
       "      <td> 10625</td>\n",
       "      <td> 169</td>\n",
       "    </tr>\n",
       "    <tr>\n",
       "      <th>Pune</th>\n",
       "      <td>  5086</td>\n",
       "      <td> 121</td>\n",
       "    </tr>\n",
       "    <tr>\n",
       "      <th>Hyderabad</th>\n",
       "      <td>  7188</td>\n",
       "      <td>  84</td>\n",
       "    </tr>\n",
       "    <tr>\n",
       "      <th>Chennai</th>\n",
       "      <td>  6849</td>\n",
       "      <td>  67</td>\n",
       "    </tr>\n",
       "    <tr>\n",
       "      <th>Kolkata</th>\n",
       "      <td>  2838</td>\n",
       "      <td>  50</td>\n",
       "    </tr>\n",
       "    <tr>\n",
       "      <th>Gurgaon</th>\n",
       "      <td>  1185</td>\n",
       "      <td>  27</td>\n",
       "    </tr>\n",
       "    <tr>\n",
       "      <th>Jaipur</th>\n",
       "      <td>  1307</td>\n",
       "      <td>  24</td>\n",
       "    </tr>\n",
       "    <tr>\n",
       "      <th>Ahmedabad</th>\n",
       "      <td>  1764</td>\n",
       "      <td>  24</td>\n",
       "    </tr>\n",
       "    <tr>\n",
       "      <th>Indore</th>\n",
       "      <td>   716</td>\n",
       "      <td>  18</td>\n",
       "    </tr>\n",
       "    <tr>\n",
       "      <th>Nagpur</th>\n",
       "      <td>   578</td>\n",
       "      <td>  16</td>\n",
       "    </tr>\n",
       "    <tr>\n",
       "      <th>Chandigarh</th>\n",
       "      <td>   855</td>\n",
       "      <td>  15</td>\n",
       "    </tr>\n",
       "    <tr>\n",
       "      <th>Lucknow</th>\n",
       "      <td>   568</td>\n",
       "      <td>  12</td>\n",
       "    </tr>\n",
       "    <tr>\n",
       "      <th>Thane</th>\n",
       "      <td>   893</td>\n",
       "      <td>  12</td>\n",
       "    </tr>\n",
       "    <tr>\n",
       "      <th>Bhubaneswar</th>\n",
       "      <td>   266</td>\n",
       "      <td>  11</td>\n",
       "    </tr>\n",
       "    <tr>\n",
       "      <th>Coimbatore</th>\n",
       "      <td>  1137</td>\n",
       "      <td>  10</td>\n",
       "    </tr>\n",
       "    <tr>\n",
       "      <th>Vadodara</th>\n",
       "      <td>   615</td>\n",
       "      <td>   9</td>\n",
       "    </tr>\n",
       "    <tr>\n",
       "      <th>Visakhapatnam</th>\n",
       "      <td>   756</td>\n",
       "      <td>   8</td>\n",
       "    </tr>\n",
       "    <tr>\n",
       "      <th>Surat</th>\n",
       "      <td>   795</td>\n",
       "      <td>   7</td>\n",
       "    </tr>\n",
       "    <tr>\n",
       "      <th>Faridabad</th>\n",
       "      <td>   440</td>\n",
       "      <td>   7</td>\n",
       "    </tr>\n",
       "    <tr>\n",
       "      <th>Ghaziabad</th>\n",
       "      <td>   553</td>\n",
       "      <td>   7</td>\n",
       "    </tr>\n",
       "    <tr>\n",
       "      <th>Nashik</th>\n",
       "      <td>   227</td>\n",
       "      <td>   6</td>\n",
       "    </tr>\n",
       "    <tr>\n",
       "      <th>Noida</th>\n",
       "      <td>   368</td>\n",
       "      <td>   5</td>\n",
       "    </tr>\n",
       "    <tr>\n",
       "      <th>Raipur</th>\n",
       "      <td>   284</td>\n",
       "      <td>   5</td>\n",
       "    </tr>\n",
       "    <tr>\n",
       "      <th>Patna</th>\n",
       "      <td>   457</td>\n",
       "      <td>   4</td>\n",
       "    </tr>\n",
       "    <tr>\n",
       "      <th>Aurangabad</th>\n",
       "      <td>   233</td>\n",
       "      <td>   4</td>\n",
       "    </tr>\n",
       "    <tr>\n",
       "      <th>Madurai</th>\n",
       "      <td>   371</td>\n",
       "      <td>   4</td>\n",
       "    </tr>\n",
       "    <tr>\n",
       "      <th>Meerut</th>\n",
       "      <td>   213</td>\n",
       "      <td>   4</td>\n",
       "    </tr>\n",
       "    <tr>\n",
       "      <th>Kochi</th>\n",
       "      <td>   489</td>\n",
       "      <td>   3</td>\n",
       "    </tr>\n",
       "    <tr>\n",
       "      <th>...</th>\n",
       "      <td>...</td>\n",
       "      <td>...</td>\n",
       "    </tr>\n",
       "    <tr>\n",
       "      <th>UDWADA</th>\n",
       "      <td>     1</td>\n",
       "      <td> NaN</td>\n",
       "    </tr>\n",
       "    <tr>\n",
       "      <th>UMBERGAON</th>\n",
       "      <td>     6</td>\n",
       "      <td> NaN</td>\n",
       "    </tr>\n",
       "    <tr>\n",
       "      <th>Udalguri</th>\n",
       "      <td>     3</td>\n",
       "      <td> NaN</td>\n",
       "    </tr>\n",
       "    <tr>\n",
       "      <th>Udham Singh Nagar</th>\n",
       "      <td>     8</td>\n",
       "      <td> NaN</td>\n",
       "    </tr>\n",
       "    <tr>\n",
       "      <th>Udhampur</th>\n",
       "      <td>     5</td>\n",
       "      <td> NaN</td>\n",
       "    </tr>\n",
       "    <tr>\n",
       "      <th>Udupi and Uttara Kannada</th>\n",
       "      <td>    25</td>\n",
       "      <td> NaN</td>\n",
       "    </tr>\n",
       "    <tr>\n",
       "      <th>Ujjain</th>\n",
       "      <td>    32</td>\n",
       "      <td> NaN</td>\n",
       "    </tr>\n",
       "    <tr>\n",
       "      <th>Umaria</th>\n",
       "      <td>     1</td>\n",
       "      <td> NaN</td>\n",
       "    </tr>\n",
       "    <tr>\n",
       "      <th>Una</th>\n",
       "      <td>     4</td>\n",
       "      <td> NaN</td>\n",
       "    </tr>\n",
       "    <tr>\n",
       "      <th>Unnao</th>\n",
       "      <td>    13</td>\n",
       "      <td> NaN</td>\n",
       "    </tr>\n",
       "    <tr>\n",
       "      <th>Upper Subansiri</th>\n",
       "      <td>     1</td>\n",
       "      <td> NaN</td>\n",
       "    </tr>\n",
       "    <tr>\n",
       "      <th>Uttar Dinajpur</th>\n",
       "      <td>     7</td>\n",
       "      <td> NaN</td>\n",
       "    </tr>\n",
       "    <tr>\n",
       "      <th>VALLABH VIDYANAGAR</th>\n",
       "      <td>     2</td>\n",
       "      <td> NaN</td>\n",
       "    </tr>\n",
       "    <tr>\n",
       "      <th>VIJAPUR</th>\n",
       "      <td>     3</td>\n",
       "      <td> NaN</td>\n",
       "    </tr>\n",
       "    <tr>\n",
       "      <th>VIRPUR</th>\n",
       "      <td>     1</td>\n",
       "      <td> NaN</td>\n",
       "    </tr>\n",
       "    <tr>\n",
       "      <th>VISNAGAR</th>\n",
       "      <td>     6</td>\n",
       "      <td> NaN</td>\n",
       "    </tr>\n",
       "    <tr>\n",
       "      <th>Valsad</th>\n",
       "      <td>    29</td>\n",
       "      <td> NaN</td>\n",
       "    </tr>\n",
       "    <tr>\n",
       "      <th>Vidisha</th>\n",
       "      <td>     4</td>\n",
       "      <td> NaN</td>\n",
       "    </tr>\n",
       "    <tr>\n",
       "      <th>Viluppuram</th>\n",
       "      <td>    37</td>\n",
       "      <td> NaN</td>\n",
       "    </tr>\n",
       "    <tr>\n",
       "      <th>Virudhunagar</th>\n",
       "      <td>    20</td>\n",
       "      <td> NaN</td>\n",
       "    </tr>\n",
       "    <tr>\n",
       "      <th>Vizianagaram</th>\n",
       "      <td>    31</td>\n",
       "      <td> NaN</td>\n",
       "    </tr>\n",
       "    <tr>\n",
       "      <th>Vyara</th>\n",
       "      <td>    11</td>\n",
       "      <td> NaN</td>\n",
       "    </tr>\n",
       "    <tr>\n",
       "      <th>Washim</th>\n",
       "      <td>     3</td>\n",
       "      <td> NaN</td>\n",
       "    </tr>\n",
       "    <tr>\n",
       "      <th>Wayanad</th>\n",
       "      <td>     8</td>\n",
       "      <td> NaN</td>\n",
       "    </tr>\n",
       "    <tr>\n",
       "      <th>West Garo Hills</th>\n",
       "      <td>     6</td>\n",
       "      <td> NaN</td>\n",
       "    </tr>\n",
       "    <tr>\n",
       "      <th>West Godavari</th>\n",
       "      <td>    45</td>\n",
       "      <td> NaN</td>\n",
       "    </tr>\n",
       "    <tr>\n",
       "      <th>West Singhbhum</th>\n",
       "      <td>    14</td>\n",
       "      <td> NaN</td>\n",
       "    </tr>\n",
       "    <tr>\n",
       "      <th>Yadgir</th>\n",
       "      <td>     5</td>\n",
       "      <td> NaN</td>\n",
       "    </tr>\n",
       "    <tr>\n",
       "      <th>Yavatmal</th>\n",
       "      <td>    15</td>\n",
       "      <td> NaN</td>\n",
       "    </tr>\n",
       "    <tr>\n",
       "      <th>sri ganganagar</th>\n",
       "      <td>     8</td>\n",
       "      <td> NaN</td>\n",
       "    </tr>\n",
       "  </tbody>\n",
       "</table>\n",
       "<p>697 rows × 2 columns</p>\n",
       "</div>"
      ],
      "text/plain": [
       "Disbursed                     0    1\n",
       "City                                \n",
       "Delhi                     12257  269\n",
       "Bengaluru                 10645  179\n",
       "Mumbai                    10625  169\n",
       "Pune                       5086  121\n",
       "Hyderabad                  7188   84\n",
       "Chennai                    6849   67\n",
       "Kolkata                    2838   50\n",
       "Gurgaon                    1185   27\n",
       "Jaipur                     1307   24\n",
       "Ahmedabad                  1764   24\n",
       "Indore                      716   18\n",
       "Nagpur                      578   16\n",
       "Chandigarh                  855   15\n",
       "Lucknow                     568   12\n",
       "Thane                       893   12\n",
       "Bhubaneswar                 266   11\n",
       "Coimbatore                 1137   10\n",
       "Vadodara                    615    9\n",
       "Visakhapatnam               756    8\n",
       "Surat                       795    7\n",
       "Faridabad                   440    7\n",
       "Ghaziabad                   553    7\n",
       "Nashik                      227    6\n",
       "Noida                       368    5\n",
       "Raipur                      284    5\n",
       "Patna                       457    4\n",
       "Aurangabad                  233    4\n",
       "Madurai                     371    4\n",
       "Meerut                      213    4\n",
       "Kochi                       489    3\n",
       "...                         ...  ...\n",
       "UDWADA                        1  NaN\n",
       "UMBERGAON                     6  NaN\n",
       "Udalguri                      3  NaN\n",
       "Udham Singh Nagar             8  NaN\n",
       "Udhampur                      5  NaN\n",
       "Udupi and Uttara Kannada     25  NaN\n",
       "Ujjain                       32  NaN\n",
       "Umaria                        1  NaN\n",
       "Una                           4  NaN\n",
       "Unnao                        13  NaN\n",
       "Upper Subansiri               1  NaN\n",
       "Uttar Dinajpur                7  NaN\n",
       "VALLABH VIDYANAGAR            2  NaN\n",
       "VIJAPUR                       3  NaN\n",
       "VIRPUR                        1  NaN\n",
       "VISNAGAR                      6  NaN\n",
       "Valsad                       29  NaN\n",
       "Vidisha                       4  NaN\n",
       "Viluppuram                   37  NaN\n",
       "Virudhunagar                 20  NaN\n",
       "Vizianagaram                 31  NaN\n",
       "Vyara                        11  NaN\n",
       "Washim                        3  NaN\n",
       "Wayanad                       8  NaN\n",
       "West Garo Hills               6  NaN\n",
       "West Godavari                45  NaN\n",
       "West Singhbhum               14  NaN\n",
       "Yadgir                        5  NaN\n",
       "Yavatmal                     15  NaN\n",
       "sri ganganagar                8  NaN\n",
       "\n",
       "[697 rows x 2 columns]"
      ]
     },
     "execution_count": 10,
     "metadata": {},
     "output_type": "execute_result"
    }
   ],
   "source": [
    "cities.sort(columns=1, ascending=False)"
   ]
  },
  {
   "cell_type": "code",
   "execution_count": 11,
   "metadata": {
    "collapsed": false
   },
   "outputs": [],
   "source": [
    "def to_lower_case(c):\n",
    "    try:\n",
    "        if math.isnan(c):\n",
    "            return c\n",
    "        else:\n",
    "            return c.lower()\n",
    "    except:\n",
    "        return c\n",
    "    \n",
    "loan_train_processed['City'] = loan_train_processed.City.map(to_lower_case)\n",
    "loan_test_processed['City'] = loan_test_processed.City.map(to_lower_case)"
   ]
  },
  {
   "cell_type": "code",
   "execution_count": 12,
   "metadata": {
    "collapsed": true
   },
   "outputs": [],
   "source": [
    "# fill missing values with -1 for City\n",
    "loan_train_processed.City.fillna('-999', inplace=True)\n",
    "loan_test_processed.City.fillna('-999', inplace=True)"
   ]
  },
  {
   "cell_type": "code",
   "execution_count": 13,
   "metadata": {
    "collapsed": true
   },
   "outputs": [],
   "source": [
    "loan_train_processed['Salary_Account'] = loan_train_processed.Salary_Account.map(to_lower_case)\n",
    "loan_test_processed['Salary_Account'] = loan_test_processed.Salary_Account.map(to_lower_case)"
   ]
  },
  {
   "cell_type": "code",
   "execution_count": 14,
   "metadata": {
    "collapsed": true
   },
   "outputs": [],
   "source": [
    "# fill missing values with -1 for City\n",
    "loan_train_processed.Salary_Account.fillna('-999', inplace=True)\n",
    "loan_test_processed.Salary_Account.fillna('-999', inplace=True)"
   ]
  },
  {
   "cell_type": "code",
   "execution_count": 15,
   "metadata": {
    "collapsed": true
   },
   "outputs": [],
   "source": [
    "loan_train_processed['Employer_Name'] = loan_train_processed.Employer_Name.map(to_lower_case)\n",
    "loan_test_processed['Employer_Name'] = loan_test_processed.Employer_Name.map(to_lower_case)"
   ]
  },
  {
   "cell_type": "code",
   "execution_count": 16,
   "metadata": {
    "collapsed": true
   },
   "outputs": [],
   "source": [
    "# fill missing values with -1 for Employer's name\n",
    "loan_train_processed.Employer_Name.fillna('-999', inplace=True)\n",
    "loan_test_processed.Employer_Name.fillna('-999', inplace=True)"
   ]
  },
  {
   "cell_type": "markdown",
   "metadata": {},
   "source": [
    "## Data preparation and Cleaning"
   ]
  },
  {
   "cell_type": "code",
   "execution_count": 17,
   "metadata": {
    "collapsed": false
   },
   "outputs": [],
   "source": [
    "# encode city names and salary account in train and test\n",
    "loan_train_processed, loan_test_processed = process(loan_train_processed, loan_test_processed, ['City', \n",
    "                                                                                                'Salary_Account',\n",
    "                                                                                                'Employer_Name'])"
   ]
  },
  {
   "cell_type": "code",
   "execution_count": 18,
   "metadata": {
    "collapsed": false
   },
   "outputs": [],
   "source": [
    "# fill missing values for loan_amount_applied and loan_tenure_applied\n",
    "loan_train_processed.Loan_Amount_Applied.fillna(loan_train_processed.Loan_Amount_Applied.median(), inplace=True)\n",
    "loan_train_processed.Loan_Tenure_Applied.fillna(loan_train_processed.Loan_Tenure_Applied.median(), inplace=True)\n",
    "\n",
    "loan_test_processed.Loan_Amount_Applied.fillna(loan_test_processed.Loan_Amount_Applied.median(), inplace=True)\n",
    "loan_test_processed.Loan_Tenure_Applied.fillna(loan_test_processed.Loan_Tenure_Applied.median(), inplace=True)"
   ]
  },
  {
   "cell_type": "code",
   "execution_count": 19,
   "metadata": {
    "collapsed": true
   },
   "outputs": [],
   "source": [
    "# fill missing values for loan_amount_applied and loan_tenure_applied\n",
    "loan_train_processed.Loan_Amount_Submitted.fillna(loan_train_processed.Loan_Amount_Submitted.median(), inplace=True)\n",
    "loan_train_processed.Loan_Tenure_Submitted.fillna(loan_train_processed.Loan_Tenure_Submitted.median(), inplace=True)\n",
    "\n",
    "loan_test_processed.Loan_Amount_Submitted.fillna(loan_test_processed.Loan_Amount_Submitted.median(), inplace=True)\n",
    "loan_test_processed.Loan_Tenure_Submitted.fillna(loan_test_processed.Loan_Tenure_Submitted.median(), inplace=True)"
   ]
  },
  {
   "cell_type": "code",
   "execution_count": 20,
   "metadata": {
    "collapsed": true
   },
   "outputs": [],
   "source": [
    "# normalize the monthly income variable\n",
    "loan_train_processed['Monthly_Income'] = np.log1p(loan_train_processed.Monthly_Income)\n",
    "loan_test_processed['Monthly_Income'] = np.log1p(loan_test_processed.Monthly_Income)"
   ]
  },
  {
   "cell_type": "code",
   "execution_count": 21,
   "metadata": {
    "collapsed": false
   },
   "outputs": [],
   "source": [
    "# fill missing values for existing emis\n",
    "loan_train_processed.Existing_EMI.fillna(-999, inplace=True)\n",
    "loan_test_processed.Existing_EMI.fillna(-999, inplace=True)"
   ]
  },
  {
   "cell_type": "code",
   "execution_count": 22,
   "metadata": {
    "collapsed": true
   },
   "outputs": [],
   "source": [
    "# normalize loan applied amount\n",
    "loan_train_processed['Loan_Amount_Applied'] = np.log1p(loan_train_processed.Loan_Amount_Applied)\n",
    "loan_test_processed['Loan_Amount_Applied'] = np.log1p(loan_test_processed.Loan_Amount_Applied)"
   ]
  },
  {
   "cell_type": "code",
   "execution_count": 23,
   "metadata": {
    "collapsed": true
   },
   "outputs": [],
   "source": [
    "# normalize loan applied amount\n",
    "loan_train_processed['Loan_Amount_Submitted'] = np.log1p(loan_train_processed.Loan_Amount_Submitted)\n",
    "loan_test_processed['Loan_Amount_Submitted'] = np.log1p(loan_test_processed.Loan_Amount_Submitted)"
   ]
  },
  {
   "cell_type": "code",
   "execution_count": 24,
   "metadata": {
    "collapsed": true
   },
   "outputs": [],
   "source": [
    "# convert both DOB and Lead_Creation_Date to timestamp\n",
    "loan_train_processed['DOB'] = pd.to_datetime(loan_train_processed.DOB)\n",
    "loan_test_processed['DOB'] = pd.to_datetime(loan_test_processed.DOB)\n",
    "\n",
    "loan_train_processed['Lead_Creation_Date'] = pd.to_datetime(loan_train_processed.Lead_Creation_Date)\n",
    "loan_test_processed['Lead_Creation_Date'] = pd.to_datetime(loan_test_processed.Lead_Creation_Date)"
   ]
  },
  {
   "cell_type": "code",
   "execution_count": 25,
   "metadata": {
    "collapsed": false
   },
   "outputs": [],
   "source": [
    "# calculate age delta for training data\n",
    "loan_train_processed['age_delta'] = (loan_train_processed.Lead_Creation_Date - loan_train_processed.DOB)"
   ]
  },
  {
   "cell_type": "code",
   "execution_count": 26,
   "metadata": {
    "collapsed": true
   },
   "outputs": [],
   "source": [
    "# calculate age delta for testing data\n",
    "loan_test_processed['age_delta'] = (loan_test_processed.Lead_Creation_Date - loan_test_processed.DOB)"
   ]
  },
  {
   "cell_type": "code",
   "execution_count": 27,
   "metadata": {
    "collapsed": true
   },
   "outputs": [],
   "source": [
    "loan_train_processed.Interest_Rate.fillna(-999, inplace=True)\n",
    "loan_test_processed.Interest_Rate.fillna(-999, inplace=True)"
   ]
  },
  {
   "cell_type": "code",
   "execution_count": 28,
   "metadata": {
    "collapsed": false
   },
   "outputs": [],
   "source": [
    "# calculate new feature: age of candidate when applying for loan\n",
    "def get_age_in_years(age):\n",
    "    seconds = age / (1e9)\n",
    "    days = seconds / (24. * 60 * 60)\n",
    "    years = days / 365.\n",
    "    return int(years)\n",
    "\n",
    "loan_train_processed['age_when_applied'] = loan_train_processed.age_delta.apply(get_age_in_years)"
   ]
  },
  {
   "cell_type": "code",
   "execution_count": 29,
   "metadata": {
    "collapsed": true
   },
   "outputs": [],
   "source": [
    "loan_test_processed['age_when_applied'] = loan_test_processed.age_delta.apply(get_age_in_years)"
   ]
  },
  {
   "cell_type": "code",
   "execution_count": 30,
   "metadata": {
    "collapsed": false
   },
   "outputs": [
    {
     "data": {
      "image/png": "[encoded data removed]",
      "text/plain": [
       "<matplotlib.figure.Figure at 0x10b7b01d0>"
      ]
     },
     "metadata": {},
     "output_type": "display_data"
    }
   ],
   "source": [
    "loan_train_processed.hist(column='age_when_applied', by='Disbursed');"
   ]
  },
  {
   "cell_type": "markdown",
   "metadata": {},
   "source": [
    "### Model Building"
   ]
  },
  {
   "cell_type": "code",
   "execution_count": 31,
   "metadata": {
    "collapsed": false
   },
   "outputs": [],
   "source": [
    "features = loan_train_processed[['City', 'Salary_Account', 'Interest_Rate', 'Employer_Name', 'Monthly_Income', \n",
    "                                 'Loan_Amount_Applied', 'Loan_Tenure_Applied', \n",
    "                                 'Existing_EMI', 'Loan_Amount_Submitted',\n",
    "                                 'Var1', 'Source', 'Var5', 'age_when_applied',\n",
    "                                 'Filled_Form']]"
   ]
  },
  {
   "cell_type": "code",
   "execution_count": 32,
   "metadata": {
    "collapsed": false
   },
   "outputs": [
    {
     "name": "stderr",
     "output_type": "stream",
     "text": [
      "/Users/abhisheksharma/anaconda/lib/python2.7/site-packages/pandas/core/indexing.py:245: SettingWithCopyWarning: \n",
      "A value is trying to be set on a copy of a slice from a DataFrame.\n",
      "Try using .loc[row_indexer,col_indexer] = value instead\n",
      "\n",
      "See the the caveats in the documentation: http://pandas.pydata.org/pandas-docs/stable/indexing.html#indexing-view-versus-copy\n",
      "  self.obj[key] = np.nan\n",
      "/Users/abhisheksharma/anaconda/lib/python2.7/site-packages/pandas/core/indexing.py:415: SettingWithCopyWarning: \n",
      "A value is trying to be set on a copy of a slice from a DataFrame.\n",
      "Try using .loc[row_indexer,col_indexer] = value instead\n",
      "\n",
      "See the the caveats in the documentation: http://pandas.pydata.org/pandas-docs/stable/indexing.html#indexing-view-versus-copy\n",
      "  self.obj[item] = s\n"
     ]
    }
   ],
   "source": [
    "from sklearn.cluster import KMeans\n",
    "\n",
    "kmeans = KMeans(n_clusters=8, n_jobs=-1)\n",
    "kmeans.fit(features)\n",
    "\n",
    "features.loc[:, 'labels'] = kmeans.labels_"
   ]
  },
  {
   "cell_type": "code",
   "execution_count": 33,
   "metadata": {
    "collapsed": true
   },
   "outputs": [],
   "source": [
    "from sklearn.cross_validation import StratifiedShuffleSplit\n",
    "\n",
    "sss = StratifiedShuffleSplit(loan_train.Disbursed, n_iter=3, test_size=0.3, random_state=121)"
   ]
  },
  {
   "cell_type": "code",
   "execution_count": 34,
   "metadata": {
    "collapsed": true
   },
   "outputs": [],
   "source": [
    "train_idx, test_idx = next(iter(sss))"
   ]
  },
  {
   "cell_type": "code",
   "execution_count": 35,
   "metadata": {
    "collapsed": true
   },
   "outputs": [],
   "source": [
    "Xt = features.iloc[train_idx]\n",
    "Xv = features.iloc[test_idx]\n",
    "\n",
    "yt = loan_train.Disbursed.iloc[train_idx]\n",
    "yv = loan_train.Disbursed.iloc[test_idx]"
   ]
  },
  {
   "cell_type": "code",
   "execution_count": 44,
   "metadata": {
    "collapsed": false
   },
   "outputs": [
    {
     "name": "stderr",
     "output_type": "stream",
     "text": [
      "[0]\teval-auc:0.748442\ttrain-auc:0.741003\n",
      "[1]\teval-auc:0.759786\ttrain-auc:0.757972\n",
      "[2]\teval-auc:0.777484\ttrain-auc:0.776839\n",
      "[3]\teval-auc:0.776705\ttrain-auc:0.776538\n",
      "[4]\teval-auc:0.777002\ttrain-auc:0.775752\n",
      "[5]\teval-auc:0.776073\ttrain-auc:0.775182\n",
      "[6]\teval-auc:0.776353\ttrain-auc:0.775947\n",
      "[7]\teval-auc:0.776517\ttrain-auc:0.775976\n",
      "[8]\teval-auc:0.777062\ttrain-auc:0.775634\n",
      "[9]\teval-auc:0.776524\ttrain-auc:0.775450\n",
      "[10]\teval-auc:0.777000\ttrain-auc:0.775510\n",
      "[11]\teval-auc:0.777569\ttrain-auc:0.775635\n",
      "[12]\teval-auc:0.778866\ttrain-auc:0.778253\n",
      "[13]\teval-auc:0.779001\ttrain-auc:0.780730\n",
      "[14]\teval-auc:0.778370\ttrain-auc:0.780602\n",
      "[15]\teval-auc:0.777982\ttrain-auc:0.779067\n",
      "[16]\teval-auc:0.779035\ttrain-auc:0.780817\n",
      "[17]\teval-auc:0.779032\ttrain-auc:0.781290\n",
      "[18]\teval-auc:0.779011\ttrain-auc:0.781796\n",
      "[19]\teval-auc:0.779026\ttrain-auc:0.781654\n",
      "[20]\teval-auc:0.778655\ttrain-auc:0.781576\n",
      "[21]\teval-auc:0.778523\ttrain-auc:0.781067\n",
      "[22]\teval-auc:0.791517\ttrain-auc:0.791224\n",
      "[23]\teval-auc:0.793622\ttrain-auc:0.790753\n",
      "[24]\teval-auc:0.793326\ttrain-auc:0.790000\n",
      "[25]\teval-auc:0.793751\ttrain-auc:0.790936\n",
      "[26]\teval-auc:0.793666\ttrain-auc:0.791299\n",
      "[27]\teval-auc:0.793347\ttrain-auc:0.791055\n",
      "[28]\teval-auc:0.793865\ttrain-auc:0.790814\n",
      "[29]\teval-auc:0.793753\ttrain-auc:0.791186\n",
      "[30]\teval-auc:0.793584\ttrain-auc:0.790945\n",
      "[31]\teval-auc:0.794483\ttrain-auc:0.791845\n",
      "[32]\teval-auc:0.794234\ttrain-auc:0.791225\n",
      "[33]\teval-auc:0.795214\ttrain-auc:0.791833\n",
      "[34]\teval-auc:0.800851\ttrain-auc:0.794736\n",
      "[35]\teval-auc:0.801129\ttrain-auc:0.794637\n",
      "[36]\teval-auc:0.800665\ttrain-auc:0.794224\n",
      "[37]\teval-auc:0.800690\ttrain-auc:0.794139\n",
      "[38]\teval-auc:0.800984\ttrain-auc:0.794499\n",
      "[39]\teval-auc:0.800940\ttrain-auc:0.794401\n",
      "[40]\teval-auc:0.804980\ttrain-auc:0.796564\n",
      "[41]\teval-auc:0.804990\ttrain-auc:0.796533\n",
      "[42]\teval-auc:0.805484\ttrain-auc:0.795970\n",
      "[43]\teval-auc:0.806180\ttrain-auc:0.797391\n",
      "[44]\teval-auc:0.805216\ttrain-auc:0.796827\n",
      "[45]\teval-auc:0.805486\ttrain-auc:0.797744\n",
      "[46]\teval-auc:0.805483\ttrain-auc:0.797481\n",
      "[47]\teval-auc:0.805594\ttrain-auc:0.797843\n",
      "[48]\teval-auc:0.805341\ttrain-auc:0.797788\n",
      "[49]\teval-auc:0.812857\ttrain-auc:0.807883\n",
      "[50]\teval-auc:0.812588\ttrain-auc:0.807951\n",
      "[51]\teval-auc:0.812886\ttrain-auc:0.808722\n",
      "[52]\teval-auc:0.812979\ttrain-auc:0.808745\n",
      "[53]\teval-auc:0.812825\ttrain-auc:0.808836\n",
      "[54]\teval-auc:0.813160\ttrain-auc:0.808996\n",
      "[55]\teval-auc:0.813679\ttrain-auc:0.809072\n",
      "[56]\teval-auc:0.813730\ttrain-auc:0.808821\n",
      "[57]\teval-auc:0.813962\ttrain-auc:0.809316\n",
      "[58]\teval-auc:0.814218\ttrain-auc:0.809862\n",
      "[59]\teval-auc:0.814139\ttrain-auc:0.809888\n",
      "[60]\teval-auc:0.814079\ttrain-auc:0.809934\n",
      "[61]\teval-auc:0.814099\ttrain-auc:0.810711\n",
      "[62]\teval-auc:0.814389\ttrain-auc:0.811051\n",
      "[63]\teval-auc:0.814225\ttrain-auc:0.811207\n",
      "[64]\teval-auc:0.814133\ttrain-auc:0.811013\n",
      "[65]\teval-auc:0.813944\ttrain-auc:0.810933\n",
      "[66]\teval-auc:0.813985\ttrain-auc:0.811052\n",
      "[67]\teval-auc:0.813830\ttrain-auc:0.811108\n",
      "[68]\teval-auc:0.814129\ttrain-auc:0.811457\n",
      "[69]\teval-auc:0.814464\ttrain-auc:0.812469\n",
      "[70]\teval-auc:0.814721\ttrain-auc:0.812501\n",
      "[71]\teval-auc:0.814629\ttrain-auc:0.813097\n",
      "[72]\teval-auc:0.814494\ttrain-auc:0.813162\n",
      "[73]\teval-auc:0.814645\ttrain-auc:0.813173\n",
      "[74]\teval-auc:0.814439\ttrain-auc:0.812999\n",
      "[75]\teval-auc:0.814363\ttrain-auc:0.813013\n",
      "[76]\teval-auc:0.814371\ttrain-auc:0.812932\n",
      "[77]\teval-auc:0.814299\ttrain-auc:0.813022\n",
      "[78]\teval-auc:0.815348\ttrain-auc:0.813443\n",
      "[79]\teval-auc:0.815073\ttrain-auc:0.813338\n",
      "[80]\teval-auc:0.814961\ttrain-auc:0.813249\n",
      "[81]\teval-auc:0.814881\ttrain-auc:0.813257\n",
      "[82]\teval-auc:0.814691\ttrain-auc:0.813086\n",
      "[83]\teval-auc:0.814675\ttrain-auc:0.813001\n",
      "[84]\teval-auc:0.815158\ttrain-auc:0.813013\n",
      "[85]\teval-auc:0.815443\ttrain-auc:0.814196\n",
      "[86]\teval-auc:0.815271\ttrain-auc:0.814089\n",
      "[87]\teval-auc:0.815208\ttrain-auc:0.813992\n",
      "[88]\teval-auc:0.815222\ttrain-auc:0.813874\n",
      "[89]\teval-auc:0.815214\ttrain-auc:0.813747\n",
      "[90]\teval-auc:0.815345\ttrain-auc:0.814117\n",
      "[91]\teval-auc:0.815413\ttrain-auc:0.814517\n",
      "[92]\teval-auc:0.815559\ttrain-auc:0.814608\n",
      "[93]\teval-auc:0.815751\ttrain-auc:0.814765\n",
      "[94]\teval-auc:0.815842\ttrain-auc:0.814836\n",
      "[95]\teval-auc:0.816079\ttrain-auc:0.815336\n",
      "[96]\teval-auc:0.816240\ttrain-auc:0.815401\n",
      "[97]\teval-auc:0.816429\ttrain-auc:0.815607\n",
      "[98]\teval-auc:0.816498\ttrain-auc:0.815519\n",
      "[99]\teval-auc:0.816417\ttrain-auc:0.815287\n",
      "[100]\teval-auc:0.816354\ttrain-auc:0.815442\n",
      "[101]\teval-auc:0.816254\ttrain-auc:0.815303\n",
      "[102]\teval-auc:0.816317\ttrain-auc:0.815304\n",
      "[103]\teval-auc:0.816095\ttrain-auc:0.815379\n",
      "[104]\teval-auc:0.816080\ttrain-auc:0.815402\n",
      "[105]\teval-auc:0.816325\ttrain-auc:0.816072\n",
      "[106]\teval-auc:0.816245\ttrain-auc:0.816017\n",
      "[107]\teval-auc:0.816293\ttrain-auc:0.816126\n",
      "[108]\teval-auc:0.816259\ttrain-auc:0.816042\n",
      "[109]\teval-auc:0.816406\ttrain-auc:0.816236\n",
      "[110]\teval-auc:0.816367\ttrain-auc:0.816521\n",
      "[111]\teval-auc:0.816492\ttrain-auc:0.816891\n",
      "[112]\teval-auc:0.816409\ttrain-auc:0.816778\n",
      "[113]\teval-auc:0.816531\ttrain-auc:0.816780\n",
      "[114]\teval-auc:0.816753\ttrain-auc:0.817097\n",
      "[115]\teval-auc:0.816824\ttrain-auc:0.816992\n",
      "[116]\teval-auc:0.816917\ttrain-auc:0.816883\n",
      "[117]\teval-auc:0.817231\ttrain-auc:0.817240\n",
      "[118]\teval-auc:0.817211\ttrain-auc:0.817322\n",
      "[119]\teval-auc:0.817912\ttrain-auc:0.817803\n",
      "[120]\teval-auc:0.817916\ttrain-auc:0.817890\n",
      "[121]\teval-auc:0.817809\ttrain-auc:0.817717\n",
      "[122]\teval-auc:0.824192\ttrain-auc:0.820494\n",
      "[123]\teval-auc:0.827312\ttrain-auc:0.827152\n",
      "[124]\teval-auc:0.827368\ttrain-auc:0.827910\n",
      "[125]\teval-auc:0.827484\ttrain-auc:0.827986\n",
      "[126]\teval-auc:0.827536\ttrain-auc:0.828298\n",
      "[127]\teval-auc:0.827550\ttrain-auc:0.828268\n",
      "[128]\teval-auc:0.827457\ttrain-auc:0.828240\n",
      "[129]\teval-auc:0.827438\ttrain-auc:0.828179\n",
      "[130]\teval-auc:0.827211\ttrain-auc:0.828040\n",
      "[131]\teval-auc:0.827496\ttrain-auc:0.828154\n",
      "[132]\teval-auc:0.827589\ttrain-auc:0.828353\n",
      "[133]\teval-auc:0.827557\ttrain-auc:0.828317\n",
      "[134]\teval-auc:0.827735\ttrain-auc:0.828962\n",
      "[135]\teval-auc:0.828137\ttrain-auc:0.829541\n",
      "[136]\teval-auc:0.828168\ttrain-auc:0.829545\n",
      "[137]\teval-auc:0.828215\ttrain-auc:0.829901\n",
      "[138]\teval-auc:0.828271\ttrain-auc:0.830240\n",
      "[139]\teval-auc:0.828360\ttrain-auc:0.830683\n",
      "[140]\teval-auc:0.828272\ttrain-auc:0.830637\n",
      "[141]\teval-auc:0.828269\ttrain-auc:0.830653\n",
      "[142]\teval-auc:0.828674\ttrain-auc:0.831181\n",
      "[143]\teval-auc:0.828806\ttrain-auc:0.831458\n",
      "[144]\teval-auc:0.828693\ttrain-auc:0.831420\n",
      "[145]\teval-auc:0.828529\ttrain-auc:0.831374\n",
      "[146]\teval-auc:0.828593\ttrain-auc:0.831628\n",
      "[147]\teval-auc:0.828748\ttrain-auc:0.831933\n",
      "[148]\teval-auc:0.828630\ttrain-auc:0.832091\n",
      "[149]\teval-auc:0.828616\ttrain-auc:0.832246\n",
      "[150]\teval-auc:0.828716\ttrain-auc:0.832490\n",
      "[151]\teval-auc:0.829029\ttrain-auc:0.832819\n",
      "[152]\teval-auc:0.828773\ttrain-auc:0.832962\n",
      "[153]\teval-auc:0.828871\ttrain-auc:0.833101\n",
      "[154]\teval-auc:0.828879\ttrain-auc:0.833232\n",
      "[155]\teval-auc:0.828911\ttrain-auc:0.833187\n",
      "[156]\teval-auc:0.828827\ttrain-auc:0.833537\n",
      "[157]\teval-auc:0.828871\ttrain-auc:0.833643\n",
      "[158]\teval-auc:0.828842\ttrain-auc:0.834264\n",
      "[159]\teval-auc:0.828924\ttrain-auc:0.834311\n",
      "[160]\teval-auc:0.828929\ttrain-auc:0.834342\n",
      "[161]\teval-auc:0.828931\ttrain-auc:0.834607\n",
      "[162]\teval-auc:0.829013\ttrain-auc:0.834785\n",
      "[163]\teval-auc:0.828992\ttrain-auc:0.835018\n",
      "[164]\teval-auc:0.828974\ttrain-auc:0.835082\n",
      "[165]\teval-auc:0.829419\ttrain-auc:0.835728\n",
      "[166]\teval-auc:0.829715\ttrain-auc:0.836039\n",
      "[167]\teval-auc:0.829758\ttrain-auc:0.836228\n",
      "[168]\teval-auc:0.829938\ttrain-auc:0.836348\n",
      "[169]\teval-auc:0.830224\ttrain-auc:0.836525\n",
      "[170]\teval-auc:0.830295\ttrain-auc:0.836541\n",
      "[171]\teval-auc:0.830433\ttrain-auc:0.836643\n",
      "[172]\teval-auc:0.830571\ttrain-auc:0.836721\n",
      "[173]\teval-auc:0.830764\ttrain-auc:0.836685\n",
      "[174]\teval-auc:0.830777\ttrain-auc:0.836693\n",
      "[175]\teval-auc:0.830877\ttrain-auc:0.836847\n",
      "[176]\teval-auc:0.830753\ttrain-auc:0.837308\n",
      "[177]\teval-auc:0.830829\ttrain-auc:0.837593\n",
      "[178]\teval-auc:0.830762\ttrain-auc:0.837728\n",
      "[179]\teval-auc:0.830697\ttrain-auc:0.837994\n",
      "[180]\teval-auc:0.830798\ttrain-auc:0.838027\n",
      "[181]\teval-auc:0.831145\ttrain-auc:0.838280\n",
      "[182]\teval-auc:0.831382\ttrain-auc:0.838368\n",
      "[183]\teval-auc:0.831479\ttrain-auc:0.838570\n",
      "[184]\teval-auc:0.831768\ttrain-auc:0.838824\n",
      "[185]\teval-auc:0.831740\ttrain-auc:0.838888\n",
      "[186]\teval-auc:0.831663\ttrain-auc:0.838904\n",
      "[187]\teval-auc:0.831661\ttrain-auc:0.839007\n",
      "[188]\teval-auc:0.831692\ttrain-auc:0.839032\n",
      "[189]\teval-auc:0.831694\ttrain-auc:0.839365\n",
      "[190]\teval-auc:0.831662\ttrain-auc:0.839392\n",
      "[191]\teval-auc:0.831628\ttrain-auc:0.839363\n",
      "[192]\teval-auc:0.831656\ttrain-auc:0.839410\n",
      "[193]\teval-auc:0.831686\ttrain-auc:0.839517\n",
      "[194]\teval-auc:0.831670\ttrain-auc:0.839650\n",
      "[195]\teval-auc:0.831776\ttrain-auc:0.839627\n",
      "[196]\teval-auc:0.831690\ttrain-auc:0.839909\n",
      "[197]\teval-auc:0.831850\ttrain-auc:0.840220\n",
      "[198]\teval-auc:0.831716\ttrain-auc:0.840355\n",
      "[199]\teval-auc:0.831864\ttrain-auc:0.840488\n",
      "[200]\teval-auc:0.831904\ttrain-auc:0.840906\n",
      "[201]\teval-auc:0.831956\ttrain-auc:0.840984\n",
      "[202]\teval-auc:0.831966\ttrain-auc:0.841174\n",
      "[203]\teval-auc:0.832057\ttrain-auc:0.841477\n",
      "[204]\teval-auc:0.832238\ttrain-auc:0.841692\n",
      "[205]\teval-auc:0.832550\ttrain-auc:0.842407\n",
      "[206]\teval-auc:0.832548\ttrain-auc:0.842723\n",
      "[207]\teval-auc:0.832634\ttrain-auc:0.843029\n",
      "[208]\teval-auc:0.832656\ttrain-auc:0.843012\n",
      "[209]\teval-auc:0.832609\ttrain-auc:0.843106\n",
      "[210]\teval-auc:0.832468\ttrain-auc:0.843104\n",
      "[211]\teval-auc:0.832546\ttrain-auc:0.843228\n",
      "[212]\teval-auc:0.832544\ttrain-auc:0.843523\n",
      "[213]\teval-auc:0.832478\ttrain-auc:0.843930\n",
      "[214]\teval-auc:0.832468\ttrain-auc:0.843955\n",
      "[215]\teval-auc:0.832466\ttrain-auc:0.844085\n",
      "[216]\teval-auc:0.832507\ttrain-auc:0.844160\n",
      "[217]\teval-auc:0.832554\ttrain-auc:0.844263\n",
      "[218]\teval-auc:0.832644\ttrain-auc:0.844550\n",
      "[219]\teval-auc:0.832796\ttrain-auc:0.844506\n",
      "[220]\teval-auc:0.832808\ttrain-auc:0.844620\n",
      "[221]\teval-auc:0.832808\ttrain-auc:0.844878\n",
      "[222]\teval-auc:0.832832\ttrain-auc:0.844958\n",
      "[223]\teval-auc:0.833004\ttrain-auc:0.844926\n",
      "[224]\teval-auc:0.833090\ttrain-auc:0.844855\n",
      "[225]\teval-auc:0.833355\ttrain-auc:0.844904\n",
      "[226]\teval-auc:0.833474\ttrain-auc:0.845055\n",
      "[227]\teval-auc:0.833365\ttrain-auc:0.845263\n",
      "[228]\teval-auc:0.833622\ttrain-auc:0.845389\n",
      "[229]\teval-auc:0.833722\ttrain-auc:0.845639\n",
      "[230]\teval-auc:0.833891\ttrain-auc:0.845785\n",
      "[231]\teval-auc:0.834039\ttrain-auc:0.846227\n",
      "[232]\teval-auc:0.834000\ttrain-auc:0.846382\n",
      "[233]\teval-auc:0.833820\ttrain-auc:0.846669\n",
      "[234]\teval-auc:0.833848\ttrain-auc:0.846584\n",
      "[235]\teval-auc:0.833822\ttrain-auc:0.846660\n",
      "[236]\teval-auc:0.833870\ttrain-auc:0.846633\n",
      "[237]\teval-auc:0.833748\ttrain-auc:0.846854\n",
      "[238]\teval-auc:0.833817\ttrain-auc:0.847079\n",
      "[239]\teval-auc:0.833819\ttrain-auc:0.847098\n",
      "[240]\teval-auc:0.833955\ttrain-auc:0.847447\n",
      "[241]\teval-auc:0.833750\ttrain-auc:0.847787\n",
      "[242]\teval-auc:0.833731\ttrain-auc:0.847905\n",
      "[243]\teval-auc:0.833900\ttrain-auc:0.848001\n",
      "[244]\teval-auc:0.833864\ttrain-auc:0.848292\n",
      "[245]\teval-auc:0.833812\ttrain-auc:0.848418\n",
      "[246]\teval-auc:0.833948\ttrain-auc:0.848536\n",
      "[247]\teval-auc:0.834018\ttrain-auc:0.849015\n",
      "[248]\teval-auc:0.834205\ttrain-auc:0.849441\n",
      "[249]\teval-auc:0.834154\ttrain-auc:0.849472\n",
      "[250]\teval-auc:0.834216\ttrain-auc:0.849337\n",
      "[251]\teval-auc:0.834219\ttrain-auc:0.849382\n",
      "[252]\teval-auc:0.834392\ttrain-auc:0.849735\n",
      "[253]\teval-auc:0.834396\ttrain-auc:0.849818\n",
      "[254]\teval-auc:0.834541\ttrain-auc:0.849729\n",
      "[255]\teval-auc:0.834622\ttrain-auc:0.849876\n",
      "[256]\teval-auc:0.834746\ttrain-auc:0.850209\n",
      "[257]\teval-auc:0.834727\ttrain-auc:0.850359\n",
      "[258]\teval-auc:0.834900\ttrain-auc:0.850747\n",
      "[259]\teval-auc:0.834907\ttrain-auc:0.850863\n",
      "[260]\teval-auc:0.835184\ttrain-auc:0.851318\n",
      "[261]\teval-auc:0.835147\ttrain-auc:0.851466\n",
      "[262]\teval-auc:0.835215\ttrain-auc:0.851842\n",
      "[263]\teval-auc:0.835149\ttrain-auc:0.851967\n",
      "[264]\teval-auc:0.835828\ttrain-auc:0.851899\n",
      "[265]\teval-auc:0.836054\ttrain-auc:0.852287\n",
      "[266]\teval-auc:0.836189\ttrain-auc:0.852508\n",
      "[267]\teval-auc:0.836188\ttrain-auc:0.852566\n",
      "[268]\teval-auc:0.836183\ttrain-auc:0.852755\n",
      "[269]\teval-auc:0.836213\ttrain-auc:0.852895\n",
      "[270]\teval-auc:0.836215\ttrain-auc:0.853049\n",
      "[271]\teval-auc:0.836283\ttrain-auc:0.853135\n",
      "[272]\teval-auc:0.836214\ttrain-auc:0.853318\n",
      "[273]\teval-auc:0.836159\ttrain-auc:0.853536\n",
      "[274]\teval-auc:0.836209\ttrain-auc:0.853725\n",
      "[275]\teval-auc:0.836202\ttrain-auc:0.854143\n",
      "[276]\teval-auc:0.836201\ttrain-auc:0.854274\n",
      "[277]\teval-auc:0.836257\ttrain-auc:0.854770\n",
      "[278]\teval-auc:0.836608\ttrain-auc:0.854986\n",
      "[279]\teval-auc:0.836600\ttrain-auc:0.855146\n",
      "[280]\teval-auc:0.836735\ttrain-auc:0.855493\n",
      "[281]\teval-auc:0.836817\ttrain-auc:0.856293\n",
      "[282]\teval-auc:0.836923\ttrain-auc:0.856348\n",
      "[283]\teval-auc:0.837153\ttrain-auc:0.856535\n",
      "[284]\teval-auc:0.837606\ttrain-auc:0.856706\n",
      "[285]\teval-auc:0.837630\ttrain-auc:0.856736\n",
      "[286]\teval-auc:0.837660\ttrain-auc:0.856971\n",
      "[287]\teval-auc:0.837706\ttrain-auc:0.857232\n",
      "[288]\teval-auc:0.837599\ttrain-auc:0.857523\n",
      "[289]\teval-auc:0.837423\ttrain-auc:0.857836\n",
      "[290]\teval-auc:0.837475\ttrain-auc:0.858067\n",
      "[291]\teval-auc:0.837393\ttrain-auc:0.858125\n",
      "[292]\teval-auc:0.837603\ttrain-auc:0.858210\n",
      "[293]\teval-auc:0.837612\ttrain-auc:0.858461\n",
      "[294]\teval-auc:0.837666\ttrain-auc:0.858603\n",
      "[295]\teval-auc:0.837832\ttrain-auc:0.858566\n",
      "[296]\teval-auc:0.837866\ttrain-auc:0.858835\n",
      "[297]\teval-auc:0.837980\ttrain-auc:0.858842\n",
      "[298]\teval-auc:0.838212\ttrain-auc:0.859293\n",
      "[299]\teval-auc:0.838311\ttrain-auc:0.859481\n",
      "[300]\teval-auc:0.838248\ttrain-auc:0.859538\n",
      "[301]\teval-auc:0.838477\ttrain-auc:0.859946\n",
      "[302]\teval-auc:0.838681\ttrain-auc:0.860240\n",
      "[303]\teval-auc:0.838620\ttrain-auc:0.860395\n",
      "[304]\teval-auc:0.838543\ttrain-auc:0.860591\n",
      "[305]\teval-auc:0.838704\ttrain-auc:0.860666\n",
      "[306]\teval-auc:0.838590\ttrain-auc:0.860601\n",
      "[307]\teval-auc:0.838605\ttrain-auc:0.860654\n",
      "[308]\teval-auc:0.838676\ttrain-auc:0.860770\n",
      "[309]\teval-auc:0.838932\ttrain-auc:0.860967\n",
      "[310]\teval-auc:0.838921\ttrain-auc:0.861037\n",
      "[311]\teval-auc:0.839085\ttrain-auc:0.861327\n",
      "[312]\teval-auc:0.839333\ttrain-auc:0.861541\n",
      "[313]\teval-auc:0.839474\ttrain-auc:0.861586\n",
      "[314]\teval-auc:0.839581\ttrain-auc:0.861775\n",
      "[315]\teval-auc:0.839570\ttrain-auc:0.861882\n",
      "[316]\teval-auc:0.839779\ttrain-auc:0.862171\n",
      "[317]\teval-auc:0.840160\ttrain-auc:0.862386\n",
      "[318]\teval-auc:0.840217\ttrain-auc:0.862589\n",
      "[319]\teval-auc:0.840336\ttrain-auc:0.862706\n",
      "[320]\teval-auc:0.840442\ttrain-auc:0.862761\n",
      "[321]\teval-auc:0.840420\ttrain-auc:0.862837\n",
      "[322]\teval-auc:0.840452\ttrain-auc:0.862924\n",
      "[323]\teval-auc:0.840454\ttrain-auc:0.863162\n",
      "[324]\teval-auc:0.840727\ttrain-auc:0.863674\n",
      "[325]\teval-auc:0.840738\ttrain-auc:0.863730\n",
      "[326]\teval-auc:0.840891\ttrain-auc:0.863907\n",
      "[327]\teval-auc:0.841007\ttrain-auc:0.864156\n",
      "[328]\teval-auc:0.841025\ttrain-auc:0.864242\n",
      "[329]\teval-auc:0.841058\ttrain-auc:0.864402\n",
      "[330]\teval-auc:0.841156\ttrain-auc:0.864491\n",
      "[331]\teval-auc:0.841162\ttrain-auc:0.864528\n",
      "[332]\teval-auc:0.841359\ttrain-auc:0.864662\n",
      "[333]\teval-auc:0.841375\ttrain-auc:0.864814\n",
      "[334]\teval-auc:0.841361\ttrain-auc:0.864984\n",
      "[335]\teval-auc:0.841485\ttrain-auc:0.865102\n",
      "[336]\teval-auc:0.841518\ttrain-auc:0.865453\n",
      "[337]\teval-auc:0.841591\ttrain-auc:0.865572\n",
      "[338]\teval-auc:0.841886\ttrain-auc:0.865837\n",
      "[339]\teval-auc:0.842049\ttrain-auc:0.865983\n",
      "[340]\teval-auc:0.842132\ttrain-auc:0.866111\n",
      "[341]\teval-auc:0.842210\ttrain-auc:0.866303\n",
      "[342]\teval-auc:0.842236\ttrain-auc:0.866579\n",
      "[343]\teval-auc:0.842174\ttrain-auc:0.866739\n",
      "[344]\teval-auc:0.842385\ttrain-auc:0.866735\n",
      "[345]\teval-auc:0.842474\ttrain-auc:0.866931\n",
      "[346]\teval-auc:0.842556\ttrain-auc:0.866958\n",
      "[347]\teval-auc:0.842578\ttrain-auc:0.867101\n",
      "[348]\teval-auc:0.842711\ttrain-auc:0.867237\n",
      "[349]\teval-auc:0.842873\ttrain-auc:0.867410\n",
      "[350]\teval-auc:0.842931\ttrain-auc:0.867748\n",
      "[351]\teval-auc:0.842986\ttrain-auc:0.868013\n",
      "[352]\teval-auc:0.843004\ttrain-auc:0.868115\n",
      "[353]\teval-auc:0.842915\ttrain-auc:0.868305\n",
      "[354]\teval-auc:0.842969\ttrain-auc:0.868534\n",
      "[355]\teval-auc:0.843165\ttrain-auc:0.868605\n",
      "[356]\teval-auc:0.843200\ttrain-auc:0.868889\n",
      "[357]\teval-auc:0.843162\ttrain-auc:0.868979\n",
      "[358]\teval-auc:0.843201\ttrain-auc:0.869198\n",
      "[359]\teval-auc:0.843484\ttrain-auc:0.869329\n",
      "[360]\teval-auc:0.843533\ttrain-auc:0.869399\n",
      "[361]\teval-auc:0.843536\ttrain-auc:0.869514\n",
      "[362]\teval-auc:0.843637\ttrain-auc:0.869650\n",
      "[363]\teval-auc:0.843862\ttrain-auc:0.870053\n",
      "[364]\teval-auc:0.843876\ttrain-auc:0.870170\n",
      "[365]\teval-auc:0.843855\ttrain-auc:0.870182\n",
      "[366]\teval-auc:0.843982\ttrain-auc:0.870383\n",
      "[367]\teval-auc:0.843912\ttrain-auc:0.870660\n",
      "[368]\teval-auc:0.843958\ttrain-auc:0.870747\n",
      "[369]\teval-auc:0.843942\ttrain-auc:0.870793\n",
      "[370]\teval-auc:0.844078\ttrain-auc:0.870896\n",
      "[371]\teval-auc:0.844132\ttrain-auc:0.871141\n",
      "[372]\teval-auc:0.844160\ttrain-auc:0.871118\n",
      "[373]\teval-auc:0.844078\ttrain-auc:0.871226\n",
      "[374]\teval-auc:0.844305\ttrain-auc:0.871582\n",
      "[375]\teval-auc:0.844405\ttrain-auc:0.871632\n",
      "[376]\teval-auc:0.844427\ttrain-auc:0.871850\n",
      "[377]\teval-auc:0.844647\ttrain-auc:0.872027\n",
      "[378]\teval-auc:0.844752\ttrain-auc:0.872041\n",
      "[379]\teval-auc:0.844854\ttrain-auc:0.872188\n",
      "[380]\teval-auc:0.844948\ttrain-auc:0.872291\n",
      "[381]\teval-auc:0.845053\ttrain-auc:0.872360\n",
      "[382]\teval-auc:0.845132\ttrain-auc:0.872571\n",
      "[383]\teval-auc:0.845359\ttrain-auc:0.872637\n",
      "[384]\teval-auc:0.845471\ttrain-auc:0.872845\n",
      "[385]\teval-auc:0.845492\ttrain-auc:0.872887\n",
      "[386]\teval-auc:0.845400\ttrain-auc:0.873132\n",
      "[387]\teval-auc:0.845329\ttrain-auc:0.873180\n",
      "[388]\teval-auc:0.845422\ttrain-auc:0.873326\n",
      "[389]\teval-auc:0.845409\ttrain-auc:0.873348\n",
      "[390]\teval-auc:0.845442\ttrain-auc:0.873404\n",
      "[391]\teval-auc:0.845664\ttrain-auc:0.873522\n",
      "[392]\teval-auc:0.845750\ttrain-auc:0.873753\n",
      "[393]\teval-auc:0.845860\ttrain-auc:0.873905\n",
      "[394]\teval-auc:0.845904\ttrain-auc:0.874004\n",
      "[395]\teval-auc:0.846008\ttrain-auc:0.874044\n",
      "[396]\teval-auc:0.846115\ttrain-auc:0.874175\n",
      "[397]\teval-auc:0.846271\ttrain-auc:0.874444\n",
      "[398]\teval-auc:0.846196\ttrain-auc:0.874436\n",
      "[399]\teval-auc:0.846275\ttrain-auc:0.874478\n",
      "[400]\teval-auc:0.846253\ttrain-auc:0.874642\n",
      "[401]\teval-auc:0.846242\ttrain-auc:0.874708\n",
      "[402]\teval-auc:0.846188\ttrain-auc:0.874802\n",
      "[403]\teval-auc:0.846095\ttrain-auc:0.874933\n",
      "[404]\teval-auc:0.846221\ttrain-auc:0.875174\n",
      "[405]\teval-auc:0.846249\ttrain-auc:0.875223\n",
      "[406]\teval-auc:0.846264\ttrain-auc:0.875321\n",
      "[407]\teval-auc:0.846261\ttrain-auc:0.875409\n",
      "[408]\teval-auc:0.846310\ttrain-auc:0.875602\n",
      "[409]\teval-auc:0.846384\ttrain-auc:0.875670\n",
      "[410]\teval-auc:0.846606\ttrain-auc:0.875811\n",
      "[411]\teval-auc:0.846707\ttrain-auc:0.875919\n",
      "[412]\teval-auc:0.846723\ttrain-auc:0.875962\n",
      "[413]\teval-auc:0.846832\ttrain-auc:0.876185\n",
      "[414]\teval-auc:0.846867\ttrain-auc:0.876325\n",
      "[415]\teval-auc:0.847032\ttrain-auc:0.876478\n",
      "[416]\teval-auc:0.846997\ttrain-auc:0.876539\n",
      "[417]\teval-auc:0.847110\ttrain-auc:0.876792\n",
      "[418]\teval-auc:0.847196\ttrain-auc:0.876972\n",
      "[419]\teval-auc:0.847310\ttrain-auc:0.877190\n",
      "[420]\teval-auc:0.847508\ttrain-auc:0.877398\n",
      "[421]\teval-auc:0.847531\ttrain-auc:0.877608\n",
      "[422]\teval-auc:0.847677\ttrain-auc:0.877857\n",
      "[423]\teval-auc:0.847767\ttrain-auc:0.877956\n",
      "[424]\teval-auc:0.847848\ttrain-auc:0.878093\n",
      "[425]\teval-auc:0.847888\ttrain-auc:0.878243\n",
      "[426]\teval-auc:0.847820\ttrain-auc:0.878233\n",
      "[427]\teval-auc:0.847779\ttrain-auc:0.878364\n",
      "[428]\teval-auc:0.847881\ttrain-auc:0.878508\n",
      "[429]\teval-auc:0.847909\ttrain-auc:0.878626\n",
      "[430]\teval-auc:0.848007\ttrain-auc:0.878754\n",
      "[431]\teval-auc:0.848031\ttrain-auc:0.878825\n",
      "[432]\teval-auc:0.848076\ttrain-auc:0.878875\n",
      "[433]\teval-auc:0.848160\ttrain-auc:0.878907\n",
      "[434]\teval-auc:0.848156\ttrain-auc:0.878925\n",
      "[435]\teval-auc:0.848257\ttrain-auc:0.879015\n",
      "[436]\teval-auc:0.848258\ttrain-auc:0.879057\n",
      "[437]\teval-auc:0.848295\ttrain-auc:0.879167\n",
      "[438]\teval-auc:0.848116\ttrain-auc:0.879414\n",
      "[439]\teval-auc:0.848153\ttrain-auc:0.879396\n",
      "[440]\teval-auc:0.848200\ttrain-auc:0.879554\n",
      "[441]\teval-auc:0.848146\ttrain-auc:0.879702\n",
      "[442]\teval-auc:0.848164\ttrain-auc:0.879848\n",
      "[443]\teval-auc:0.848196\ttrain-auc:0.879894\n",
      "[444]\teval-auc:0.848227\ttrain-auc:0.879956\n",
      "[445]\teval-auc:0.848323\ttrain-auc:0.880227\n",
      "[446]\teval-auc:0.848422\ttrain-auc:0.880410\n",
      "[447]\teval-auc:0.848487\ttrain-auc:0.880537\n",
      "[448]\teval-auc:0.848735\ttrain-auc:0.880786\n",
      "[449]\teval-auc:0.848820\ttrain-auc:0.880866\n",
      "[450]\teval-auc:0.848872\ttrain-auc:0.880917\n",
      "[451]\teval-auc:0.848936\ttrain-auc:0.881284\n",
      "[452]\teval-auc:0.849010\ttrain-auc:0.881432\n",
      "[453]\teval-auc:0.849271\ttrain-auc:0.881816\n",
      "[454]\teval-auc:0.849233\ttrain-auc:0.881952\n",
      "[455]\teval-auc:0.849306\ttrain-auc:0.882166\n",
      "[456]\teval-auc:0.849336\ttrain-auc:0.882262\n",
      "[457]\teval-auc:0.849408\ttrain-auc:0.882381\n",
      "[458]\teval-auc:0.849480\ttrain-auc:0.882549\n",
      "[459]\teval-auc:0.849372\ttrain-auc:0.882522\n",
      "[460]\teval-auc:0.849351\ttrain-auc:0.882623\n",
      "[461]\teval-auc:0.849314\ttrain-auc:0.882688\n",
      "[462]\teval-auc:0.849264\ttrain-auc:0.882949\n",
      "[463]\teval-auc:0.849310\ttrain-auc:0.883148\n",
      "[464]\teval-auc:0.849314\ttrain-auc:0.883185\n",
      "[465]\teval-auc:0.849354\ttrain-auc:0.883307\n",
      "[466]\teval-auc:0.849342\ttrain-auc:0.883451\n",
      "[467]\teval-auc:0.849507\ttrain-auc:0.883613\n",
      "[468]\teval-auc:0.849548\ttrain-auc:0.883694\n",
      "[469]\teval-auc:0.849486\ttrain-auc:0.883842\n",
      "[470]\teval-auc:0.849597\ttrain-auc:0.883917\n",
      "[471]\teval-auc:0.849730\ttrain-auc:0.883974\n",
      "[472]\teval-auc:0.849675\ttrain-auc:0.884062\n",
      "[473]\teval-auc:0.849688\ttrain-auc:0.884308\n",
      "[474]\teval-auc:0.849718\ttrain-auc:0.884441\n",
      "[475]\teval-auc:0.849695\ttrain-auc:0.884461\n",
      "[476]\teval-auc:0.849696\ttrain-auc:0.884524\n",
      "[477]\teval-auc:0.849657\ttrain-auc:0.884639\n",
      "[478]\teval-auc:0.849666\ttrain-auc:0.884618\n",
      "[479]\teval-auc:0.849717\ttrain-auc:0.884684\n",
      "[480]\teval-auc:0.849786\ttrain-auc:0.884758\n",
      "[481]\teval-auc:0.849775\ttrain-auc:0.884899\n",
      "[482]\teval-auc:0.849763\ttrain-auc:0.885053\n",
      "[483]\teval-auc:0.849856\ttrain-auc:0.885153\n",
      "[484]\teval-auc:0.849911\ttrain-auc:0.885181\n",
      "[485]\teval-auc:0.849980\ttrain-auc:0.885215\n",
      "[486]\teval-auc:0.849994\ttrain-auc:0.885350\n",
      "[487]\teval-auc:0.850003\ttrain-auc:0.885447\n",
      "[488]\teval-auc:0.850030\ttrain-auc:0.885600\n",
      "[489]\teval-auc:0.849945\ttrain-auc:0.885615\n",
      "[490]\teval-auc:0.849942\ttrain-auc:0.885694\n",
      "[491]\teval-auc:0.849938\ttrain-auc:0.885868\n",
      "[492]\teval-auc:0.849960\ttrain-auc:0.885915\n",
      "[493]\teval-auc:0.850055\ttrain-auc:0.886039\n",
      "[494]\teval-auc:0.850033\ttrain-auc:0.886064\n",
      "[495]\teval-auc:0.850108\ttrain-auc:0.886192\n",
      "[496]\teval-auc:0.850104\ttrain-auc:0.886229\n",
      "[497]\teval-auc:0.850051\ttrain-auc:0.886296\n",
      "[498]\teval-auc:0.850102\ttrain-auc:0.886307\n",
      "[499]\teval-auc:0.850189\ttrain-auc:0.886467\n",
      "[500]\teval-auc:0.850289\ttrain-auc:0.886601\n",
      "[501]\teval-auc:0.850355\ttrain-auc:0.886750\n",
      "[502]\teval-auc:0.850415\ttrain-auc:0.886818\n",
      "[503]\teval-auc:0.850480\ttrain-auc:0.887137\n",
      "[504]\teval-auc:0.850600\ttrain-auc:0.887355\n",
      "[505]\teval-auc:0.850670\ttrain-auc:0.887392\n",
      "[506]\teval-auc:0.850786\ttrain-auc:0.887596\n",
      "[507]\teval-auc:0.850818\ttrain-auc:0.887585\n",
      "[508]\teval-auc:0.850886\ttrain-auc:0.887698\n",
      "[509]\teval-auc:0.850867\ttrain-auc:0.887734\n",
      "[510]\teval-auc:0.851041\ttrain-auc:0.887971\n",
      "[511]\teval-auc:0.850925\ttrain-auc:0.888102\n",
      "[512]\teval-auc:0.850929\ttrain-auc:0.888272\n",
      "[513]\teval-auc:0.850884\ttrain-auc:0.888549\n",
      "[514]\teval-auc:0.850889\ttrain-auc:0.888612\n",
      "[515]\teval-auc:0.850945\ttrain-auc:0.888722\n",
      "[516]\teval-auc:0.850960\ttrain-auc:0.888725\n",
      "[517]\teval-auc:0.851085\ttrain-auc:0.888828\n",
      "[518]\teval-auc:0.851119\ttrain-auc:0.888894\n",
      "[519]\teval-auc:0.851116\ttrain-auc:0.889011\n",
      "[520]\teval-auc:0.851063\ttrain-auc:0.889140\n",
      "[521]\teval-auc:0.851102\ttrain-auc:0.889212\n",
      "[522]\teval-auc:0.851155\ttrain-auc:0.889269\n",
      "[523]\teval-auc:0.851211\ttrain-auc:0.889369\n",
      "[524]\teval-auc:0.851256\ttrain-auc:0.889565\n",
      "[525]\teval-auc:0.851217\ttrain-auc:0.889759\n",
      "[526]\teval-auc:0.851212\ttrain-auc:0.889810\n",
      "[527]\teval-auc:0.851333\ttrain-auc:0.889879\n",
      "[528]\teval-auc:0.851299\ttrain-auc:0.890030\n",
      "[529]\teval-auc:0.851363\ttrain-auc:0.890148\n",
      "[530]\teval-auc:0.851330\ttrain-auc:0.890236\n",
      "[531]\teval-auc:0.851344\ttrain-auc:0.890380\n",
      "[532]\teval-auc:0.851465\ttrain-auc:0.890546\n",
      "[533]\teval-auc:0.851615\ttrain-auc:0.890665\n",
      "[534]\teval-auc:0.851694\ttrain-auc:0.890679\n",
      "[535]\teval-auc:0.851760\ttrain-auc:0.890773\n",
      "[536]\teval-auc:0.851796\ttrain-auc:0.890955\n",
      "[537]\teval-auc:0.851819\ttrain-auc:0.891048\n",
      "[538]\teval-auc:0.851999\ttrain-auc:0.891275\n",
      "[539]\teval-auc:0.852040\ttrain-auc:0.891296\n",
      "[540]\teval-auc:0.852059\ttrain-auc:0.891474\n",
      "[541]\teval-auc:0.852140\ttrain-auc:0.891551\n",
      "[542]\teval-auc:0.852225\ttrain-auc:0.891635\n",
      "[543]\teval-auc:0.852182\ttrain-auc:0.891759\n",
      "[544]\teval-auc:0.852230\ttrain-auc:0.891764\n",
      "[545]\teval-auc:0.852439\ttrain-auc:0.891884\n",
      "[546]\teval-auc:0.852490\ttrain-auc:0.891983\n",
      "[547]\teval-auc:0.852463\ttrain-auc:0.892015\n",
      "[548]\teval-auc:0.852517\ttrain-auc:0.892166\n",
      "[549]\teval-auc:0.852508\ttrain-auc:0.892150\n",
      "[550]\teval-auc:0.852440\ttrain-auc:0.892273\n",
      "[551]\teval-auc:0.852421\ttrain-auc:0.892315\n",
      "[552]\teval-auc:0.852413\ttrain-auc:0.892394\n",
      "[553]\teval-auc:0.852415\ttrain-auc:0.892451\n",
      "[554]\teval-auc:0.852508\ttrain-auc:0.892579\n",
      "[555]\teval-auc:0.852448\ttrain-auc:0.892712\n",
      "[556]\teval-auc:0.852699\ttrain-auc:0.892969\n",
      "[557]\teval-auc:0.852704\ttrain-auc:0.893031\n",
      "[558]\teval-auc:0.852733\ttrain-auc:0.893212\n",
      "[559]\teval-auc:0.852802\ttrain-auc:0.893370\n",
      "[560]\teval-auc:0.852791\ttrain-auc:0.893360\n",
      "[561]\teval-auc:0.852848\ttrain-auc:0.893452\n",
      "[562]\teval-auc:0.852876\ttrain-auc:0.893537\n",
      "[563]\teval-auc:0.852986\ttrain-auc:0.893642\n",
      "[564]\teval-auc:0.853048\ttrain-auc:0.893759\n",
      "[565]\teval-auc:0.853054\ttrain-auc:0.893766\n",
      "[566]\teval-auc:0.853039\ttrain-auc:0.893907\n",
      "[567]\teval-auc:0.853061\ttrain-auc:0.894068\n",
      "[568]\teval-auc:0.853105\ttrain-auc:0.894275\n",
      "[569]\teval-auc:0.853124\ttrain-auc:0.894328\n",
      "[570]\teval-auc:0.853140\ttrain-auc:0.894409\n",
      "[571]\teval-auc:0.853219\ttrain-auc:0.894484\n",
      "[572]\teval-auc:0.853215\ttrain-auc:0.894608\n",
      "[573]\teval-auc:0.853259\ttrain-auc:0.894725\n",
      "[574]\teval-auc:0.853263\ttrain-auc:0.894717\n",
      "[575]\teval-auc:0.853301\ttrain-auc:0.894797\n",
      "[576]\teval-auc:0.853235\ttrain-auc:0.894916\n",
      "[577]\teval-auc:0.853313\ttrain-auc:0.894984\n",
      "[578]\teval-auc:0.853298\ttrain-auc:0.895074\n",
      "[579]\teval-auc:0.853289\ttrain-auc:0.895283\n",
      "[580]\teval-auc:0.853268\ttrain-auc:0.895287\n",
      "[581]\teval-auc:0.853370\ttrain-auc:0.895444\n",
      "[582]\teval-auc:0.853490\ttrain-auc:0.895583\n",
      "[583]\teval-auc:0.853504\ttrain-auc:0.895602\n",
      "[584]\teval-auc:0.853557\ttrain-auc:0.895693\n",
      "[585]\teval-auc:0.853617\ttrain-auc:0.895838\n",
      "[586]\teval-auc:0.853669\ttrain-auc:0.895939\n",
      "[587]\teval-auc:0.853811\ttrain-auc:0.896177\n",
      "[588]\teval-auc:0.853975\ttrain-auc:0.896284\n",
      "[589]\teval-auc:0.853949\ttrain-auc:0.896389\n",
      "[590]\teval-auc:0.853985\ttrain-auc:0.896423\n",
      "[591]\teval-auc:0.853965\ttrain-auc:0.896545\n",
      "[592]\teval-auc:0.853944\ttrain-auc:0.896606\n",
      "[593]\teval-auc:0.853956\ttrain-auc:0.896641\n",
      "[594]\teval-auc:0.854010\ttrain-auc:0.896738\n",
      "[595]\teval-auc:0.854004\ttrain-auc:0.896768\n",
      "[596]\teval-auc:0.854019\ttrain-auc:0.896856\n",
      "[597]\teval-auc:0.854092\ttrain-auc:0.896998\n",
      "[598]\teval-auc:0.854100\ttrain-auc:0.897024\n",
      "[599]\teval-auc:0.854120\ttrain-auc:0.897127\n",
      "[600]\teval-auc:0.854166\ttrain-auc:0.897178\n",
      "[601]\teval-auc:0.854170\ttrain-auc:0.897207\n",
      "[602]\teval-auc:0.854252\ttrain-auc:0.897228\n",
      "[603]\teval-auc:0.854301\ttrain-auc:0.897306\n",
      "[604]\teval-auc:0.854392\ttrain-auc:0.897330\n",
      "[605]\teval-auc:0.854380\ttrain-auc:0.897422\n",
      "[606]\teval-auc:0.854431\ttrain-auc:0.897545\n",
      "[607]\teval-auc:0.854485\ttrain-auc:0.897641\n",
      "[608]\teval-auc:0.854533\ttrain-auc:0.897684\n",
      "[609]\teval-auc:0.854549\ttrain-auc:0.897744\n",
      "[610]\teval-auc:0.854546\ttrain-auc:0.897843\n",
      "[611]\teval-auc:0.854570\ttrain-auc:0.897902\n",
      "[612]\teval-auc:0.854483\ttrain-auc:0.898019\n",
      "[613]\teval-auc:0.854516\ttrain-auc:0.898044\n",
      "[614]\teval-auc:0.854485\ttrain-auc:0.898239\n",
      "[615]\teval-auc:0.854458\ttrain-auc:0.898400\n",
      "[616]\teval-auc:0.854475\ttrain-auc:0.898435\n",
      "[617]\teval-auc:0.854499\ttrain-auc:0.898463\n",
      "[618]\teval-auc:0.854614\ttrain-auc:0.898659\n",
      "[619]\teval-auc:0.854607\ttrain-auc:0.898801\n",
      "[620]\teval-auc:0.854676\ttrain-auc:0.898845\n",
      "[621]\teval-auc:0.854684\ttrain-auc:0.898939\n",
      "[622]\teval-auc:0.854736\ttrain-auc:0.899015\n",
      "[623]\teval-auc:0.854755\ttrain-auc:0.899109\n",
      "[624]\teval-auc:0.854745\ttrain-auc:0.899149\n",
      "[625]\teval-auc:0.854821\ttrain-auc:0.899356\n",
      "[626]\teval-auc:0.854793\ttrain-auc:0.899432\n",
      "[627]\teval-auc:0.854808\ttrain-auc:0.899503\n",
      "[628]\teval-auc:0.854829\ttrain-auc:0.899606\n",
      "[629]\teval-auc:0.854868\ttrain-auc:0.899716\n",
      "[630]\teval-auc:0.854949\ttrain-auc:0.899874\n",
      "[631]\teval-auc:0.854964\ttrain-auc:0.899951\n",
      "[632]\teval-auc:0.854990\ttrain-auc:0.899976\n",
      "[633]\teval-auc:0.855050\ttrain-auc:0.900059\n",
      "[634]\teval-auc:0.854925\ttrain-auc:0.900209\n",
      "[635]\teval-auc:0.854908\ttrain-auc:0.900256\n",
      "[636]\teval-auc:0.854947\ttrain-auc:0.900302\n",
      "[637]\teval-auc:0.854914\ttrain-auc:0.900343\n",
      "[638]\teval-auc:0.854914\ttrain-auc:0.900342\n",
      "[639]\teval-auc:0.854921\ttrain-auc:0.900400\n",
      "[640]\teval-auc:0.854868\ttrain-auc:0.900468\n",
      "[641]\teval-auc:0.854865\ttrain-auc:0.900460\n",
      "[642]\teval-auc:0.854890\ttrain-auc:0.900525\n",
      "[643]\teval-auc:0.854892\ttrain-auc:0.900518\n",
      "[644]\teval-auc:0.854850\ttrain-auc:0.900607\n",
      "[645]\teval-auc:0.854850\ttrain-auc:0.900758\n",
      "[646]\teval-auc:0.854835\ttrain-auc:0.900818\n",
      "[647]\teval-auc:0.854838\ttrain-auc:0.900944\n",
      "[648]\teval-auc:0.854941\ttrain-auc:0.901068\n",
      "[649]\teval-auc:0.855009\ttrain-auc:0.901181\n",
      "[650]\teval-auc:0.855082\ttrain-auc:0.901248\n",
      "[651]\teval-auc:0.855091\ttrain-auc:0.901340\n",
      "[652]\teval-auc:0.855009\ttrain-auc:0.901455\n",
      "[653]\teval-auc:0.855089\ttrain-auc:0.901625\n",
      "[654]\teval-auc:0.855137\ttrain-auc:0.901734\n",
      "[655]\teval-auc:0.855159\ttrain-auc:0.901819\n",
      "[656]\teval-auc:0.855130\ttrain-auc:0.901867\n",
      "[657]\teval-auc:0.855114\ttrain-auc:0.901871\n",
      "[658]\teval-auc:0.855173\ttrain-auc:0.901963\n",
      "[659]\teval-auc:0.855258\ttrain-auc:0.902150\n",
      "[660]\teval-auc:0.855222\ttrain-auc:0.902168\n",
      "[661]\teval-auc:0.855225\ttrain-auc:0.902236\n",
      "[662]\teval-auc:0.855227\ttrain-auc:0.902356\n",
      "[663]\teval-auc:0.855269\ttrain-auc:0.902521\n",
      "[664]\teval-auc:0.855348\ttrain-auc:0.902659\n",
      "[665]\teval-auc:0.855345\ttrain-auc:0.902692\n",
      "[666]\teval-auc:0.855377\ttrain-auc:0.902729\n",
      "[667]\teval-auc:0.855342\ttrain-auc:0.902823\n",
      "[668]\teval-auc:0.855347\ttrain-auc:0.902941\n",
      "[669]\teval-auc:0.855358\ttrain-auc:0.902953\n",
      "[670]\teval-auc:0.855387\ttrain-auc:0.903145\n",
      "[671]\teval-auc:0.855343\ttrain-auc:0.903231\n",
      "[672]\teval-auc:0.855323\ttrain-auc:0.903328\n",
      "[673]\teval-auc:0.855379\ttrain-auc:0.903333\n",
      "[674]\teval-auc:0.855432\ttrain-auc:0.903489\n",
      "[675]\teval-auc:0.855464\ttrain-auc:0.903557\n",
      "[676]\teval-auc:0.855517\ttrain-auc:0.903667\n",
      "[677]\teval-auc:0.855666\ttrain-auc:0.903754\n",
      "[678]\teval-auc:0.855696\ttrain-auc:0.903779\n",
      "[679]\teval-auc:0.855781\ttrain-auc:0.903929\n",
      "[680]\teval-auc:0.855772\ttrain-auc:0.904116\n",
      "[681]\teval-auc:0.855765\ttrain-auc:0.904236\n",
      "[682]\teval-auc:0.855764\ttrain-auc:0.904322\n",
      "[683]\teval-auc:0.855799\ttrain-auc:0.904371\n",
      "[684]\teval-auc:0.855764\ttrain-auc:0.904474\n",
      "[685]\teval-auc:0.855792\ttrain-auc:0.904619\n",
      "[686]\teval-auc:0.855822\ttrain-auc:0.904658\n",
      "[687]\teval-auc:0.855896\ttrain-auc:0.904828\n",
      "[688]\teval-auc:0.855900\ttrain-auc:0.904830\n",
      "[689]\teval-auc:0.855921\ttrain-auc:0.904862\n",
      "[690]\teval-auc:0.855874\ttrain-auc:0.904938\n",
      "[691]\teval-auc:0.855853\ttrain-auc:0.904979\n",
      "[692]\teval-auc:0.855880\ttrain-auc:0.905020\n",
      "[693]\teval-auc:0.855852\ttrain-auc:0.905118\n",
      "[694]\teval-auc:0.855861\ttrain-auc:0.905156\n",
      "[695]\teval-auc:0.855905\ttrain-auc:0.905199\n",
      "[696]\teval-auc:0.855955\ttrain-auc:0.905373\n",
      "[697]\teval-auc:0.855889\ttrain-auc:0.905426\n",
      "[698]\teval-auc:0.855986\ttrain-auc:0.905544\n",
      "[699]\teval-auc:0.855926\ttrain-auc:0.905639\n",
      "[700]\teval-auc:0.855916\ttrain-auc:0.905702\n",
      "[701]\teval-auc:0.855932\ttrain-auc:0.905784\n",
      "[702]\teval-auc:0.855953\ttrain-auc:0.905798\n",
      "[703]\teval-auc:0.856031\ttrain-auc:0.905933\n",
      "[704]\teval-auc:0.856048\ttrain-auc:0.906031\n",
      "[705]\teval-auc:0.856065\ttrain-auc:0.906175\n",
      "[706]\teval-auc:0.856095\ttrain-auc:0.906302\n",
      "[707]\teval-auc:0.856104\ttrain-auc:0.906311\n",
      "[708]\teval-auc:0.856098\ttrain-auc:0.906363\n",
      "[709]\teval-auc:0.856113\ttrain-auc:0.906433\n",
      "[710]\teval-auc:0.856192\ttrain-auc:0.906461\n",
      "[711]\teval-auc:0.856172\ttrain-auc:0.906592\n",
      "[712]\teval-auc:0.856151\ttrain-auc:0.906678\n",
      "[713]\teval-auc:0.856236\ttrain-auc:0.906717\n",
      "[714]\teval-auc:0.856285\ttrain-auc:0.906738\n",
      "[715]\teval-auc:0.856284\ttrain-auc:0.906773\n",
      "[716]\teval-auc:0.856322\ttrain-auc:0.906775\n",
      "[717]\teval-auc:0.856314\ttrain-auc:0.906798\n",
      "[718]\teval-auc:0.856266\ttrain-auc:0.906867\n",
      "[719]\teval-auc:0.856227\ttrain-auc:0.906922\n",
      "[720]\teval-auc:0.856282\ttrain-auc:0.907182\n",
      "[721]\teval-auc:0.856282\ttrain-auc:0.907287\n",
      "[722]\teval-auc:0.856256\ttrain-auc:0.907402\n",
      "[723]\teval-auc:0.856278\ttrain-auc:0.907473\n",
      "[724]\teval-auc:0.856287\ttrain-auc:0.907526\n",
      "[725]\teval-auc:0.856247\ttrain-auc:0.907548\n",
      "[726]\teval-auc:0.856281\ttrain-auc:0.907561\n",
      "[727]\teval-auc:0.856291\ttrain-auc:0.907663\n",
      "[728]\teval-auc:0.856313\ttrain-auc:0.907766\n",
      "[729]\teval-auc:0.856354\ttrain-auc:0.907897\n",
      "[730]\teval-auc:0.856332\ttrain-auc:0.907924\n",
      "[731]\teval-auc:0.856354\ttrain-auc:0.908005\n",
      "[732]\teval-auc:0.856319\ttrain-auc:0.908116\n",
      "[733]\teval-auc:0.856364\ttrain-auc:0.908190\n",
      "[734]\teval-auc:0.856323\ttrain-auc:0.908256\n",
      "[735]\teval-auc:0.856325\ttrain-auc:0.908274\n",
      "[736]\teval-auc:0.856326\ttrain-auc:0.908300\n",
      "[737]\teval-auc:0.856290\ttrain-auc:0.908330\n",
      "[738]\teval-auc:0.856316\ttrain-auc:0.908445\n",
      "[739]\teval-auc:0.856363\ttrain-auc:0.908514\n",
      "[740]\teval-auc:0.856421\ttrain-auc:0.908576\n",
      "[741]\teval-auc:0.856443\ttrain-auc:0.908616\n",
      "[742]\teval-auc:0.856445\ttrain-auc:0.908648\n",
      "[743]\teval-auc:0.856398\ttrain-auc:0.908750\n",
      "[744]\teval-auc:0.856479\ttrain-auc:0.908831\n",
      "[745]\teval-auc:0.856455\ttrain-auc:0.908869\n",
      "[746]\teval-auc:0.856467\ttrain-auc:0.908973\n",
      "[747]\teval-auc:0.856550\ttrain-auc:0.909133\n",
      "[748]\teval-auc:0.856632\ttrain-auc:0.909306\n",
      "[749]\teval-auc:0.856678\ttrain-auc:0.909426\n",
      "[750]\teval-auc:0.856684\ttrain-auc:0.909446\n",
      "[751]\teval-auc:0.856730\ttrain-auc:0.909597\n",
      "[752]\teval-auc:0.856758\ttrain-auc:0.909660\n",
      "[753]\teval-auc:0.856762\ttrain-auc:0.909702\n",
      "[754]\teval-auc:0.856795\ttrain-auc:0.909773\n",
      "[755]\teval-auc:0.856746\ttrain-auc:0.909824\n",
      "[756]\teval-auc:0.856700\ttrain-auc:0.909862\n",
      "[757]\teval-auc:0.856757\ttrain-auc:0.909946\n",
      "[758]\teval-auc:0.856781\ttrain-auc:0.909978\n",
      "[759]\teval-auc:0.856698\ttrain-auc:0.909995\n",
      "[760]\teval-auc:0.856717\ttrain-auc:0.910094\n",
      "[761]\teval-auc:0.856783\ttrain-auc:0.910162\n",
      "[762]\teval-auc:0.856728\ttrain-auc:0.910301\n",
      "[763]\teval-auc:0.856800\ttrain-auc:0.910473\n",
      "[764]\teval-auc:0.856791\ttrain-auc:0.910582\n",
      "[765]\teval-auc:0.856801\ttrain-auc:0.910577\n",
      "[766]\teval-auc:0.856866\ttrain-auc:0.910611\n",
      "[767]\teval-auc:0.856896\ttrain-auc:0.910705\n",
      "[768]\teval-auc:0.856981\ttrain-auc:0.910774\n",
      "[769]\teval-auc:0.856989\ttrain-auc:0.910873\n",
      "[770]\teval-auc:0.856984\ttrain-auc:0.910928\n",
      "[771]\teval-auc:0.856917\ttrain-auc:0.911084\n",
      "[772]\teval-auc:0.856932\ttrain-auc:0.911110\n",
      "[773]\teval-auc:0.856934\ttrain-auc:0.911137\n",
      "[774]\teval-auc:0.856988\ttrain-auc:0.911251\n",
      "[775]\teval-auc:0.857023\ttrain-auc:0.911282\n",
      "[776]\teval-auc:0.857017\ttrain-auc:0.911288\n",
      "[777]\teval-auc:0.857005\ttrain-auc:0.911359\n",
      "[778]\teval-auc:0.856977\ttrain-auc:0.911376\n",
      "[779]\teval-auc:0.856919\ttrain-auc:0.911436\n",
      "[780]\teval-auc:0.856916\ttrain-auc:0.911451\n",
      "[781]\teval-auc:0.856853\ttrain-auc:0.911552\n",
      "[782]\teval-auc:0.856855\ttrain-auc:0.911609\n",
      "[783]\teval-auc:0.856866\ttrain-auc:0.911646\n",
      "[784]\teval-auc:0.856898\ttrain-auc:0.911661\n",
      "[785]\teval-auc:0.856899\ttrain-auc:0.911707\n",
      "[786]\teval-auc:0.856851\ttrain-auc:0.911778\n",
      "[787]\teval-auc:0.856851\ttrain-auc:0.911778\n",
      "[788]\teval-auc:0.856959\ttrain-auc:0.911832\n",
      "[789]\teval-auc:0.856958\ttrain-auc:0.911965\n",
      "[790]\teval-auc:0.857018\ttrain-auc:0.912002\n",
      "[791]\teval-auc:0.856988\ttrain-auc:0.912108\n",
      "[792]\teval-auc:0.856959\ttrain-auc:0.912168\n",
      "[793]\teval-auc:0.856912\ttrain-auc:0.912206\n",
      "[794]\teval-auc:0.856927\ttrain-auc:0.912229\n",
      "[795]\teval-auc:0.856959\ttrain-auc:0.912314\n",
      "[796]\teval-auc:0.856925\ttrain-auc:0.912400\n",
      "[797]\teval-auc:0.856979\ttrain-auc:0.912467\n",
      "[798]\teval-auc:0.856986\ttrain-auc:0.912517\n",
      "[799]\teval-auc:0.856971\ttrain-auc:0.912560\n",
      "[800]\teval-auc:0.856980\ttrain-auc:0.912735\n",
      "[801]\teval-auc:0.856982\ttrain-auc:0.912834\n",
      "[802]\teval-auc:0.856975\ttrain-auc:0.913021\n",
      "[803]\teval-auc:0.856975\ttrain-auc:0.913021\n",
      "[804]\teval-auc:0.857001\ttrain-auc:0.913084\n",
      "[805]\teval-auc:0.857071\ttrain-auc:0.913153\n",
      "[806]\teval-auc:0.857097\ttrain-auc:0.913218\n",
      "[807]\teval-auc:0.857069\ttrain-auc:0.913288\n",
      "[808]\teval-auc:0.857041\ttrain-auc:0.913335\n",
      "[809]\teval-auc:0.857054\ttrain-auc:0.913392\n",
      "[810]\teval-auc:0.857000\ttrain-auc:0.913408\n",
      "[811]\teval-auc:0.856984\ttrain-auc:0.913489\n",
      "[812]\teval-auc:0.856965\ttrain-auc:0.913514\n",
      "[813]\teval-auc:0.856941\ttrain-auc:0.913549\n",
      "[814]\teval-auc:0.856852\ttrain-auc:0.913589\n",
      "[815]\teval-auc:0.856890\ttrain-auc:0.913663\n",
      "[816]\teval-auc:0.856914\ttrain-auc:0.913707\n",
      "[817]\teval-auc:0.856917\ttrain-auc:0.913724\n",
      "[818]\teval-auc:0.856956\ttrain-auc:0.913757\n",
      "[819]\teval-auc:0.856874\ttrain-auc:0.913798\n",
      "[820]\teval-auc:0.856861\ttrain-auc:0.913850\n",
      "[821]\teval-auc:0.856882\ttrain-auc:0.913946\n",
      "[822]\teval-auc:0.856880\ttrain-auc:0.913994\n",
      "[823]\teval-auc:0.856880\ttrain-auc:0.913994\n",
      "[824]\teval-auc:0.856901\ttrain-auc:0.914106\n",
      "[825]\teval-auc:0.856835\ttrain-auc:0.914144\n",
      "[826]\teval-auc:0.856835\ttrain-auc:0.914144\n",
      "[827]\teval-auc:0.856856\ttrain-auc:0.914264\n",
      "[828]\teval-auc:0.856824\ttrain-auc:0.914326\n",
      "[829]\teval-auc:0.856844\ttrain-auc:0.914399\n",
      "[830]\teval-auc:0.856847\ttrain-auc:0.914461\n",
      "[831]\teval-auc:0.856772\ttrain-auc:0.914562\n",
      "[832]\teval-auc:0.856775\ttrain-auc:0.914581\n",
      "[833]\teval-auc:0.856805\ttrain-auc:0.914668\n",
      "[834]\teval-auc:0.856860\ttrain-auc:0.914720\n",
      "[835]\teval-auc:0.856838\ttrain-auc:0.914828\n",
      "[836]\teval-auc:0.856938\ttrain-auc:0.914907\n",
      "[837]\teval-auc:0.856960\ttrain-auc:0.915054\n",
      "[838]\teval-auc:0.857012\ttrain-auc:0.915151\n",
      "[839]\teval-auc:0.857016\ttrain-auc:0.915268\n",
      "[840]\teval-auc:0.857059\ttrain-auc:0.915311\n",
      "[841]\teval-auc:0.857100\ttrain-auc:0.915349\n",
      "[842]\teval-auc:0.857152\ttrain-auc:0.915378\n",
      "[843]\teval-auc:0.857271\ttrain-auc:0.915483\n",
      "[844]\teval-auc:0.857283\ttrain-auc:0.915542\n",
      "[845]\teval-auc:0.857283\ttrain-auc:0.915542\n",
      "[846]\teval-auc:0.857283\ttrain-auc:0.915542\n",
      "[847]\teval-auc:0.857335\ttrain-auc:0.915576\n",
      "[848]\teval-auc:0.857305\ttrain-auc:0.915664\n",
      "[849]\teval-auc:0.857303\ttrain-auc:0.915750\n",
      "[850]\teval-auc:0.857322\ttrain-auc:0.915787\n",
      "[851]\teval-auc:0.857284\ttrain-auc:0.915887\n",
      "[852]\teval-auc:0.857359\ttrain-auc:0.915948\n",
      "[853]\teval-auc:0.857385\ttrain-auc:0.916005\n",
      "[854]\teval-auc:0.857378\ttrain-auc:0.916018\n",
      "[855]\teval-auc:0.857381\ttrain-auc:0.916018\n",
      "[856]\teval-auc:0.857381\ttrain-auc:0.916018\n",
      "[857]\teval-auc:0.857435\ttrain-auc:0.916080\n",
      "[858]\teval-auc:0.857439\ttrain-auc:0.916103\n",
      "[859]\teval-auc:0.857473\ttrain-auc:0.916267\n",
      "[860]\teval-auc:0.857473\ttrain-auc:0.916267\n",
      "[861]\teval-auc:0.857467\ttrain-auc:0.916286\n",
      "[862]\teval-auc:0.857508\ttrain-auc:0.916422\n",
      "[863]\teval-auc:0.857471\ttrain-auc:0.916453\n",
      "[864]\teval-auc:0.857452\ttrain-auc:0.916529\n",
      "[865]\teval-auc:0.857407\ttrain-auc:0.916576\n",
      "[866]\teval-auc:0.857362\ttrain-auc:0.916677\n",
      "[867]\teval-auc:0.857415\ttrain-auc:0.916766\n",
      "[868]\teval-auc:0.857445\ttrain-auc:0.916820\n",
      "[869]\teval-auc:0.857427\ttrain-auc:0.916935\n",
      "[870]\teval-auc:0.857456\ttrain-auc:0.917061\n",
      "[871]\teval-auc:0.857442\ttrain-auc:0.917090\n",
      "[872]\teval-auc:0.857439\ttrain-auc:0.917150\n",
      "[873]\teval-auc:0.857509\ttrain-auc:0.917268\n",
      "[874]\teval-auc:0.857535\ttrain-auc:0.917383\n",
      "[875]\teval-auc:0.857526\ttrain-auc:0.917499\n",
      "[876]\teval-auc:0.857562\ttrain-auc:0.917566\n",
      "[877]\teval-auc:0.857631\ttrain-auc:0.917604\n",
      "[878]\teval-auc:0.857609\ttrain-auc:0.917592\n",
      "[879]\teval-auc:0.857631\ttrain-auc:0.917599\n",
      "[880]\teval-auc:0.857711\ttrain-auc:0.917694\n",
      "[881]\teval-auc:0.857703\ttrain-auc:0.917724\n",
      "[882]\teval-auc:0.857703\ttrain-auc:0.917724\n",
      "[883]\teval-auc:0.857704\ttrain-auc:0.917773\n",
      "[884]\teval-auc:0.857714\ttrain-auc:0.917821\n",
      "[885]\teval-auc:0.857796\ttrain-auc:0.917974\n",
      "[886]\teval-auc:0.857815\ttrain-auc:0.918069\n",
      "[887]\teval-auc:0.857798\ttrain-auc:0.918079\n",
      "[888]\teval-auc:0.857861\ttrain-auc:0.918168\n",
      "[889]\teval-auc:0.857844\ttrain-auc:0.918279\n",
      "[890]\teval-auc:0.857844\ttrain-auc:0.918279\n",
      "[891]\teval-auc:0.857902\ttrain-auc:0.918349\n",
      "[892]\teval-auc:0.857923\ttrain-auc:0.918380\n",
      "[893]\teval-auc:0.857926\ttrain-auc:0.918386\n",
      "[894]\teval-auc:0.857988\ttrain-auc:0.918449\n",
      "[895]\teval-auc:0.858019\ttrain-auc:0.918508\n",
      "[896]\teval-auc:0.858092\ttrain-auc:0.918571\n",
      "[897]\teval-auc:0.858060\ttrain-auc:0.918662\n",
      "[898]\teval-auc:0.858073\ttrain-auc:0.918744\n",
      "[899]\teval-auc:0.858107\ttrain-auc:0.918787\n",
      "[900]\teval-auc:0.858228\ttrain-auc:0.918838\n",
      "[901]\teval-auc:0.858243\ttrain-auc:0.918862\n",
      "[902]\teval-auc:0.858243\ttrain-auc:0.918862\n",
      "[903]\teval-auc:0.858238\ttrain-auc:0.918948\n",
      "[904]\teval-auc:0.858305\ttrain-auc:0.918989\n",
      "[905]\teval-auc:0.858389\ttrain-auc:0.919030\n",
      "[906]\teval-auc:0.858449\ttrain-auc:0.919211\n",
      "[907]\teval-auc:0.858407\ttrain-auc:0.919270\n",
      "[908]\teval-auc:0.858368\ttrain-auc:0.919309\n",
      "[909]\teval-auc:0.858387\ttrain-auc:0.919317\n",
      "[910]\teval-auc:0.858439\ttrain-auc:0.919475\n",
      "[911]\teval-auc:0.858520\ttrain-auc:0.919589\n",
      "[912]\teval-auc:0.858539\ttrain-auc:0.919621\n",
      "[913]\teval-auc:0.858561\ttrain-auc:0.919658\n",
      "[914]\teval-auc:0.858554\ttrain-auc:0.919659\n",
      "[915]\teval-auc:0.858560\ttrain-auc:0.919690\n",
      "[916]\teval-auc:0.858534\ttrain-auc:0.919700\n",
      "[917]\teval-auc:0.858586\ttrain-auc:0.919769\n",
      "[918]\teval-auc:0.858570\ttrain-auc:0.919824\n",
      "[919]\teval-auc:0.858584\ttrain-auc:0.919860\n",
      "[920]\teval-auc:0.858591\ttrain-auc:0.919895\n",
      "[921]\teval-auc:0.858608\ttrain-auc:0.919930\n",
      "[922]\teval-auc:0.858555\ttrain-auc:0.919962\n",
      "[923]\teval-auc:0.858571\ttrain-auc:0.919965\n",
      "[924]\teval-auc:0.858524\ttrain-auc:0.920008\n",
      "[925]\teval-auc:0.858505\ttrain-auc:0.920041\n",
      "[926]\teval-auc:0.858575\ttrain-auc:0.920130\n",
      "[927]\teval-auc:0.858633\ttrain-auc:0.920148\n",
      "[928]\teval-auc:0.858626\ttrain-auc:0.920247\n",
      "[929]\teval-auc:0.858673\ttrain-auc:0.920368\n",
      "[930]\teval-auc:0.858673\ttrain-auc:0.920368\n",
      "[931]\teval-auc:0.858743\ttrain-auc:0.920491\n",
      "[932]\teval-auc:0.858693\ttrain-auc:0.920556\n",
      "[933]\teval-auc:0.858636\ttrain-auc:0.920657\n",
      "[934]\teval-auc:0.858669\ttrain-auc:0.920733\n",
      "[935]\teval-auc:0.858703\ttrain-auc:0.920807\n",
      "[936]\teval-auc:0.858708\ttrain-auc:0.920851\n",
      "[937]\teval-auc:0.858678\ttrain-auc:0.920880\n",
      "[938]\teval-auc:0.858718\ttrain-auc:0.920927\n",
      "[939]\teval-auc:0.858810\ttrain-auc:0.921031\n",
      "[940]\teval-auc:0.858839\ttrain-auc:0.921102\n",
      "[941]\teval-auc:0.858815\ttrain-auc:0.921117\n",
      "[942]\teval-auc:0.858848\ttrain-auc:0.921201\n",
      "[943]\teval-auc:0.858827\ttrain-auc:0.921248\n",
      "[944]\teval-auc:0.858817\ttrain-auc:0.921266\n",
      "[945]\teval-auc:0.858761\ttrain-auc:0.921371\n",
      "[946]\teval-auc:0.858756\ttrain-auc:0.921453\n",
      "[947]\teval-auc:0.858724\ttrain-auc:0.921476\n",
      "[948]\teval-auc:0.858691\ttrain-auc:0.921576\n",
      "[949]\teval-auc:0.858701\ttrain-auc:0.921591\n",
      "[950]\teval-auc:0.858670\ttrain-auc:0.921606\n",
      "[951]\teval-auc:0.858624\ttrain-auc:0.921637\n",
      "[952]\teval-auc:0.858600\ttrain-auc:0.921674\n",
      "[953]\teval-auc:0.858602\ttrain-auc:0.921699\n",
      "[954]\teval-auc:0.858586\ttrain-auc:0.921839\n",
      "[955]\teval-auc:0.858638\ttrain-auc:0.921879\n",
      "[956]\teval-auc:0.858634\ttrain-auc:0.921899\n",
      "[957]\teval-auc:0.858652\ttrain-auc:0.922007\n",
      "[958]\teval-auc:0.858670\ttrain-auc:0.922038\n",
      "[959]\teval-auc:0.858650\ttrain-auc:0.922067\n",
      "[960]\teval-auc:0.858688\ttrain-auc:0.922158\n",
      "[961]\teval-auc:0.858698\ttrain-auc:0.922186\n",
      "[962]\teval-auc:0.858671\ttrain-auc:0.922268\n",
      "[963]\teval-auc:0.858671\ttrain-auc:0.922268\n",
      "[964]\teval-auc:0.858668\ttrain-auc:0.922312\n",
      "[965]\teval-auc:0.858706\ttrain-auc:0.922372\n",
      "[966]\teval-auc:0.858706\ttrain-auc:0.922372\n",
      "[967]\teval-auc:0.858702\ttrain-auc:0.922387\n",
      "[968]\teval-auc:0.858724\ttrain-auc:0.922413\n",
      "[969]\teval-auc:0.858752\ttrain-auc:0.922494\n",
      "[970]\teval-auc:0.858837\ttrain-auc:0.922625\n",
      "[971]\teval-auc:0.858803\ttrain-auc:0.922662\n",
      "[972]\teval-auc:0.858795\ttrain-auc:0.922718\n",
      "[973]\teval-auc:0.858719\ttrain-auc:0.922869\n",
      "[974]\teval-auc:0.858708\ttrain-auc:0.922894\n",
      "[975]\teval-auc:0.858733\ttrain-auc:0.922938\n",
      "[976]\teval-auc:0.858733\ttrain-auc:0.923046\n",
      "[977]\teval-auc:0.858798\ttrain-auc:0.923072\n",
      "[978]\teval-auc:0.858803\ttrain-auc:0.923107\n",
      "[979]\teval-auc:0.858809\ttrain-auc:0.923212\n",
      "[980]\teval-auc:0.858753\ttrain-auc:0.923245\n",
      "[981]\teval-auc:0.858728\ttrain-auc:0.923244\n",
      "[982]\teval-auc:0.858783\ttrain-auc:0.923260\n",
      "[983]\teval-auc:0.858853\ttrain-auc:0.923300\n",
      "[984]\teval-auc:0.858862\ttrain-auc:0.923320\n",
      "[985]\teval-auc:0.858796\ttrain-auc:0.923396\n",
      "[986]\teval-auc:0.858817\ttrain-auc:0.923505\n",
      "[987]\teval-auc:0.858776\ttrain-auc:0.923573\n",
      "[988]\teval-auc:0.858779\ttrain-auc:0.923610\n",
      "[989]\teval-auc:0.858738\ttrain-auc:0.923652\n",
      "[990]\teval-auc:0.858745\ttrain-auc:0.923664\n",
      "[991]\teval-auc:0.858703\ttrain-auc:0.923738\n",
      "[992]\teval-auc:0.858660\ttrain-auc:0.923764\n",
      "[993]\teval-auc:0.858635\ttrain-auc:0.923822\n",
      "[994]\teval-auc:0.858646\ttrain-auc:0.923827\n",
      "[995]\teval-auc:0.858670\ttrain-auc:0.923857\n",
      "[996]\teval-auc:0.858717\ttrain-auc:0.923896\n",
      "[997]\teval-auc:0.858730\ttrain-auc:0.923911\n",
      "[998]\teval-auc:0.858725\ttrain-auc:0.923953\n",
      "[999]\teval-auc:0.858685\ttrain-auc:0.924037\n",
      "[1000]\teval-auc:0.858695\ttrain-auc:0.924086\n",
      "[1001]\teval-auc:0.858727\ttrain-auc:0.924144\n",
      "[1002]\teval-auc:0.858704\ttrain-auc:0.924176\n",
      "[1003]\teval-auc:0.858709\ttrain-auc:0.924212\n",
      "[1004]\teval-auc:0.858735\ttrain-auc:0.924300\n",
      "[1005]\teval-auc:0.858770\ttrain-auc:0.924392\n",
      "[1006]\teval-auc:0.858808\ttrain-auc:0.924528\n",
      "[1007]\teval-auc:0.858836\ttrain-auc:0.924568\n",
      "[1008]\teval-auc:0.858819\ttrain-auc:0.924643\n",
      "[1009]\teval-auc:0.858887\ttrain-auc:0.924752\n",
      "[1010]\teval-auc:0.858846\ttrain-auc:0.924772\n",
      "[1011]\teval-auc:0.858847\ttrain-auc:0.924852\n",
      "[1012]\teval-auc:0.858909\ttrain-auc:0.924936\n",
      "[1013]\teval-auc:0.858921\ttrain-auc:0.924947\n",
      "[1014]\teval-auc:0.858918\ttrain-auc:0.925028\n",
      "[1015]\teval-auc:0.858888\ttrain-auc:0.925037\n",
      "[1016]\teval-auc:0.858902\ttrain-auc:0.925105\n",
      "[1017]\teval-auc:0.858904\ttrain-auc:0.925121\n",
      "[1018]\teval-auc:0.858904\ttrain-auc:0.925121\n",
      "[1019]\teval-auc:0.858895\ttrain-auc:0.925217\n",
      "[1020]\teval-auc:0.858880\ttrain-auc:0.925311\n",
      "[1021]\teval-auc:0.858910\ttrain-auc:0.925356\n",
      "[1022]\teval-auc:0.858989\ttrain-auc:0.925417\n",
      "[1023]\teval-auc:0.859007\ttrain-auc:0.925495\n",
      "[1024]\teval-auc:0.859010\ttrain-auc:0.925541\n",
      "[1025]\teval-auc:0.859010\ttrain-auc:0.925552\n",
      "[1026]\teval-auc:0.859010\ttrain-auc:0.925552\n",
      "[1027]\teval-auc:0.859014\ttrain-auc:0.925604\n",
      "[1028]\teval-auc:0.859013\ttrain-auc:0.925669\n",
      "[1029]\teval-auc:0.858975\ttrain-auc:0.925699\n",
      "[1030]\teval-auc:0.859000\ttrain-auc:0.925730\n",
      "[1031]\teval-auc:0.859049\ttrain-auc:0.925811\n",
      "[1032]\teval-auc:0.859054\ttrain-auc:0.925835\n",
      "[1033]\teval-auc:0.858980\ttrain-auc:0.925875\n",
      "[1034]\teval-auc:0.859005\ttrain-auc:0.925929\n",
      "[1035]\teval-auc:0.858926\ttrain-auc:0.925996\n",
      "[1036]\teval-auc:0.858922\ttrain-auc:0.926001\n",
      "[1037]\teval-auc:0.858985\ttrain-auc:0.926069\n",
      "[1038]\teval-auc:0.858967\ttrain-auc:0.926121\n",
      "[1039]\teval-auc:0.858980\ttrain-auc:0.926158\n",
      "[1040]\teval-auc:0.858900\ttrain-auc:0.926221\n",
      "[1041]\teval-auc:0.858942\ttrain-auc:0.926287\n",
      "[1042]\teval-auc:0.858950\ttrain-auc:0.926423\n",
      "[1043]\teval-auc:0.858950\ttrain-auc:0.926423\n",
      "[1044]\teval-auc:0.858936\ttrain-auc:0.926454\n",
      "[1045]\teval-auc:0.858926\ttrain-auc:0.926478\n",
      "[1046]\teval-auc:0.858886\ttrain-auc:0.926532\n",
      "[1047]\teval-auc:0.858906\ttrain-auc:0.926593\n",
      "[1048]\teval-auc:0.858942\ttrain-auc:0.926622\n",
      "[1049]\teval-auc:0.858950\ttrain-auc:0.926680\n",
      "[1050]\teval-auc:0.858864\ttrain-auc:0.926766\n",
      "[1051]\teval-auc:0.858858\ttrain-auc:0.926867\n",
      "[1052]\teval-auc:0.858879\ttrain-auc:0.926907\n",
      "[1053]\teval-auc:0.858853\ttrain-auc:0.926932\n",
      "[1054]\teval-auc:0.858846\ttrain-auc:0.926959\n",
      "[1055]\teval-auc:0.858851\ttrain-auc:0.927001\n",
      "[1056]\teval-auc:0.858823\ttrain-auc:0.927057\n",
      "[1057]\teval-auc:0.858848\ttrain-auc:0.927132\n",
      "[1058]\teval-auc:0.858808\ttrain-auc:0.927205\n",
      "[1059]\teval-auc:0.858754\ttrain-auc:0.927281\n",
      "[1060]\teval-auc:0.858720\ttrain-auc:0.927267\n",
      "[1061]\teval-auc:0.858710\ttrain-auc:0.927303\n",
      "[1062]\teval-auc:0.858630\ttrain-auc:0.927379\n",
      "[1063]\teval-auc:0.858624\ttrain-auc:0.927396\n",
      "[1064]\teval-auc:0.858684\ttrain-auc:0.927486\n",
      "[1065]\teval-auc:0.858683\ttrain-auc:0.927487\n",
      "[1066]\teval-auc:0.858723\ttrain-auc:0.927536\n",
      "[1067]\teval-auc:0.858713\ttrain-auc:0.927593\n",
      "[1068]\teval-auc:0.858732\ttrain-auc:0.927660\n",
      "[1069]\teval-auc:0.858751\ttrain-auc:0.927675\n",
      "[1070]\teval-auc:0.858703\ttrain-auc:0.927881\n",
      "[1071]\teval-auc:0.858695\ttrain-auc:0.927933\n",
      "[1072]\teval-auc:0.858727\ttrain-auc:0.927974\n",
      "[1073]\teval-auc:0.858727\ttrain-auc:0.927974\n",
      "[1074]\teval-auc:0.858744\ttrain-auc:0.928019\n",
      "[1075]\teval-auc:0.858722\ttrain-auc:0.928112\n",
      "[1076]\teval-auc:0.858727\ttrain-auc:0.928181\n",
      "[1077]\teval-auc:0.858754\ttrain-auc:0.928269\n",
      "[1078]\teval-auc:0.858772\ttrain-auc:0.928354\n",
      "[1079]\teval-auc:0.858772\ttrain-auc:0.928354\n",
      "[1080]\teval-auc:0.858792\ttrain-auc:0.928420\n",
      "[1081]\teval-auc:0.858802\ttrain-auc:0.928426\n",
      "[1082]\teval-auc:0.858839\ttrain-auc:0.928484\n",
      "[1083]\teval-auc:0.858838\ttrain-auc:0.928538\n",
      "[1084]\teval-auc:0.858871\ttrain-auc:0.928559\n",
      "[1085]\teval-auc:0.858909\ttrain-auc:0.928609\n",
      "[1086]\teval-auc:0.858856\ttrain-auc:0.928659\n",
      "[1087]\teval-auc:0.858852\ttrain-auc:0.928709\n",
      "[1088]\teval-auc:0.858867\ttrain-auc:0.928731\n",
      "[1089]\teval-auc:0.858867\ttrain-auc:0.928731\n",
      "[1090]\teval-auc:0.858754\ttrain-auc:0.928812\n",
      "[1091]\teval-auc:0.858789\ttrain-auc:0.928829\n",
      "[1092]\teval-auc:0.858789\ttrain-auc:0.928829\n",
      "[1093]\teval-auc:0.858804\ttrain-auc:0.928845\n",
      "[1094]\teval-auc:0.858804\ttrain-auc:0.928845\n",
      "[1095]\teval-auc:0.858771\ttrain-auc:0.928927\n",
      "[1096]\teval-auc:0.858833\ttrain-auc:0.929051\n",
      "[1097]\teval-auc:0.858842\ttrain-auc:0.929051\n",
      "[1098]\teval-auc:0.858833\ttrain-auc:0.929170\n",
      "[1099]\teval-auc:0.858840\ttrain-auc:0.929240\n",
      "[1100]\teval-auc:0.858847\ttrain-auc:0.929252\n",
      "[1101]\teval-auc:0.858867\ttrain-auc:0.929288\n",
      "[1102]\teval-auc:0.858867\ttrain-auc:0.929288\n",
      "[1103]\teval-auc:0.858912\ttrain-auc:0.929311\n",
      "[1104]\teval-auc:0.858884\ttrain-auc:0.929356\n",
      "[1105]\teval-auc:0.858867\ttrain-auc:0.929373\n",
      "[1106]\teval-auc:0.858915\ttrain-auc:0.929443\n",
      "[1107]\teval-auc:0.858923\ttrain-auc:0.929470\n",
      "[1108]\teval-auc:0.858914\ttrain-auc:0.929473\n",
      "[1109]\teval-auc:0.858914\ttrain-auc:0.929473\n",
      "[1110]\teval-auc:0.858908\ttrain-auc:0.929476\n",
      "[1111]\teval-auc:0.858897\ttrain-auc:0.929488\n",
      "[1112]\teval-auc:0.858886\ttrain-auc:0.929528\n",
      "[1113]\teval-auc:0.858802\ttrain-auc:0.929619\n",
      "[1114]\teval-auc:0.858799\ttrain-auc:0.929642\n",
      "[1115]\teval-auc:0.858833\ttrain-auc:0.929721\n",
      "[1116]\teval-auc:0.858826\ttrain-auc:0.929773\n",
      "[1117]\teval-auc:0.858896\ttrain-auc:0.929809\n",
      "[1118]\teval-auc:0.858931\ttrain-auc:0.929829\n",
      "[1119]\teval-auc:0.858899\ttrain-auc:0.929906\n",
      "[1120]\teval-auc:0.858852\ttrain-auc:0.929941\n",
      "[1121]\teval-auc:0.858848\ttrain-auc:0.929993\n",
      "[1122]\teval-auc:0.858908\ttrain-auc:0.930028\n",
      "[1123]\teval-auc:0.858908\ttrain-auc:0.930028\n",
      "[1124]\teval-auc:0.858895\ttrain-auc:0.930064\n",
      "[1125]\teval-auc:0.858921\ttrain-auc:0.930178\n",
      "[1126]\teval-auc:0.858942\ttrain-auc:0.930212\n",
      "[1127]\teval-auc:0.858949\ttrain-auc:0.930274\n",
      "[1128]\teval-auc:0.858910\ttrain-auc:0.930305\n",
      "[1129]\teval-auc:0.858931\ttrain-auc:0.930363\n",
      "[1130]\teval-auc:0.858911\ttrain-auc:0.930405\n",
      "[1131]\teval-auc:0.858890\ttrain-auc:0.930459\n",
      "[1132]\teval-auc:0.858827\ttrain-auc:0.930539\n",
      "[1133]\teval-auc:0.858810\ttrain-auc:0.930603\n",
      "[1134]\teval-auc:0.858849\ttrain-auc:0.930605\n",
      "[1135]\teval-auc:0.858844\ttrain-auc:0.930673\n",
      "[1136]\teval-auc:0.858854\ttrain-auc:0.930694\n",
      "[1137]\teval-auc:0.858800\ttrain-auc:0.930793\n",
      "[1138]\teval-auc:0.858772\ttrain-auc:0.930834\n",
      "[1139]\teval-auc:0.858771\ttrain-auc:0.930900\n",
      "[1140]\teval-auc:0.858770\ttrain-auc:0.930963\n",
      "[1141]\teval-auc:0.858770\ttrain-auc:0.930963\n",
      "[1142]\teval-auc:0.858776\ttrain-auc:0.931050\n",
      "[1143]\teval-auc:0.858800\ttrain-auc:0.931103\n",
      "[1144]\teval-auc:0.858794\ttrain-auc:0.931131\n",
      "[1145]\teval-auc:0.858800\ttrain-auc:0.931145\n",
      "[1146]\teval-auc:0.858777\ttrain-auc:0.931213\n",
      "[1147]\teval-auc:0.858777\ttrain-auc:0.931213\n",
      "[1148]\teval-auc:0.858797\ttrain-auc:0.931236\n",
      "[1149]\teval-auc:0.858794\ttrain-auc:0.931241\n",
      "[1150]\teval-auc:0.858798\ttrain-auc:0.931312\n",
      "[1151]\teval-auc:0.858798\ttrain-auc:0.931312\n",
      "[1152]\teval-auc:0.858809\ttrain-auc:0.931409\n",
      "[1153]\teval-auc:0.858767\ttrain-auc:0.931488\n",
      "[1154]\teval-auc:0.858758\ttrain-auc:0.931525\n",
      "[1155]\teval-auc:0.858819\ttrain-auc:0.931539\n",
      "[1156]\teval-auc:0.858819\ttrain-auc:0.931539\n",
      "[1157]\teval-auc:0.858835\ttrain-auc:0.931635\n",
      "[1158]\teval-auc:0.858820\ttrain-auc:0.931712\n",
      "[1159]\teval-auc:0.858828\ttrain-auc:0.931735\n",
      "[1160]\teval-auc:0.858811\ttrain-auc:0.931760\n",
      "[1161]\teval-auc:0.858848\ttrain-auc:0.931770\n",
      "[1162]\teval-auc:0.858825\ttrain-auc:0.931778\n",
      "[1163]\teval-auc:0.858923\ttrain-auc:0.931841\n",
      "[1164]\teval-auc:0.858946\ttrain-auc:0.931873\n",
      "[1165]\teval-auc:0.858946\ttrain-auc:0.931873\n",
      "[1166]\teval-auc:0.858963\ttrain-auc:0.931905\n",
      "[1167]\teval-auc:0.858912\ttrain-auc:0.931945\n",
      "[1168]\teval-auc:0.858912\ttrain-auc:0.931945\n",
      "[1169]\teval-auc:0.858912\ttrain-auc:0.931986\n",
      "[1170]\teval-auc:0.858877\ttrain-auc:0.932031\n",
      "[1171]\teval-auc:0.858870\ttrain-auc:0.932145\n",
      "[1172]\teval-auc:0.858838\ttrain-auc:0.932169\n",
      "[1173]\teval-auc:0.858851\ttrain-auc:0.932180\n",
      "[1174]\teval-auc:0.858851\ttrain-auc:0.932180\n",
      "[1175]\teval-auc:0.858862\ttrain-auc:0.932209\n",
      "[1176]\teval-auc:0.858847\ttrain-auc:0.932232\n",
      "[1177]\teval-auc:0.858840\ttrain-auc:0.932302\n",
      "[1178]\teval-auc:0.858888\ttrain-auc:0.932428\n",
      "[1179]\teval-auc:0.858877\ttrain-auc:0.932508\n",
      "[1180]\teval-auc:0.858954\ttrain-auc:0.932561\n",
      "[1181]\teval-auc:0.858989\ttrain-auc:0.932590\n",
      "[1182]\teval-auc:0.858983\ttrain-auc:0.932598\n",
      "[1183]\teval-auc:0.858961\ttrain-auc:0.932636\n",
      "[1184]\teval-auc:0.858980\ttrain-auc:0.932729\n",
      "[1185]\teval-auc:0.858977\ttrain-auc:0.932770\n",
      "[1186]\teval-auc:0.858981\ttrain-auc:0.932793\n",
      "[1187]\teval-auc:0.858993\ttrain-auc:0.932795\n",
      "[1188]\teval-auc:0.859012\ttrain-auc:0.932880\n",
      "[1189]\teval-auc:0.859100\ttrain-auc:0.932926\n",
      "[1190]\teval-auc:0.859112\ttrain-auc:0.932940\n",
      "[1191]\teval-auc:0.859091\ttrain-auc:0.932962\n",
      "[1192]\teval-auc:0.859103\ttrain-auc:0.933072\n",
      "[1193]\teval-auc:0.859102\ttrain-auc:0.933132\n",
      "[1194]\teval-auc:0.859088\ttrain-auc:0.933171\n",
      "[1195]\teval-auc:0.859093\ttrain-auc:0.933223\n",
      "[1196]\teval-auc:0.859099\ttrain-auc:0.933276\n",
      "[1197]\teval-auc:0.859115\ttrain-auc:0.933297\n",
      "[1198]\teval-auc:0.859152\ttrain-auc:0.933332\n",
      "[1199]\teval-auc:0.859142\ttrain-auc:0.933364\n",
      "[1200]\teval-auc:0.859164\ttrain-auc:0.933386\n",
      "[1201]\teval-auc:0.859098\ttrain-auc:0.933478\n",
      "[1202]\teval-auc:0.859098\ttrain-auc:0.933478\n",
      "[1203]\teval-auc:0.859097\ttrain-auc:0.933501\n",
      "[1204]\teval-auc:0.859142\ttrain-auc:0.933522\n",
      "[1205]\teval-auc:0.859170\ttrain-auc:0.933599\n",
      "[1206]\teval-auc:0.859179\ttrain-auc:0.933625\n",
      "[1207]\teval-auc:0.859187\ttrain-auc:0.933632\n",
      "[1208]\teval-auc:0.859189\ttrain-auc:0.933734\n",
      "[1209]\teval-auc:0.859214\ttrain-auc:0.933762\n",
      "[1210]\teval-auc:0.859192\ttrain-auc:0.933781\n",
      "[1211]\teval-auc:0.859190\ttrain-auc:0.933816\n",
      "[1212]\teval-auc:0.859152\ttrain-auc:0.933869\n",
      "[1213]\teval-auc:0.859141\ttrain-auc:0.933898\n",
      "[1214]\teval-auc:0.859178\ttrain-auc:0.933967\n",
      "[1215]\teval-auc:0.859220\ttrain-auc:0.934044\n",
      "[1216]\teval-auc:0.859237\ttrain-auc:0.934164\n",
      "[1217]\teval-auc:0.859168\ttrain-auc:0.934230\n",
      "[1218]\teval-auc:0.859160\ttrain-auc:0.934289\n",
      "[1219]\teval-auc:0.859151\ttrain-auc:0.934362\n",
      "[1220]\teval-auc:0.859189\ttrain-auc:0.934412\n",
      "[1221]\teval-auc:0.859163\ttrain-auc:0.934434\n",
      "[1222]\teval-auc:0.859170\ttrain-auc:0.934494\n",
      "[1223]\teval-auc:0.859161\ttrain-auc:0.934579\n",
      "[1224]\teval-auc:0.859165\ttrain-auc:0.934607\n",
      "[1225]\teval-auc:0.859145\ttrain-auc:0.934693\n",
      "[1226]\teval-auc:0.859121\ttrain-auc:0.934708\n",
      "[1227]\teval-auc:0.859201\ttrain-auc:0.934777\n",
      "[1228]\teval-auc:0.859216\ttrain-auc:0.934813\n",
      "[1229]\teval-auc:0.859210\ttrain-auc:0.934814\n",
      "[1230]\teval-auc:0.859268\ttrain-auc:0.934837\n",
      "[1231]\teval-auc:0.859280\ttrain-auc:0.934904\n",
      "[1232]\teval-auc:0.859312\ttrain-auc:0.934925\n",
      "[1233]\teval-auc:0.859337\ttrain-auc:0.934937\n",
      "[1234]\teval-auc:0.859339\ttrain-auc:0.934947\n",
      "[1235]\teval-auc:0.859300\ttrain-auc:0.935028\n",
      "[1236]\teval-auc:0.859351\ttrain-auc:0.935105\n",
      "[1237]\teval-auc:0.859342\ttrain-auc:0.935126\n",
      "[1238]\teval-auc:0.859412\ttrain-auc:0.935233\n",
      "[1239]\teval-auc:0.859381\ttrain-auc:0.935235\n",
      "[1240]\teval-auc:0.859381\ttrain-auc:0.935235\n",
      "[1241]\teval-auc:0.859358\ttrain-auc:0.935303\n",
      "[1242]\teval-auc:0.859404\ttrain-auc:0.935296\n",
      "[1243]\teval-auc:0.859315\ttrain-auc:0.935356\n",
      "[1244]\teval-auc:0.859271\ttrain-auc:0.935382\n",
      "[1245]\teval-auc:0.859271\ttrain-auc:0.935382\n",
      "[1246]\teval-auc:0.859262\ttrain-auc:0.935397\n",
      "[1247]\teval-auc:0.859270\ttrain-auc:0.935432\n",
      "[1248]\teval-auc:0.859288\ttrain-auc:0.935467\n",
      "[1249]\teval-auc:0.859220\ttrain-auc:0.935529\n",
      "[1250]\teval-auc:0.859176\ttrain-auc:0.935574\n",
      "[1251]\teval-auc:0.859171\ttrain-auc:0.935600\n",
      "[1252]\teval-auc:0.859219\ttrain-auc:0.935621\n",
      "[1253]\teval-auc:0.859214\ttrain-auc:0.935644\n",
      "[1254]\teval-auc:0.859166\ttrain-auc:0.935723\n",
      "[1255]\teval-auc:0.859166\ttrain-auc:0.935723\n",
      "[1256]\teval-auc:0.859171\ttrain-auc:0.935760\n",
      "[1257]\teval-auc:0.859171\ttrain-auc:0.935760\n",
      "[1258]\teval-auc:0.859188\ttrain-auc:0.935777\n",
      "[1259]\teval-auc:0.859217\ttrain-auc:0.935801\n",
      "[1260]\teval-auc:0.859226\ttrain-auc:0.935807\n",
      "[1261]\teval-auc:0.859249\ttrain-auc:0.935839\n",
      "[1262]\teval-auc:0.859219\ttrain-auc:0.935911\n",
      "[1263]\teval-auc:0.859201\ttrain-auc:0.935954\n",
      "[1264]\teval-auc:0.859233\ttrain-auc:0.935956\n",
      "[1265]\teval-auc:0.859274\ttrain-auc:0.936012\n",
      "[1266]\teval-auc:0.859296\ttrain-auc:0.936010\n",
      "[1267]\teval-auc:0.859296\ttrain-auc:0.936010\n",
      "[1268]\teval-auc:0.859348\ttrain-auc:0.936060\n",
      "[1269]\teval-auc:0.859382\ttrain-auc:0.936159\n",
      "[1270]\teval-auc:0.859401\ttrain-auc:0.936189\n",
      "[1271]\teval-auc:0.859393\ttrain-auc:0.936179\n",
      "[1272]\teval-auc:0.859404\ttrain-auc:0.936217\n",
      "[1273]\teval-auc:0.859390\ttrain-auc:0.936253\n",
      "[1274]\teval-auc:0.859411\ttrain-auc:0.936279\n",
      "[1275]\teval-auc:0.859483\ttrain-auc:0.936350\n",
      "[1276]\teval-auc:0.859513\ttrain-auc:0.936429\n",
      "[1277]\teval-auc:0.859516\ttrain-auc:0.936449\n",
      "[1278]\teval-auc:0.859450\ttrain-auc:0.936486\n",
      "[1279]\teval-auc:0.859453\ttrain-auc:0.936568\n",
      "[1280]\teval-auc:0.859470\ttrain-auc:0.936590\n",
      "[1281]\teval-auc:0.859507\ttrain-auc:0.936678\n",
      "[1282]\teval-auc:0.859549\ttrain-auc:0.936722\n",
      "[1283]\teval-auc:0.859555\ttrain-auc:0.936770\n",
      "[1284]\teval-auc:0.859564\ttrain-auc:0.936792\n",
      "[1285]\teval-auc:0.859557\ttrain-auc:0.936827\n",
      "[1286]\teval-auc:0.859594\ttrain-auc:0.936849\n",
      "[1287]\teval-auc:0.859584\ttrain-auc:0.936926\n",
      "[1288]\teval-auc:0.859624\ttrain-auc:0.936977\n",
      "[1289]\teval-auc:0.859610\ttrain-auc:0.936984\n",
      "[1290]\teval-auc:0.859628\ttrain-auc:0.937026\n",
      "[1291]\teval-auc:0.859611\ttrain-auc:0.937036\n",
      "[1292]\teval-auc:0.859610\ttrain-auc:0.937092\n",
      "[1293]\teval-auc:0.859608\ttrain-auc:0.937092\n",
      "[1294]\teval-auc:0.859594\ttrain-auc:0.937129\n",
      "[1295]\teval-auc:0.859573\ttrain-auc:0.937181\n",
      "[1296]\teval-auc:0.859562\ttrain-auc:0.937220\n",
      "[1297]\teval-auc:0.859565\ttrain-auc:0.937259\n",
      "[1298]\teval-auc:0.859539\ttrain-auc:0.937345\n",
      "[1299]\teval-auc:0.859541\ttrain-auc:0.937362\n",
      "[1300]\teval-auc:0.859515\ttrain-auc:0.937363\n",
      "[1301]\teval-auc:0.859514\ttrain-auc:0.937363\n",
      "[1302]\teval-auc:0.859514\ttrain-auc:0.937388\n",
      "[1303]\teval-auc:0.859521\ttrain-auc:0.937420\n",
      "[1304]\teval-auc:0.859474\ttrain-auc:0.937476\n",
      "[1305]\teval-auc:0.859454\ttrain-auc:0.937528\n",
      "[1306]\teval-auc:0.859452\ttrain-auc:0.937575\n",
      "[1307]\teval-auc:0.859502\ttrain-auc:0.937609\n",
      "[1308]\teval-auc:0.859517\ttrain-auc:0.937668\n",
      "[1309]\teval-auc:0.859517\ttrain-auc:0.937668\n",
      "[1310]\teval-auc:0.859509\ttrain-auc:0.937687\n",
      "[1311]\teval-auc:0.859482\ttrain-auc:0.937720\n",
      "[1312]\teval-auc:0.859482\ttrain-auc:0.937720\n",
      "[1313]\teval-auc:0.859492\ttrain-auc:0.937799\n",
      "[1314]\teval-auc:0.859492\ttrain-auc:0.937799\n",
      "[1315]\teval-auc:0.859556\ttrain-auc:0.937804\n",
      "[1316]\teval-auc:0.859543\ttrain-auc:0.937874\n",
      "[1317]\teval-auc:0.859539\ttrain-auc:0.937914\n",
      "[1318]\teval-auc:0.859618\ttrain-auc:0.937920\n",
      "[1319]\teval-auc:0.859596\ttrain-auc:0.937937\n",
      "[1320]\teval-auc:0.859599\ttrain-auc:0.937960\n",
      "[1321]\teval-auc:0.859599\ttrain-auc:0.937960\n",
      "[1322]\teval-auc:0.859617\ttrain-auc:0.937967\n",
      "[1323]\teval-auc:0.859631\ttrain-auc:0.937975\n",
      "[1324]\teval-auc:0.859636\ttrain-auc:0.937983\n",
      "[1325]\teval-auc:0.859593\ttrain-auc:0.938056\n",
      "[1326]\teval-auc:0.859569\ttrain-auc:0.938056\n",
      "[1327]\teval-auc:0.859614\ttrain-auc:0.938129\n",
      "[1328]\teval-auc:0.859586\ttrain-auc:0.938169\n",
      "[1329]\teval-auc:0.859611\ttrain-auc:0.938199\n",
      "[1330]\teval-auc:0.859644\ttrain-auc:0.938215\n",
      "[1331]\teval-auc:0.859632\ttrain-auc:0.938265\n",
      "[1332]\teval-auc:0.859614\ttrain-auc:0.938271\n",
      "[1333]\teval-auc:0.859620\ttrain-auc:0.938275\n",
      "[1334]\teval-auc:0.859566\ttrain-auc:0.938382\n",
      "[1335]\teval-auc:0.859600\ttrain-auc:0.938425\n",
      "[1336]\teval-auc:0.859579\ttrain-auc:0.938461\n",
      "[1337]\teval-auc:0.859545\ttrain-auc:0.938501\n",
      "[1338]\teval-auc:0.859576\ttrain-auc:0.938536\n",
      "[1339]\teval-auc:0.859549\ttrain-auc:0.938589\n",
      "[1340]\teval-auc:0.859535\ttrain-auc:0.938636\n",
      "[1341]\teval-auc:0.859509\ttrain-auc:0.938640\n",
      "[1342]\teval-auc:0.859486\ttrain-auc:0.938646\n",
      "[1343]\teval-auc:0.859505\ttrain-auc:0.938694\n",
      "[1344]\teval-auc:0.859544\ttrain-auc:0.938739\n",
      "[1345]\teval-auc:0.859520\ttrain-auc:0.938757\n",
      "[1346]\teval-auc:0.859569\ttrain-auc:0.938795\n",
      "[1347]\teval-auc:0.859590\ttrain-auc:0.938879\n",
      "[1348]\teval-auc:0.859669\ttrain-auc:0.938919\n",
      "[1349]\teval-auc:0.859669\ttrain-auc:0.938919\n",
      "[1350]\teval-auc:0.859667\ttrain-auc:0.938930\n",
      "[1351]\teval-auc:0.859660\ttrain-auc:0.938969\n",
      "[1352]\teval-auc:0.859676\ttrain-auc:0.938983\n",
      "[1353]\teval-auc:0.859701\ttrain-auc:0.938988\n",
      "[1354]\teval-auc:0.859680\ttrain-auc:0.939028\n",
      "[1355]\teval-auc:0.859692\ttrain-auc:0.939066\n",
      "[1356]\teval-auc:0.859665\ttrain-auc:0.939061\n",
      "[1357]\teval-auc:0.859665\ttrain-auc:0.939061\n",
      "[1358]\teval-auc:0.859668\ttrain-auc:0.939077\n",
      "[1359]\teval-auc:0.859670\ttrain-auc:0.939106\n",
      "[1360]\teval-auc:0.859699\ttrain-auc:0.939155\n",
      "[1361]\teval-auc:0.859750\ttrain-auc:0.939202\n",
      "[1362]\teval-auc:0.859749\ttrain-auc:0.939300\n",
      "[1363]\teval-auc:0.859800\ttrain-auc:0.939403\n",
      "[1364]\teval-auc:0.859832\ttrain-auc:0.939448\n",
      "[1365]\teval-auc:0.859830\ttrain-auc:0.939450\n",
      "[1366]\teval-auc:0.859830\ttrain-auc:0.939450\n",
      "[1367]\teval-auc:0.859820\ttrain-auc:0.939478\n",
      "[1368]\teval-auc:0.859850\ttrain-auc:0.939508\n",
      "[1369]\teval-auc:0.859840\ttrain-auc:0.939543\n",
      "[1370]\teval-auc:0.859849\ttrain-auc:0.939552\n",
      "[1371]\teval-auc:0.859805\ttrain-auc:0.939582\n",
      "[1372]\teval-auc:0.859784\ttrain-auc:0.939586\n",
      "[1373]\teval-auc:0.859774\ttrain-auc:0.939630\n",
      "[1374]\teval-auc:0.859793\ttrain-auc:0.939690\n",
      "[1375]\teval-auc:0.859776\ttrain-auc:0.939705\n",
      "[1376]\teval-auc:0.859776\ttrain-auc:0.939705\n",
      "[1377]\teval-auc:0.859767\ttrain-auc:0.939714\n",
      "[1378]\teval-auc:0.859743\ttrain-auc:0.939779\n",
      "[1379]\teval-auc:0.859743\ttrain-auc:0.939779\n",
      "[1380]\teval-auc:0.859814\ttrain-auc:0.939818\n",
      "[1381]\teval-auc:0.859828\ttrain-auc:0.939840\n",
      "[1382]\teval-auc:0.859783\ttrain-auc:0.939894\n",
      "[1383]\teval-auc:0.859797\ttrain-auc:0.939934\n",
      "[1384]\teval-auc:0.859787\ttrain-auc:0.939962\n",
      "[1385]\teval-auc:0.859815\ttrain-auc:0.939973\n",
      "[1386]\teval-auc:0.859796\ttrain-auc:0.940056\n",
      "[1387]\teval-auc:0.859800\ttrain-auc:0.940067\n",
      "[1388]\teval-auc:0.859797\ttrain-auc:0.940088\n",
      "[1389]\teval-auc:0.859821\ttrain-auc:0.940171\n",
      "[1390]\teval-auc:0.859820\ttrain-auc:0.940211\n",
      "[1391]\teval-auc:0.859823\ttrain-auc:0.940259\n",
      "[1392]\teval-auc:0.859778\ttrain-auc:0.940325\n",
      "[1393]\teval-auc:0.859778\ttrain-auc:0.940325\n",
      "[1394]\teval-auc:0.859813\ttrain-auc:0.940341\n",
      "[1395]\teval-auc:0.859802\ttrain-auc:0.940340\n",
      "[1396]\teval-auc:0.859798\ttrain-auc:0.940334\n",
      "[1397]\teval-auc:0.859785\ttrain-auc:0.940356\n",
      "[1398]\teval-auc:0.859847\ttrain-auc:0.940441\n",
      "[1399]\teval-auc:0.859825\ttrain-auc:0.940506\n",
      "[1400]\teval-auc:0.859809\ttrain-auc:0.940569\n",
      "[1401]\teval-auc:0.859768\ttrain-auc:0.940584\n",
      "[1402]\teval-auc:0.859794\ttrain-auc:0.940600\n",
      "[1403]\teval-auc:0.859797\ttrain-auc:0.940619\n",
      "[1404]\teval-auc:0.859771\ttrain-auc:0.940631\n",
      "[1405]\teval-auc:0.859725\ttrain-auc:0.940673\n",
      "[1406]\teval-auc:0.859766\ttrain-auc:0.940705\n",
      "[1407]\teval-auc:0.859848\ttrain-auc:0.940788\n",
      "[1408]\teval-auc:0.859910\ttrain-auc:0.940839\n",
      "[1409]\teval-auc:0.859900\ttrain-auc:0.940865\n",
      "[1410]\teval-auc:0.859890\ttrain-auc:0.940889\n",
      "[1411]\teval-auc:0.859917\ttrain-auc:0.940949\n",
      "[1412]\teval-auc:0.859917\ttrain-auc:0.940949\n",
      "[1413]\teval-auc:0.859917\ttrain-auc:0.940949\n",
      "[1414]\teval-auc:0.859905\ttrain-auc:0.940958\n",
      "[1415]\teval-auc:0.859915\ttrain-auc:0.940973\n",
      "[1416]\teval-auc:0.859893\ttrain-auc:0.941021\n",
      "[1417]\teval-auc:0.859864\ttrain-auc:0.941047\n",
      "[1418]\teval-auc:0.859882\ttrain-auc:0.941064\n",
      "[1419]\teval-auc:0.859905\ttrain-auc:0.941122\n",
      "[1420]\teval-auc:0.859892\ttrain-auc:0.941170\n",
      "[1421]\teval-auc:0.859828\ttrain-auc:0.941224\n",
      "[1422]\teval-auc:0.859835\ttrain-auc:0.941267\n",
      "[1423]\teval-auc:0.859851\ttrain-auc:0.941280\n",
      "[1424]\teval-auc:0.859861\ttrain-auc:0.941297\n",
      "[1425]\teval-auc:0.859861\ttrain-auc:0.941297\n",
      "[1426]\teval-auc:0.859853\ttrain-auc:0.941338\n",
      "[1427]\teval-auc:0.859853\ttrain-auc:0.941338\n",
      "[1428]\teval-auc:0.859919\ttrain-auc:0.941432\n",
      "[1429]\teval-auc:0.859966\ttrain-auc:0.941442\n",
      "[1430]\teval-auc:0.859950\ttrain-auc:0.941475\n",
      "[1431]\teval-auc:0.859977\ttrain-auc:0.941520\n",
      "[1432]\teval-auc:0.859952\ttrain-auc:0.941541\n",
      "[1433]\teval-auc:0.859926\ttrain-auc:0.941600\n",
      "[1434]\teval-auc:0.859921\ttrain-auc:0.941608\n",
      "[1435]\teval-auc:0.859887\ttrain-auc:0.941662\n",
      "[1436]\teval-auc:0.859878\ttrain-auc:0.941648\n",
      "[1437]\teval-auc:0.859876\ttrain-auc:0.941671\n",
      "[1438]\teval-auc:0.859929\ttrain-auc:0.941705\n",
      "[1439]\teval-auc:0.859921\ttrain-auc:0.941749\n",
      "[1440]\teval-auc:0.859921\ttrain-auc:0.941749\n",
      "[1441]\teval-auc:0.859894\ttrain-auc:0.941796\n",
      "[1442]\teval-auc:0.859884\ttrain-auc:0.941816\n",
      "[1443]\teval-auc:0.859922\ttrain-auc:0.941830\n",
      "[1444]\teval-auc:0.859961\ttrain-auc:0.941847\n",
      "[1445]\teval-auc:0.859953\ttrain-auc:0.941875\n",
      "[1446]\teval-auc:0.859932\ttrain-auc:0.941879\n",
      "[1447]\teval-auc:0.859937\ttrain-auc:0.941944\n",
      "[1448]\teval-auc:0.859923\ttrain-auc:0.942000\n",
      "[1449]\teval-auc:0.859923\ttrain-auc:0.941999\n",
      "[1450]\teval-auc:0.859909\ttrain-auc:0.942012\n",
      "[1451]\teval-auc:0.859913\ttrain-auc:0.942022\n",
      "[1452]\teval-auc:0.859913\ttrain-auc:0.942085\n",
      "[1453]\teval-auc:0.859935\ttrain-auc:0.942153\n",
      "[1454]\teval-auc:0.859934\ttrain-auc:0.942204\n",
      "[1455]\teval-auc:0.860002\ttrain-auc:0.942264\n",
      "[1456]\teval-auc:0.860003\ttrain-auc:0.942257\n",
      "[1457]\teval-auc:0.860035\ttrain-auc:0.942287\n",
      "[1458]\teval-auc:0.860054\ttrain-auc:0.942322\n",
      "[1459]\teval-auc:0.860060\ttrain-auc:0.942334\n",
      "[1460]\teval-auc:0.859988\ttrain-auc:0.942384\n",
      "[1461]\teval-auc:0.859965\ttrain-auc:0.942410\n",
      "[1462]\teval-auc:0.859925\ttrain-auc:0.942452\n",
      "[1463]\teval-auc:0.859891\ttrain-auc:0.942479\n",
      "[1464]\teval-auc:0.859828\ttrain-auc:0.942536\n",
      "[1465]\teval-auc:0.859843\ttrain-auc:0.942558\n",
      "[1466]\teval-auc:0.859858\ttrain-auc:0.942566\n",
      "[1467]\teval-auc:0.859856\ttrain-auc:0.942585\n",
      "[1468]\teval-auc:0.859878\ttrain-auc:0.942618\n",
      "[1469]\teval-auc:0.859846\ttrain-auc:0.942656\n",
      "[1470]\teval-auc:0.859822\ttrain-auc:0.942715\n",
      "[1471]\teval-auc:0.859810\ttrain-auc:0.942715\n",
      "[1472]\teval-auc:0.859820\ttrain-auc:0.942773\n",
      "[1473]\teval-auc:0.859783\ttrain-auc:0.942796\n",
      "[1474]\teval-auc:0.859771\ttrain-auc:0.942814\n",
      "[1475]\teval-auc:0.859748\ttrain-auc:0.942835\n",
      "[1476]\teval-auc:0.859713\ttrain-auc:0.942870\n",
      "[1477]\teval-auc:0.859781\ttrain-auc:0.942952\n",
      "[1478]\teval-auc:0.859754\ttrain-auc:0.942951\n",
      "[1479]\teval-auc:0.859743\ttrain-auc:0.942972\n",
      "[1480]\teval-auc:0.859726\ttrain-auc:0.943026\n",
      "[1481]\teval-auc:0.859740\ttrain-auc:0.943057\n",
      "[1482]\teval-auc:0.859740\ttrain-auc:0.943057\n",
      "[1483]\teval-auc:0.859740\ttrain-auc:0.943057\n",
      "[1484]\teval-auc:0.859753\ttrain-auc:0.943069\n",
      "[1485]\teval-auc:0.859734\ttrain-auc:0.943134\n",
      "[1486]\teval-auc:0.859718\ttrain-auc:0.943136\n",
      "[1487]\teval-auc:0.859738\ttrain-auc:0.943161\n",
      "[1488]\teval-auc:0.859710\ttrain-auc:0.943201\n",
      "[1489]\teval-auc:0.859682\ttrain-auc:0.943210\n",
      "[1490]\teval-auc:0.859682\ttrain-auc:0.943228\n",
      "[1491]\teval-auc:0.859635\ttrain-auc:0.943328\n",
      "[1492]\teval-auc:0.859616\ttrain-auc:0.943340\n",
      "[1493]\teval-auc:0.859580\ttrain-auc:0.943369\n",
      "[1494]\teval-auc:0.859591\ttrain-auc:0.943388\n",
      "[1495]\teval-auc:0.859589\ttrain-auc:0.943379\n",
      "[1496]\teval-auc:0.859562\ttrain-auc:0.943421\n",
      "[1497]\teval-auc:0.859654\ttrain-auc:0.943485\n",
      "[1498]\teval-auc:0.859671\ttrain-auc:0.943531\n",
      "[1499]\teval-auc:0.859671\ttrain-auc:0.943531\n"
     ]
    }
   ],
   "source": [
    "# Xgboost classifier\n",
    "dtrain = xgb.DMatrix(Xt, label=yt)\n",
    "dval = xgb.DMatrix(Xv[:15000], label=yv[:15000])\n",
    "dtest = xgb.DMatrix(Xv[15000:])\n",
    "\n",
    "# num_pos_examples\n",
    "ratio = float(np.sum(yt == 0)) / np.sum(yt==1)\n",
    "# Parameters\n",
    "param = {'bst:max_depth':8, 'bst:eta':.01, 'bst:subsample':.7, 'bst:min_child_weight': 2, \n",
    "         'bst:colsample_bytree': 0.7,'silent':1, 'bst:scale_pos_weight': ratio, \n",
    "         'bst:gamma': 6,'objective':'binary:logistic' }\n",
    "\n",
    "param['nthread'] = 4\n",
    "plst = param.items()\n",
    "plst += [('eval_metric', 'auc')]\n",
    "\n",
    "# Eval-list to watch performance\n",
    "evallist  = [(dval,'eval'), (dtrain,'train')]\n",
    "\n",
    "# Training model\n",
    "num_round = 1500\n",
    "bst = xgb.train( plst, dtrain, num_round, evallist )"
   ]
  },
  {
   "cell_type": "code",
   "execution_count": 37,
   "metadata": {
    "collapsed": false
   },
   "outputs": [
    {
     "data": {
      "text/plain": [
       "<matplotlib.axes._subplots.AxesSubplot at 0x10a776e10>"
      ]
     },
     "execution_count": 37,
     "metadata": {},
     "output_type": "execute_result"
    },
    {
     "data": {
      "image/png": "[encoded data removed]",
      "text/plain": [
       "<matplotlib.figure.Figure at 0x10a7767d0>"
      ]
     },
     "metadata": {},
     "output_type": "display_data"
    }
   ],
   "source": [
    "xgb.plot_importance(bst)"
   ]
  },
  {
   "cell_type": "code",
   "execution_count": 38,
   "metadata": {
    "collapsed": false
   },
   "outputs": [],
   "source": [
    "yv_pred_xgb = bst.predict(dtest)"
   ]
  },
  {
   "cell_type": "code",
   "execution_count": 39,
   "metadata": {
    "collapsed": false
   },
   "outputs": [
    {
     "name": "stdout",
     "output_type": "stream",
     "text": [
      "ROC AUC score on part of test set 0.840533 \n"
     ]
    }
   ],
   "source": [
    "print 'ROC AUC score on part of test set %f ' %(score(yv[15000:], yv_pred_xgb))"
   ]
  },
  {
   "cell_type": "code",
   "execution_count": 40,
   "metadata": {
    "collapsed": true
   },
   "outputs": [],
   "source": [
    "# score of xgb on validation set\n",
    "dv = xgb.DMatrix(Xv)\n",
    "yv_pred_xgb = bst.predict(dv)"
   ]
  },
  {
   "cell_type": "code",
   "execution_count": 41,
   "metadata": {
    "collapsed": false
   },
   "outputs": [
    {
     "name": "stdout",
     "output_type": "stream",
     "text": [
      "ROC AUC score on test set 0.851297 for XGBoost \n"
     ]
    }
   ],
   "source": [
    "print 'ROC AUC score on test set %f for XGBoost ' %score(yv, yv_pred_xgb)"
   ]
  },
  {
   "cell_type": "code",
   "execution_count": 45,
   "metadata": {
    "collapsed": false
   },
   "outputs": [],
   "source": [
    "# Random Forest Classifier\n",
    "model_rf = random_forest_classifier(Xt, yt)"
   ]
  },
  {
   "cell_type": "code",
   "execution_count": 59,
   "metadata": {
    "collapsed": false
   },
   "outputs": [
    {
     "data": {
      "text/plain": [
       "RandomForestClassifier(bootstrap=True, class_weight=None, criterion='gini',\n",
       "            max_depth=10, max_features='sqrt', max_leaf_nodes=None,\n",
       "            min_samples_leaf=1, min_samples_split=5,\n",
       "            min_weight_fraction_leaf=0.0, n_estimators=200, n_jobs=-1,\n",
       "            oob_score=False, random_state=None, verbose=0,\n",
       "            warm_start=False)"
      ]
     },
     "execution_count": 59,
     "metadata": {},
     "output_type": "execute_result"
    }
   ],
   "source": [
    "model_rf"
   ]
  },
  {
   "cell_type": "code",
   "execution_count": 60,
   "metadata": {
    "collapsed": false
   },
   "outputs": [
    {
     "name": "stdout",
     "output_type": "stream",
     "text": [
      "ROC AUC score on the test set for Random Forest Classifier 0.840751 \n"
     ]
    }
   ],
   "source": [
    "yv_pred_rf = predictions(model_rf, Xv)[:, 1]\n",
    "print 'ROC AUC score on the test set for Random Forest Classifier %f ' %(score(yv, yv_pred_rf))"
   ]
  },
  {
   "cell_type": "code",
   "execution_count": 75,
   "metadata": {
    "collapsed": false
   },
   "outputs": [],
   "source": [
    "# Gradient Boosting Classifier\n",
    "model_gbc = gradient_boosting_classifier(Xt, yt)"
   ]
  },
  {
   "cell_type": "code",
   "execution_count": 98,
   "metadata": {
    "collapsed": false
   },
   "outputs": [
    {
     "data": {
      "text/plain": [
       "GradientBoostingClassifier(init=None, learning_rate=0.1, loss='deviance',\n",
       "              max_depth=3, max_features=None, max_leaf_nodes=None,\n",
       "              min_samples_leaf=1, min_samples_split=2,\n",
       "              min_weight_fraction_leaf=0.0, n_estimators=100,\n",
       "              random_state=None, subsample=1.0, verbose=0,\n",
       "              warm_start=False)"
      ]
     },
     "execution_count": 98,
     "metadata": {},
     "output_type": "execute_result"
    }
   ],
   "source": [
    "model"
   ]
  },
  {
   "cell_type": "code",
   "execution_count": 76,
   "metadata": {
    "collapsed": false
   },
   "outputs": [
    {
     "name": "stdout",
     "output_type": "stream",
     "text": [
      "ROC AUC score on the test set for Gradient Boosting Classifier 0.848172 \n"
     ]
    }
   ],
   "source": [
    "yv_pred_gbc = predictions(model_gbc, Xv)[:, 1]\n",
    "print 'ROC AUC score on the test set for Gradient Boosting Classifier %f ' %(score(yv, yv_pred_gbc))"
   ]
  },
  {
   "cell_type": "markdown",
   "metadata": {},
   "source": [
    "## Stacking"
   ]
  },
  {
   "cell_type": "code",
   "execution_count": 42,
   "metadata": {
    "collapsed": false
   },
   "outputs": [
    {
     "name": "stdout",
     "output_type": "stream",
     "text": [
      "Creating train and test sets for blending.\n",
      "0 RandomForestClassifier(bootstrap=True, class_weight=None, criterion='gini',\n",
      "            max_depth=10, max_features='sqrt', max_leaf_nodes=None,\n",
      "            min_samples_leaf=1, min_samples_split=5,\n",
      "            min_weight_fraction_leaf=0.0, n_estimators=200, n_jobs=-1,\n",
      "            oob_score=False, random_state=None, verbose=0,\n",
      "            warm_start=False)\n",
      "Fold 0\n",
      "[12141 12142 12143 ..., 60909 60910 60911]\n",
      "Fold 1\n",
      "[    0     1     2 ..., 60909 60910 60911]\n",
      "Fold 2\n",
      "[    0     1     2 ..., 60909 60910 60911]\n",
      "Fold 3\n",
      "[    0     1     2 ..., 60909 60910 60911]\n",
      "Fold 4\n",
      "[    0     1     2 ..., 49155 49160 49475]\n",
      "1 GradientBoostingClassifier(init=None, learning_rate=0.05, loss='deviance',\n",
      "              max_depth=3, max_features=None, max_leaf_nodes=None,\n",
      "              min_samples_leaf=1, min_samples_split=5,\n",
      "              min_weight_fraction_leaf=0.0, n_estimators=300,\n",
      "              random_state=None, subsample=1.0, verbose=0,\n",
      "              warm_start=False)\n",
      "Fold 0\n",
      "[12141 12142 12143 ..., 60909 60910 60911]\n",
      "Fold 1\n",
      "[    0     1     2 ..., 60909 60910 60911]\n",
      "Fold 2\n",
      "[    0     1     2 ..., 60909 60910 60911]\n",
      "Fold 3\n",
      "[    0     1     2 ..., 60909 60910 60911]\n",
      "Fold 4\n",
      "[    0     1     2 ..., 49155 49160 49475]\n",
      "\n",
      "Blending.\n",
      "Linear stretch of predictions to [0,1]\n"
     ]
    }
   ],
   "source": [
    "yv_stacking = stacked_blending(Xt.values, yt.values, Xv.values)"
   ]
  },
  {
   "cell_type": "code",
   "execution_count": 43,
   "metadata": {
    "collapsed": false
   },
   "outputs": [
    {
     "name": "stdout",
     "output_type": "stream",
     "text": [
      "ROC AUC score after stacking on test set 0.848752 \n"
     ]
    }
   ],
   "source": [
    "print 'ROC AUC score after stacking on test set %f ' %(score(yv, yv_stacking))"
   ]
  },
  {
   "cell_type": "markdown",
   "metadata": {},
   "source": [
    "### Ranked Ensembling"
   ]
  },
  {
   "cell_type": "code",
   "execution_count": 117,
   "metadata": {
    "collapsed": true
   },
   "outputs": [],
   "source": [
    "yv_rf_preds_ranked = transform_for_ranked(yv_pred_rf, Xv.index.values)\n",
    "yv_xgb_preds_ranked = transform_for_ranked(yv_pred_xgb, Xv.index.values)\n",
    "yv_gbc_preds_ranked = transform_for_ranked(yv_pred_gbc, Xv.index.values)\n",
    "yv_stacked_ranked = transform_for_ranked(yv_stacking, Xv.index.values)\n",
    "\n",
    "ranked_ranks = ranked_averaging([yv_stacked_ranked, yv_xgb_preds_ranked])"
   ]
  },
  {
   "cell_type": "code",
   "execution_count": 118,
   "metadata": {
    "collapsed": true
   },
   "outputs": [],
   "source": [
    "yv_ensemble_preds = [k3 for k1, k2, k3 in ranked_ranks]"
   ]
  },
  {
   "cell_type": "code",
   "execution_count": 119,
   "metadata": {
    "collapsed": false
   },
   "outputs": [
    {
     "name": "stdout",
     "output_type": "stream",
     "text": [
      "ROC AUC score for ensemble on validation set 0.852722 \n"
     ]
    }
   ],
   "source": [
    "print 'ROC AUC score for ensemble on validation set %f ' %score(yv, yv_ensemble_preds)"
   ]
  },
  {
   "cell_type": "markdown",
   "metadata": {},
   "source": [
    "### Final Model"
   ]
  },
  {
   "cell_type": "code",
   "execution_count": 64,
   "metadata": {
    "collapsed": true
   },
   "outputs": [],
   "source": [
    "features_test = loan_test_processed[['City', 'Salary_Account', 'Interest_Rate', 'Employer_Name', 'Monthly_Income', \n",
    "                             'Loan_Amount_Applied', 'Loan_Tenure_Applied', \n",
    "                             'Existing_EMI', 'Loan_Amount_Submitted', 'Loan_Tenure_Submitted',\n",
    "                             'Var1', 'Source', 'Var5', 'age_when_applied',\n",
    "                             'Filled_Form', 'Var2']]"
   ]
  },
  {
   "cell_type": "code",
   "execution_count": 65,
   "metadata": {
    "collapsed": false
   },
   "outputs": [
    {
     "name": "stderr",
     "output_type": "stream",
     "text": [
      "/Users/abhisheksharma/anaconda/lib/python2.7/site-packages/pandas/core/indexing.py:245: SettingWithCopyWarning: \n",
      "A value is trying to be set on a copy of a slice from a DataFrame.\n",
      "Try using .loc[row_indexer,col_indexer] = value instead\n",
      "\n",
      "See the the caveats in the documentation: http://pandas.pydata.org/pandas-docs/stable/indexing.html#indexing-view-versus-copy\n",
      "  self.obj[key] = np.nan\n",
      "/Users/abhisheksharma/anaconda/lib/python2.7/site-packages/pandas/core/indexing.py:415: SettingWithCopyWarning: \n",
      "A value is trying to be set on a copy of a slice from a DataFrame.\n",
      "Try using .loc[row_indexer,col_indexer] = value instead\n",
      "\n",
      "See the the caveats in the documentation: http://pandas.pydata.org/pandas-docs/stable/indexing.html#indexing-view-versus-copy\n",
      "  self.obj[item] = s\n"
     ]
    }
   ],
   "source": [
    "features_test.loc[:, 'labels'] = kmeans.predict(features_test)"
   ]
  },
  {
   "cell_type": "code",
   "execution_count": 80,
   "metadata": {
    "collapsed": true
   },
   "outputs": [],
   "source": [
    "# Train Rf and GBR models on full data\n",
    "model_final_rf = random_forest_classifier(features, loan_train_processed.Disbursed)\n",
    "model_final_gbr = gradient_boosting_classifier(features, loan_train_processed.Disbursed)"
   ]
  },
  {
   "cell_type": "code",
   "execution_count": 103,
   "metadata": {
    "collapsed": false
   },
   "outputs": [],
   "source": [
    "total_data = xgb.DMatrix(features, label=loan_train_processed.Disbursed)\n",
    "model_final_xgb = xgb.train( plst, total_data, num_round )"
   ]
  },
  {
   "cell_type": "code",
   "execution_count": 104,
   "metadata": {
    "collapsed": false
   },
   "outputs": [],
   "source": [
    "total_test_data = xgb.DMatrix(features_test)"
   ]
  },
  {
   "cell_type": "code",
   "execution_count": 105,
   "metadata": {
    "collapsed": true
   },
   "outputs": [],
   "source": [
    "final_preds_xgb = model_final_xgb.predict(total_test_data)"
   ]
  },
  {
   "cell_type": "code",
   "execution_count": 121,
   "metadata": {
    "collapsed": false
   },
   "outputs": [
    {
     "name": "stdout",
     "output_type": "stream",
     "text": [
      "Creating train and test sets for blending.\n",
      "0 RandomForestClassifier(bootstrap=True, class_weight=None, criterion='gini',\n",
      "            max_depth=10, max_features='sqrt', max_leaf_nodes=None,\n",
      "            min_samples_leaf=1, min_samples_split=5,\n",
      "            min_weight_fraction_leaf=0.0, n_estimators=200, n_jobs=-1,\n",
      "            oob_score=False, random_state=None, verbose=0,\n",
      "            warm_start=False)\n",
      "Fold 0\n",
      "[16161 16167 16333 ..., 87015 87016 87017]\n",
      "Fold 1\n",
      "[    0     1     2 ..., 87015 87016 87017]\n",
      "Fold 2\n",
      "[    0     1     2 ..., 87015 87016 87017]\n",
      "Fold 3\n",
      "[    0     1     2 ..., 87015 87016 87017]\n",
      "Fold 4\n",
      "[    0     1     2 ..., 69680 69681 69682]\n",
      "1 GradientBoostingClassifier(init=None, learning_rate=0.05, loss='deviance',\n",
      "              max_depth=3, max_features=None, max_leaf_nodes=None,\n",
      "              min_samples_leaf=1, min_samples_split=5,\n",
      "              min_weight_fraction_leaf=0.0, n_estimators=300,\n",
      "              random_state=None, subsample=1.0, verbose=0,\n",
      "              warm_start=False)\n",
      "Fold 0\n",
      "[16161 16167 16333 ..., 87015 87016 87017]\n",
      "Fold 1\n",
      "[    0     1     2 ..., 87015 87016 87017]\n",
      "Fold 2\n",
      "[    0     1     2 ..., 87015 87016 87017]\n",
      "Fold 3\n",
      "[    0     1     2 ..., 87015 87016 87017]\n",
      "Fold 4\n",
      "[    0     1     2 ..., 69680 69681 69682]\n",
      "\n",
      "Blending.\n",
      "Linear stretch of predictions to [0,1]\n"
     ]
    }
   ],
   "source": [
    "final_preds_stacking = stacked_blending(features.values, loan_train_processed.Disbursed.values, features_test.values)"
   ]
  },
  {
   "cell_type": "code",
   "execution_count": 81,
   "metadata": {
    "collapsed": false
   },
   "outputs": [],
   "source": [
    "# final_preds_rf = predictions(model_final_rf, features_test)[:, 1]\n",
    "# final_preds_gbr = predictions(model_final_gbr, features_test)[:, 1]"
   ]
  },
  {
   "cell_type": "code",
   "execution_count": 122,
   "metadata": {
    "collapsed": false
   },
   "outputs": [],
   "source": [
    "final_preds_rf_ranks = transform_for_ranked(final_preds_rf, features_test.index.values)\n",
    "final_preds_xgb_ranks = transform_for_ranked(final_preds_xgb, features_test.index.values)\n",
    "final_preds_gbc_ranks = transform_for_ranked(final_preds_gbr, features_test.index.values)\n",
    "final_preds_stacked_ranks = transform_for_ranked(final_preds_stacking, features_test.index.values)\n",
    "\n",
    "ranked_ranks_final = ranked_averaging([final_preds_xgb_ranks, final_preds_stacked_ranks])"
   ]
  },
  {
   "cell_type": "code",
   "execution_count": 123,
   "metadata": {
    "collapsed": true
   },
   "outputs": [],
   "source": [
    "final_preds_ranks = [k3 for k1, k2, k3 in ranked_ranks_final]"
   ]
  },
  {
   "cell_type": "code",
   "execution_count": 125,
   "metadata": {
    "collapsed": false
   },
   "outputs": [],
   "source": [
    "create_submission_file(loan_test.index.values, final_preds_stacking, 'stacking_gbr_rf.csv')"
   ]
  },
  {
   "cell_type": "markdown",
   "metadata": {},
   "source": [
    "## Feature Selection"
   ]
  },
  {
   "cell_type": "code",
   "execution_count": 108,
   "metadata": {
    "collapsed": false
   },
   "outputs": [],
   "source": [
    "%run scripts/feature_selection.py"
   ]
  },
  {
   "cell_type": "code",
   "execution_count": 109,
   "metadata": {
    "collapsed": false
   },
   "outputs": [
    {
     "name": "stdout",
     "output_type": "stream",
     "text": [
      "initial f1 score based on extra trees classifier:  0.0\n",
      "feature importance:  [ 0.09203676  0.08384553  0.11182189  0.11072908  0.04303247  0.05550208\n",
      "  0.03880343  0.08399025  0.0735262   0.03622075  0.04435319  0.01275061\n",
      "  0.00250464  0.02240173  0.04466838  0.04152769  0.10228534]\n",
      "sorted feature importances:  [ 0.11182189  0.11072908  0.10228534  0.09203676  0.08399025  0.08384553\n",
      "  0.0735262   0.05550208  0.04466838  0.04435319  0.04303247  0.04152769\n",
      "  0.03880343  0.03622075  0.02240173  0.01275061  0.00250464]\n",
      "output format:\n",
      "no of features, f1-score, roc-score of class-predictions, roc-score of probabilities\n",
      "1 0.00481927710843 0.500686913274 0.564706467202\n",
      "2 0.00497512437811 0.500939595594 0.809889017203\n",
      "3 0.00502512562814 0.501017344 0.809101102236\n",
      "4 0.01 0.502306807422 0.812684448935\n",
      "5 0.0102301790281 0.502481741336 0.81692275472\n",
      "6 0.00516795865633 0.501231152117 0.823756982092\n",
      "7 0.0 0.499727880578 0.826796089947\n",
      "8 0.0 0.499825066086 0.828271528778\n",
      "9 0.0 0.49974731768 0.831902959406\n",
      "10 0.0 0.49974731768 0.837516312918\n",
      "11 0.0 0.499786191883 0.840703743158\n",
      "12 0.0 0.499825066086 0.840734069107\n",
      "13 0.0 0.499708443477 0.840187337023\n",
      "14 0.0 0.499689006375 0.840967721386\n",
      "15 0.0 0.49974731768 0.839486329306\n",
      "16 0.0 0.499883377391 0.840422108716\n",
      "f1_best: 0.0102301790281\n"
     ]
    }
   ],
   "source": [
    "feature_selection(loan_train_processed[['City', 'Salary_Account', 'Employer_Name', 'Monthly_Income','Var5', \n",
    "                           'Loan_Amount_Applied', 'Loan_Tenure_Applied', \n",
    "                           'Existing_EMI', 'Loan_Amount_Submitted', 'Loan_Tenure_Submitted',\n",
    "                           'Var1', 'Filled_Form', 'Device_Type', 'Var2', 'Source', 'Var5', 'age_when_applied']], \n",
    "                  loan_train_processed.Disbursed)"
   ]
  },
  {
   "cell_type": "markdown",
   "metadata": {
    "collapsed": true
   },
   "source": [
    "## Unsupervised Learning"
   ]
  },
  {
   "cell_type": "code",
   "execution_count": 39,
   "metadata": {
    "collapsed": true
   },
   "outputs": [],
   "source": [
    "non_disbursed_examples = loan_train_processed[loan_train_processed.Disbursed == 0]"
   ]
  },
  {
   "cell_type": "code",
   "execution_count": 40,
   "metadata": {
    "collapsed": true
   },
   "outputs": [],
   "source": [
    "non_disbursed_features = non_disbursed_examples[['City', 'Salary_Account', 'Employer_Name', 'Monthly_Income', \n",
    "                           'Loan_Amount_Applied', 'Loan_Tenure_Applied', \n",
    "                           'Existing_EMI', 'Loan_Amount_Submitted', 'Loan_Tenure_Submitted',\n",
    "                           'Var1', 'Filled_Form', 'Device_Type', 'Var2', 'Source', 'Var5', 'age_when_applied']]"
   ]
  },
  {
   "cell_type": "code",
   "execution_count": 41,
   "metadata": {
    "collapsed": false
   },
   "outputs": [],
   "source": [
    "from sklearn.cluster import KMeans"
   ]
  },
  {
   "cell_type": "code",
   "execution_count": 42,
   "metadata": {
    "collapsed": false
   },
   "outputs": [
    {
     "data": {
      "text/plain": [
       "KMeans(copy_x=True, init='k-means++', max_iter=300, n_clusters=4, n_init=10,\n",
       "    n_jobs=-1, precompute_distances='auto', random_state=None, tol=0.0001,\n",
       "    verbose=0)"
      ]
     },
     "execution_count": 42,
     "metadata": {},
     "output_type": "execute_result"
    }
   ],
   "source": [
    "kmeans = KMeans(n_clusters=4, n_init=10, n_jobs=-1)\n",
    "kmeans.fit(non_disbursed_features)"
   ]
  },
  {
   "cell_type": "code",
   "execution_count": 44,
   "metadata": {
    "collapsed": false
   },
   "outputs": [],
   "source": [
    "labels = kmeans.predict(non_disbursed_features)"
   ]
  },
  {
   "cell_type": "code",
   "execution_count": 46,
   "metadata": {
    "collapsed": false
   },
   "outputs": [
    {
     "name": "stderr",
     "output_type": "stream",
     "text": [
      "/Users/abhisheksharma/anaconda/lib/python2.7/site-packages/pandas/core/indexing.py:245: SettingWithCopyWarning: \n",
      "A value is trying to be set on a copy of a slice from a DataFrame.\n",
      "Try using .loc[row_indexer,col_indexer] = value instead\n",
      "\n",
      "See the the caveats in the documentation: http://pandas.pydata.org/pandas-docs/stable/indexing.html#indexing-view-versus-copy\n",
      "  self.obj[key] = np.nan\n",
      "/Users/abhisheksharma/anaconda/lib/python2.7/site-packages/pandas/core/indexing.py:415: SettingWithCopyWarning: \n",
      "A value is trying to be set on a copy of a slice from a DataFrame.\n",
      "Try using .loc[row_indexer,col_indexer] = value instead\n",
      "\n",
      "See the the caveats in the documentation: http://pandas.pydata.org/pandas-docs/stable/indexing.html#indexing-view-versus-copy\n",
      "  self.obj[item] = s\n"
     ]
    }
   ],
   "source": [
    "non_disbursed_features.loc[:,'labels'] = labels"
   ]
  },
  {
   "cell_type": "code",
   "execution_count": 47,
   "metadata": {
    "collapsed": false
   },
   "outputs": [
    {
     "data": {
      "text/plain": [
       "Index([u'City', u'Salary_Account', u'Employer_Name', u'Monthly_Income', u'Loan_Amount_Applied', u'Loan_Tenure_Applied', u'Existing_EMI', u'Loan_Amount_Submitted', u'Loan_Tenure_Submitted', u'Var1', u'Filled_Form', u'Device_Type', u'Var2', u'Source', u'Var5', u'age_when_applied', u'labels'], dtype='object')"
      ]
     },
     "execution_count": 47,
     "metadata": {},
     "output_type": "execute_result"
    }
   ],
   "source": [
    "non_disbursed_features.columns"
   ]
  },
  {
   "cell_type": "code",
   "execution_count": 49,
   "metadata": {
    "collapsed": true
   },
   "outputs": [],
   "source": [
    "from collections import Counter"
   ]
  },
  {
   "cell_type": "code",
   "execution_count": 50,
   "metadata": {
    "collapsed": false
   },
   "outputs": [
    {
     "data": {
      "text/plain": [
       "Counter({0: 47368, 2: 38377, 1: 1, 3: 1})"
      ]
     },
     "execution_count": 50,
     "metadata": {},
     "output_type": "execute_result"
    }
   ],
   "source": [
    "Counter(labels)"
   ]
  },
  {
   "cell_type": "code",
   "execution_count": 51,
   "metadata": {
    "collapsed": false
   },
   "outputs": [
    {
     "data": {
      "text/html": [
       "<div style=\"max-height:1000px;max-width:1500px;overflow:auto;\">\n",
       "<table border=\"1\" class=\"dataframe\">\n",
       "  <thead>\n",
       "    <tr style=\"text-align: right;\">\n",
       "      <th></th>\n",
       "      <th>City</th>\n",
       "      <th>Salary_Account</th>\n",
       "      <th>Employer_Name</th>\n",
       "      <th>Monthly_Income</th>\n",
       "      <th>Loan_Amount_Applied</th>\n",
       "      <th>Loan_Tenure_Applied</th>\n",
       "      <th>Existing_EMI</th>\n",
       "      <th>Loan_Amount_Submitted</th>\n",
       "      <th>Loan_Tenure_Submitted</th>\n",
       "      <th>Var1</th>\n",
       "      <th>Filled_Form</th>\n",
       "      <th>Device_Type</th>\n",
       "      <th>Var2</th>\n",
       "      <th>Source</th>\n",
       "      <th>Var5</th>\n",
       "      <th>age_when_applied</th>\n",
       "      <th>labels</th>\n",
       "    </tr>\n",
       "    <tr>\n",
       "      <th>ID</th>\n",
       "      <th></th>\n",
       "      <th></th>\n",
       "      <th></th>\n",
       "      <th></th>\n",
       "      <th></th>\n",
       "      <th></th>\n",
       "      <th></th>\n",
       "      <th></th>\n",
       "      <th></th>\n",
       "      <th></th>\n",
       "      <th></th>\n",
       "      <th></th>\n",
       "      <th></th>\n",
       "      <th></th>\n",
       "      <th></th>\n",
       "      <th></th>\n",
       "      <th></th>\n",
       "    </tr>\n",
       "  </thead>\n",
       "  <tbody>\n",
       "    <tr>\n",
       "      <th>ID036559D40</th>\n",
       "      <td> 177</td>\n",
       "      <td> 46</td>\n",
       "      <td>   301</td>\n",
       "      <td> 18.603836</td>\n",
       "      <td> 13.122365</td>\n",
       "      <td> 0</td>\n",
       "      <td>  5454365</td>\n",
       "      <td> 13.122365</td>\n",
       "      <td> 5</td>\n",
       "      <td> 12</td>\n",
       "      <td> 0</td>\n",
       "      <td> 1</td>\n",
       "      <td> 1</td>\n",
       "      <td> 24</td>\n",
       "      <td> 15</td>\n",
       "      <td> 40</td>\n",
       "      <td> 1</td>\n",
       "    </tr>\n",
       "    <tr>\n",
       "      <th>ID113457T20</th>\n",
       "      <td> 462</td>\n",
       "      <td> 22</td>\n",
       "      <td> 23661</td>\n",
       "      <td> 17.341871</td>\n",
       "      <td> 13.815512</td>\n",
       "      <td> 5</td>\n",
       "      <td> 10000000</td>\n",
       "      <td> 13.815512</td>\n",
       "      <td> 5</td>\n",
       "      <td>  8</td>\n",
       "      <td> 0</td>\n",
       "      <td> 1</td>\n",
       "      <td> 6</td>\n",
       "      <td>  0</td>\n",
       "      <td> 13</td>\n",
       "      <td> 45</td>\n",
       "      <td> 3</td>\n",
       "    </tr>\n",
       "  </tbody>\n",
       "</table>\n",
       "</div>"
      ],
      "text/plain": [
       "             City  Salary_Account  Employer_Name  Monthly_Income  \\\n",
       "ID                                                                 \n",
       "ID036559D40   177              46            301       18.603836   \n",
       "ID113457T20   462              22          23661       17.341871   \n",
       "\n",
       "             Loan_Amount_Applied  Loan_Tenure_Applied  Existing_EMI  \\\n",
       "ID                                                                    \n",
       "ID036559D40            13.122365                    0       5454365   \n",
       "ID113457T20            13.815512                    5      10000000   \n",
       "\n",
       "             Loan_Amount_Submitted  Loan_Tenure_Submitted  Var1  Filled_Form  \\\n",
       "ID                                                                             \n",
       "ID036559D40              13.122365                      5    12            0   \n",
       "ID113457T20              13.815512                      5     8            0   \n",
       "\n",
       "             Device_Type  Var2  Source  Var5  age_when_applied  labels  \n",
       "ID                                                                      \n",
       "ID036559D40            1     1      24    15                40       1  \n",
       "ID113457T20            1     6       0    13                45       3  "
      ]
     },
     "execution_count": 51,
     "metadata": {},
     "output_type": "execute_result"
    }
   ],
   "source": [
    "non_disbursed_features[(non_disbursed_features['labels'] == 1)|\n",
    "                       (non_disbursed_features['labels'] == 3)]"
   ]
  },
  {
   "cell_type": "code",
   "execution_count": 60,
   "metadata": {
    "collapsed": false
   },
   "outputs": [
    {
     "data": {
      "text/plain": [
       "Gender                                     1\n",
       "City                                     462\n",
       "Monthly_Income                      17.34187\n",
       "DOB                      1970-01-01 00:00:00\n",
       "Lead_Creation_Date       2015-07-24 00:00:00\n",
       "Loan_Amount_Applied                 13.81551\n",
       "Loan_Tenure_Applied                        5\n",
       "Existing_EMI                           1e+07\n",
       "Employer_Name                          23661\n",
       "Salary_Account                            22\n",
       "Mobile_Verified                            1\n",
       "Var5                                      13\n",
       "Var1                                       8\n",
       "Loan_Amount_Submitted               13.81551\n",
       "Loan_Tenure_Submitted                      5\n",
       "Interest_Rate                          13.99\n",
       "Processing_Fee                          5000\n",
       "EMI_Loan_Submitted                  23263.07\n",
       "Filled_Form                                0\n",
       "Device_Type                                1\n",
       "Var2                                       6\n",
       "Source                                     0\n",
       "Var4                                       4\n",
       "LoggedIn                                   0\n",
       "Disbursed                                  0\n",
       "age_delta                16640 days 00:00:00\n",
       "age_when_applied                          45\n",
       "Name: ID113457T20, dtype: object"
      ]
     },
     "execution_count": 60,
     "metadata": {},
     "output_type": "execute_result"
    }
   ],
   "source": [
    "loan_train.ix['ID113457T20']"
   ]
  },
  {
   "cell_type": "code",
   "execution_count": 62,
   "metadata": {
    "collapsed": false
   },
   "outputs": [
    {
     "data": {
      "text/plain": [
       "Gender                                     1\n",
       "City                                     177\n",
       "Monthly_Income                      18.60384\n",
       "DOB                      1975-03-13 00:00:00\n",
       "Lead_Creation_Date       2015-05-29 00:00:00\n",
       "Loan_Amount_Applied                 13.12237\n",
       "Loan_Tenure_Applied                        0\n",
       "Existing_EMI                         5454365\n",
       "Employer_Name                            301\n",
       "Salary_Account                            46\n",
       "Mobile_Verified                            1\n",
       "Var5                                      15\n",
       "Var1                                      12\n",
       "Loan_Amount_Submitted               13.12237\n",
       "Loan_Tenure_Submitted                      5\n",
       "Interest_Rate                           15.5\n",
       "Processing_Fee                          5000\n",
       "EMI_Loan_Submitted                   12026.6\n",
       "Filled_Form                                0\n",
       "Device_Type                                1\n",
       "Var2                                       1\n",
       "Source                                    24\n",
       "Var4                                       4\n",
       "LoggedIn                                   0\n",
       "Disbursed                                  0\n",
       "age_delta                14687 days 00:00:00\n",
       "age_when_applied                          40\n",
       "Name: ID036559D40, dtype: object"
      ]
     },
     "execution_count": 62,
     "metadata": {},
     "output_type": "execute_result"
    }
   ],
   "source": [
    "loan_train_processed.ix['ID036559D40']"
   ]
  },
  {
   "cell_type": "markdown",
   "metadata": {
    "collapsed": false
   },
   "source": [
    "** In both the cases existing EMI is too high, might be the case that this might be not be recorded properly. **"
   ]
  },
  {
   "cell_type": "code",
   "execution_count": 81,
   "metadata": {
    "collapsed": true
   },
   "outputs": [],
   "source": [
    "non_disbursed_features_0 = non_disbursed_features[non_disbursed_features['labels'] == 0]\n",
    "non_disbursed_features_0 = non_disbursed_features_0[non_disbursed_features_0.columns.drop('labels')]\n",
    "\n",
    "non_disbursed_features_2 = non_disbursed_features[non_disbursed_features['labels'] == 2]\n",
    "non_disbursed_features_2 = non_disbursed_features_2[non_disbursed_features_2.columns.drop('labels')]"
   ]
  },
  {
   "cell_type": "code",
   "execution_count": 82,
   "metadata": {
    "collapsed": false
   },
   "outputs": [],
   "source": [
    "disbursed_examples = loan_train_processed[loan_train_processed.Disbursed == 1]\n",
    "disbursed_features = disbursed_examples[['City', 'Salary_Account', 'Employer_Name', 'Monthly_Income', \n",
    "                           'Loan_Amount_Applied', 'Loan_Tenure_Applied', \n",
    "                           'Existing_EMI', 'Loan_Amount_Submitted', 'Loan_Tenure_Submitted',\n",
    "                           'Var1', 'Filled_Form', 'Device_Type', 'Var2', 'Source', 'Var5', 'age_when_applied']]"
   ]
  },
  {
   "cell_type": "code",
   "execution_count": 83,
   "metadata": {
    "collapsed": false
   },
   "outputs": [],
   "source": [
    "dataset_0 = np.concatenate((non_disbursed_features_0.values, disbursed_features.values), axis=0)"
   ]
  },
  {
   "cell_type": "code",
   "execution_count": 85,
   "metadata": {
    "collapsed": true
   },
   "outputs": [],
   "source": [
    "dataset_2 = np.concatenate((non_disbursed_features_2.values, disbursed_features.values), axis=0)"
   ]
  },
  {
   "cell_type": "code",
   "execution_count": 86,
   "metadata": {
    "collapsed": true
   },
   "outputs": [],
   "source": [
    "labels_0 = np.concatenate(([0.] * non_disbursed_features_0.shape[0], [1.] * disbursed_features.shape[0]))"
   ]
  },
  {
   "cell_type": "code",
   "execution_count": 89,
   "metadata": {
    "collapsed": true
   },
   "outputs": [],
   "source": [
    "labels_2 = np.concatenate(([0.] * non_disbursed_features_2.shape[0], [1.] * disbursed_features.shape[0]))"
   ]
  },
  {
   "cell_type": "code",
   "execution_count": 91,
   "metadata": {
    "collapsed": true
   },
   "outputs": [],
   "source": [
    "from sklearn.cross_validation import train_test_split"
   ]
  },
  {
   "cell_type": "code",
   "execution_count": 92,
   "metadata": {
    "collapsed": true
   },
   "outputs": [],
   "source": [
    "dataset_0_train, dataset_0_test, y_0_t, y_0_v = train_test_split(dataset_0, labels_0, \n",
    "                                                                 test_size=0.3, random_state=9)"
   ]
  },
  {
   "cell_type": "code",
   "execution_count": 93,
   "metadata": {
    "collapsed": true
   },
   "outputs": [],
   "source": [
    "gbr_est = gradient_boosting_classifier(dataset_0_train, y_0_t)"
   ]
  },
  {
   "cell_type": "code",
   "execution_count": 95,
   "metadata": {
    "collapsed": false
   },
   "outputs": [
    {
     "name": "stdout",
     "output_type": "stream",
     "text": [
      "ROC AUC score on training set 0.940745 \n"
     ]
    }
   ],
   "source": [
    "gbr_pred_t = gbr_est.predict_proba(dataset_0_train)[:, 1]\n",
    "print 'ROC AUC score on training set %f ' %(score(y_0_t, gbr_pred_t))"
   ]
  },
  {
   "cell_type": "code",
   "execution_count": 96,
   "metadata": {
    "collapsed": false
   },
   "outputs": [
    {
     "name": "stdout",
     "output_type": "stream",
     "text": [
      "ROC AUC score on test set 0.906247\n"
     ]
    }
   ],
   "source": [
    "gbr_pred_v = gbr_est.predict_proba(dataset_0_test)[:, 1]\n",
    "print 'ROC AUC score on test set %f' %(score(y_0_v, gbr_pred_v))"
   ]
  },
  {
   "cell_type": "code",
   "execution_count": 97,
   "metadata": {
    "collapsed": true
   },
   "outputs": [],
   "source": [
    "dataset_2_train, dataset_2_test, y_2_t, y_2_v = train_test_split(dataset_2, labels_2, \n",
    "                                                                 test_size=0.3, random_state=9)"
   ]
  },
  {
   "cell_type": "code",
   "execution_count": 98,
   "metadata": {
    "collapsed": true
   },
   "outputs": [],
   "source": [
    "gbr_est_2 = gradient_boosting_classifier(dataset_2_train, y_2_t)"
   ]
  },
  {
   "cell_type": "code",
   "execution_count": 99,
   "metadata": {
    "collapsed": false
   },
   "outputs": [
    {
     "name": "stdout",
     "output_type": "stream",
     "text": [
      "ROC AUC score on training set 0.952114 \n"
     ]
    }
   ],
   "source": [
    "gbr_pred_t_2 = gbr_est_2.predict_proba(dataset_2_train)[:, 1]\n",
    "print 'ROC AUC score on training set %f ' %(score(y_2_t, gbr_pred_t_2))"
   ]
  },
  {
   "cell_type": "code",
   "execution_count": 100,
   "metadata": {
    "collapsed": false
   },
   "outputs": [
    {
     "name": "stdout",
     "output_type": "stream",
     "text": [
      "ROC AUC score on test set 0.920762\n"
     ]
    }
   ],
   "source": [
    "gbr_pred_v_2 = gbr_est_2.predict_proba(dataset_2_test)[:, 1]\n",
    "print 'ROC AUC score on test set %f' %(score(y_2_v, gbr_pred_v_2))"
   ]
  },
  {
   "cell_type": "code",
   "execution_count": 140,
   "metadata": {
    "collapsed": true
   },
   "outputs": [],
   "source": [
    "first_test_set = dataset_0_test[:6000]\n",
    "second_test_set = dataset_2_test[:6000]"
   ]
  },
  {
   "cell_type": "code",
   "execution_count": 141,
   "metadata": {
    "collapsed": true
   },
   "outputs": [],
   "source": [
    "unseen = np.concatenate((first_test_set, second_test_set), axis=0)"
   ]
  },
  {
   "cell_type": "code",
   "execution_count": 142,
   "metadata": {
    "collapsed": true
   },
   "outputs": [],
   "source": [
    "labels_first = y_0_v[:6000]\n",
    "labels_second = y_2_v[:6000]\n",
    "\n",
    "unseen_labels = np.hstack((labels_first, labels_second))"
   ]
  },
  {
   "cell_type": "code",
   "execution_count": 143,
   "metadata": {
    "collapsed": false
   },
   "outputs": [
    {
     "name": "stdout",
     "output_type": "stream",
     "text": [
      "ROC AUC score on cluster 2 examples 0.849828 \n"
     ]
    }
   ],
   "source": [
    "unseen_pred_0 = gbr_est.predict_proba(unseen)[:, 1]\n",
    "unseen_pred_2 = gbr_est_2.predict_proba(unseen)[:, 1]\n",
    "unseen_ensemble = .5 * unseen_pred_0 + .5 * unseen_pred_2\n",
    "print 'ROC AUC score on cluster 2 examples %f ' %(score(unseen_labels, unseen_ensemble))"
   ]
  },
  {
   "cell_type": "code",
   "execution_count": 145,
   "metadata": {
    "collapsed": true
   },
   "outputs": [],
   "source": [
    "# Training on full dataset \n",
    "gbr_cluster_0_est = gradient_boosting_classifier(dataset_0, labels_0)\n",
    "gbr_cluster_2_est = gradient_boosting_classifier(dataset_2, labels_2)"
   ]
  },
  {
   "cell_type": "code",
   "execution_count": 152,
   "metadata": {
    "collapsed": false
   },
   "outputs": [],
   "source": [
    "# Predictions\n",
    "gbr_cluster_0_pred = predictions(gbr_cluster_0_est, features_test)[:, 1]\n",
    "gbr_cluster_2_pred = predictions(gbr_cluster_2_est, features_test)[:, 1]"
   ]
  },
  {
   "cell_type": "code",
   "execution_count": 153,
   "metadata": {
    "collapsed": true
   },
   "outputs": [],
   "source": [
    "gbr_final_preds_ensemble = 0.5 * gbr_cluster_0_pred + 0.5 * gbr_cluster_2_pred"
   ]
  },
  {
   "cell_type": "code",
   "execution_count": 154,
   "metadata": {
    "collapsed": true
   },
   "outputs": [],
   "source": [
    "create_submission_file(loan_test.index.values, gbr_final_preds_ensemble, \n",
    "                       'ensemble_gbr_clusters.csv')"
   ]
  },
  {
   "cell_type": "code",
   "execution_count": null,
   "metadata": {
    "collapsed": true
   },
   "outputs": [],
   "source": []
  },
  {
   "cell_type": "code",
   "execution_count": null,
   "metadata": {
    "collapsed": true
   },
   "outputs": [],
   "source": []
  },
  {
   "cell_type": "code",
   "execution_count": null,
   "metadata": {
    "collapsed": true
   },
   "outputs": [],
   "source": []
  },
  {
   "cell_type": "code",
   "execution_count": null,
   "metadata": {
    "collapsed": true
   },
   "outputs": [],
   "source": []
  },
  {
   "cell_type": "code",
   "execution_count": null,
   "metadata": {
    "collapsed": true
   },
   "outputs": [],
   "source": []
  },
  {
   "cell_type": "code",
   "execution_count": null,
   "metadata": {
    "collapsed": true
   },
   "outputs": [],
   "source": []
  },
  {
   "cell_type": "code",
   "execution_count": null,
   "metadata": {
    "collapsed": true
   },
   "outputs": [],
   "source": []
  },
  {
   "cell_type": "code",
   "execution_count": null,
   "metadata": {
    "collapsed": true
   },
   "outputs": [],
   "source": []
  },
  {
   "cell_type": "code",
   "execution_count": null,
   "metadata": {
    "collapsed": true
   },
   "outputs": [],
   "source": []
  },
  {
   "cell_type": "code",
   "execution_count": null,
   "metadata": {
    "collapsed": true
   },
   "outputs": [],
   "source": []
  }
 ],
 "metadata": {
  "kernelspec": {
   "display_name": "Python 2",
   "language": "python",
   "name": "python2"
  },
  "language_info": {
   "codemirror_mode": {
    "name": "ipython",
    "version": 2
   },
   "file_extension": ".py",
   "mimetype": "text/x-python",
   "name": "python",
   "nbconvert_exporter": "python",
   "pygments_lexer": "ipython2",
   "version": "2.7.10"
  }
 },
 "nbformat": 4,
 "nbformat_minor": 0
}
